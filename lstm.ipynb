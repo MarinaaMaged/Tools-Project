{
 "cells": [
  {
   "cell_type": "code",
   "execution_count": 1,
   "id": "cbb0948e-fe35-4945-965d-b63d09f76ffd",
   "metadata": {},
   "outputs": [],
   "source": [
    "import warnings\n",
    "warnings.filterwarnings('ignore')"
   ]
  },
  {
   "cell_type": "markdown",
   "id": "57facc8e-5bac-4290-a49b-acd91d469642",
   "metadata": {},
   "source": [
    "Importing libraires"
   ]
  },
  {
   "cell_type": "code",
   "execution_count": 2,
   "id": "9eb26a75-9d46-4065-99d5-3cbcae63ef3c",
   "metadata": {},
   "outputs": [],
   "source": [
    "import pandas as pd\n",
    "import re\n",
    "import nltk\n",
    "from nltk.tokenize import word_tokenize\n",
    "from nltk.corpus import stopwords\n",
    "from nltk.stem.porter import PorterStemmer\n",
    "from nltk.stem import WordNetLemmatizer\n",
    "from collections import Counter\n",
    "from nltk.util import ngrams\n",
    "import numpy as np\n",
    "import matplotlib.pyplot as plt\n",
    "import seaborn as sns\n",
    "import string\n",
    "from sklearn.model_selection import train_test_split\n",
    "from sklearn import metrics\n",
    "import tensorflow as tf\n",
    "from tensorflow import keras\n",
    "from tensorflow.keras.preprocessing import sequence\n",
    "from tensorflow.keras.layers import Dense,Embedding\n",
    "from tensorflow.keras.layers import LSTM\n",
    "from tensorflow.keras.preprocessing.text import Tokenizer\n",
    "from tensorflow.keras.preprocessing.sequence import pad_sequences\n",
    "from tensorflow.keras import Sequential"
   ]
  },
  {
   "cell_type": "markdown",
   "id": "86fce1d9-df5c-485a-9d9e-f922c48ac141",
   "metadata": {},
   "source": [
    "Download packages"
   ]
  },
  {
   "cell_type": "code",
   "execution_count": 3,
   "id": "eecc8d1e-a4ff-4b88-9b73-1819930f801b",
   "metadata": {},
   "outputs": [
    {
     "name": "stderr",
     "output_type": "stream",
     "text": [
      "[nltk_data] Downloading package punkt to\n",
      "[nltk_data]     C:\\Users\\KING\\AppData\\Roaming\\nltk_data...\n",
      "[nltk_data]   Package punkt is already up-to-date!\n"
     ]
    },
    {
     "data": {
      "text/plain": [
       "True"
      ]
     },
     "execution_count": 3,
     "metadata": {},
     "output_type": "execute_result"
    }
   ],
   "source": [
    "nltk.download('punkt')"
   ]
  },
  {
   "cell_type": "code",
   "execution_count": 4,
   "id": "4c6c5740-cbae-414b-893a-a27bf7b77d24",
   "metadata": {},
   "outputs": [
    {
     "name": "stderr",
     "output_type": "stream",
     "text": [
      "[nltk_data] Downloading package stopwords to\n",
      "[nltk_data]     C:\\Users\\KING\\AppData\\Roaming\\nltk_data...\n",
      "[nltk_data]   Package stopwords is already up-to-date!\n"
     ]
    },
    {
     "data": {
      "text/plain": [
       "True"
      ]
     },
     "execution_count": 4,
     "metadata": {},
     "output_type": "execute_result"
    }
   ],
   "source": [
    "nltk.download('stopwords')"
   ]
  },
  {
   "cell_type": "code",
   "execution_count": 5,
   "id": "8ea57333-1226-41fc-93a9-6b7c090ff679",
   "metadata": {},
   "outputs": [
    {
     "name": "stderr",
     "output_type": "stream",
     "text": [
      "[nltk_data] Downloading package wordnet to\n",
      "[nltk_data]     C:\\Users\\KING\\AppData\\Roaming\\nltk_data...\n",
      "[nltk_data]   Package wordnet is already up-to-date!\n"
     ]
    },
    {
     "data": {
      "text/plain": [
       "True"
      ]
     },
     "execution_count": 5,
     "metadata": {},
     "output_type": "execute_result"
    }
   ],
   "source": [
    "nltk.download('wordnet')"
   ]
  },
  {
   "cell_type": "markdown",
   "id": "69b4faa7-8957-40dd-9129-3870c4a31e59",
   "metadata": {},
   "source": [
    "Import data"
   ]
  },
  {
   "cell_type": "code",
   "execution_count": 6,
   "id": "2117d276-c0d3-4871-95c0-dac45842e4c5",
   "metadata": {},
   "outputs": [
    {
     "data": {
      "text/html": [
       "<div>\n",
       "<style scoped>\n",
       "    .dataframe tbody tr th:only-of-type {\n",
       "        vertical-align: middle;\n",
       "    }\n",
       "\n",
       "    .dataframe tbody tr th {\n",
       "        vertical-align: top;\n",
       "    }\n",
       "\n",
       "    .dataframe thead th {\n",
       "        text-align: right;\n",
       "    }\n",
       "</style>\n",
       "<table border=\"1\" class=\"dataframe\">\n",
       "  <thead>\n",
       "    <tr style=\"text-align: right;\">\n",
       "      <th></th>\n",
       "      <th>text</th>\n",
       "      <th>label</th>\n",
       "    </tr>\n",
       "  </thead>\n",
       "  <tbody>\n",
       "    <tr>\n",
       "      <th>0</th>\n",
       "      <td>dear american teens question dutch person hear...</td>\n",
       "      <td>0</td>\n",
       "    </tr>\n",
       "    <tr>\n",
       "      <th>1</th>\n",
       "      <td>nothing look forward lifei dont many reasons k...</td>\n",
       "      <td>1</td>\n",
       "    </tr>\n",
       "    <tr>\n",
       "      <th>2</th>\n",
       "      <td>music recommendations im looking expand playli...</td>\n",
       "      <td>0</td>\n",
       "    </tr>\n",
       "    <tr>\n",
       "      <th>3</th>\n",
       "      <td>im done trying feel betterthe reason im still ...</td>\n",
       "      <td>1</td>\n",
       "    </tr>\n",
       "    <tr>\n",
       "      <th>4</th>\n",
       "      <td>worried  year old girl subject domestic physic...</td>\n",
       "      <td>1</td>\n",
       "    </tr>\n",
       "    <tr>\n",
       "      <th>...</th>\n",
       "      <td>...</td>\n",
       "      <td>...</td>\n",
       "    </tr>\n",
       "    <tr>\n",
       "      <th>27972</th>\n",
       "      <td>posting everyday people stop caring  religion ...</td>\n",
       "      <td>0</td>\n",
       "    </tr>\n",
       "    <tr>\n",
       "      <th>27973</th>\n",
       "      <td>okay definetly need hear guys opinion ive pret...</td>\n",
       "      <td>0</td>\n",
       "    </tr>\n",
       "    <tr>\n",
       "      <th>27974</th>\n",
       "      <td>cant get dog think ill kill myselfthe last thi...</td>\n",
       "      <td>1</td>\n",
       "    </tr>\n",
       "    <tr>\n",
       "      <th>27975</th>\n",
       "      <td>whats point princess bridei really think like ...</td>\n",
       "      <td>1</td>\n",
       "    </tr>\n",
       "    <tr>\n",
       "      <th>27976</th>\n",
       "      <td>got nudes person might might know snapchat do ...</td>\n",
       "      <td>0</td>\n",
       "    </tr>\n",
       "  </tbody>\n",
       "</table>\n",
       "<p>27977 rows × 2 columns</p>\n",
       "</div>"
      ],
      "text/plain": [
       "                                                    text  label\n",
       "0      dear american teens question dutch person hear...      0\n",
       "1      nothing look forward lifei dont many reasons k...      1\n",
       "2      music recommendations im looking expand playli...      0\n",
       "3      im done trying feel betterthe reason im still ...      1\n",
       "4      worried  year old girl subject domestic physic...      1\n",
       "...                                                  ...    ...\n",
       "27972  posting everyday people stop caring  religion ...      0\n",
       "27973  okay definetly need hear guys opinion ive pret...      0\n",
       "27974  cant get dog think ill kill myselfthe last thi...      1\n",
       "27975  whats point princess bridei really think like ...      1\n",
       "27976  got nudes person might might know snapchat do ...      0\n",
       "\n",
       "[27977 rows x 2 columns]"
      ]
     },
     "execution_count": 6,
     "metadata": {},
     "output_type": "execute_result"
    }
   ],
   "source": [
    "data=pd.read_csv(r'D:\\python\\toolsProject\\mental_health.csv\\mental_health.csv')\n",
    "data"
   ]
  },
  {
   "cell_type": "markdown",
   "id": "4482b473-c0ff-40c5-b786-520b30a1ddf2",
   "metadata": {},
   "source": [
    "Get informations about the data"
   ]
  },
  {
   "cell_type": "code",
   "execution_count": 7,
   "id": "00c4f507-b232-445a-9fa2-954b80990416",
   "metadata": {},
   "outputs": [
    {
     "name": "stdout",
     "output_type": "stream",
     "text": [
      "<class 'pandas.core.frame.DataFrame'>\n",
      "RangeIndex: 27977 entries, 0 to 27976\n",
      "Data columns (total 2 columns):\n",
      " #   Column  Non-Null Count  Dtype \n",
      "---  ------  --------------  ----- \n",
      " 0   text    27977 non-null  object\n",
      " 1   label   27977 non-null  int64 \n",
      "dtypes: int64(1), object(1)\n",
      "memory usage: 437.3+ KB\n"
     ]
    }
   ],
   "source": [
    "data.info()"
   ]
  },
  {
   "cell_type": "markdown",
   "id": "ceb55fb2-41b3-4364-b320-31fa7ca757ff",
   "metadata": {},
   "source": [
    "Display firat 5 rows"
   ]
  },
  {
   "cell_type": "code",
   "execution_count": 8,
   "id": "4b8603b6-4186-48e0-b28d-38bb6f0f445b",
   "metadata": {},
   "outputs": [
    {
     "data": {
      "text/html": [
       "<div>\n",
       "<style scoped>\n",
       "    .dataframe tbody tr th:only-of-type {\n",
       "        vertical-align: middle;\n",
       "    }\n",
       "\n",
       "    .dataframe tbody tr th {\n",
       "        vertical-align: top;\n",
       "    }\n",
       "\n",
       "    .dataframe thead th {\n",
       "        text-align: right;\n",
       "    }\n",
       "</style>\n",
       "<table border=\"1\" class=\"dataframe\">\n",
       "  <thead>\n",
       "    <tr style=\"text-align: right;\">\n",
       "      <th></th>\n",
       "      <th>text</th>\n",
       "      <th>label</th>\n",
       "    </tr>\n",
       "  </thead>\n",
       "  <tbody>\n",
       "    <tr>\n",
       "      <th>0</th>\n",
       "      <td>dear american teens question dutch person hear...</td>\n",
       "      <td>0</td>\n",
       "    </tr>\n",
       "    <tr>\n",
       "      <th>1</th>\n",
       "      <td>nothing look forward lifei dont many reasons k...</td>\n",
       "      <td>1</td>\n",
       "    </tr>\n",
       "    <tr>\n",
       "      <th>2</th>\n",
       "      <td>music recommendations im looking expand playli...</td>\n",
       "      <td>0</td>\n",
       "    </tr>\n",
       "    <tr>\n",
       "      <th>3</th>\n",
       "      <td>im done trying feel betterthe reason im still ...</td>\n",
       "      <td>1</td>\n",
       "    </tr>\n",
       "    <tr>\n",
       "      <th>4</th>\n",
       "      <td>worried  year old girl subject domestic physic...</td>\n",
       "      <td>1</td>\n",
       "    </tr>\n",
       "  </tbody>\n",
       "</table>\n",
       "</div>"
      ],
      "text/plain": [
       "                                                text  label\n",
       "0  dear american teens question dutch person hear...      0\n",
       "1  nothing look forward lifei dont many reasons k...      1\n",
       "2  music recommendations im looking expand playli...      0\n",
       "3  im done trying feel betterthe reason im still ...      1\n",
       "4  worried  year old girl subject domestic physic...      1"
      ]
     },
     "execution_count": 8,
     "metadata": {},
     "output_type": "execute_result"
    }
   ],
   "source": [
    "data.head()"
   ]
  },
  {
   "cell_type": "markdown",
   "id": "8a7ff760-dbc9-4bbf-a7e8-2e27cc94471b",
   "metadata": {},
   "source": [
    "Display last 5 rows"
   ]
  },
  {
   "cell_type": "code",
   "execution_count": 9,
   "id": "223f533a-83b8-49fd-99af-5d65dd42a352",
   "metadata": {},
   "outputs": [
    {
     "data": {
      "text/html": [
       "<div>\n",
       "<style scoped>\n",
       "    .dataframe tbody tr th:only-of-type {\n",
       "        vertical-align: middle;\n",
       "    }\n",
       "\n",
       "    .dataframe tbody tr th {\n",
       "        vertical-align: top;\n",
       "    }\n",
       "\n",
       "    .dataframe thead th {\n",
       "        text-align: right;\n",
       "    }\n",
       "</style>\n",
       "<table border=\"1\" class=\"dataframe\">\n",
       "  <thead>\n",
       "    <tr style=\"text-align: right;\">\n",
       "      <th></th>\n",
       "      <th>text</th>\n",
       "      <th>label</th>\n",
       "    </tr>\n",
       "  </thead>\n",
       "  <tbody>\n",
       "    <tr>\n",
       "      <th>27972</th>\n",
       "      <td>posting everyday people stop caring  religion ...</td>\n",
       "      <td>0</td>\n",
       "    </tr>\n",
       "    <tr>\n",
       "      <th>27973</th>\n",
       "      <td>okay definetly need hear guys opinion ive pret...</td>\n",
       "      <td>0</td>\n",
       "    </tr>\n",
       "    <tr>\n",
       "      <th>27974</th>\n",
       "      <td>cant get dog think ill kill myselfthe last thi...</td>\n",
       "      <td>1</td>\n",
       "    </tr>\n",
       "    <tr>\n",
       "      <th>27975</th>\n",
       "      <td>whats point princess bridei really think like ...</td>\n",
       "      <td>1</td>\n",
       "    </tr>\n",
       "    <tr>\n",
       "      <th>27976</th>\n",
       "      <td>got nudes person might might know snapchat do ...</td>\n",
       "      <td>0</td>\n",
       "    </tr>\n",
       "  </tbody>\n",
       "</table>\n",
       "</div>"
      ],
      "text/plain": [
       "                                                    text  label\n",
       "27972  posting everyday people stop caring  religion ...      0\n",
       "27973  okay definetly need hear guys opinion ive pret...      0\n",
       "27974  cant get dog think ill kill myselfthe last thi...      1\n",
       "27975  whats point princess bridei really think like ...      1\n",
       "27976  got nudes person might might know snapchat do ...      0"
      ]
     },
     "execution_count": 9,
     "metadata": {},
     "output_type": "execute_result"
    }
   ],
   "source": [
    "data.tail()"
   ]
  },
  {
   "cell_type": "markdown",
   "id": "b42b7e89-a1fa-4fc3-83a4-07e8565a05ba",
   "metadata": {},
   "source": [
    "Check null values"
   ]
  },
  {
   "cell_type": "code",
   "execution_count": 10,
   "id": "ac9aae4b-6c05-4cd7-b98d-03b43672f305",
   "metadata": {},
   "outputs": [
    {
     "data": {
      "text/html": [
       "<div>\n",
       "<style scoped>\n",
       "    .dataframe tbody tr th:only-of-type {\n",
       "        vertical-align: middle;\n",
       "    }\n",
       "\n",
       "    .dataframe tbody tr th {\n",
       "        vertical-align: top;\n",
       "    }\n",
       "\n",
       "    .dataframe thead th {\n",
       "        text-align: right;\n",
       "    }\n",
       "</style>\n",
       "<table border=\"1\" class=\"dataframe\">\n",
       "  <thead>\n",
       "    <tr style=\"text-align: right;\">\n",
       "      <th></th>\n",
       "      <th>text</th>\n",
       "      <th>label</th>\n",
       "    </tr>\n",
       "  </thead>\n",
       "  <tbody>\n",
       "    <tr>\n",
       "      <th>0</th>\n",
       "      <td>False</td>\n",
       "      <td>False</td>\n",
       "    </tr>\n",
       "    <tr>\n",
       "      <th>1</th>\n",
       "      <td>False</td>\n",
       "      <td>False</td>\n",
       "    </tr>\n",
       "    <tr>\n",
       "      <th>2</th>\n",
       "      <td>False</td>\n",
       "      <td>False</td>\n",
       "    </tr>\n",
       "    <tr>\n",
       "      <th>3</th>\n",
       "      <td>False</td>\n",
       "      <td>False</td>\n",
       "    </tr>\n",
       "    <tr>\n",
       "      <th>4</th>\n",
       "      <td>False</td>\n",
       "      <td>False</td>\n",
       "    </tr>\n",
       "    <tr>\n",
       "      <th>...</th>\n",
       "      <td>...</td>\n",
       "      <td>...</td>\n",
       "    </tr>\n",
       "    <tr>\n",
       "      <th>27972</th>\n",
       "      <td>False</td>\n",
       "      <td>False</td>\n",
       "    </tr>\n",
       "    <tr>\n",
       "      <th>27973</th>\n",
       "      <td>False</td>\n",
       "      <td>False</td>\n",
       "    </tr>\n",
       "    <tr>\n",
       "      <th>27974</th>\n",
       "      <td>False</td>\n",
       "      <td>False</td>\n",
       "    </tr>\n",
       "    <tr>\n",
       "      <th>27975</th>\n",
       "      <td>False</td>\n",
       "      <td>False</td>\n",
       "    </tr>\n",
       "    <tr>\n",
       "      <th>27976</th>\n",
       "      <td>False</td>\n",
       "      <td>False</td>\n",
       "    </tr>\n",
       "  </tbody>\n",
       "</table>\n",
       "<p>27977 rows × 2 columns</p>\n",
       "</div>"
      ],
      "text/plain": [
       "        text  label\n",
       "0      False  False\n",
       "1      False  False\n",
       "2      False  False\n",
       "3      False  False\n",
       "4      False  False\n",
       "...      ...    ...\n",
       "27972  False  False\n",
       "27973  False  False\n",
       "27974  False  False\n",
       "27975  False  False\n",
       "27976  False  False\n",
       "\n",
       "[27977 rows x 2 columns]"
      ]
     },
     "execution_count": 10,
     "metadata": {},
     "output_type": "execute_result"
    }
   ],
   "source": [
    "data.isnull()"
   ]
  },
  {
   "cell_type": "code",
   "execution_count": 11,
   "id": "9ef62ed9-194c-4243-ac31-cee485b3379e",
   "metadata": {},
   "outputs": [
    {
     "data": {
      "text/plain": [
       "text     0\n",
       "label    0\n",
       "dtype: int64"
      ]
     },
     "execution_count": 11,
     "metadata": {},
     "output_type": "execute_result"
    }
   ],
   "source": [
    "data.isnull().sum()"
   ]
  },
  {
   "cell_type": "markdown",
   "id": "6b31c749-50f5-4503-956a-48286858b34c",
   "metadata": {},
   "source": [
    "Check duplicates"
   ]
  },
  {
   "cell_type": "code",
   "execution_count": 12,
   "id": "9d2428df-8ad4-40ab-a0c1-81335b3e8f14",
   "metadata": {},
   "outputs": [
    {
     "data": {
      "text/plain": [
       "0        False\n",
       "1        False\n",
       "2        False\n",
       "3        False\n",
       "4        False\n",
       "         ...  \n",
       "27972    False\n",
       "27973    False\n",
       "27974    False\n",
       "27975    False\n",
       "27976    False\n",
       "Length: 27977, dtype: bool"
      ]
     },
     "execution_count": 12,
     "metadata": {},
     "output_type": "execute_result"
    }
   ],
   "source": [
    "data.duplicated()"
   ]
  },
  {
   "cell_type": "code",
   "execution_count": 13,
   "id": "61a85081-46bf-410d-91ee-2707e3482f94",
   "metadata": {},
   "outputs": [
    {
     "data": {
      "text/plain": [
       "5"
      ]
     },
     "execution_count": 13,
     "metadata": {},
     "output_type": "execute_result"
    }
   ],
   "source": [
    "data.duplicated().sum()"
   ]
  },
  {
   "cell_type": "markdown",
   "id": "989a6073-9058-47f0-aaec-379a25518575",
   "metadata": {},
   "source": [
    "Drop duplicates"
   ]
  },
  {
   "cell_type": "code",
   "execution_count": 14,
   "id": "3922f79b-7f43-4568-8625-c144ddd145fc",
   "metadata": {},
   "outputs": [],
   "source": [
    "data = data.drop_duplicates()"
   ]
  },
  {
   "cell_type": "code",
   "execution_count": 15,
   "id": "f85e6359-1e5f-4266-85c8-c2cf2fa2df3f",
   "metadata": {},
   "outputs": [
    {
     "data": {
      "text/html": [
       "<div>\n",
       "<style scoped>\n",
       "    .dataframe tbody tr th:only-of-type {\n",
       "        vertical-align: middle;\n",
       "    }\n",
       "\n",
       "    .dataframe tbody tr th {\n",
       "        vertical-align: top;\n",
       "    }\n",
       "\n",
       "    .dataframe thead th {\n",
       "        text-align: right;\n",
       "    }\n",
       "</style>\n",
       "<table border=\"1\" class=\"dataframe\">\n",
       "  <thead>\n",
       "    <tr style=\"text-align: right;\">\n",
       "      <th></th>\n",
       "      <th>text</th>\n",
       "      <th>label</th>\n",
       "    </tr>\n",
       "  </thead>\n",
       "  <tbody>\n",
       "    <tr>\n",
       "      <th>0</th>\n",
       "      <td>dear american teens question dutch person hear...</td>\n",
       "      <td>0</td>\n",
       "    </tr>\n",
       "    <tr>\n",
       "      <th>1</th>\n",
       "      <td>nothing look forward lifei dont many reasons k...</td>\n",
       "      <td>1</td>\n",
       "    </tr>\n",
       "    <tr>\n",
       "      <th>2</th>\n",
       "      <td>music recommendations im looking expand playli...</td>\n",
       "      <td>0</td>\n",
       "    </tr>\n",
       "    <tr>\n",
       "      <th>3</th>\n",
       "      <td>im done trying feel betterthe reason im still ...</td>\n",
       "      <td>1</td>\n",
       "    </tr>\n",
       "    <tr>\n",
       "      <th>4</th>\n",
       "      <td>worried  year old girl subject domestic physic...</td>\n",
       "      <td>1</td>\n",
       "    </tr>\n",
       "    <tr>\n",
       "      <th>...</th>\n",
       "      <td>...</td>\n",
       "      <td>...</td>\n",
       "    </tr>\n",
       "    <tr>\n",
       "      <th>27972</th>\n",
       "      <td>posting everyday people stop caring  religion ...</td>\n",
       "      <td>0</td>\n",
       "    </tr>\n",
       "    <tr>\n",
       "      <th>27973</th>\n",
       "      <td>okay definetly need hear guys opinion ive pret...</td>\n",
       "      <td>0</td>\n",
       "    </tr>\n",
       "    <tr>\n",
       "      <th>27974</th>\n",
       "      <td>cant get dog think ill kill myselfthe last thi...</td>\n",
       "      <td>1</td>\n",
       "    </tr>\n",
       "    <tr>\n",
       "      <th>27975</th>\n",
       "      <td>whats point princess bridei really think like ...</td>\n",
       "      <td>1</td>\n",
       "    </tr>\n",
       "    <tr>\n",
       "      <th>27976</th>\n",
       "      <td>got nudes person might might know snapchat do ...</td>\n",
       "      <td>0</td>\n",
       "    </tr>\n",
       "  </tbody>\n",
       "</table>\n",
       "<p>27972 rows × 2 columns</p>\n",
       "</div>"
      ],
      "text/plain": [
       "                                                    text  label\n",
       "0      dear american teens question dutch person hear...      0\n",
       "1      nothing look forward lifei dont many reasons k...      1\n",
       "2      music recommendations im looking expand playli...      0\n",
       "3      im done trying feel betterthe reason im still ...      1\n",
       "4      worried  year old girl subject domestic physic...      1\n",
       "...                                                  ...    ...\n",
       "27972  posting everyday people stop caring  religion ...      0\n",
       "27973  okay definetly need hear guys opinion ive pret...      0\n",
       "27974  cant get dog think ill kill myselfthe last thi...      1\n",
       "27975  whats point princess bridei really think like ...      1\n",
       "27976  got nudes person might might know snapchat do ...      0\n",
       "\n",
       "[27972 rows x 2 columns]"
      ]
     },
     "execution_count": 15,
     "metadata": {},
     "output_type": "execute_result"
    }
   ],
   "source": [
    "data"
   ]
  },
  {
   "cell_type": "markdown",
   "id": "09b88b33-0e29-4cb5-867b-6cba50c35c2b",
   "metadata": {},
   "source": [
    "Describe the data"
   ]
  },
  {
   "cell_type": "code",
   "execution_count": 16,
   "id": "9889b181-ac13-406a-8d84-c3dae5306f0a",
   "metadata": {},
   "outputs": [
    {
     "data": {
      "text/html": [
       "<div>\n",
       "<style scoped>\n",
       "    .dataframe tbody tr th:only-of-type {\n",
       "        vertical-align: middle;\n",
       "    }\n",
       "\n",
       "    .dataframe tbody tr th {\n",
       "        vertical-align: top;\n",
       "    }\n",
       "\n",
       "    .dataframe thead th {\n",
       "        text-align: right;\n",
       "    }\n",
       "</style>\n",
       "<table border=\"1\" class=\"dataframe\">\n",
       "  <thead>\n",
       "    <tr style=\"text-align: right;\">\n",
       "      <th></th>\n",
       "      <th>label</th>\n",
       "    </tr>\n",
       "  </thead>\n",
       "  <tbody>\n",
       "    <tr>\n",
       "      <th>count</th>\n",
       "      <td>27972.000000</td>\n",
       "    </tr>\n",
       "    <tr>\n",
       "      <th>mean</th>\n",
       "      <td>0.494709</td>\n",
       "    </tr>\n",
       "    <tr>\n",
       "      <th>std</th>\n",
       "      <td>0.499981</td>\n",
       "    </tr>\n",
       "    <tr>\n",
       "      <th>min</th>\n",
       "      <td>0.000000</td>\n",
       "    </tr>\n",
       "    <tr>\n",
       "      <th>25%</th>\n",
       "      <td>0.000000</td>\n",
       "    </tr>\n",
       "    <tr>\n",
       "      <th>50%</th>\n",
       "      <td>0.000000</td>\n",
       "    </tr>\n",
       "    <tr>\n",
       "      <th>75%</th>\n",
       "      <td>1.000000</td>\n",
       "    </tr>\n",
       "    <tr>\n",
       "      <th>max</th>\n",
       "      <td>1.000000</td>\n",
       "    </tr>\n",
       "  </tbody>\n",
       "</table>\n",
       "</div>"
      ],
      "text/plain": [
       "              label\n",
       "count  27972.000000\n",
       "mean       0.494709\n",
       "std        0.499981\n",
       "min        0.000000\n",
       "25%        0.000000\n",
       "50%        0.000000\n",
       "75%        1.000000\n",
       "max        1.000000"
      ]
     },
     "execution_count": 16,
     "metadata": {},
     "output_type": "execute_result"
    }
   ],
   "source": [
    "data.describe()"
   ]
  },
  {
   "cell_type": "markdown",
   "id": "8f192d7a-6e18-4499-a9c9-7b7e5b5664b8",
   "metadata": {},
   "source": [
    "Display random samples"
   ]
  },
  {
   "cell_type": "code",
   "execution_count": 17,
   "id": "0cc5a32c-565a-475d-aa79-0d84a71167d3",
   "metadata": {},
   "outputs": [
    {
     "data": {
      "text/html": [
       "<div>\n",
       "<style scoped>\n",
       "    .dataframe tbody tr th:only-of-type {\n",
       "        vertical-align: middle;\n",
       "    }\n",
       "\n",
       "    .dataframe tbody tr th {\n",
       "        vertical-align: top;\n",
       "    }\n",
       "\n",
       "    .dataframe thead th {\n",
       "        text-align: right;\n",
       "    }\n",
       "</style>\n",
       "<table border=\"1\" class=\"dataframe\">\n",
       "  <thead>\n",
       "    <tr style=\"text-align: right;\">\n",
       "      <th></th>\n",
       "      <th>label</th>\n",
       "      <th>text</th>\n",
       "    </tr>\n",
       "  </thead>\n",
       "  <tbody>\n",
       "    <tr>\n",
       "      <th>0</th>\n",
       "      <td>0</td>\n",
       "      <td>anything girl  boy bus stand recieves text girl girl boy waiting bus girlokay hurry boy  waits faster</td>\n",
       "    </tr>\n",
       "    <tr>\n",
       "      <th>1</th>\n",
       "      <td>0</td>\n",
       "      <td>legend andrei konchalovskys towering  half hour poem siberia begin once must hold back space takes time roundabout explorations halfremembered childhood memories turnofthecentury backwoods village...</td>\n",
       "    </tr>\n",
       "    <tr>\n",
       "      <th>2</th>\n",
       "      <td>0</td>\n",
       "      <td>basil rathbone nigel bruce sherlock holmes dr watson respectively second universal series established means written prologue famed detective legendary spans time helps comfortably set things prese...</td>\n",
       "    </tr>\n",
       "    <tr>\n",
       "      <th>3</th>\n",
       "      <td>1</td>\n",
       "      <td>happy right nowi everything going right now caring family girlfriend car place live good school amazing job seems like feel anything car crash recently car totalled people would distraught upset w...</td>\n",
       "    </tr>\n",
       "    <tr>\n",
       "      <th>4</th>\n",
       "      <td>1</td>\n",
       "      <td>mom killed th birthdayitll two years christmas ive thinking lately man of man get here talked family since  aunts uncles two dozen cousins looking thoughts literally comments appreciated thanks ad...</td>\n",
       "    </tr>\n",
       "    <tr>\n",
       "      <th>5</th>\n",
       "      <td>1</td>\n",
       "      <td>dad slapped facebut completely deserved it piece fucking shit im hopeless pathetic</td>\n",
       "    </tr>\n",
       "  </tbody>\n",
       "</table>\n",
       "</div>"
      ],
      "text/plain": [
       "   label  \\\n",
       "0      0   \n",
       "1      0   \n",
       "2      0   \n",
       "3      1   \n",
       "4      1   \n",
       "5      1   \n",
       "\n",
       "                                                                                                                                                                                                      text  \n",
       "0                                                                                                    anything girl  boy bus stand recieves text girl girl boy waiting bus girlokay hurry boy  waits faster  \n",
       "1  legend andrei konchalovskys towering  half hour poem siberia begin once must hold back space takes time roundabout explorations halfremembered childhood memories turnofthecentury backwoods village...  \n",
       "2  basil rathbone nigel bruce sherlock holmes dr watson respectively second universal series established means written prologue famed detective legendary spans time helps comfortably set things prese...  \n",
       "3  happy right nowi everything going right now caring family girlfriend car place live good school amazing job seems like feel anything car crash recently car totalled people would distraught upset w...  \n",
       "4  mom killed th birthdayitll two years christmas ive thinking lately man of man get here talked family since  aunts uncles two dozen cousins looking thoughts literally comments appreciated thanks ad...  \n",
       "5                                                                                                                       dad slapped facebut completely deserved it piece fucking shit im hopeless pathetic  "
      ]
     },
     "execution_count": 17,
     "metadata": {},
     "output_type": "execute_result"
    }
   ],
   "source": [
    "def random_sample_reviews(data, num_samples):\n",
    "    samples = data.groupby('label')['text'].apply(lambda x: x.sample(num_samples))\n",
    "    samples_data = samples.reset_index().drop(columns='level_1')\n",
    "    return samples_data\n",
    "pd.set_option('display.max_colwidth', 200)\n",
    "samples = random_sample_reviews(data, num_samples=3)\n",
    "samples.head(6)"
   ]
  },
  {
   "cell_type": "markdown",
   "id": "634ea1e7-e4ac-42a5-8ce0-178e6700a324",
   "metadata": {},
   "source": [
    "Check URLs"
   ]
  },
  {
   "cell_type": "code",
   "execution_count": 18,
   "id": "033438c9-cbd2-40a7-a83b-e23de205f14a",
   "metadata": {},
   "outputs": [
    {
     "name": "stdout",
     "output_type": "stream",
     "text": [
      "                                                                                                                                                                                                          text  \\\n",
      "59                                                                   hello anyone feeling suicidal hear people lying truth httpswwwyoutubecomwatchvjkcjcbtqehttpswwwyoutubecomwatchvjkcjcbtqe feel suicidal go   \n",
      "115    help needed save man assuming posts case young boy still trending social media extremists trying get young man lynched vocal opinion hashtag trending twitter accuses blasphemy extremists spamming ...   \n",
      "150    answer question previous reviewer asked name us official mentioned lumumba name character mr carlucci frank carlucci reported time second secretary us embassy congo subsequently among assignments ...   \n",
      "215                                                            cool bug facts classmate owns clothing line idea lol proof heres link intrested which im sure dont httpswslaunchcartstorehttpswslaunchcartstore   \n",
      "338                                                                                         hey im bored alone stream playing gta v talk chat please  httpswwwtwitchtvkyobi_gaminghttpswwwtwitchtvkyobi_gaming   \n",
      "...                                                                                                                                                                                                        ...   \n",
      "27675                  telling jokes corona gone day  theres joke today im sorry come back tomorrow edit ok ill tell joke httpswwwredditcomrteenagerscommentslsxetelling_jokes_until_corona_gone_day__theres_a   \n",
      "27746                                                                                                                       another album like httpsopenspotifycomalbumcgwclwskgxkzgyattafdsilzrpdvqtsadchehew   \n",
      "27753  come think part  today christmas eve eve eve eve eve eve eve eve eve eve eve eve eve eve eve eve eve eve eve eve eve eve eve eve eve eve eve eve eve eve eve eve eve eve eve eve eve eve eve eve eve...   \n",
      "27813  survey school project hi could take survey views gender equality would super awesome results totally anonymous school project httpsdocsgooglecomformsdefaipqlsfunqhmduxezaaxvxafgfyaunbpzkeydihitdja...   \n",
      "27882                                             bands lastest song indie kinda prog influenced httpsyoutubeborszg spotify also httpsopenspotifycomtracknlonolzfasrgnxtnsiwfllbcqfukpzuza  listening feedback   \n",
      "\n",
      "       label  \n",
      "59         0  \n",
      "115        0  \n",
      "150        0  \n",
      "215        0  \n",
      "338        0  \n",
      "...      ...  \n",
      "27675      0  \n",
      "27746      0  \n",
      "27753      0  \n",
      "27813      0  \n",
      "27882      0  \n",
      "\n",
      "[494 rows x 2 columns]\n",
      "Number of rows contains URLs: 494\n"
     ]
    }
   ],
   "source": [
    "def contains_url(text):\n",
    "    URL_pattern = r'(?i)\\b(?:http[s]?|ftp|www)\\S+|(?<=\\w)(https?://|www\\.)\\S+'\n",
    "    return bool(re.search(URL_pattern, str(text)))\n",
    "    \n",
    "rows_with_URL = data[data['text'].apply(contains_url)]\n",
    "print(rows_with_URL)\n",
    "\n",
    "count_URL = rows_with_URL.shape[0]\n",
    "print(f\"Number of rows contains URLs: {count_URL}\")"
   ]
  },
  {
   "cell_type": "markdown",
   "id": "ef618350-633a-41ef-aeb5-dc571aab05b5",
   "metadata": {},
   "source": [
    "Remove URLs"
   ]
  },
  {
   "cell_type": "code",
   "execution_count": 19,
   "id": "908595a6-e5d1-4312-ac7e-db089b55676d",
   "metadata": {},
   "outputs": [
    {
     "name": "stdout",
     "output_type": "stream",
     "text": [
      "0                                                                        dear american teens question dutch person heard guys get way easier things learn age us sooooo thth graders like  right guys learn math\n",
      "1                                                                                          nothing look forward lifei dont many reasons keep going feel like nothing keeps going next day makes want hang myself\n",
      "2        music recommendations im looking expand playlist usual genres alt pop minnesota hip hop steampunk various indie genres artists people like cavetown aliceband bug hunter penelope scott various rhym...\n",
      "3        im done trying feel betterthe reason im still alive know mum devastated ever killed myself ever passes im still state im going hesitate ending life shortly after im almost  take meds go therapy no...\n",
      "4        worried  year old girl subject domestic physicalmental housewithout going lot know girl know girl etc let give brief background known girl  years lives uk live different country kept touch electro...\n",
      "                                                                                                          ...                                                                                                   \n",
      "27972    posting everyday people stop caring  religion matter private thing allowed share it force others also people treated diferently religions belief pearson stopped seeks harm humans care others relig...\n",
      "27973    okay definetly need hear guys opinion ive pretty much love one best friends now im m shes f met lot summer pretty much always asked wanted meet always wanted never asked me also slow responds mess...\n",
      "27974              cant get dog think ill kill myselfthe last thing im holding for yup first two applications didnt work already received many one looking for sent third one different place dont hopes high up\n",
      "27975    whats point princess bridei really think like wesley said pb life pain ampxb life sucks hurts live get better joy temporary think people happy successful fulfilled lives thats cards me wish dead e...\n",
      "27976    got nudes person might might know snapchat do ok chick dont know added snap sent something opened nudes dont even know person thought might know school couldnt find yearbook im sure wrong person a...\n",
      "Name: text, Length: 27972, dtype: object\n"
     ]
    }
   ],
   "source": [
    "def remove_urls(text):\n",
    "    return re.sub(r'(?i)\\b(?:http[s]?|ftp|www)\\S+|(?<=\\w)(https?://|www\\.)\\S+', '', str(text))\n",
    "data['text'] = data['text'].apply(remove_urls)\n",
    "print(data['text']) "
   ]
  },
  {
   "cell_type": "code",
   "execution_count": 20,
   "id": "9ea8e672-ba6c-4537-b411-e8d2ef1b80c8",
   "metadata": {},
   "outputs": [
    {
     "name": "stdout",
     "output_type": "stream",
     "text": [
      "Empty DataFrame\n",
      "Columns: [text, label]\n",
      "Index: []\n",
      "Number of rows contains URLs: 0\n"
     ]
    }
   ],
   "source": [
    "def contains_url(text):\n",
    "    URL_pattern = r'(?i)\\b(?:http[s]?|ftp|www)\\S+|(?<=\\w)(https?://|www\\.)\\S+'\n",
    "    return bool(re.search(URL_pattern, str(text)))\n",
    "    \n",
    "rows_with_URL = data[data['text'].apply(contains_url)]\n",
    "print(rows_with_URL)\n",
    "\n",
    "count_URL = rows_with_URL.shape[0]\n",
    "print(f\"Number of rows contains URLs: {count_URL}\")"
   ]
  },
  {
   "cell_type": "code",
   "execution_count": 21,
   "id": "736bfbbc-8fa5-4c01-bf7a-62cb4fc11134",
   "metadata": {},
   "outputs": [
    {
     "name": "stdout",
     "output_type": "stream",
     "text": [
      "Displaying cleaned text for row 59:\n",
      "hello anyone feeling suicidal hear people lying truth  feel suicidal go\n"
     ]
    }
   ],
   "source": [
    "specific_row = 59 \n",
    "print(f\"Displaying cleaned text for row {specific_row}:\")\n",
    "print(data['text'].iloc[specific_row])"
   ]
  },
  {
   "cell_type": "markdown",
   "id": "d62155b0-a34d-426f-8600-25eec79a29c5",
   "metadata": {},
   "source": [
    "Check special characters"
   ]
  },
  {
   "cell_type": "code",
   "execution_count": 22,
   "id": "cc7b38e6-225e-41e8-9f16-1fc1e4f7aea0",
   "metadata": {},
   "outputs": [
    {
     "name": "stdout",
     "output_type": "stream",
     "text": [
      "                                                                                                                                                                                                          text  \\\n",
      "110                           take story  snapchat posted happy birthday_name person_ didnt look story didnt click it didnt say thank didnt look message anything why take story cause embarrassing avoided it   \n",
      "124                                                                                                                    help think started war cult full apple enthusiast anyways join kingdom rbanana_kingdom_   \n",
      "221    dbz fans annoying hell can beat goku one cares ill watching anime maybe looking anime tik toks talking cool powerful one faves are one fuckers come start ranting cant beat goku realise absolutely ...   \n",
      "224    partner may end life tonight goes goi made post earlierhttpwwwredditcomrdepressioncommentsxzei_nearly_destroyed_a_year_relationship_i_feel cheated partner  years several times alright last night w...   \n",
      "275                                                                                                                                                    wish chose criminology subject soooo interesting   _      \n",
      "...                                                                                                                                                                                                        ...   \n",
      "27407  worried ill go full columbine misguided attempt helpi made thishttpswwwredditcomrdepressioncommentsrqoa_rantish_thing_i_need_to_get_some_stuff_out_but post rdepression might help explain stuff wan...   \n",
      "27562  cool no why oh understandable pancakeshttpsyoutubeykgqxk_vau watch cringe compilation  playing minecraft  fortnite  cosplayinghttpsyoutubeegcyymdone overall nerd  talking chemistry physics  number...   \n",
      "27756  feeling pretty good right now stark contrast usual sending positive vibes possibly can broke free anxiety bit today ive riding high ive made friends past  months theyre truly wonderful people im b...   \n",
      "27759  movie corner stranger things test the stranger things quiz best way fans test knowledge series stranger things test also excellent online contest know much series playing quiz give overview story ...   \n",
      "27800                                                                                                                                                                         wanna know whos cool ethan_keith   \n",
      "\n",
      "       label  \n",
      "110        0  \n",
      "124        0  \n",
      "221        0  \n",
      "224        1  \n",
      "275        0  \n",
      "...      ...  \n",
      "27407      1  \n",
      "27562      0  \n",
      "27756      0  \n",
      "27759      0  \n",
      "27800      0  \n",
      "\n",
      "[245 rows x 2 columns]\n",
      "Number of rows with special characters: 245\n"
     ]
    }
   ],
   "source": [
    "def has_special_characters(text):\n",
    "    special_char_pattern = r'[^A-Za-z0-9\\s]' \n",
    "    return bool(re.search(special_char_pattern, str(text)))  \n",
    "\n",
    "rows_with_special_chars = data[data['text'].apply(has_special_characters)]\n",
    "print(rows_with_special_chars)\n",
    "\n",
    "count_special_chars = rows_with_special_chars.shape[0]\n",
    "print(f\"Number of rows with special characters: {count_special_chars}\")"
   ]
  },
  {
   "cell_type": "markdown",
   "id": "c3513ab9-fa77-4dea-9b7f-c6d0688fbdb4",
   "metadata": {},
   "source": [
    "Remove special characters"
   ]
  },
  {
   "cell_type": "code",
   "execution_count": 23,
   "id": "d1825452-ca3d-4874-8869-19f8e83ffccd",
   "metadata": {},
   "outputs": [
    {
     "name": "stdout",
     "output_type": "stream",
     "text": [
      "0                                                                        dear american teens question dutch person heard guys get way easier things learn age us sooooo thth graders like  right guys learn math\n",
      "1                                                                                          nothing look forward lifei dont many reasons keep going feel like nothing keeps going next day makes want hang myself\n",
      "2        music recommendations im looking expand playlist usual genres alt pop minnesota hip hop steampunk various indie genres artists people like cavetown aliceband bug hunter penelope scott various rhym...\n",
      "3        im done trying feel betterthe reason im still alive know mum devastated ever killed myself ever passes im still state im going hesitate ending life shortly after im almost  take meds go therapy no...\n",
      "4        worried  year old girl subject domestic physicalmental housewithout going lot know girl know girl etc let give brief background known girl  years lives uk live different country kept touch electro...\n",
      "                                                                                                          ...                                                                                                   \n",
      "27972    posting everyday people stop caring  religion matter private thing allowed share it force others also people treated diferently religions belief pearson stopped seeks harm humans care others relig...\n",
      "27973    okay definetly need hear guys opinion ive pretty much love one best friends now im m shes f met lot summer pretty much always asked wanted meet always wanted never asked me also slow responds mess...\n",
      "27974              cant get dog think ill kill myselfthe last thing im holding for yup first two applications didnt work already received many one looking for sent third one different place dont hopes high up\n",
      "27975    whats point princess bridei really think like wesley said pb life pain ampxb life sucks hurts live get better joy temporary think people happy successful fulfilled lives thats cards me wish dead e...\n",
      "27976    got nudes person might might know snapchat do ok chick dont know added snap sent something opened nudes dont even know person thought might know school couldnt find yearbook im sure wrong person a...\n",
      "Name: text, Length: 27972, dtype: object\n"
     ]
    }
   ],
   "source": [
    "def remove_special_characters(text):\n",
    "    return re.sub(r'[^A-Za-z0-9\\s]', '', str(text))\n",
    "data['text'] = data['text'].apply(remove_special_characters)\n",
    "print(data['text'])  "
   ]
  },
  {
   "cell_type": "code",
   "execution_count": 24,
   "id": "6502ab46-fc80-47aa-a799-f7c22f40a4e4",
   "metadata": {},
   "outputs": [
    {
     "name": "stdout",
     "output_type": "stream",
     "text": [
      "Empty DataFrame\n",
      "Columns: [text, label]\n",
      "Index: []\n",
      "Number of rows with special characters: 0\n"
     ]
    }
   ],
   "source": [
    "def has_special_characters(text):\n",
    "    special_char_pattern = r'[^A-Za-z0-9\\s]' \n",
    "    return bool(re.search(special_char_pattern, str(text)))  \n",
    "\n",
    "rows_with_special_chars = data[data['text'].apply(has_special_characters)]\n",
    "print(rows_with_special_chars)\n",
    "\n",
    "count_special_chars = rows_with_special_chars.shape[0]\n",
    "print(f\"Number of rows with special characters: {count_special_chars}\")"
   ]
  },
  {
   "cell_type": "code",
   "execution_count": 25,
   "id": "e51a1734-cae5-47f7-a410-b578072437ee",
   "metadata": {},
   "outputs": [
    {
     "name": "stdout",
     "output_type": "stream",
     "text": [
      "Displaying cleaned text for row 275:\n",
      "wish chose criminology subject soooo interesting      \n"
     ]
    }
   ],
   "source": [
    "specific_row = 275\n",
    "print(f\"Displaying cleaned text for row {specific_row}:\")\n",
    "print(data['text'].iloc[specific_row])"
   ]
  },
  {
   "cell_type": "markdown",
   "id": "2a624c7f-ad98-49c2-8cc2-2be7404fa643",
   "metadata": {},
   "source": [
    "Check numbers"
   ]
  },
  {
   "cell_type": "code",
   "execution_count": 26,
   "id": "e1b2d1c2-f529-4838-ad86-fd2d2ef7868c",
   "metadata": {},
   "outputs": [
    {
     "name": "stdout",
     "output_type": "stream",
     "text": [
      "Empty DataFrame\n",
      "Columns: [text, label]\n",
      "Index: []\n",
      "Number of rows with numbers: 0\n"
     ]
    }
   ],
   "source": [
    "def has_numbers(text):\n",
    "    return bool(re.search(r'\\d', str(text)))  \n",
    "\n",
    "rows_with_numbers = data[data['text'].apply(has_numbers)]\n",
    "print(rows_with_numbers)\n",
    "\n",
    "count_numbers = rows_with_numbers.shape[0]\n",
    "print(f\"Number of rows with numbers: {count_numbers}\")"
   ]
  },
  {
   "cell_type": "markdown",
   "id": "e1e21d09-415e-4966-a368-4742172b5fb0",
   "metadata": {},
   "source": [
    "Check upper_case"
   ]
  },
  {
   "cell_type": "code",
   "execution_count": 27,
   "id": "dd9d68d9-2640-4f49-9e59-eb1372750636",
   "metadata": {},
   "outputs": [
    {
     "name": "stdout",
     "output_type": "stream",
     "text": [
      "Empty DataFrame\n",
      "Columns: [text, label]\n",
      "Index: []\n",
      "Number of rows with uppercase letters: 0\n"
     ]
    }
   ],
   "source": [
    "def has_uppercase(text):\n",
    "    return bool(re.search(r'[A-Z]', str(text)))  \n",
    "\n",
    "rows_with_uppercase = data[data['text'].apply(has_uppercase)]\n",
    "print(rows_with_uppercase)\n",
    "\n",
    "count_uppercase = rows_with_uppercase.shape[0]\n",
    "print(f\"Number of rows with uppercase letters: {count_uppercase}\")"
   ]
  },
  {
   "cell_type": "markdown",
   "id": "5d09d604-88d2-46a8-bd3d-d55715b750dd",
   "metadata": {},
   "source": [
    "Check if it starts with @ ou #"
   ]
  },
  {
   "cell_type": "code",
   "execution_count": 28,
   "id": "d85da80a-01a1-473f-a5f6-fd3524b6f405",
   "metadata": {},
   "outputs": [
    {
     "name": "stdout",
     "output_type": "stream",
     "text": [
      "Empty DataFrame\n",
      "Columns: [text, label]\n",
      "Index: []\n",
      "Number of rows with words starting with @ or #: 0\n"
     ]
    }
   ],
   "source": [
    "def start_with(text):\n",
    "    return bool(re.search(r'[@#]\\w+', str(text)))\n",
    "\n",
    "rows_start_with = data[data['text'].apply(start_with)]\n",
    "print(rows_start_with)\n",
    "\n",
    "count_start_with = rows_start_with.shape[0]\n",
    "print(f\"Number of rows with words starting with @ or #: {count_start_with}\")"
   ]
  },
  {
   "cell_type": "markdown",
   "id": "9cdde344-6c2f-4896-9659-5c696f9ba130",
   "metadata": {},
   "source": [
    "Check punctuations"
   ]
  },
  {
   "cell_type": "code",
   "execution_count": 29,
   "id": "0d5cb3ab-8c98-43c9-aa16-f1acad344241",
   "metadata": {},
   "outputs": [
    {
     "name": "stdout",
     "output_type": "stream",
     "text": [
      "Empty DataFrame\n",
      "Columns: [text, label]\n",
      "Index: []\n",
      "Number of rows with punctuations: 0\n"
     ]
    }
   ],
   "source": [
    "def punctuation(text):\n",
    "    return bool(re.search(r'[^\\w\\s]',str(text)))\n",
    "\n",
    "rows_with_puntuations = data[data['text'].apply(punctuation)]\n",
    "print(rows_with_puntuations)\n",
    "\n",
    "count_punctuation = rows_with_puntuations.shape[0]\n",
    "print(f\"Number of rows with punctuations: {count_punctuation}\")"
   ]
  },
  {
   "cell_type": "markdown",
   "id": "47e9a5f9-548e-4114-b27c-67d0e4f17d41",
   "metadata": {},
   "source": [
    "Tokenization"
   ]
  },
  {
   "cell_type": "code",
   "execution_count": 30,
   "id": "c57e134c-6c1e-4ad4-abe4-ef471ae7d99c",
   "metadata": {},
   "outputs": [
    {
     "name": "stdout",
     "output_type": "stream",
     "text": [
      "Original: dear american teens question dutch person heard guys get way easier things learn age us sooooo thth graders like  right guys learn math\n",
      "Tokenized: ['dear', 'american', 'teens', 'question', 'dutch', 'person', 'heard', 'guys', 'get', 'way', 'easier', 'things', 'learn', 'age', 'us', 'sooooo', 'thth', 'graders', 'like', 'right', 'guys', 'learn', 'math']\n",
      "\n",
      "Original: nothing look forward lifei dont many reasons keep going feel like nothing keeps going next day makes want hang myself\n",
      "Tokenized: ['nothing', 'look', 'forward', 'lifei', 'dont', 'many', 'reasons', 'keep', 'going', 'feel', 'like', 'nothing', 'keeps', 'going', 'next', 'day', 'makes', 'want', 'hang', 'myself']\n",
      "\n",
      "Original: music recommendations im looking expand playlist usual genres alt pop minnesota hip hop steampunk various indie genres artists people like cavetown aliceband bug hunter penelope scott various rhymesayers willing explore new genresartists such anything generic rap the type exclusively sex drugs cool rapper is rap types pretty good pop popular couple years ago dunno technical genre name anyways anyone got music recommendations favorite artistssongs\n",
      "Tokenized: ['music', 'recommendations', 'im', 'looking', 'expand', 'playlist', 'usual', 'genres', 'alt', 'pop', 'minnesota', 'hip', 'hop', 'steampunk', 'various', 'indie', 'genres', 'artists', 'people', 'like', 'cavetown', 'aliceband', 'bug', 'hunter', 'penelope', 'scott', 'various', 'rhymesayers', 'willing', 'explore', 'new', 'genresartists', 'such', 'anything', 'generic', 'rap', 'the', 'type', 'exclusively', 'sex', 'drugs', 'cool', 'rapper', 'is', 'rap', 'types', 'pretty', 'good', 'pop', 'popular', 'couple', 'years', 'ago', 'dunno', 'technical', 'genre', 'name', 'anyways', 'anyone', 'got', 'music', 'recommendations', 'favorite', 'artistssongs']\n",
      "\n",
      "Original: im done trying feel betterthe reason im still alive know mum devastated ever killed myself ever passes im still state im going hesitate ending life shortly after im almost  take meds go therapy nothing seems help enough dont want around anymore hate feeling like this wouldnt wish upon enemy brain feels like constantly like static tv wont shut overthinking do think im running options dont see living past  got accepted health science degree dont even know wanna try know im smart mental illness holds back think cant anything im good enough need fucking help dont know anymore ive run options\n",
      "Tokenized: ['im', 'done', 'trying', 'feel', 'betterthe', 'reason', 'im', 'still', 'alive', 'know', 'mum', 'devastated', 'ever', 'killed', 'myself', 'ever', 'passes', 'im', 'still', 'state', 'im', 'going', 'hesitate', 'ending', 'life', 'shortly', 'after', 'im', 'almost', 'take', 'meds', 'go', 'therapy', 'nothing', 'seems', 'help', 'enough', 'dont', 'want', 'around', 'anymore', 'hate', 'feeling', 'like', 'this', 'wouldnt', 'wish', 'upon', 'enemy', 'brain', 'feels', 'like', 'constantly', 'like', 'static', 'tv', 'wont', 'shut', 'overthinking', 'do', 'think', 'im', 'running', 'options', 'dont', 'see', 'living', 'past', 'got', 'accepted', 'health', 'science', 'degree', 'dont', 'even', 'know', 'wan', 'na', 'try', 'know', 'im', 'smart', 'mental', 'illness', 'holds', 'back', 'think', 'cant', 'anything', 'im', 'good', 'enough', 'need', 'fucking', 'help', 'dont', 'know', 'anymore', 'ive', 'run', 'options']\n",
      "\n",
      "Original: worried  year old girl subject domestic physicalmental housewithout going lot know girl know girl etc let give brief background known girl  years lives uk live different country kept touch electronic means first girl schizophrenic host illnesses too dad severe anger issues abuses physically mentally makes serve food wash dishes clean house shouts beats petty things like spilling water picking toys floor threatened knife beats plates glasses punches head last time got beat around month ago one siblings gets beat up tried tell mother beating showed bruises too mother refuses believe even laughed off probably fear confronting him husband yells wife too family treat well either sister mean tell father put trouble family tends isolate her even remember birthday all family cold her often tend alienate since act normal girl often feels suicidal due this inflicted selfharm cut wrist starves believes way family accept her make worse two incidents life must tell about raped walking back home night initially tell parents sometime later police reports filed rape suffered false pregnancy girl symptoms disorder like lactating breasts happened early  depressed incident summer  approximately family sent couple family friends wellknown treatments advertised herbal therapy accupuncture etc however happened next terrible left alone husband wife went somewhere else guy tortured her instance made sit container filled water upto neck closed lid imagine kind stress panic would cause schizophrenic patient miscellaneous details gt gets visit psychiatrist school able hide problems psychiatrist noted girl able put front really well gt five psychiatrists past gt enjoys drawingpainting learning new languages writing poems gt depressed tends victimized mentality blames problems want report abuse due trouble family face tells stopped cutting lately problem refuses tell anyone abuse even tries defend father saying fault help her although seem extremely suicidal concern physically mental abuse girl subject everyday healthy environment anyone grow in really wish rescued clutches belligerent controlling father dysfunctional family\n",
      "Tokenized: ['worried', 'year', 'old', 'girl', 'subject', 'domestic', 'physicalmental', 'housewithout', 'going', 'lot', 'know', 'girl', 'know', 'girl', 'etc', 'let', 'give', 'brief', 'background', 'known', 'girl', 'years', 'lives', 'uk', 'live', 'different', 'country', 'kept', 'touch', 'electronic', 'means', 'first', 'girl', 'schizophrenic', 'host', 'illnesses', 'too', 'dad', 'severe', 'anger', 'issues', 'abuses', 'physically', 'mentally', 'makes', 'serve', 'food', 'wash', 'dishes', 'clean', 'house', 'shouts', 'beats', 'petty', 'things', 'like', 'spilling', 'water', 'picking', 'toys', 'floor', 'threatened', 'knife', 'beats', 'plates', 'glasses', 'punches', 'head', 'last', 'time', 'got', 'beat', 'around', 'month', 'ago', 'one', 'siblings', 'gets', 'beat', 'up', 'tried', 'tell', 'mother', 'beating', 'showed', 'bruises', 'too', 'mother', 'refuses', 'believe', 'even', 'laughed', 'off', 'probably', 'fear', 'confronting', 'him', 'husband', 'yells', 'wife', 'too', 'family', 'treat', 'well', 'either', 'sister', 'mean', 'tell', 'father', 'put', 'trouble', 'family', 'tends', 'isolate', 'her', 'even', 'remember', 'birthday', 'all', 'family', 'cold', 'her', 'often', 'tend', 'alienate', 'since', 'act', 'normal', 'girl', 'often', 'feels', 'suicidal', 'due', 'this', 'inflicted', 'selfharm', 'cut', 'wrist', 'starves', 'believes', 'way', 'family', 'accept', 'her', 'make', 'worse', 'two', 'incidents', 'life', 'must', 'tell', 'about', 'raped', 'walking', 'back', 'home', 'night', 'initially', 'tell', 'parents', 'sometime', 'later', 'police', 'reports', 'filed', 'rape', 'suffered', 'false', 'pregnancy', 'girl', 'symptoms', 'disorder', 'like', 'lactating', 'breasts', 'happened', 'early', 'depressed', 'incident', 'summer', 'approximately', 'family', 'sent', 'couple', 'family', 'friends', 'wellknown', 'treatments', 'advertised', 'herbal', 'therapy', 'accupuncture', 'etc', 'however', 'happened', 'next', 'terrible', 'left', 'alone', 'husband', 'wife', 'went', 'somewhere', 'else', 'guy', 'tortured', 'her', 'instance', 'made', 'sit', 'container', 'filled', 'water', 'upto', 'neck', 'closed', 'lid', 'imagine', 'kind', 'stress', 'panic', 'would', 'cause', 'schizophrenic', 'patient', 'miscellaneous', 'details', 'gt', 'gets', 'visit', 'psychiatrist', 'school', 'able', 'hide', 'problems', 'psychiatrist', 'noted', 'girl', 'able', 'put', 'front', 'really', 'well', 'gt', 'five', 'psychiatrists', 'past', 'gt', 'enjoys', 'drawingpainting', 'learning', 'new', 'languages', 'writing', 'poems', 'gt', 'depressed', 'tends', 'victimized', 'mentality', 'blames', 'problems', 'want', 'report', 'abuse', 'due', 'trouble', 'family', 'face', 'tells', 'stopped', 'cutting', 'lately', 'problem', 'refuses', 'tell', 'anyone', 'abuse', 'even', 'tries', 'defend', 'father', 'saying', 'fault', 'help', 'her', 'although', 'seem', 'extremely', 'suicidal', 'concern', 'physically', 'mental', 'abuse', 'girl', 'subject', 'everyday', 'healthy', 'environment', 'anyone', 'grow', 'in', 'really', 'wish', 'rescued', 'clutches', 'belligerent', 'controlling', 'father', 'dysfunctional', 'family']\n",
      "\n"
     ]
    }
   ],
   "source": [
    "def tokenize_text(text):\n",
    "    text = str(text)\n",
    "    tokens = word_tokenize(text)\n",
    "    return tokens\n",
    "\n",
    "tokenized_texts = data['text'].apply(tokenize_text)\n",
    "\n",
    "for original, tokenized in zip(data['text'].head(), tokenized_texts.head()):\n",
    "    print(f\"Original: {original}\\nTokenized: {tokenized}\\n\")"
   ]
  },
  {
   "cell_type": "code",
   "execution_count": 31,
   "id": "a796db56-22a4-4f59-afa8-0a3b60daad6e",
   "metadata": {},
   "outputs": [
    {
     "data": {
      "text/html": [
       "<div>\n",
       "<style scoped>\n",
       "    .dataframe tbody tr th:only-of-type {\n",
       "        vertical-align: middle;\n",
       "    }\n",
       "\n",
       "    .dataframe tbody tr th {\n",
       "        vertical-align: top;\n",
       "    }\n",
       "\n",
       "    .dataframe thead th {\n",
       "        text-align: right;\n",
       "    }\n",
       "</style>\n",
       "<table border=\"1\" class=\"dataframe\">\n",
       "  <thead>\n",
       "    <tr style=\"text-align: right;\">\n",
       "      <th></th>\n",
       "      <th>text</th>\n",
       "      <th>label</th>\n",
       "    </tr>\n",
       "  </thead>\n",
       "  <tbody>\n",
       "    <tr>\n",
       "      <th>0</th>\n",
       "      <td>dear american teens question dutch person heard guys get way easier things learn age us sooooo thth graders like  right guys learn math</td>\n",
       "      <td>0</td>\n",
       "    </tr>\n",
       "    <tr>\n",
       "      <th>1</th>\n",
       "      <td>nothing look forward lifei dont many reasons keep going feel like nothing keeps going next day makes want hang myself</td>\n",
       "      <td>1</td>\n",
       "    </tr>\n",
       "    <tr>\n",
       "      <th>2</th>\n",
       "      <td>music recommendations im looking expand playlist usual genres alt pop minnesota hip hop steampunk various indie genres artists people like cavetown aliceband bug hunter penelope scott various rhym...</td>\n",
       "      <td>0</td>\n",
       "    </tr>\n",
       "    <tr>\n",
       "      <th>3</th>\n",
       "      <td>im done trying feel betterthe reason im still alive know mum devastated ever killed myself ever passes im still state im going hesitate ending life shortly after im almost  take meds go therapy no...</td>\n",
       "      <td>1</td>\n",
       "    </tr>\n",
       "    <tr>\n",
       "      <th>4</th>\n",
       "      <td>worried  year old girl subject domestic physicalmental housewithout going lot know girl know girl etc let give brief background known girl  years lives uk live different country kept touch electro...</td>\n",
       "      <td>1</td>\n",
       "    </tr>\n",
       "    <tr>\n",
       "      <th>...</th>\n",
       "      <td>...</td>\n",
       "      <td>...</td>\n",
       "    </tr>\n",
       "    <tr>\n",
       "      <th>27972</th>\n",
       "      <td>posting everyday people stop caring  religion matter private thing allowed share it force others also people treated diferently religions belief pearson stopped seeks harm humans care others relig...</td>\n",
       "      <td>0</td>\n",
       "    </tr>\n",
       "    <tr>\n",
       "      <th>27973</th>\n",
       "      <td>okay definetly need hear guys opinion ive pretty much love one best friends now im m shes f met lot summer pretty much always asked wanted meet always wanted never asked me also slow responds mess...</td>\n",
       "      <td>0</td>\n",
       "    </tr>\n",
       "    <tr>\n",
       "      <th>27974</th>\n",
       "      <td>cant get dog think ill kill myselfthe last thing im holding for yup first two applications didnt work already received many one looking for sent third one different place dont hopes high up</td>\n",
       "      <td>1</td>\n",
       "    </tr>\n",
       "    <tr>\n",
       "      <th>27975</th>\n",
       "      <td>whats point princess bridei really think like wesley said pb life pain ampxb life sucks hurts live get better joy temporary think people happy successful fulfilled lives thats cards me wish dead e...</td>\n",
       "      <td>1</td>\n",
       "    </tr>\n",
       "    <tr>\n",
       "      <th>27976</th>\n",
       "      <td>got nudes person might might know snapchat do ok chick dont know added snap sent something opened nudes dont even know person thought might know school couldnt find yearbook im sure wrong person a...</td>\n",
       "      <td>0</td>\n",
       "    </tr>\n",
       "  </tbody>\n",
       "</table>\n",
       "<p>27972 rows × 2 columns</p>\n",
       "</div>"
      ],
      "text/plain": [
       "                                                                                                                                                                                                          text  \\\n",
       "0                                                                      dear american teens question dutch person heard guys get way easier things learn age us sooooo thth graders like  right guys learn math   \n",
       "1                                                                                        nothing look forward lifei dont many reasons keep going feel like nothing keeps going next day makes want hang myself   \n",
       "2      music recommendations im looking expand playlist usual genres alt pop minnesota hip hop steampunk various indie genres artists people like cavetown aliceband bug hunter penelope scott various rhym...   \n",
       "3      im done trying feel betterthe reason im still alive know mum devastated ever killed myself ever passes im still state im going hesitate ending life shortly after im almost  take meds go therapy no...   \n",
       "4      worried  year old girl subject domestic physicalmental housewithout going lot know girl know girl etc let give brief background known girl  years lives uk live different country kept touch electro...   \n",
       "...                                                                                                                                                                                                        ...   \n",
       "27972  posting everyday people stop caring  religion matter private thing allowed share it force others also people treated diferently religions belief pearson stopped seeks harm humans care others relig...   \n",
       "27973  okay definetly need hear guys opinion ive pretty much love one best friends now im m shes f met lot summer pretty much always asked wanted meet always wanted never asked me also slow responds mess...   \n",
       "27974            cant get dog think ill kill myselfthe last thing im holding for yup first two applications didnt work already received many one looking for sent third one different place dont hopes high up   \n",
       "27975  whats point princess bridei really think like wesley said pb life pain ampxb life sucks hurts live get better joy temporary think people happy successful fulfilled lives thats cards me wish dead e...   \n",
       "27976  got nudes person might might know snapchat do ok chick dont know added snap sent something opened nudes dont even know person thought might know school couldnt find yearbook im sure wrong person a...   \n",
       "\n",
       "       label  \n",
       "0          0  \n",
       "1          1  \n",
       "2          0  \n",
       "3          1  \n",
       "4          1  \n",
       "...      ...  \n",
       "27972      0  \n",
       "27973      0  \n",
       "27974      1  \n",
       "27975      1  \n",
       "27976      0  \n",
       "\n",
       "[27972 rows x 2 columns]"
      ]
     },
     "execution_count": 31,
     "metadata": {},
     "output_type": "execute_result"
    }
   ],
   "source": [
    "data"
   ]
  },
  {
   "cell_type": "markdown",
   "id": "c598e4c5-f590-493a-a017-072c82c09d2a",
   "metadata": {},
   "source": [
    "Check stopwords"
   ]
  },
  {
   "cell_type": "code",
   "execution_count": 32,
   "id": "c14c17ad-0a83-4bf1-bc64-4f433e16fc52",
   "metadata": {},
   "outputs": [
    {
     "name": "stdout",
     "output_type": "stream",
     "text": [
      "                                                                                                                                                                                                          text  \\\n",
      "1                                                                                        nothing look forward lifei dont many reasons keep going feel like nothing keeps going next day makes want hang myself   \n",
      "2      music recommendations im looking expand playlist usual genres alt pop minnesota hip hop steampunk various indie genres artists people like cavetown aliceband bug hunter penelope scott various rhym...   \n",
      "3      im done trying feel betterthe reason im still alive know mum devastated ever killed myself ever passes im still state im going hesitate ending life shortly after im almost  take meds go therapy no...   \n",
      "4      worried  year old girl subject domestic physicalmental housewithout going lot know girl know girl etc let give brief background known girl  years lives uk live different country kept touch electro...   \n",
      "5      hey rredflag sure right place post this goes  im currently student intern sandia national labs working survey help improve marketing outreach efforts many schools recruit around country were looki...   \n",
      "...                                                                                                                                                                                                        ...   \n",
      "27972  posting everyday people stop caring  religion matter private thing allowed share it force others also people treated diferently religions belief pearson stopped seeks harm humans care others relig...   \n",
      "27973  okay definetly need hear guys opinion ive pretty much love one best friends now im m shes f met lot summer pretty much always asked wanted meet always wanted never asked me also slow responds mess...   \n",
      "27974            cant get dog think ill kill myselfthe last thing im holding for yup first two applications didnt work already received many one looking for sent third one different place dont hopes high up   \n",
      "27975  whats point princess bridei really think like wesley said pb life pain ampxb life sucks hurts live get better joy temporary think people happy successful fulfilled lives thats cards me wish dead e...   \n",
      "27976  got nudes person might might know snapchat do ok chick dont know added snap sent something opened nudes dont even know person thought might know school couldnt find yearbook im sure wrong person a...   \n",
      "\n",
      "       label  \n",
      "1          1  \n",
      "2          0  \n",
      "3          1  \n",
      "4          1  \n",
      "5          1  \n",
      "...      ...  \n",
      "27972      0  \n",
      "27973      0  \n",
      "27974      1  \n",
      "27975      1  \n",
      "27976      0  \n",
      "\n",
      "[19031 rows x 2 columns]\n",
      "Number of rows with stopwords: 19031\n"
     ]
    }
   ],
   "source": [
    "def contains_stopwords(text):\n",
    "    stop_words = set(stopwords.words('english'))\n",
    "    text_tokens = text.split()\n",
    "    return any(word.lower() in stop_words for word in text_tokens)\n",
    "\n",
    "rows_with_stopwords = data[data['text'].apply(contains_stopwords)]\n",
    "print(rows_with_stopwords)\n",
    "\n",
    "count_stopwords = rows_with_stopwords.shape[0]\n",
    "print(f\"Number of rows with stopwords: {count_stopwords}\")"
   ]
  },
  {
   "cell_type": "markdown",
   "id": "261825f2-13f8-405d-968d-6395dd9cfb89",
   "metadata": {},
   "source": [
    "Remove stopwords"
   ]
  },
  {
   "cell_type": "code",
   "execution_count": 33,
   "id": "1f59d2ae-e7e5-4585-ac1d-226312c9d5c5",
   "metadata": {},
   "outputs": [
    {
     "name": "stdout",
     "output_type": "stream",
     "text": [
      "0                                                                         dear american teens question dutch person heard guys get way easier things learn age us sooooo thth graders like right guys learn math\n",
      "1                                                                                                 nothing look forward lifei dont many reasons keep going feel like nothing keeps going next day makes want hang\n",
      "2        music recommendations im looking expand playlist usual genres alt pop minnesota hip hop steampunk various indie genres artists people like cavetown aliceband bug hunter penelope scott various rhym...\n",
      "3        im done trying feel betterthe reason im still alive know mum devastated ever killed ever passes im still state im going hesitate ending life shortly im almost take meds go therapy nothing seems he...\n",
      "4        worried year old girl subject domestic physicalmental housewithout going lot know girl know girl etc let give brief background known girl years lives uk live different country kept touch electroni...\n",
      "                                                                                                          ...                                                                                                   \n",
      "27972       posting everyday people stop caring religion matter private thing allowed share force others also people treated diferently religions belief pearson stopped seeks harm humans care others religions\n",
      "27973    okay definetly need hear guys opinion ive pretty much love one best friends im shes f met lot summer pretty much always asked wanted meet always wanted never asked also slow responds messages shes...\n",
      "27974                         cant get dog think ill kill myselfthe last thing im holding yup first two applications didnt work already received many one looking sent third one different place dont hopes high\n",
      "27975    whats point princess bridei really think like wesley said pb life pain ampxb life sucks hurts live get better joy temporary think people happy successful fulfilled lives thats cards wish dead ever...\n",
      "27976    got nudes person might might know snapchat ok chick dont know added snap sent something opened nudes dont even know person thought might know school couldnt find yearbook im sure wrong person actu...\n",
      "Name: text, Length: 27972, dtype: object\n"
     ]
    }
   ],
   "source": [
    "stop_words = set(stopwords.words('english'))\n",
    "def remove_stopwords(text):\n",
    "    tokens = word_tokenize(str(text))  \n",
    "    filtered_tokens = [word for word in tokens if word.lower() not in stop_words]\n",
    "    return ' '.join(filtered_tokens)\n",
    "\n",
    "data['text'] = data['text'].apply(remove_stopwords)\n",
    "\n",
    "print(data['text'])"
   ]
  },
  {
   "cell_type": "code",
   "execution_count": 34,
   "id": "bb72ff1b-4c52-4d44-beaf-dfb85af4bb74",
   "metadata": {},
   "outputs": [
    {
     "name": "stdout",
     "output_type": "stream",
     "text": [
      "Number of rows with stopwords: 0\n"
     ]
    }
   ],
   "source": [
    "def contains_stopwords(text):\n",
    "    stop_words = set(stopwords.words('english'))\n",
    "    text_tokens = text.split()\n",
    "    return any(word.lower() in stop_words for word in text_tokens)\n",
    "\n",
    "rows_with_stopwords = data[data['text'].apply(contains_stopwords)]\n",
    "\n",
    "count_stopwords = rows_with_stopwords.shape[0]\n",
    "print(f\"Number of rows with stopwords: {count_stopwords}\")"
   ]
  },
  {
   "cell_type": "markdown",
   "id": "c1fafc6b-79b8-4268-a6e6-2e3ff8b35ace",
   "metadata": {},
   "source": [
    "Stemming"
   ]
  },
  {
   "cell_type": "code",
   "execution_count": 35,
   "id": "e0d5dc12-dbf7-40b5-8435-635ca9ec5e5b",
   "metadata": {},
   "outputs": [
    {
     "name": "stdout",
     "output_type": "stream",
     "text": [
      "                                                                                                                                                                                                          text  \\\n",
      "0                                                                       dear american teens question dutch person heard guys get way easier things learn age us sooooo thth graders like right guys learn math   \n",
      "1                                                                                               nothing look forward lifei dont many reasons keep going feel like nothing keeps going next day makes want hang   \n",
      "2      music recommendations im looking expand playlist usual genres alt pop minnesota hip hop steampunk various indie genres artists people like cavetown aliceband bug hunter penelope scott various rhym...   \n",
      "3      im done trying feel betterthe reason im still alive know mum devastated ever killed ever passes im still state im going hesitate ending life shortly im almost take meds go therapy nothing seems he...   \n",
      "4      worried year old girl subject domestic physicalmental housewithout going lot know girl know girl etc let give brief background known girl years lives uk live different country kept touch electroni...   \n",
      "...                                                                                                                                                                                                        ...   \n",
      "27972     posting everyday people stop caring religion matter private thing allowed share force others also people treated diferently religions belief pearson stopped seeks harm humans care others religions   \n",
      "27973  okay definetly need hear guys opinion ive pretty much love one best friends im shes f met lot summer pretty much always asked wanted meet always wanted never asked also slow responds messages shes...   \n",
      "27974                       cant get dog think ill kill myselfthe last thing im holding yup first two applications didnt work already received many one looking sent third one different place dont hopes high   \n",
      "27975  whats point princess bridei really think like wesley said pb life pain ampxb life sucks hurts live get better joy temporary think people happy successful fulfilled lives thats cards wish dead ever...   \n",
      "27976  got nudes person might might know snapchat ok chick dont know added snap sent something opened nudes dont even know person thought might know school couldnt find yearbook im sure wrong person actu...   \n",
      "\n",
      "       label  \n",
      "0          0  \n",
      "1          1  \n",
      "2          0  \n",
      "3          1  \n",
      "4          1  \n",
      "...      ...  \n",
      "27972      0  \n",
      "27973      0  \n",
      "27974      1  \n",
      "27975      1  \n",
      "27976      0  \n",
      "\n",
      "[27515 rows x 2 columns]\n",
      "Number of rows with stemmed words: 27515\n"
     ]
    }
   ],
   "source": [
    "stemmer = PorterStemmer()\n",
    "\n",
    "def contains_stemmed_words(text):\n",
    "    tokens = word_tokenize(str(text))  \n",
    "    return any(stemmer.stem(word) != word for word in tokens)\n",
    "\n",
    "rows_with_stemmed_words = data[data['text'].apply(contains_stemmed_words)]\n",
    "print(rows_with_stemmed_words)\n",
    "\n",
    "count_stemmed_words = rows_with_stemmed_words.shape[0]\n",
    "print(f\"Number of rows with stemmed words: {count_stemmed_words}\")"
   ]
  },
  {
   "cell_type": "code",
   "execution_count": 36,
   "id": "0dfb910f-bd89-4bc1-b9a9-d577e48968f9",
   "metadata": {},
   "outputs": [
    {
     "name": "stdout",
     "output_type": "stream",
     "text": [
      "0                                                                              dear american teen question dutch person heard guy get way easier thing learn age us sooooo thth grader like right guy learn math\n",
      "1                                                                                                                noth look forward lifei dont mani reason keep go feel like noth keep go next day make want hang\n",
      "2        music recommend im look expand playlist usual genr alt pop minnesota hip hop steampunk variou indi genr artist peopl like cavetown aliceband bug hunter penelop scott variou rhymesay will explor ne...\n",
      "3        im done tri feel betterth reason im still aliv know mum devast ever kill ever pass im still state im go hesit end life shortli im almost take med go therapi noth seem help enough dont want around ...\n",
      "4        worri year old girl subject domest physicalment housewithout go lot know girl know girl etc let give brief background known girl year live uk live differ countri kept touch electron mean first gir...\n",
      "                                                                                                          ...                                                                                                   \n",
      "27972                                  post everyday peopl stop care religion matter privat thing allow share forc other also peopl treat difer religion belief pearson stop seek harm human care other religion\n",
      "27973    okay definetli need hear guy opinion ive pretti much love one best friend im she f met lot summer pretti much alway ask want meet alway want never ask also slow respond messag she slow repli other...\n",
      "27974                                            cant get dog think ill kill myselfth last thing im hold yup first two applic didnt work alreadi receiv mani one look sent third one differ place dont hope high\n",
      "27975    what point princess bridei realli think like wesley said pb life pain ampxb life suck hurt live get better joy temporari think peopl happi success fulfil live that card wish dead everi day keep wi...\n",
      "27976    got nude person might might know snapchat ok chick dont know ad snap sent someth open nude dont even know person thought might know school couldnt find yearbook im sure wrong person actual know cu...\n",
      "Name: text, Length: 27972, dtype: object\n"
     ]
    }
   ],
   "source": [
    "stemmer=PorterStemmer()\n",
    "def apply_stemming(text):\n",
    "    tokens = word_tokenize(str(text))  \n",
    "    stemmed_tokens = [stemmer.stem(word) for word in tokens]  \n",
    "    return ' '.join(stemmed_tokens)  \n",
    "\n",
    "data['text'] = data['text'].apply(apply_stemming)\n",
    "print(data['text'])"
   ]
  },
  {
   "cell_type": "code",
   "execution_count": 37,
   "id": "500c4767-1bd5-4718-949c-da4e270f7f6a",
   "metadata": {},
   "outputs": [
    {
     "name": "stdout",
     "output_type": "stream",
     "text": [
      "                                                                                                                                                                                                          text  \\\n",
      "2      music recommend im look expand playlist usual genr alt pop minnesota hip hop steampunk variou indi genr artist peopl like cavetown aliceband bug hunter penelop scott variou rhymesay will explor ne...   \n",
      "3      im done tri feel betterth reason im still aliv know mum devast ever kill ever pass im still state im go hesit end life shortli im almost take med go therapi noth seem help enough dont want around ...   \n",
      "4      worri year old girl subject domest physicalment housewithout go lot know girl know girl etc let give brief background known girl year live uk live differ countri kept touch electron mean first gir...   \n",
      "6      feel like someon need hear tonight feel right think cant anyth peopl keep pute listen life everyon els live someon tell unabl someth work get done say wrong someon say youl never make work hard ma...   \n",
      "7      deserv liveif die right noon would carei real friendsi alway start convers get dri respons feel comfort around femal emot abus mom put left usi never find love keep get remind everyday failur disa...   \n",
      "...                                                                                                                                                                                                        ...   \n",
      "27964                                                                          wan na sleep aint got social warmth kind affect make fall asleep instead keep brows reddit cuz fill dopamin even im extrem tire   \n",
      "27965                                                                             happen mix ammoniaalcohol bleachi dont feel like anyth live anymor ive abus alien frown upon sexual harass quickli would die   \n",
      "27966  whole homo sapien social creatur thing mess upupfront apolog wall text multitud reason shouldnt think famili frustrat care overal sister alway look love death like line work overal includ cowork i...   \n",
      "27970  back school guess ive coop goat farm quad today last day next week march break back actual school back schoolwork back sit class pray nobodi look back uniform back get bu everi morn back heart rac...   \n",
      "27973  okay definetli need hear guy opinion ive pretti much love one best friend im she f met lot summer pretti much alway ask want meet alway want never ask also slow respond messag she slow repli other...   \n",
      "\n",
      "       label  \n",
      "2          0  \n",
      "3          1  \n",
      "4          1  \n",
      "6          0  \n",
      "7          1  \n",
      "...      ...  \n",
      "27964      0  \n",
      "27965      1  \n",
      "27966      1  \n",
      "27970      0  \n",
      "27973      0  \n",
      "\n",
      "[14307 rows x 2 columns]\n",
      "Number of rows with stemmed words: 14307\n"
     ]
    }
   ],
   "source": [
    "stemmer = PorterStemmer()\n",
    "\n",
    "def contains_stemmed_words(text):\n",
    "    tokens = word_tokenize(str(text))  \n",
    "    return any(stemmer.stem(word) != word for word in tokens)\n",
    "\n",
    "rows_with_stemmed_words = data[data['text'].apply(contains_stemmed_words)]\n",
    "print(rows_with_stemmed_words)\n",
    "\n",
    "count_stemmed_words = rows_with_stemmed_words.shape[0]\n",
    "print(f\"Number of rows with stemmed words: {count_stemmed_words}\")"
   ]
  },
  {
   "cell_type": "markdown",
   "id": "20a44289-c0e4-45fd-b8a6-146e2b904679",
   "metadata": {},
   "source": [
    "Lemmatization"
   ]
  },
  {
   "cell_type": "code",
   "execution_count": 38,
   "id": "710b2c3d-beb6-4f6c-9354-8ddb4395115d",
   "metadata": {},
   "outputs": [
    {
     "name": "stdout",
     "output_type": "stream",
     "text": [
      "                                                                                                                                                                                                          text  \\\n",
      "0                                                                            dear american teen question dutch person heard guy get way easier thing learn age us sooooo thth grader like right guy learn math   \n",
      "3      im done tri feel betterth reason im still aliv know mum devast ever kill ever pass im still state im go hesit end life shortli im almost take med go therapi noth seem help enough dont want around ...   \n",
      "4      worri year old girl subject domest physicalment housewithout go lot know girl know girl etc let give brief background known girl year live uk live differ countri kept touch electron mean first gir...   \n",
      "5      hey rredflag sure right place post goe im current student intern sandia nation lab work survey help improv market outreach effort mani school recruit around countri look current undergradgrad stem...   \n",
      "6      feel like someon need hear tonight feel right think cant anyth peopl keep pute listen life everyon els live someon tell unabl someth work get done say wrong someon say youl never make work hard ma...   \n",
      "...                                                                                                                                                                                                        ...   \n",
      "27962  great exampl good dumb movi high art mean script anywher close woodi allen mel brook killer tomato seri four movi cartoon seri basic goodnatur romp gleefulli trampl kind territori zucker rule swit...   \n",
      "27964                                                                          wan na sleep aint got social warmth kind affect make fall asleep instead keep brows reddit cuz fill dopamin even im extrem tire   \n",
      "27967                                                                                                                                    forget color among us hat one im cyan wear leaf hat backup color lime   \n",
      "27968  wan na dieim shitti feel shitti time constantli make peopl feel shitti somehow cant fix fuck mental take take take never give back im imposs yet peopl still put fuck time one unselfish thing make ...   \n",
      "27973  okay definetli need hear guy opinion ive pretti much love one best friend im she f met lot summer pretti much alway ask want meet alway want never ask also slow respond messag she slow repli other...   \n",
      "\n",
      "       label  \n",
      "0          0  \n",
      "3          1  \n",
      "4          1  \n",
      "5          1  \n",
      "6          0  \n",
      "...      ...  \n",
      "27962      0  \n",
      "27964      0  \n",
      "27967      0  \n",
      "27968      1  \n",
      "27973      0  \n",
      "\n",
      "[8667 rows x 2 columns]\n",
      "Number of rows with stemmed words: 8667\n"
     ]
    }
   ],
   "source": [
    "lemmatizer = WordNetLemmatizer()\n",
    "\n",
    "def contains_lemmatization(text):\n",
    "    tokens = word_tokenize(str(text))  \n",
    "    return any(lemmatizer.lemmatize(word) != word for word in tokens)\n",
    "\n",
    "rows_with_lemmatization = data[data['text'].apply(contains_lemmatization)]\n",
    "print(rows_with_lemmatization)\n",
    "\n",
    "count_lemmatization = rows_with_lemmatization.shape[0]\n",
    "print(f\"Number of rows with stemmed words: {count_lemmatization}\")"
   ]
  },
  {
   "cell_type": "code",
   "execution_count": 39,
   "id": "70081966-da7b-429e-be01-43640befaf9e",
   "metadata": {},
   "outputs": [
    {
     "name": "stdout",
     "output_type": "stream",
     "text": [
      "0                                                                               dear american teen question dutch person heard guy get way easier thing learn age u sooooo thth grader like right guy learn math\n",
      "1                                                                                                                noth look forward lifei dont mani reason keep go feel like noth keep go next day make want hang\n",
      "2        music recommend im look expand playlist usual genr alt pop minnesota hip hop steampunk variou indi genr artist peopl like cavetown aliceband bug hunter penelop scott variou rhymesay will explor ne...\n",
      "3        im done tri feel betterth reason im still aliv know mum devast ever kill ever pas im still state im go hesit end life shortli im almost take med go therapi noth seem help enough dont want around a...\n",
      "4        worri year old girl subject domest physicalment housewithout go lot know girl know girl etc let give brief background known girl year live uk live differ countri kept touch electron mean first gir...\n",
      "                                                                                                          ...                                                                                                   \n",
      "27972                                  post everyday peopl stop care religion matter privat thing allow share forc other also peopl treat difer religion belief pearson stop seek harm human care other religion\n",
      "27973    okay definetli need hear guy opinion ive pretti much love one best friend im she f met lot summer pretti much alway ask want meet alway want never ask also slow respond messag she slow repli other...\n",
      "27974                                            cant get dog think ill kill myselfth last thing im hold yup first two applic didnt work alreadi receiv mani one look sent third one differ place dont hope high\n",
      "27975    what point princess bridei realli think like wesley said pb life pain ampxb life suck hurt live get better joy temporari think peopl happi success fulfil live that card wish dead everi day keep wi...\n",
      "27976    got nude person might might know snapchat ok chick dont know ad snap sent someth open nude dont even know person thought might know school couldnt find yearbook im sure wrong person actual know cu...\n",
      "Name: text, Length: 27972, dtype: object\n"
     ]
    }
   ],
   "source": [
    "lemmatizer = WordNetLemmatizer()\n",
    "\n",
    "def apply_lemmatization(text):\n",
    "    tokens = word_tokenize(str(text))  # Tokenize the text\n",
    "    lemmatized_tokens = [lemmatizer.lemmatize(word) for word in tokens]  # Apply lemmatization\n",
    "    return ' '.join(lemmatized_tokens)  # Rejoin tokens into a string\n",
    "\n",
    "data['text'] = data['text'].apply(apply_lemmatization)\n",
    "\n",
    "print(data['text'])"
   ]
  },
  {
   "cell_type": "code",
   "execution_count": 40,
   "id": "dd82fad9-a2bc-4a9a-93eb-f881329af46e",
   "metadata": {},
   "outputs": [
    {
     "name": "stdout",
     "output_type": "stream",
     "text": [
      "                                                                                                                                                                                                          text  \\\n",
      "3      im done tri feel betterth reason im still aliv know mum devast ever kill ever pas im still state im go hesit end life shortli im almost take med go therapi noth seem help enough dont want around a...   \n",
      "5      hey rredflag sure right place post goe im current student intern sandia nation lab work survey help improv market outreach effort mani school recruit around countri look current undergradgrad stem...   \n",
      "45     start feel like endiv marri year give take last wife affair guy tri leav move keep come back guilt decid go back lost job day thanksgiv lucki enough land two interview get offer day thanksgiv leas...   \n",
      "53     fail colleg know long post yo repeat exam im sure fail second time im sure get colleg major friend gt peopl left citi countri parent live km away anyon give good reason end friend left im tire tim...   \n",
      "62     reason suck gener cold unfeel person know definit come dick robot somethin friend rare ever show emot say talk shit must major trust issu someth cuz even tell best friend feel howev time definit d...   \n",
      "...                                                                                                                                                                                                        ...   \n",
      "27881  took lot whatev arm reach definit whole new bottl mg strength ibuprofen along bottl tylenol unsur much lot benadryl oxycodon good news found pas bed hour later last heard sound normal taken hospit...   \n",
      "27906  run optionsmi life gener go downhil past year start pas uncl felt quit close suffer panic attack depress kept calm outsid peopl assum ok around end may learn girlfriend almost two year cheat anoth...   \n",
      "27917  ive wast hour life noth today school receiv grade mine pretti good mediocr fail one angri teacher given wors grade deserv hate mean hour genuin spent studi put effort noth afternoon noth weekend l...   \n",
      "27962  great exampl good dumb movi high art mean script anywher close woodi allen mel brook killer tomato seri four movi cartoon seri basic goodnatur romp gleefulli trampl kind territori zucker rule swit...   \n",
      "27968  wan na dieim shitti feel shitti time constantli make peopl feel shitti somehow cant fix fuck mental take take take never give back im imposs yet peopl still put fuck time one unselfish thing make ...   \n",
      "\n",
      "       label  \n",
      "3          1  \n",
      "5          1  \n",
      "45         1  \n",
      "53         1  \n",
      "62         0  \n",
      "...      ...  \n",
      "27881      1  \n",
      "27906      1  \n",
      "27917      0  \n",
      "27962      0  \n",
      "27968      1  \n",
      "\n",
      "[1437 rows x 2 columns]\n",
      "Number of rows with stemmed words: 1437\n"
     ]
    }
   ],
   "source": [
    "lemmatizer = WordNetLemmatizer()\n",
    "\n",
    "def contains_lemmatization(text):\n",
    "    tokens = word_tokenize(str(text))  \n",
    "    return any(lemmatizer.lemmatize(word) != word for word in tokens)\n",
    "\n",
    "rows_with_lemmatization = data[data['text'].apply(contains_lemmatization)]\n",
    "print(rows_with_lemmatization)\n",
    "\n",
    "count_lemmatization = rows_with_lemmatization.shape[0]\n",
    "print(f\"Number of rows with stemmed words: {count_lemmatization}\")"
   ]
  },
  {
   "cell_type": "markdown",
   "id": "8727fe08-8235-46f1-9f5a-bfdac55380c7",
   "metadata": {},
   "source": [
    "Word frequency"
   ]
  },
  {
   "cell_type": "code",
   "execution_count": 41,
   "id": "15394744-f98b-45e1-92d7-9d404c9b1ba2",
   "metadata": {},
   "outputs": [
    {
     "name": "stdout",
     "output_type": "stream",
     "text": [
      "Text: dear american teen question dutch person heard guy get way easier thing learn age u sooooo thth grader like right guy learn math\n",
      "Word Frequencies: Counter({'guy': 2, 'learn': 2, 'dear': 1, 'american': 1, 'teen': 1, 'question': 1, 'dutch': 1, 'person': 1, 'heard': 1, 'get': 1, 'way': 1, 'easier': 1, 'thing': 1, 'age': 1, 'u': 1, 'sooooo': 1, 'thth': 1, 'grader': 1, 'like': 1, 'right': 1, 'math': 1})\n",
      "--------------------------------------------------\n",
      "Text: noth look forward lifei dont mani reason keep go feel like noth keep go next day make want hang\n",
      "Word Frequencies: Counter({'noth': 2, 'keep': 2, 'go': 2, 'look': 1, 'forward': 1, 'lifei': 1, 'dont': 1, 'mani': 1, 'reason': 1, 'feel': 1, 'like': 1, 'next': 1, 'day': 1, 'make': 1, 'want': 1, 'hang': 1})\n",
      "--------------------------------------------------\n",
      "Text: music recommend im look expand playlist usual genr alt pop minnesota hip hop steampunk variou indi genr artist peopl like cavetown aliceband bug hunter penelop scott variou rhymesay will explor new genresartist anyth gener rap type exclus sex drug cool rapper rap type pretti good pop popular coupl year ago dunno technic genr name anyway anyon got music recommend favorit artistssong\n",
      "Word Frequencies: Counter({'genr': 3, 'music': 2, 'recommend': 2, 'pop': 2, 'variou': 2, 'rap': 2, 'type': 2, 'im': 1, 'look': 1, 'expand': 1, 'playlist': 1, 'usual': 1, 'alt': 1, 'minnesota': 1, 'hip': 1, 'hop': 1, 'steampunk': 1, 'indi': 1, 'artist': 1, 'peopl': 1, 'like': 1, 'cavetown': 1, 'aliceband': 1, 'bug': 1, 'hunter': 1, 'penelop': 1, 'scott': 1, 'rhymesay': 1, 'will': 1, 'explor': 1, 'new': 1, 'genresartist': 1, 'anyth': 1, 'gener': 1, 'exclus': 1, 'sex': 1, 'drug': 1, 'cool': 1, 'rapper': 1, 'pretti': 1, 'good': 1, 'popular': 1, 'coupl': 1, 'year': 1, 'ago': 1, 'dunno': 1, 'technic': 1, 'name': 1, 'anyway': 1, 'anyon': 1, 'got': 1, 'favorit': 1, 'artistssong': 1})\n",
      "--------------------------------------------------\n",
      "Text: im done tri feel betterth reason im still aliv know mum devast ever kill ever pas im still state im go hesit end life shortli im almost take med go therapi noth seem help enough dont want around anymor hate feel like wouldnt wish upon enemi brain feel like constantli like static tv wont shut overthink think im run option dont see live past got accept health scienc degre dont even know wan na tri know im smart mental ill hold back think cant anyth im good enough need fuck help dont know anymor ive run option\n",
      "Word Frequencies: Counter({'im': 8, 'know': 4, 'dont': 4, 'feel': 3, 'like': 3, 'tri': 2, 'still': 2, 'ever': 2, 'go': 2, 'help': 2, 'enough': 2, 'anymor': 2, 'think': 2, 'run': 2, 'option': 2, 'done': 1, 'betterth': 1, 'reason': 1, 'aliv': 1, 'mum': 1, 'devast': 1, 'kill': 1, 'pas': 1, 'state': 1, 'hesit': 1, 'end': 1, 'life': 1, 'shortli': 1, 'almost': 1, 'take': 1, 'med': 1, 'therapi': 1, 'noth': 1, 'seem': 1, 'want': 1, 'around': 1, 'hate': 1, 'wouldnt': 1, 'wish': 1, 'upon': 1, 'enemi': 1, 'brain': 1, 'constantli': 1, 'static': 1, 'tv': 1, 'wont': 1, 'shut': 1, 'overthink': 1, 'see': 1, 'live': 1, 'past': 1, 'got': 1, 'accept': 1, 'health': 1, 'scienc': 1, 'degre': 1, 'even': 1, 'wan': 1, 'na': 1, 'smart': 1, 'mental': 1, 'ill': 1, 'hold': 1, 'back': 1, 'cant': 1, 'anyth': 1, 'good': 1, 'need': 1, 'fuck': 1, 'ive': 1})\n",
      "--------------------------------------------------\n",
      "Text: worri year old girl subject domest physicalment housewithout go lot know girl know girl etc let give brief background known girl year live uk live differ countri kept touch electron mean first girl schizophren host ill dad sever anger issu abus physic mental make serv food wash dish clean hous shout beat petti thing like spill water pick toy floor threaten knife beat plate glass punch head last time got beat around month ago one sibl get beat tri tell mother beat show bruis mother refus believ even laugh probabl fear confront husband yell wife famili treat well either sister mean tell father put troubl famili tend isol even rememb birthday famili cold often tend alien sinc act normal girl often feel suicid due inflict selfharm cut wrist starv believ way famili accept make wors two incid life must tell rape walk back home night initi tell parent sometim later polic report file rape suffer fals pregnanc girl symptom disord like lactat breast happen earli depress incid summer approxim famili sent coupl famili friend wellknown treatment advertis herbal therapi accupunctur etc howev happen next terribl left alon husband wife went somewher el guy tortur instanc made sit contain fill water upto neck close lid imagin kind stress panic would caus schizophren patient miscellan detail gt get visit psychiatrist school abl hide problem psychiatrist note girl abl put front realli well gt five psychiatrist past gt enjoy drawingpaint learn new languag write poem gt depress tend victim mental blame problem want report abus due troubl famili face tell stop cut late problem refus tell anyon abus even tri defend father say fault help although seem extrem suicid concern physic mental abus girl subject everyday healthi environ anyon grow realli wish rescu clutch belliger control father dysfunct famili\n",
      "Word Frequencies: Counter({'girl': 9, 'famili': 8, 'tell': 6, 'beat': 5, 'abus': 4, 'gt': 4, 'mental': 3, 'even': 3, 'father': 3, 'tend': 3, 'psychiatrist': 3, 'problem': 3, 'year': 2, 'subject': 2, 'know': 2, 'etc': 2, 'live': 2, 'mean': 2, 'schizophren': 2, 'physic': 2, 'make': 2, 'like': 2, 'water': 2, 'get': 2, 'tri': 2, 'mother': 2, 'refus': 2, 'believ': 2, 'husband': 2, 'wife': 2, 'well': 2, 'put': 2, 'troubl': 2, 'often': 2, 'suicid': 2, 'due': 2, 'cut': 2, 'incid': 2, 'rape': 2, 'report': 2, 'happen': 2, 'depress': 2, 'abl': 2, 'realli': 2, 'anyon': 2, 'worri': 1, 'old': 1, 'domest': 1, 'physicalment': 1, 'housewithout': 1, 'go': 1, 'lot': 1, 'let': 1, 'give': 1, 'brief': 1, 'background': 1, 'known': 1, 'uk': 1, 'differ': 1, 'countri': 1, 'kept': 1, 'touch': 1, 'electron': 1, 'first': 1, 'host': 1, 'ill': 1, 'dad': 1, 'sever': 1, 'anger': 1, 'issu': 1, 'serv': 1, 'food': 1, 'wash': 1, 'dish': 1, 'clean': 1, 'hous': 1, 'shout': 1, 'petti': 1, 'thing': 1, 'spill': 1, 'pick': 1, 'toy': 1, 'floor': 1, 'threaten': 1, 'knife': 1, 'plate': 1, 'glass': 1, 'punch': 1, 'head': 1, 'last': 1, 'time': 1, 'got': 1, 'around': 1, 'month': 1, 'ago': 1, 'one': 1, 'sibl': 1, 'show': 1, 'bruis': 1, 'laugh': 1, 'probabl': 1, 'fear': 1, 'confront': 1, 'yell': 1, 'treat': 1, 'either': 1, 'sister': 1, 'isol': 1, 'rememb': 1, 'birthday': 1, 'cold': 1, 'alien': 1, 'sinc': 1, 'act': 1, 'normal': 1, 'feel': 1, 'inflict': 1, 'selfharm': 1, 'wrist': 1, 'starv': 1, 'way': 1, 'accept': 1, 'wors': 1, 'two': 1, 'life': 1, 'must': 1, 'walk': 1, 'back': 1, 'home': 1, 'night': 1, 'initi': 1, 'parent': 1, 'sometim': 1, 'later': 1, 'polic': 1, 'file': 1, 'suffer': 1, 'fals': 1, 'pregnanc': 1, 'symptom': 1, 'disord': 1, 'lactat': 1, 'breast': 1, 'earli': 1, 'summer': 1, 'approxim': 1, 'sent': 1, 'coupl': 1, 'friend': 1, 'wellknown': 1, 'treatment': 1, 'advertis': 1, 'herbal': 1, 'therapi': 1, 'accupunctur': 1, 'howev': 1, 'next': 1, 'terribl': 1, 'left': 1, 'alon': 1, 'went': 1, 'somewher': 1, 'el': 1, 'guy': 1, 'tortur': 1, 'instanc': 1, 'made': 1, 'sit': 1, 'contain': 1, 'fill': 1, 'upto': 1, 'neck': 1, 'close': 1, 'lid': 1, 'imagin': 1, 'kind': 1, 'stress': 1, 'panic': 1, 'would': 1, 'caus': 1, 'patient': 1, 'miscellan': 1, 'detail': 1, 'visit': 1, 'school': 1, 'hide': 1, 'note': 1, 'front': 1, 'five': 1, 'past': 1, 'enjoy': 1, 'drawingpaint': 1, 'learn': 1, 'new': 1, 'languag': 1, 'write': 1, 'poem': 1, 'victim': 1, 'blame': 1, 'want': 1, 'face': 1, 'stop': 1, 'late': 1, 'defend': 1, 'say': 1, 'fault': 1, 'help': 1, 'although': 1, 'seem': 1, 'extrem': 1, 'concern': 1, 'everyday': 1, 'healthi': 1, 'environ': 1, 'grow': 1, 'wish': 1, 'rescu': 1, 'clutch': 1, 'belliger': 1, 'control': 1, 'dysfunct': 1})\n",
      "--------------------------------------------------\n"
     ]
    }
   ],
   "source": [
    "def get_word_frequencies(text):\n",
    "    tokens = word_tokenize(text)\n",
    "    word_freq = Counter(tokens)\n",
    "    return word_freq\n",
    "\n",
    "for text in data['text'].head():\n",
    "    word_freq = get_word_frequencies(text)\n",
    "    print(f\"Text: {text}\")\n",
    "    print(\"Word Frequencies:\", word_freq)\n",
    "    print(\"-\" * 50)\n",
    "    "
   ]
  },
  {
   "cell_type": "code",
   "execution_count": 42,
   "id": "8827c725-6603-4c29-a4cc-ee503fd37247",
   "metadata": {},
   "outputs": [
    {
     "data": {
      "text/html": [
       "<div>\n",
       "<style scoped>\n",
       "    .dataframe tbody tr th:only-of-type {\n",
       "        vertical-align: middle;\n",
       "    }\n",
       "\n",
       "    .dataframe tbody tr th {\n",
       "        vertical-align: top;\n",
       "    }\n",
       "\n",
       "    .dataframe thead th {\n",
       "        text-align: right;\n",
       "    }\n",
       "</style>\n",
       "<table border=\"1\" class=\"dataframe\">\n",
       "  <thead>\n",
       "    <tr style=\"text-align: right;\">\n",
       "      <th></th>\n",
       "      <th>text</th>\n",
       "      <th>label</th>\n",
       "    </tr>\n",
       "  </thead>\n",
       "  <tbody>\n",
       "    <tr>\n",
       "      <th>0</th>\n",
       "      <td>dear american teen question dutch person heard guy get way easier thing learn age u sooooo thth grader like right guy learn math</td>\n",
       "      <td>0</td>\n",
       "    </tr>\n",
       "    <tr>\n",
       "      <th>1</th>\n",
       "      <td>noth look forward lifei dont mani reason keep go feel like noth keep go next day make want hang</td>\n",
       "      <td>1</td>\n",
       "    </tr>\n",
       "    <tr>\n",
       "      <th>2</th>\n",
       "      <td>music recommend im look expand playlist usual genr alt pop minnesota hip hop steampunk variou indi genr artist peopl like cavetown aliceband bug hunter penelop scott variou rhymesay will explor ne...</td>\n",
       "      <td>0</td>\n",
       "    </tr>\n",
       "    <tr>\n",
       "      <th>3</th>\n",
       "      <td>im done tri feel betterth reason im still aliv know mum devast ever kill ever pas im still state im go hesit end life shortli im almost take med go therapi noth seem help enough dont want around a...</td>\n",
       "      <td>1</td>\n",
       "    </tr>\n",
       "    <tr>\n",
       "      <th>4</th>\n",
       "      <td>worri year old girl subject domest physicalment housewithout go lot know girl know girl etc let give brief background known girl year live uk live differ countri kept touch electron mean first gir...</td>\n",
       "      <td>1</td>\n",
       "    </tr>\n",
       "    <tr>\n",
       "      <th>...</th>\n",
       "      <td>...</td>\n",
       "      <td>...</td>\n",
       "    </tr>\n",
       "    <tr>\n",
       "      <th>27972</th>\n",
       "      <td>post everyday peopl stop care religion matter privat thing allow share forc other also peopl treat difer religion belief pearson stop seek harm human care other religion</td>\n",
       "      <td>0</td>\n",
       "    </tr>\n",
       "    <tr>\n",
       "      <th>27973</th>\n",
       "      <td>okay definetli need hear guy opinion ive pretti much love one best friend im she f met lot summer pretti much alway ask want meet alway want never ask also slow respond messag she slow repli other...</td>\n",
       "      <td>0</td>\n",
       "    </tr>\n",
       "    <tr>\n",
       "      <th>27974</th>\n",
       "      <td>cant get dog think ill kill myselfth last thing im hold yup first two applic didnt work alreadi receiv mani one look sent third one differ place dont hope high</td>\n",
       "      <td>1</td>\n",
       "    </tr>\n",
       "    <tr>\n",
       "      <th>27975</th>\n",
       "      <td>what point princess bridei realli think like wesley said pb life pain ampxb life suck hurt live get better joy temporari think peopl happi success fulfil live that card wish dead everi day keep wi...</td>\n",
       "      <td>1</td>\n",
       "    </tr>\n",
       "    <tr>\n",
       "      <th>27976</th>\n",
       "      <td>got nude person might might know snapchat ok chick dont know ad snap sent someth open nude dont even know person thought might know school couldnt find yearbook im sure wrong person actual know cu...</td>\n",
       "      <td>0</td>\n",
       "    </tr>\n",
       "  </tbody>\n",
       "</table>\n",
       "<p>27972 rows × 2 columns</p>\n",
       "</div>"
      ],
      "text/plain": [
       "                                                                                                                                                                                                          text  \\\n",
       "0                                                                             dear american teen question dutch person heard guy get way easier thing learn age u sooooo thth grader like right guy learn math   \n",
       "1                                                                                                              noth look forward lifei dont mani reason keep go feel like noth keep go next day make want hang   \n",
       "2      music recommend im look expand playlist usual genr alt pop minnesota hip hop steampunk variou indi genr artist peopl like cavetown aliceband bug hunter penelop scott variou rhymesay will explor ne...   \n",
       "3      im done tri feel betterth reason im still aliv know mum devast ever kill ever pas im still state im go hesit end life shortli im almost take med go therapi noth seem help enough dont want around a...   \n",
       "4      worri year old girl subject domest physicalment housewithout go lot know girl know girl etc let give brief background known girl year live uk live differ countri kept touch electron mean first gir...   \n",
       "...                                                                                                                                                                                                        ...   \n",
       "27972                                post everyday peopl stop care religion matter privat thing allow share forc other also peopl treat difer religion belief pearson stop seek harm human care other religion   \n",
       "27973  okay definetli need hear guy opinion ive pretti much love one best friend im she f met lot summer pretti much alway ask want meet alway want never ask also slow respond messag she slow repli other...   \n",
       "27974                                          cant get dog think ill kill myselfth last thing im hold yup first two applic didnt work alreadi receiv mani one look sent third one differ place dont hope high   \n",
       "27975  what point princess bridei realli think like wesley said pb life pain ampxb life suck hurt live get better joy temporari think peopl happi success fulfil live that card wish dead everi day keep wi...   \n",
       "27976  got nude person might might know snapchat ok chick dont know ad snap sent someth open nude dont even know person thought might know school couldnt find yearbook im sure wrong person actual know cu...   \n",
       "\n",
       "       label  \n",
       "0          0  \n",
       "1          1  \n",
       "2          0  \n",
       "3          1  \n",
       "4          1  \n",
       "...      ...  \n",
       "27972      0  \n",
       "27973      0  \n",
       "27974      1  \n",
       "27975      1  \n",
       "27976      0  \n",
       "\n",
       "[27972 rows x 2 columns]"
      ]
     },
     "execution_count": 42,
     "metadata": {},
     "output_type": "execute_result"
    }
   ],
   "source": [
    "data"
   ]
  },
  {
   "cell_type": "markdown",
   "id": "5d145aa9-e960-478b-9536-89569b63b14e",
   "metadata": {},
   "source": [
    "Saving the data"
   ]
  },
  {
   "cell_type": "code",
   "execution_count": 43,
   "id": "15d56440-5827-480d-8f4f-7b60ac42b4ef",
   "metadata": {},
   "outputs": [],
   "source": [
    "data.to_csv('mental_health_After.csv', index=False)"
   ]
  },
  {
   "cell_type": "markdown",
   "id": "c2feca81",
   "metadata": {},
   "source": [
    "Modeling\n"
   ]
  },
  {
   "cell_type": "markdown",
   "id": "93e9a0e1",
   "metadata": {},
   "source": [
    "first of all I want to know the values of the labels (target) to see if the data is balanced or not"
   ]
  },
  {
   "cell_type": "code",
   "execution_count": 44,
   "id": "602cc1c9",
   "metadata": {},
   "outputs": [
    {
     "data": {
      "text/plain": [
       "label\n",
       "0    14134\n",
       "1    13838\n",
       "Name: count, dtype: int64"
      ]
     },
     "execution_count": 44,
     "metadata": {},
     "output_type": "execute_result"
    }
   ],
   "source": [
    "data.label.value_counts()"
   ]
  },
  {
   "cell_type": "code",
   "execution_count": 45,
   "id": "1e08ca59",
   "metadata": {},
   "outputs": [],
   "source": [
    "X = data['text']\n",
    "y = data['label']"
   ]
  },
  {
   "cell_type": "markdown",
   "id": "1e7f620a",
   "metadata": {},
   "source": [
    "Splitting the data into train and test with ratio 80:20"
   ]
  },
  {
   "cell_type": "code",
   "execution_count": 46,
   "id": "f0b0eb28",
   "metadata": {},
   "outputs": [],
   "source": [
    "X_train,X_test,y_train,y_test=train_test_split(X,y, test_size=0.2, stratify=y, random_state=42)"
   ]
  },
  {
   "cell_type": "markdown",
   "id": "ef785ed0",
   "metadata": {},
   "source": [
    "The next preprocessing ensures that all text samples are converted into uniform, numeric sequences suitable for input into a neural network."
   ]
  },
  {
   "cell_type": "code",
   "execution_count": 47,
   "id": "63a98cef",
   "metadata": {},
   "outputs": [],
   "source": [
    "from tensorflow.keras import layers\n",
    "from tensorflow.keras.layers import TextVectorization\n",
    "\n",
    "maxVocab=None\n",
    "text_lengths = [len(text.split()) for text in X_train]\n",
    "\n",
    "percentile_95 = np.percentile(text_lengths, 95)\n",
    "maxLength=int(percentile_95)\n",
    "\n",
    "# TextVectorization\n",
    "text_vectorizer = TextVectorization(\n",
    "    max_tokens=maxVocab,  \n",
    "    output_mode=\"int\",\n",
    "    output_sequence_length=maxLength\n",
    ")"
   ]
  },
  {
   "cell_type": "code",
   "execution_count": 48,
   "id": "342fac08",
   "metadata": {},
   "outputs": [],
   "source": [
    "# Adapt the text vectorizer\n",
    "text_vectorizer.adapt(X_train)"
   ]
  },
  {
   "cell_type": "code",
   "execution_count": 49,
   "id": "49d504c4",
   "metadata": {},
   "outputs": [],
   "source": [
    "words = text_vectorizer.get_vocabulary()\n",
    "maxVocabLength = len(words)"
   ]
  },
  {
   "cell_type": "code",
   "execution_count": 50,
   "id": "166723c3",
   "metadata": {},
   "outputs": [],
   "source": [
    "# Define the model\n",
    "inputs = layers.Input(shape=(1,), dtype=\"string\", name=\"text_input\")  \n",
    "x = text_vectorizer(inputs)  \n",
    "x = layers.Embedding(\n",
    "    input_dim=maxVocabLength,  # Embedding layer vocabulary size\n",
    "    output_dim=300,  # Embedding dimensions\n",
    "    input_length=maxLength,  # Sequence length\n",
    "    name=\"embedding_layer\"\n",
    ")(x)\n",
    "x = layers.LSTM(64, return_sequences=True)(x)  # First LSTM layer\n",
    "x = layers.LSTM(64)(x)  # Second LSTM layer\n",
    "x = layers.Dense(64, activation=\"relu\")(x)  # Dense layer\n",
    "outputs = layers.Dense(1, activation=\"sigmoid\")(x)  # Output layer\n",
    "\n",
    "model_1LSTM = tf.keras.Model(inputs, outputs, name=\"text_classification_model\")\n"
   ]
  },
  {
   "cell_type": "code",
   "execution_count": null,
   "id": "16d2798e",
   "metadata": {},
   "outputs": [
    {
     "name": "stdout",
     "output_type": "stream",
     "text": [
      "Epoch 1/5\n",
      "\u001b[1m700/700\u001b[0m \u001b[32m━━━━━━━━━━━━━━━━━━━━\u001b[0m\u001b[37m\u001b[0m \u001b[1m139s\u001b[0m 194ms/step - accuracy: 0.5664 - loss: 0.6612 - val_accuracy: 0.7905 - val_loss: 0.5142\n",
      "Epoch 2/5\n",
      "\u001b[1m700/700\u001b[0m \u001b[32m━━━━━━━━━━━━━━━━━━━━\u001b[0m\u001b[37m\u001b[0m \u001b[1m133s\u001b[0m 190ms/step - accuracy: 0.7523 - loss: 0.5384 - val_accuracy: 0.5240 - val_loss: 0.6917\n",
      "Epoch 3/5\n",
      "\u001b[1m700/700\u001b[0m \u001b[32m━━━━━━━━━━━━━━━━━━━━\u001b[0m\u001b[37m\u001b[0m \u001b[1m134s\u001b[0m 191ms/step - accuracy: 0.5719 - loss: 0.6504 - val_accuracy: 0.8701 - val_loss: 0.3417\n",
      "Epoch 4/5\n",
      "\u001b[1m700/700\u001b[0m \u001b[32m━━━━━━━━━━━━━━━━━━━━\u001b[0m\u001b[37m\u001b[0m \u001b[1m134s\u001b[0m 192ms/step - accuracy: 0.9068 - loss: 0.2550 - val_accuracy: 0.9147 - val_loss: 0.2190\n",
      "Epoch 5/5\n",
      "\u001b[1m700/700\u001b[0m \u001b[32m━━━━━━━━━━━━━━━━━━━━\u001b[0m\u001b[37m\u001b[0m \u001b[1m134s\u001b[0m 191ms/step - accuracy: 0.9586 - loss: 0.1239 - val_accuracy: 0.9113 - val_loss: 0.2227\n"
     ]
    }
   ],
   "source": [
    "# Compile the model\n",
    "model_1LSTM.compile(\n",
    "    loss=\"binary_crossentropy\",\n",
    "    optimizer=tf.keras.optimizers.Adam(),\n",
    "    metrics=[\"accuracy\"]\n",
    ")\n",
    "\n",
    "# Train the model\n",
    "history = model_1LSTM.fit(\n",
    "    X_train, y_train,  \n",
    "    validation_data=(X_test, y_test), \n",
    "    epochs=5  )"
   ]
  },
  {
   "cell_type": "markdown",
   "id": "045ce592",
   "metadata": {},
   "source": [
    "we get that the accuracy of our model is 95%"
   ]
  },
  {
   "cell_type": "code",
   "execution_count": 52,
   "id": "6515e15b",
   "metadata": {},
   "outputs": [
    {
     "name": "stdout",
     "output_type": "stream",
     "text": [
      "\u001b[1m175/175\u001b[0m \u001b[32m━━━━━━━━━━━━━━━━━━━━\u001b[0m\u001b[37m\u001b[0m \u001b[1m17s\u001b[0m 96ms/step\n"
     ]
    }
   ],
   "source": [
    "y_pred = model_1LSTM.predict(X_test)"
   ]
  },
  {
   "cell_type": "markdown",
   "id": "2deac21e",
   "metadata": {},
   "source": [
    "some metrics to evaluate our model (Confusion matrix and classification report)"
   ]
  },
  {
   "cell_type": "code",
   "execution_count": 54,
   "id": "1cd16a32",
   "metadata": {},
   "outputs": [
    {
     "data": {
      "text/plain": [
       "array([[2582,  245],\n",
       "       [ 251, 2517]], dtype=int64)"
      ]
     },
     "execution_count": 54,
     "metadata": {},
     "output_type": "execute_result"
    }
   ],
   "source": [
    "from sklearn.metrics import confusion_matrix, classification_report\n",
    "y_pred_binary = (y_pred > 0.5).astype(int).flatten()\n",
    "cm=confusion_matrix(y_test,y_pred_binary)\n",
    "cm"
   ]
  },
  {
   "cell_type": "code",
   "execution_count": 55,
   "id": "5b930edd",
   "metadata": {},
   "outputs": [
    {
     "data": {
      "image/png": "[encoded data removed]",
      "text/plain": [
       "<Figure size 800x600 with 2 Axes>"
      ]
     },
     "metadata": {},
     "output_type": "display_data"
    }
   ],
   "source": [
    "plt.figure(figsize=(8, 6))\n",
    "sns.heatmap(cm, annot=True, fmt='d', cmap='Blues', xticklabels=[\"0\", \"1\"], yticklabels=[\"0\", \"1\"])\n",
    "plt.xlabel('Predicted')\n",
    "plt.ylabel('Actual')\n",
    "plt.title('Confusion Matrix')\n",
    "plt.show()"
   ]
  },
  {
   "cell_type": "code",
   "execution_count": 56,
   "id": "f04e3bac",
   "metadata": {},
   "outputs": [
    {
     "name": "stdout",
     "output_type": "stream",
     "text": [
      "              precision    recall  f1-score   support\n",
      "\n",
      "           0       0.91      0.91      0.91      2827\n",
      "           1       0.91      0.91      0.91      2768\n",
      "\n",
      "    accuracy                           0.91      5595\n",
      "   macro avg       0.91      0.91      0.91      5595\n",
      "weighted avg       0.91      0.91      0.91      5595\n",
      "\n"
     ]
    }
   ],
   "source": [
    "print(classification_report(y_test,y_pred_binary))"
   ]
  },
  {
   "cell_type": "markdown",
   "id": "6e65d82a",
   "metadata": {},
   "source": [
    "Now I want to test our model"
   ]
  },
  {
   "cell_type": "code",
   "execution_count": 57,
   "id": "393b3916",
   "metadata": {},
   "outputs": [
    {
     "name": "stdout",
     "output_type": "stream",
     "text": [
      "Requirement already satisfied: colorama in c:\\users\\king\\anaconda-3\\lib\\site-packages (0.4.6)\n"
     ]
    }
   ],
   "source": [
    "! pip install colorama\n",
    "from colorama import Fore, Style\n",
    "def random_predictions(model_1LSTM,X_test,y_test,num_samples=5,class_names=None):\n",
    "    randomChoice=np.random.choice(np.arange(len(X_test)),size=num_samples, replace=False)\n",
    "    randomX = X_test.iloc[randomChoice].values\n",
    "    randomY=y_test.iloc[randomChoice].values\n",
    "    y_predRandom=model_1LSTM.predict(randomX)\n",
    "    y_predRandomRes = np.squeeze(np.round(y_predRandom).astype(int))\n",
    "    for i in range(num_samples):\n",
    "        text=randomX[i]\n",
    "        true=randomY[i]\n",
    "        predictedLabel=y_predRandomRes[i]\n",
    "        if class_names is not None:\n",
    "            true_label_name = class_names[true]\n",
    "            predicted_label_name = class_names[predictedLabel]\n",
    "        else:\n",
    "            true_label_name = true\n",
    "            predicted_label_name = predictedLabel\n",
    "        text_color = Fore.GREEN if true == predictedLabel else Fore.RED\n",
    "\n",
    "        print(f\"\\nSample {i + 1}:\")\n",
    "        print(f\"Text: {text}\")\n",
    "        print(text_color + f\"True: {true_label_name} \\n Predicted: {predicted_label_name}\" + Style.RESET_ALL)"
   ]
  },
  {
   "cell_type": "markdown",
   "id": "324559e0",
   "metadata": {},
   "source": [
    "Random sample is generated to test and see the output of our model compared to the actual one"
   ]
  },
  {
   "cell_type": "code",
   "execution_count": 58,
   "id": "604142a2",
   "metadata": {},
   "outputs": [
    {
     "name": "stdout",
     "output_type": "stream",
     "text": [
      "\u001b[1m1/1\u001b[0m \u001b[32m━━━━━━━━━━━━━━━━━━━━\u001b[0m\u001b[37m\u001b[0m \u001b[1m0s\u001b[0m 322ms/step\n",
      "\n",
      "Sample 1:\n",
      "Text: hold threadim stay home dad day medic pot grower night marri two kid wife work dispensari home kid oldest almost day consist wake hungri babi three year old wife get readi work wake non stop alarm bang around morn matter late im care grow everi morn take care babi morn im bitch either good enough job kidshous mayb gone late last night must cheatingthroughout day blow phone ask constantli ask cheat ive notic random peopl suspici drive slowli past hous clearli tri see never dishonest ever even receiv complement woman sinc weve togeth idk alway think im cheat get home get complaint made dinner someth might miss clean even kid wet home hour without chang im ignor phone till fall asleep lone grow room wallow pathet depress feel worthless dead insid ive lost peopl feel like ever love year im sure deserv much pain im sick path im go what make even harder know babi taken care well im gone cant dad im worthless cant anyth right destroy everyth touch everyon everyth love die goe away tri hard make friend anyon talk everi time someon around wife mean disappear like someth make angri know what wrong ive work hard make everyon around happi feel would rather gone dont know anymor think abl hang anymor one go know\n",
      "\u001b[32mTrue: Mental-health \n",
      " Predicted: Mental-health\u001b[0m\n",
      "\n",
      "Sample 2:\n",
      "Text: sick thisim sick fuck live like dad kill may worth anymor one feel empti life go nowher im tire\n",
      "\u001b[32mTrue: Mental-health \n",
      " Predicted: Mental-health\u001b[0m\n",
      "\n",
      "Sample 3:\n",
      "Text: imagin dick would total cring stupid horni peopl dick\n",
      "\u001b[32mTrue: Non-mental-health \n",
      " Predicted: Non-mental-health\u001b[0m\n",
      "\n",
      "Sample 4:\n",
      "Text: well document previou poster real star rockstar inx inde sequel rockstar supernova paul mirkovich rafael moreira jim mcgorman nate morton sasha krivtsov know awesom tight rockin hous band whose music savvi talent made show someth sad american idol clonebr br rememb string night music precis perfect ever ive seen suzi mcneil epic rendit queen bohemian rhapsodi ty taylor memor cover stone cant alway get jd fortun sing suspici mind common denomin awesom hous bandbr br good inx prime sadli shadow former selv though jd live perform somewhat breath new life music show hbbr br memo produc season three bless enough happen rockstar hous band get boy good lead singer go place\n",
      "\u001b[32mTrue: Non-mental-health \n",
      " Predicted: Non-mental-health\u001b[0m\n",
      "\n",
      "Sample 5:\n",
      "Text: typic happi hour cocktailal physician might see cours sever month treat differ thing wind perfect make amitriptylen cocktail youd think someon would pick rx combin even time someon risk\n",
      "\u001b[32mTrue: Mental-health \n",
      " Predicted: Mental-health\u001b[0m\n",
      "\n",
      "Sample 6:\n",
      "Text: wassup hope everyon nice day day go pretti smoothli finish essay last minut phew\n",
      "\u001b[32mTrue: Non-mental-health \n",
      " Predicted: Non-mental-health\u001b[0m\n",
      "\n",
      "Sample 7:\n",
      "Text: matter timealreadi see come hello birthday girl\n",
      "\u001b[31mTrue: Mental-health \n",
      " Predicted: Non-mental-health\u001b[0m\n",
      "\n",
      "Sample 8:\n",
      "Text: wife emot physic affair may never know tri rebuild keep screw upi much pain right spent much time er could check got dark place tonight want want alon scare shit\n",
      "\u001b[32mTrue: Mental-health \n",
      " Predicted: Mental-health\u001b[0m\n",
      "\n",
      "Sample 9:\n",
      "Text: plea let leavepleas plea plea plea plea plea plea plea plea plea plea plea plea plea plea plea plea plea plea plea plea quit ive lost alreadysometh someon plea kill\n",
      "\u001b[32mTrue: Mental-health \n",
      " Predicted: Mental-health\u001b[0m\n",
      "\n",
      "Sample 10:\n",
      "Text: tangi would good name orang cat cat cant eat orang make sen\n",
      "\u001b[32mTrue: Non-mental-health \n",
      " Predicted: Non-mental-health\u001b[0m\n",
      "\n",
      "Sample 11:\n",
      "Text: kid thought pogger racist day kid school claim pogger racial slur slang slave like kid went told friend parent etc someon actual say face pogger racist term know got start say one day\n",
      "\u001b[32mTrue: Non-mental-health \n",
      " Predicted: Non-mental-health\u001b[0m\n",
      "\n",
      "Sample 12:\n",
      "Text: mani u read book seen play movi version came terribl disappoint well mayb would one movi saw play someon never opportun see stage extrem entertain movi charact funni music great stori interest made feel genuin empathi charact flaw jonathan silverman good comed time line especi hilari im go give spoiler nice done funni movi show inner work middl class famili wwii never saw play enjoy neil simon movi held back coupl neg review seen brighton beach memoir great movi guarante money back though\n",
      "\u001b[32mTrue: Non-mental-health \n",
      " Predicted: Non-mental-health\u001b[0m\n",
      "\n",
      "Sample 13:\n",
      "Text: lump one testicl couldnt care enough go get check outiv year occasion hurt pretti bad yet couldnt care le idea could dont want know inca someth treat caught time realli want somehow testicular cancer take hope\n",
      "\u001b[32mTrue: Mental-health \n",
      " Predicted: Mental-health\u001b[0m\n",
      "\n",
      "Sample 14:\n",
      "Text: sometim one thing enough live die fori honestli feel like peopl never kill x your look excus live realli want die dismiss rhetor peopl one thing resolveddidnt happenwa attain would abl live peopl one person one hope would abl die like mani peopl im endur pure famili destroy sustain theyr excus sole reason case everyon sometim one thing enough thought\n",
      "\u001b[32mTrue: Mental-health \n",
      " Predicted: Mental-health\u001b[0m\n",
      "\n",
      "Sample 15:\n",
      "Text: wrote redflag note part demand post set delay send go end guess that healthi part im sorri bit novel see much reason selfedit stagei want say im sorri famili didnt caus deserv didnt deserv deserv child sibl wouldnt hurt break heart forc feel unnatur unearn guilt child sibl absolut best diseas beyond power suppos im also sorri current friend might hurt know isnt fault either light life marvel everi one wish much happi love success suppos im also sorri former friend reject plain term assum either nurs unspoken grievanc simpli lost interest novelti wore virtu multipli know ive resent resent begin realiz mostli aros fail understand need much oblig give part aros failur understand part still want spit poison feel wrong ill show proper motiv redflag never particularli likeabl girl think clearli never particularli good hide ugli irrit featur grace im sorri wasnt either u want that thing alway realli want like peopl effort put fail often cours cant tri likeabl tri interest clever gener sinc seem like thing might attract peopl guess couldnt get hang lack core capac basic human mani share defici perhap even everybodi like would still feel way whatev hurt goe deeper bandag woven share lager laughter mend tri fight loneli kind snake oil remedi dont know find miser failur thing desir even need certainli well im sure understand im sorri tran commun know clich tranni cant hack kill old stori told poorli one strove tell realm mani other suppos overestim im sorri make u look bad wont first time ive sorri ambassador u hard sometim seem get easier littl brief illus success popular distract never last soon everi time im back first real emot memori back high school lie bed stare wall fantas thing never find solac plan end know there realli nowher run diseas insid constitut rotten core realiz hasnt gotten better keep go round around find back stale hell grit teeth attempt bare mani time chang upon chang road le tire march edit explicit descript method line subreddit rule im sorri wont pas cheekbon gene next gener like alway joke would im sorri wont well whatev plan werent idl daydream might nurs realiti mere yetunr heart wish could see im sorri anyth wish said didnt opportun slip away kind reason thought keep run back road past time curl hole chest imagin sweet oblivion hope think think back rare moment happi lie back stephen van long ago watch street light pas like aurora overhead perfect sunday sam cabin giggl wrestl stick bottl water saturday even music festiv attempt clumsili appli makeup rhea messi poorlylit sedan moment apart whisper kevin ask could fuck come think one memori involv drug far bing rome brother basement eat quesadilla mom made bowl two strike row annabel birthday parti night comic failur everyon el get readi leav philosophi mind class occasion felt like neil ryan bounc idea becam polish argument though guess sometim realli three u better yet ever luck make happi think that realli gave life whatev small worth least littl consol among peopl annoy made angri even put worst moment least time paid enorm debt aw littl joy mayb version etern recurr favour nietzch relat charact cloud atla true find place like chanc time read bodi float distanc entri point fraser river may unrecover honestli give fuck instinct give friend first pick cloth basic worldli posse right probabl workabl option donat organ need mayb youll find someth mine garag sale valu villag somewher like plea dont blame plea dont blame everyon constitut surviv world didnt come argu case want say goodby love wish could stay im sorri say cant\n",
      "\u001b[32mTrue: Mental-health \n",
      " Predicted: Mental-health\u001b[0m\n",
      "\n",
      "Sample 16:\n",
      "Text: flirt concept suicid life even experienc brief bout suicid ideat manifest respons someth someon brashli reactionari radic honest believ would scare actual follow act mean end brief stint silli sound help lot saw real real person like full name redact hobbi talent upcom trip calendar oblig actual excel show make futur peopl activ life hate actual alright person minut thereoh talent hobbi amp support circl peopl valu much etc sure thing absolut taken grant cours mandatori prerequisit order futur worth live see natur end alway stuff happen life happen blah blah blah still though suppos use phrase sinc regard thought topic suicid mere someth tri understand could simpl fact actual suicid person thu exist mental block sort prevent mind fulli go grasp concept satisfactionnow fast forward late must cross line sort somewher somehow know come across subject suicid context amp anyon fear uneas surfac within least initi emot come though respons lack afraid act suicideit also even innoc introspect ponder husband commit decad ago instead experi anticipatori excit similar feel get underwat know abl come air soon yet frenzi eager relief guess even cost yank steer wheel find vein pump lethal amount opioid intern monologu basic goe someth like final stop last loud end sharp edg exist ceas experi epitom true nothing word paradis go\n",
      "\u001b[32mTrue: Mental-health \n",
      " Predicted: Mental-health\u001b[0m\n",
      "\n",
      "Sample 17:\n",
      "Text: ventexplan guessso may first last post im sure say guess get right point im think down three bottl antidepress mickey rye tonight intent obviou ive come realis useless cant anyth talent cant even get collag fuck sake im fuck lazi ive disappoint everyon one mani time im damn lost life cours im afraid kill im sure el father hate mother abandon dont friend guess want make sort note make sure peopl know sorri know fault im sorri wast year everyon life couldnt make proud hell know im go scare anyway go work\n",
      "\u001b[32mTrue: Mental-health \n",
      " Predicted: Mental-health\u001b[0m\n",
      "\n",
      "Sample 18:\n",
      "Text: rememb right put phone away told crush hate sometim time felt perfect could wrong told say anyth hurt actual mean ampxb time p n c cuz idk theyll respond im gon na look rn cuz like da morn\n",
      "\u001b[32mTrue: Non-mental-health \n",
      " Predicted: Non-mental-health\u001b[0m\n",
      "\n",
      "Sample 19:\n",
      "Text: friend amp familyi often read think redflag thought seem cross mind hard time fantas ea pain bit therefor read lot commit redflag articl topic forum stori method get help etc bug mind liter everyth ever written redflag mention friend famili mostli either context ask help think would feel kill well first guiltrip somebodi live other kindof fuck redflag importantli main question suicid person friend famili fuck kid imagin case person let say termin ill gener would okay life love one someth control concern said person happen case obvious somebodi desper enough consid take life probabl friend fuck famili would say loneli possibl main reason redflag begin mean surround love peopl would even wan na die annoy whole imagin friend famili would feel seem like hypocrit statement come someon know anyth ever deal suicid thought feel condescend patron ignor assum someon who take life luxuri love\n",
      "\u001b[32mTrue: Mental-health \n",
      " Predicted: Mental-health\u001b[0m\n",
      "\n",
      "Sample 20:\n",
      "Text: emot person feel may need talk mredflag answer someth remind problem someth remind post got great advic feel mayb address correct issu aliv seem entic like work school never like school know noth anyth usless materi like video game magic gather know ky famili love religion realli esqu think know love someth must grant everyon let religion control without know tri discov avail rant need help\n",
      "\u001b[31mTrue: Mental-health \n",
      " Predicted: Non-mental-health\u001b[0m\n"
     ]
    }
   ],
   "source": [
    "data = {\n",
    "    'Label': [\"Non-mental-health\", \"Mental-health\"],\n",
    "    'Label Encoded': [0,1]\n",
    "}\n",
    "data=pd.DataFrame(data)\n",
    "class_names=data.Label.to_list()\n",
    "random_predictions(model_1LSTM,\n",
    "                   X_test,\n",
    "                   y_test,\n",
    "                   num_samples=20,\n",
    "                   class_names=class_names)"
   ]
  },
  {
   "cell_type": "markdown",
   "id": "510c0ef9",
   "metadata": {},
   "source": [
    "we conclude that out of 20 sample 2 is wrong and this is good to prevent overfitting "
   ]
  },
  {
   "cell_type": "markdown",
   "id": "81a5df27",
   "metadata": {},
   "source": []
  }
 ],
 "metadata": {
  "kernelspec": {
   "display_name": "base",
   "language": "python",
   "name": "python3"
  },
  "language_info": {
   "codemirror_mode": {
    "name": "ipython",
    "version": 3
   },
   "file_extension": ".py",
   "mimetype": "text/x-python",
   "name": "python",
   "nbconvert_exporter": "python",
   "pygments_lexer": "ipython3",
   "version": "3.11.7"
  }
 },
 "nbformat": 4,
 "nbformat_minor": 5
}
