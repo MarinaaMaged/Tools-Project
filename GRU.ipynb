{
 "cells": [
  {
   "cell_type": "code",
   "execution_count": 2,
   "id": "cbb0948e-fe35-4945-965d-b63d09f76ffd",
   "metadata": {},
   "outputs": [],
   "source": [
    "import warnings\n",
    "warnings.filterwarnings('ignore')"
   ]
  },
  {
   "cell_type": "markdown",
   "id": "57facc8e-5bac-4290-a49b-acd91d469642",
   "metadata": {},
   "source": [
    "Importing libraires"
   ]
  },
  {
   "cell_type": "code",
   "execution_count": 3,
   "id": "9eb26a75-9d46-4065-99d5-3cbcae63ef3c",
   "metadata": {},
   "outputs": [],
   "source": [
    "import pandas as pd\n",
    "import re\n",
    "import nltk\n",
    "from nltk.tokenize import word_tokenize\n",
    "from nltk.corpus import stopwords\n",
    "from nltk.stem.porter import PorterStemmer\n",
    "from nltk.stem import WordNetLemmatizer\n",
    "from collections import Counter\n",
    "from nltk.util import ngrams"
   ]
  },
  {
   "cell_type": "markdown",
   "id": "86fce1d9-df5c-485a-9d9e-f922c48ac141",
   "metadata": {},
   "source": [
    "Download packages"
   ]
  },
  {
   "cell_type": "code",
   "execution_count": 4,
   "id": "eecc8d1e-a4ff-4b88-9b73-1819930f801b",
   "metadata": {},
   "outputs": [
    {
     "name": "stderr",
     "output_type": "stream",
     "text": [
      "[nltk_data] Downloading package punkt to\n",
      "[nltk_data]     C:\\Users\\Rawan\\AppData\\Roaming\\nltk_data...\n",
      "[nltk_data]   Package punkt is already up-to-date!\n"
     ]
    },
    {
     "data": {
      "text/plain": [
       "True"
      ]
     },
     "execution_count": 4,
     "metadata": {},
     "output_type": "execute_result"
    }
   ],
   "source": [
    "nltk.download('punkt')"
   ]
  },
  {
   "cell_type": "code",
   "execution_count": 5,
   "id": "4c6c5740-cbae-414b-893a-a27bf7b77d24",
   "metadata": {},
   "outputs": [
    {
     "name": "stderr",
     "output_type": "stream",
     "text": [
      "[nltk_data] Downloading package stopwords to\n",
      "[nltk_data]     C:\\Users\\Rawan\\AppData\\Roaming\\nltk_data...\n",
      "[nltk_data]   Package stopwords is already up-to-date!\n"
     ]
    },
    {
     "data": {
      "text/plain": [
       "True"
      ]
     },
     "execution_count": 5,
     "metadata": {},
     "output_type": "execute_result"
    }
   ],
   "source": [
    "nltk.download('stopwords')"
   ]
  },
  {
   "cell_type": "code",
   "execution_count": 6,
   "id": "8ea57333-1226-41fc-93a9-6b7c090ff679",
   "metadata": {},
   "outputs": [
    {
     "name": "stderr",
     "output_type": "stream",
     "text": [
      "[nltk_data] Downloading package wordnet to\n",
      "[nltk_data]     C:\\Users\\Rawan\\AppData\\Roaming\\nltk_data...\n",
      "[nltk_data]   Package wordnet is already up-to-date!\n"
     ]
    },
    {
     "data": {
      "text/plain": [
       "True"
      ]
     },
     "execution_count": 6,
     "metadata": {},
     "output_type": "execute_result"
    }
   ],
   "source": [
    "nltk.download('wordnet')"
   ]
  },
  {
   "cell_type": "markdown",
   "id": "69b4faa7-8957-40dd-9129-3870c4a31e59",
   "metadata": {},
   "source": [
    "Import data"
   ]
  },
  {
   "cell_type": "code",
   "execution_count": 7,
   "id": "2117d276-c0d3-4871-95c0-dac45842e4c5",
   "metadata": {},
   "outputs": [
    {
     "data": {
      "text/html": [
       "<div>\n",
       "<style scoped>\n",
       "    .dataframe tbody tr th:only-of-type {\n",
       "        vertical-align: middle;\n",
       "    }\n",
       "\n",
       "    .dataframe tbody tr th {\n",
       "        vertical-align: top;\n",
       "    }\n",
       "\n",
       "    .dataframe thead th {\n",
       "        text-align: right;\n",
       "    }\n",
       "</style>\n",
       "<table border=\"1\" class=\"dataframe\">\n",
       "  <thead>\n",
       "    <tr style=\"text-align: right;\">\n",
       "      <th></th>\n",
       "      <th>text</th>\n",
       "      <th>label</th>\n",
       "    </tr>\n",
       "  </thead>\n",
       "  <tbody>\n",
       "    <tr>\n",
       "      <th>0</th>\n",
       "      <td>dear american teens question dutch person hear...</td>\n",
       "      <td>0</td>\n",
       "    </tr>\n",
       "    <tr>\n",
       "      <th>1</th>\n",
       "      <td>nothing look forward lifei dont many reasons k...</td>\n",
       "      <td>1</td>\n",
       "    </tr>\n",
       "    <tr>\n",
       "      <th>2</th>\n",
       "      <td>music recommendations im looking expand playli...</td>\n",
       "      <td>0</td>\n",
       "    </tr>\n",
       "    <tr>\n",
       "      <th>3</th>\n",
       "      <td>im done trying feel betterthe reason im still ...</td>\n",
       "      <td>1</td>\n",
       "    </tr>\n",
       "    <tr>\n",
       "      <th>4</th>\n",
       "      <td>worried  year old girl subject domestic physic...</td>\n",
       "      <td>1</td>\n",
       "    </tr>\n",
       "    <tr>\n",
       "      <th>...</th>\n",
       "      <td>...</td>\n",
       "      <td>...</td>\n",
       "    </tr>\n",
       "    <tr>\n",
       "      <th>27972</th>\n",
       "      <td>posting everyday people stop caring  religion ...</td>\n",
       "      <td>0</td>\n",
       "    </tr>\n",
       "    <tr>\n",
       "      <th>27973</th>\n",
       "      <td>okay definetly need hear guys opinion ive pret...</td>\n",
       "      <td>0</td>\n",
       "    </tr>\n",
       "    <tr>\n",
       "      <th>27974</th>\n",
       "      <td>cant get dog think ill kill myselfthe last thi...</td>\n",
       "      <td>1</td>\n",
       "    </tr>\n",
       "    <tr>\n",
       "      <th>27975</th>\n",
       "      <td>whats point princess bridei really think like ...</td>\n",
       "      <td>1</td>\n",
       "    </tr>\n",
       "    <tr>\n",
       "      <th>27976</th>\n",
       "      <td>got nudes person might might know snapchat do ...</td>\n",
       "      <td>0</td>\n",
       "    </tr>\n",
       "  </tbody>\n",
       "</table>\n",
       "<p>27977 rows × 2 columns</p>\n",
       "</div>"
      ],
      "text/plain": [
       "                                                    text  label\n",
       "0      dear american teens question dutch person hear...      0\n",
       "1      nothing look forward lifei dont many reasons k...      1\n",
       "2      music recommendations im looking expand playli...      0\n",
       "3      im done trying feel betterthe reason im still ...      1\n",
       "4      worried  year old girl subject domestic physic...      1\n",
       "...                                                  ...    ...\n",
       "27972  posting everyday people stop caring  religion ...      0\n",
       "27973  okay definetly need hear guys opinion ive pret...      0\n",
       "27974  cant get dog think ill kill myselfthe last thi...      1\n",
       "27975  whats point princess bridei really think like ...      1\n",
       "27976  got nudes person might might know snapchat do ...      0\n",
       "\n",
       "[27977 rows x 2 columns]"
      ]
     },
     "execution_count": 7,
     "metadata": {},
     "output_type": "execute_result"
    }
   ],
   "source": [
    "data = pd.read_csv(\"C:\\\\B-Machine Learning\\\\DST_Final\\\\mental_health.csv\")\n",
    "data"
   ]
  },
  {
   "cell_type": "markdown",
   "id": "4482b473-c0ff-40c5-b786-520b30a1ddf2",
   "metadata": {},
   "source": [
    "Get informations about the data"
   ]
  },
  {
   "cell_type": "code",
   "execution_count": 8,
   "id": "00c4f507-b232-445a-9fa2-954b80990416",
   "metadata": {},
   "outputs": [
    {
     "name": "stdout",
     "output_type": "stream",
     "text": [
      "<class 'pandas.core.frame.DataFrame'>\n",
      "RangeIndex: 27977 entries, 0 to 27976\n",
      "Data columns (total 2 columns):\n",
      " #   Column  Non-Null Count  Dtype \n",
      "---  ------  --------------  ----- \n",
      " 0   text    27977 non-null  object\n",
      " 1   label   27977 non-null  int64 \n",
      "dtypes: int64(1), object(1)\n",
      "memory usage: 437.3+ KB\n"
     ]
    }
   ],
   "source": [
    "data.info()"
   ]
  },
  {
   "cell_type": "markdown",
   "id": "ceb55fb2-41b3-4364-b320-31fa7ca757ff",
   "metadata": {},
   "source": [
    "Display firat 5 rows"
   ]
  },
  {
   "cell_type": "code",
   "execution_count": 9,
   "id": "4b8603b6-4186-48e0-b28d-38bb6f0f445b",
   "metadata": {},
   "outputs": [
    {
     "data": {
      "text/html": [
       "<div>\n",
       "<style scoped>\n",
       "    .dataframe tbody tr th:only-of-type {\n",
       "        vertical-align: middle;\n",
       "    }\n",
       "\n",
       "    .dataframe tbody tr th {\n",
       "        vertical-align: top;\n",
       "    }\n",
       "\n",
       "    .dataframe thead th {\n",
       "        text-align: right;\n",
       "    }\n",
       "</style>\n",
       "<table border=\"1\" class=\"dataframe\">\n",
       "  <thead>\n",
       "    <tr style=\"text-align: right;\">\n",
       "      <th></th>\n",
       "      <th>text</th>\n",
       "      <th>label</th>\n",
       "    </tr>\n",
       "  </thead>\n",
       "  <tbody>\n",
       "    <tr>\n",
       "      <th>0</th>\n",
       "      <td>dear american teens question dutch person hear...</td>\n",
       "      <td>0</td>\n",
       "    </tr>\n",
       "    <tr>\n",
       "      <th>1</th>\n",
       "      <td>nothing look forward lifei dont many reasons k...</td>\n",
       "      <td>1</td>\n",
       "    </tr>\n",
       "    <tr>\n",
       "      <th>2</th>\n",
       "      <td>music recommendations im looking expand playli...</td>\n",
       "      <td>0</td>\n",
       "    </tr>\n",
       "    <tr>\n",
       "      <th>3</th>\n",
       "      <td>im done trying feel betterthe reason im still ...</td>\n",
       "      <td>1</td>\n",
       "    </tr>\n",
       "    <tr>\n",
       "      <th>4</th>\n",
       "      <td>worried  year old girl subject domestic physic...</td>\n",
       "      <td>1</td>\n",
       "    </tr>\n",
       "  </tbody>\n",
       "</table>\n",
       "</div>"
      ],
      "text/plain": [
       "                                                text  label\n",
       "0  dear american teens question dutch person hear...      0\n",
       "1  nothing look forward lifei dont many reasons k...      1\n",
       "2  music recommendations im looking expand playli...      0\n",
       "3  im done trying feel betterthe reason im still ...      1\n",
       "4  worried  year old girl subject domestic physic...      1"
      ]
     },
     "execution_count": 9,
     "metadata": {},
     "output_type": "execute_result"
    }
   ],
   "source": [
    "data.head()"
   ]
  },
  {
   "cell_type": "markdown",
   "id": "8a7ff760-dbc9-4bbf-a7e8-2e27cc94471b",
   "metadata": {},
   "source": [
    "Display last 5 rows"
   ]
  },
  {
   "cell_type": "code",
   "execution_count": 10,
   "id": "223f533a-83b8-49fd-99af-5d65dd42a352",
   "metadata": {},
   "outputs": [
    {
     "data": {
      "text/html": [
       "<div>\n",
       "<style scoped>\n",
       "    .dataframe tbody tr th:only-of-type {\n",
       "        vertical-align: middle;\n",
       "    }\n",
       "\n",
       "    .dataframe tbody tr th {\n",
       "        vertical-align: top;\n",
       "    }\n",
       "\n",
       "    .dataframe thead th {\n",
       "        text-align: right;\n",
       "    }\n",
       "</style>\n",
       "<table border=\"1\" class=\"dataframe\">\n",
       "  <thead>\n",
       "    <tr style=\"text-align: right;\">\n",
       "      <th></th>\n",
       "      <th>text</th>\n",
       "      <th>label</th>\n",
       "    </tr>\n",
       "  </thead>\n",
       "  <tbody>\n",
       "    <tr>\n",
       "      <th>27972</th>\n",
       "      <td>posting everyday people stop caring  religion ...</td>\n",
       "      <td>0</td>\n",
       "    </tr>\n",
       "    <tr>\n",
       "      <th>27973</th>\n",
       "      <td>okay definetly need hear guys opinion ive pret...</td>\n",
       "      <td>0</td>\n",
       "    </tr>\n",
       "    <tr>\n",
       "      <th>27974</th>\n",
       "      <td>cant get dog think ill kill myselfthe last thi...</td>\n",
       "      <td>1</td>\n",
       "    </tr>\n",
       "    <tr>\n",
       "      <th>27975</th>\n",
       "      <td>whats point princess bridei really think like ...</td>\n",
       "      <td>1</td>\n",
       "    </tr>\n",
       "    <tr>\n",
       "      <th>27976</th>\n",
       "      <td>got nudes person might might know snapchat do ...</td>\n",
       "      <td>0</td>\n",
       "    </tr>\n",
       "  </tbody>\n",
       "</table>\n",
       "</div>"
      ],
      "text/plain": [
       "                                                    text  label\n",
       "27972  posting everyday people stop caring  religion ...      0\n",
       "27973  okay definetly need hear guys opinion ive pret...      0\n",
       "27974  cant get dog think ill kill myselfthe last thi...      1\n",
       "27975  whats point princess bridei really think like ...      1\n",
       "27976  got nudes person might might know snapchat do ...      0"
      ]
     },
     "execution_count": 10,
     "metadata": {},
     "output_type": "execute_result"
    }
   ],
   "source": [
    "data.tail()"
   ]
  },
  {
   "cell_type": "markdown",
   "id": "b42b7e89-a1fa-4fc3-83a4-07e8565a05ba",
   "metadata": {},
   "source": [
    "Check null values"
   ]
  },
  {
   "cell_type": "code",
   "execution_count": 11,
   "id": "ac9aae4b-6c05-4cd7-b98d-03b43672f305",
   "metadata": {},
   "outputs": [
    {
     "data": {
      "text/html": [
       "<div>\n",
       "<style scoped>\n",
       "    .dataframe tbody tr th:only-of-type {\n",
       "        vertical-align: middle;\n",
       "    }\n",
       "\n",
       "    .dataframe tbody tr th {\n",
       "        vertical-align: top;\n",
       "    }\n",
       "\n",
       "    .dataframe thead th {\n",
       "        text-align: right;\n",
       "    }\n",
       "</style>\n",
       "<table border=\"1\" class=\"dataframe\">\n",
       "  <thead>\n",
       "    <tr style=\"text-align: right;\">\n",
       "      <th></th>\n",
       "      <th>text</th>\n",
       "      <th>label</th>\n",
       "    </tr>\n",
       "  </thead>\n",
       "  <tbody>\n",
       "    <tr>\n",
       "      <th>0</th>\n",
       "      <td>False</td>\n",
       "      <td>False</td>\n",
       "    </tr>\n",
       "    <tr>\n",
       "      <th>1</th>\n",
       "      <td>False</td>\n",
       "      <td>False</td>\n",
       "    </tr>\n",
       "    <tr>\n",
       "      <th>2</th>\n",
       "      <td>False</td>\n",
       "      <td>False</td>\n",
       "    </tr>\n",
       "    <tr>\n",
       "      <th>3</th>\n",
       "      <td>False</td>\n",
       "      <td>False</td>\n",
       "    </tr>\n",
       "    <tr>\n",
       "      <th>4</th>\n",
       "      <td>False</td>\n",
       "      <td>False</td>\n",
       "    </tr>\n",
       "    <tr>\n",
       "      <th>...</th>\n",
       "      <td>...</td>\n",
       "      <td>...</td>\n",
       "    </tr>\n",
       "    <tr>\n",
       "      <th>27972</th>\n",
       "      <td>False</td>\n",
       "      <td>False</td>\n",
       "    </tr>\n",
       "    <tr>\n",
       "      <th>27973</th>\n",
       "      <td>False</td>\n",
       "      <td>False</td>\n",
       "    </tr>\n",
       "    <tr>\n",
       "      <th>27974</th>\n",
       "      <td>False</td>\n",
       "      <td>False</td>\n",
       "    </tr>\n",
       "    <tr>\n",
       "      <th>27975</th>\n",
       "      <td>False</td>\n",
       "      <td>False</td>\n",
       "    </tr>\n",
       "    <tr>\n",
       "      <th>27976</th>\n",
       "      <td>False</td>\n",
       "      <td>False</td>\n",
       "    </tr>\n",
       "  </tbody>\n",
       "</table>\n",
       "<p>27977 rows × 2 columns</p>\n",
       "</div>"
      ],
      "text/plain": [
       "        text  label\n",
       "0      False  False\n",
       "1      False  False\n",
       "2      False  False\n",
       "3      False  False\n",
       "4      False  False\n",
       "...      ...    ...\n",
       "27972  False  False\n",
       "27973  False  False\n",
       "27974  False  False\n",
       "27975  False  False\n",
       "27976  False  False\n",
       "\n",
       "[27977 rows x 2 columns]"
      ]
     },
     "execution_count": 11,
     "metadata": {},
     "output_type": "execute_result"
    }
   ],
   "source": [
    "data.isnull()"
   ]
  },
  {
   "cell_type": "code",
   "execution_count": 12,
   "id": "9ef62ed9-194c-4243-ac31-cee485b3379e",
   "metadata": {},
   "outputs": [
    {
     "data": {
      "text/plain": [
       "text     0\n",
       "label    0\n",
       "dtype: int64"
      ]
     },
     "execution_count": 12,
     "metadata": {},
     "output_type": "execute_result"
    }
   ],
   "source": [
    "data.isnull().sum()"
   ]
  },
  {
   "cell_type": "markdown",
   "id": "6b31c749-50f5-4503-956a-48286858b34c",
   "metadata": {},
   "source": [
    "Check duplicates"
   ]
  },
  {
   "cell_type": "code",
   "execution_count": 13,
   "id": "9d2428df-8ad4-40ab-a0c1-81335b3e8f14",
   "metadata": {},
   "outputs": [
    {
     "data": {
      "text/plain": [
       "0        False\n",
       "1        False\n",
       "2        False\n",
       "3        False\n",
       "4        False\n",
       "         ...  \n",
       "27972    False\n",
       "27973    False\n",
       "27974    False\n",
       "27975    False\n",
       "27976    False\n",
       "Length: 27977, dtype: bool"
      ]
     },
     "execution_count": 13,
     "metadata": {},
     "output_type": "execute_result"
    }
   ],
   "source": [
    "data.duplicated()"
   ]
  },
  {
   "cell_type": "code",
   "execution_count": 14,
   "id": "61a85081-46bf-410d-91ee-2707e3482f94",
   "metadata": {},
   "outputs": [
    {
     "data": {
      "text/plain": [
       "5"
      ]
     },
     "execution_count": 14,
     "metadata": {},
     "output_type": "execute_result"
    }
   ],
   "source": [
    "data.duplicated().sum()"
   ]
  },
  {
   "cell_type": "markdown",
   "id": "989a6073-9058-47f0-aaec-379a25518575",
   "metadata": {},
   "source": [
    "Drop duplicates"
   ]
  },
  {
   "cell_type": "code",
   "execution_count": 15,
   "id": "3922f79b-7f43-4568-8625-c144ddd145fc",
   "metadata": {},
   "outputs": [],
   "source": [
    "data = data.drop_duplicates()"
   ]
  },
  {
   "cell_type": "code",
   "execution_count": 16,
   "id": "f85e6359-1e5f-4266-85c8-c2cf2fa2df3f",
   "metadata": {},
   "outputs": [
    {
     "data": {
      "text/html": [
       "<div>\n",
       "<style scoped>\n",
       "    .dataframe tbody tr th:only-of-type {\n",
       "        vertical-align: middle;\n",
       "    }\n",
       "\n",
       "    .dataframe tbody tr th {\n",
       "        vertical-align: top;\n",
       "    }\n",
       "\n",
       "    .dataframe thead th {\n",
       "        text-align: right;\n",
       "    }\n",
       "</style>\n",
       "<table border=\"1\" class=\"dataframe\">\n",
       "  <thead>\n",
       "    <tr style=\"text-align: right;\">\n",
       "      <th></th>\n",
       "      <th>text</th>\n",
       "      <th>label</th>\n",
       "    </tr>\n",
       "  </thead>\n",
       "  <tbody>\n",
       "    <tr>\n",
       "      <th>0</th>\n",
       "      <td>dear american teens question dutch person hear...</td>\n",
       "      <td>0</td>\n",
       "    </tr>\n",
       "    <tr>\n",
       "      <th>1</th>\n",
       "      <td>nothing look forward lifei dont many reasons k...</td>\n",
       "      <td>1</td>\n",
       "    </tr>\n",
       "    <tr>\n",
       "      <th>2</th>\n",
       "      <td>music recommendations im looking expand playli...</td>\n",
       "      <td>0</td>\n",
       "    </tr>\n",
       "    <tr>\n",
       "      <th>3</th>\n",
       "      <td>im done trying feel betterthe reason im still ...</td>\n",
       "      <td>1</td>\n",
       "    </tr>\n",
       "    <tr>\n",
       "      <th>4</th>\n",
       "      <td>worried  year old girl subject domestic physic...</td>\n",
       "      <td>1</td>\n",
       "    </tr>\n",
       "    <tr>\n",
       "      <th>...</th>\n",
       "      <td>...</td>\n",
       "      <td>...</td>\n",
       "    </tr>\n",
       "    <tr>\n",
       "      <th>27972</th>\n",
       "      <td>posting everyday people stop caring  religion ...</td>\n",
       "      <td>0</td>\n",
       "    </tr>\n",
       "    <tr>\n",
       "      <th>27973</th>\n",
       "      <td>okay definetly need hear guys opinion ive pret...</td>\n",
       "      <td>0</td>\n",
       "    </tr>\n",
       "    <tr>\n",
       "      <th>27974</th>\n",
       "      <td>cant get dog think ill kill myselfthe last thi...</td>\n",
       "      <td>1</td>\n",
       "    </tr>\n",
       "    <tr>\n",
       "      <th>27975</th>\n",
       "      <td>whats point princess bridei really think like ...</td>\n",
       "      <td>1</td>\n",
       "    </tr>\n",
       "    <tr>\n",
       "      <th>27976</th>\n",
       "      <td>got nudes person might might know snapchat do ...</td>\n",
       "      <td>0</td>\n",
       "    </tr>\n",
       "  </tbody>\n",
       "</table>\n",
       "<p>27972 rows × 2 columns</p>\n",
       "</div>"
      ],
      "text/plain": [
       "                                                    text  label\n",
       "0      dear american teens question dutch person hear...      0\n",
       "1      nothing look forward lifei dont many reasons k...      1\n",
       "2      music recommendations im looking expand playli...      0\n",
       "3      im done trying feel betterthe reason im still ...      1\n",
       "4      worried  year old girl subject domestic physic...      1\n",
       "...                                                  ...    ...\n",
       "27972  posting everyday people stop caring  religion ...      0\n",
       "27973  okay definetly need hear guys opinion ive pret...      0\n",
       "27974  cant get dog think ill kill myselfthe last thi...      1\n",
       "27975  whats point princess bridei really think like ...      1\n",
       "27976  got nudes person might might know snapchat do ...      0\n",
       "\n",
       "[27972 rows x 2 columns]"
      ]
     },
     "execution_count": 16,
     "metadata": {},
     "output_type": "execute_result"
    }
   ],
   "source": [
    "data"
   ]
  },
  {
   "cell_type": "markdown",
   "id": "09b88b33-0e29-4cb5-867b-6cba50c35c2b",
   "metadata": {},
   "source": [
    "Describe the data"
   ]
  },
  {
   "cell_type": "code",
   "execution_count": 17,
   "id": "9889b181-ac13-406a-8d84-c3dae5306f0a",
   "metadata": {},
   "outputs": [
    {
     "data": {
      "text/html": [
       "<div>\n",
       "<style scoped>\n",
       "    .dataframe tbody tr th:only-of-type {\n",
       "        vertical-align: middle;\n",
       "    }\n",
       "\n",
       "    .dataframe tbody tr th {\n",
       "        vertical-align: top;\n",
       "    }\n",
       "\n",
       "    .dataframe thead th {\n",
       "        text-align: right;\n",
       "    }\n",
       "</style>\n",
       "<table border=\"1\" class=\"dataframe\">\n",
       "  <thead>\n",
       "    <tr style=\"text-align: right;\">\n",
       "      <th></th>\n",
       "      <th>label</th>\n",
       "    </tr>\n",
       "  </thead>\n",
       "  <tbody>\n",
       "    <tr>\n",
       "      <th>count</th>\n",
       "      <td>27972.000000</td>\n",
       "    </tr>\n",
       "    <tr>\n",
       "      <th>mean</th>\n",
       "      <td>0.494709</td>\n",
       "    </tr>\n",
       "    <tr>\n",
       "      <th>std</th>\n",
       "      <td>0.499981</td>\n",
       "    </tr>\n",
       "    <tr>\n",
       "      <th>min</th>\n",
       "      <td>0.000000</td>\n",
       "    </tr>\n",
       "    <tr>\n",
       "      <th>25%</th>\n",
       "      <td>0.000000</td>\n",
       "    </tr>\n",
       "    <tr>\n",
       "      <th>50%</th>\n",
       "      <td>0.000000</td>\n",
       "    </tr>\n",
       "    <tr>\n",
       "      <th>75%</th>\n",
       "      <td>1.000000</td>\n",
       "    </tr>\n",
       "    <tr>\n",
       "      <th>max</th>\n",
       "      <td>1.000000</td>\n",
       "    </tr>\n",
       "  </tbody>\n",
       "</table>\n",
       "</div>"
      ],
      "text/plain": [
       "              label\n",
       "count  27972.000000\n",
       "mean       0.494709\n",
       "std        0.499981\n",
       "min        0.000000\n",
       "25%        0.000000\n",
       "50%        0.000000\n",
       "75%        1.000000\n",
       "max        1.000000"
      ]
     },
     "execution_count": 17,
     "metadata": {},
     "output_type": "execute_result"
    }
   ],
   "source": [
    "data.describe()"
   ]
  },
  {
   "cell_type": "markdown",
   "id": "8f192d7a-6e18-4499-a9c9-7b7e5b5664b8",
   "metadata": {},
   "source": [
    "Display random samples"
   ]
  },
  {
   "cell_type": "code",
   "execution_count": 18,
   "id": "0cc5a32c-565a-475d-aa79-0d84a71167d3",
   "metadata": {},
   "outputs": [
    {
     "data": {
      "text/html": [
       "<div>\n",
       "<style scoped>\n",
       "    .dataframe tbody tr th:only-of-type {\n",
       "        vertical-align: middle;\n",
       "    }\n",
       "\n",
       "    .dataframe tbody tr th {\n",
       "        vertical-align: top;\n",
       "    }\n",
       "\n",
       "    .dataframe thead th {\n",
       "        text-align: right;\n",
       "    }\n",
       "</style>\n",
       "<table border=\"1\" class=\"dataframe\">\n",
       "  <thead>\n",
       "    <tr style=\"text-align: right;\">\n",
       "      <th></th>\n",
       "      <th>label</th>\n",
       "      <th>text</th>\n",
       "    </tr>\n",
       "  </thead>\n",
       "  <tbody>\n",
       "    <tr>\n",
       "      <th>0</th>\n",
       "      <td>0</td>\n",
       "      <td>hi hru im longing  kind human interaction rn tell ur day</td>\n",
       "    </tr>\n",
       "    <tr>\n",
       "      <th>1</th>\n",
       "      <td>0</td>\n",
       "      <td>warner brothers second historical drama featuring civil war battle little big horn general george armstrong custer died boots warner brothers  far accurate two especially contrasted santa fe trail...</td>\n",
       "    </tr>\n",
       "    <tr>\n",
       "      <th>2</th>\n",
       "      <td>0</td>\n",
       "      <td>seen film it genremix ive never seen another surreal scenes hilarious funny stuff film noir felling musical numbers swing sex scenes the nd best played orgasm film bested sally pitch orson welles ...</td>\n",
       "    </tr>\n",
       "    <tr>\n",
       "      <th>3</th>\n",
       "      <td>1</td>\n",
       "      <td>alienated last person help step back thats left strangersi just cant take anymore ive felt like shit ever since fiancee died coming  years holy fuck  years think would this fast havnt serious rela...</td>\n",
       "    </tr>\n",
       "    <tr>\n",
       "      <th>4</th>\n",
       "      <td>1</td>\n",
       "      <td>depressedanxious life spent youth moving around small outsider kid would always target bullying learned hide emotions fake okay draw attention away myself spent time books imagining fantasy worlds...</td>\n",
       "    </tr>\n",
       "    <tr>\n",
       "      <th>5</th>\n",
       "      <td>1</td>\n",
       "      <td>following crimson stained roadwell following dusty red road path turns sideways every step sink deeper deeper thick red blood red blood path special tells dirty little lies finally start believing...</td>\n",
       "    </tr>\n",
       "  </tbody>\n",
       "</table>\n",
       "</div>"
      ],
      "text/plain": [
       "   label  \\\n",
       "0      0   \n",
       "1      0   \n",
       "2      0   \n",
       "3      1   \n",
       "4      1   \n",
       "5      1   \n",
       "\n",
       "                                                                                                                                                                                                      text  \n",
       "0                                                                                                                                                 hi hru im longing  kind human interaction rn tell ur day  \n",
       "1  warner brothers second historical drama featuring civil war battle little big horn general george armstrong custer died boots warner brothers  far accurate two especially contrasted santa fe trail...  \n",
       "2  seen film it genremix ive never seen another surreal scenes hilarious funny stuff film noir felling musical numbers swing sex scenes the nd best played orgasm film bested sally pitch orson welles ...  \n",
       "3  alienated last person help step back thats left strangersi just cant take anymore ive felt like shit ever since fiancee died coming  years holy fuck  years think would this fast havnt serious rela...  \n",
       "4  depressedanxious life spent youth moving around small outsider kid would always target bullying learned hide emotions fake okay draw attention away myself spent time books imagining fantasy worlds...  \n",
       "5  following crimson stained roadwell following dusty red road path turns sideways every step sink deeper deeper thick red blood red blood path special tells dirty little lies finally start believing...  "
      ]
     },
     "execution_count": 18,
     "metadata": {},
     "output_type": "execute_result"
    }
   ],
   "source": [
    "def random_sample_reviews(data, num_samples):\n",
    "    samples = data.groupby('label')['text'].apply(lambda x: x.sample(num_samples))\n",
    "    samples_data = samples.reset_index().drop(columns='level_1')\n",
    "    return samples_data\n",
    "pd.set_option('display.max_colwidth', 200)\n",
    "samples = random_sample_reviews(data, num_samples=3)\n",
    "samples.head(6)"
   ]
  },
  {
   "cell_type": "markdown",
   "id": "634ea1e7-e4ac-42a5-8ce0-178e6700a324",
   "metadata": {},
   "source": [
    "Check URLs"
   ]
  },
  {
   "cell_type": "code",
   "execution_count": 19,
   "id": "033438c9-cbd2-40a7-a83b-e23de205f14a",
   "metadata": {},
   "outputs": [
    {
     "name": "stdout",
     "output_type": "stream",
     "text": [
      "                                                                                                                                                                                                          text  \\\n",
      "59                                                                   hello anyone feeling suicidal hear people lying truth httpswwwyoutubecomwatchvjkcjcbtqehttpswwwyoutubecomwatchvjkcjcbtqe feel suicidal go   \n",
      "115    help needed save man assuming posts case young boy still trending social media extremists trying get young man lynched vocal opinion hashtag trending twitter accuses blasphemy extremists spamming ...   \n",
      "150    answer question previous reviewer asked name us official mentioned lumumba name character mr carlucci frank carlucci reported time second secretary us embassy congo subsequently among assignments ...   \n",
      "215                                                            cool bug facts classmate owns clothing line idea lol proof heres link intrested which im sure dont httpswslaunchcartstorehttpswslaunchcartstore   \n",
      "338                                                                                         hey im bored alone stream playing gta v talk chat please  httpswwwtwitchtvkyobi_gaminghttpswwwtwitchtvkyobi_gaming   \n",
      "...                                                                                                                                                                                                        ...   \n",
      "27675                  telling jokes corona gone day  theres joke today im sorry come back tomorrow edit ok ill tell joke httpswwwredditcomrteenagerscommentslsxetelling_jokes_until_corona_gone_day__theres_a   \n",
      "27746                                                                                                                       another album like httpsopenspotifycomalbumcgwclwskgxkzgyattafdsilzrpdvqtsadchehew   \n",
      "27753  come think part  today christmas eve eve eve eve eve eve eve eve eve eve eve eve eve eve eve eve eve eve eve eve eve eve eve eve eve eve eve eve eve eve eve eve eve eve eve eve eve eve eve eve eve...   \n",
      "27813  survey school project hi could take survey views gender equality would super awesome results totally anonymous school project httpsdocsgooglecomformsdefaipqlsfunqhmduxezaaxvxafgfyaunbpzkeydihitdja...   \n",
      "27882                                             bands lastest song indie kinda prog influenced httpsyoutubeborszg spotify also httpsopenspotifycomtracknlonolzfasrgnxtnsiwfllbcqfukpzuza  listening feedback   \n",
      "\n",
      "       label  \n",
      "59         0  \n",
      "115        0  \n",
      "150        0  \n",
      "215        0  \n",
      "338        0  \n",
      "...      ...  \n",
      "27675      0  \n",
      "27746      0  \n",
      "27753      0  \n",
      "27813      0  \n",
      "27882      0  \n",
      "\n",
      "[494 rows x 2 columns]\n",
      "Number of rows contains URLs: 494\n"
     ]
    }
   ],
   "source": [
    "def contains_url(text):\n",
    "    URL_pattern = r'(?i)\\b(?:http[s]?|ftp|www)\\S+|(?<=\\w)(https?://|www\\.)\\S+'\n",
    "    return bool(re.search(URL_pattern, str(text)))\n",
    "    \n",
    "rows_with_URL = data[data['text'].apply(contains_url)]\n",
    "print(rows_with_URL)\n",
    "\n",
    "count_URL = rows_with_URL.shape[0]\n",
    "print(f\"Number of rows contains URLs: {count_URL}\")"
   ]
  },
  {
   "cell_type": "markdown",
   "id": "ef618350-633a-41ef-aeb5-dc571aab05b5",
   "metadata": {},
   "source": [
    "Remove URLs"
   ]
  },
  {
   "cell_type": "code",
   "execution_count": 20,
   "id": "908595a6-e5d1-4312-ac7e-db089b55676d",
   "metadata": {},
   "outputs": [
    {
     "name": "stdout",
     "output_type": "stream",
     "text": [
      "0                                                                        dear american teens question dutch person heard guys get way easier things learn age us sooooo thth graders like  right guys learn math\n",
      "1                                                                                          nothing look forward lifei dont many reasons keep going feel like nothing keeps going next day makes want hang myself\n",
      "2        music recommendations im looking expand playlist usual genres alt pop minnesota hip hop steampunk various indie genres artists people like cavetown aliceband bug hunter penelope scott various rhym...\n",
      "3        im done trying feel betterthe reason im still alive know mum devastated ever killed myself ever passes im still state im going hesitate ending life shortly after im almost  take meds go therapy no...\n",
      "4        worried  year old girl subject domestic physicalmental housewithout going lot know girl know girl etc let give brief background known girl  years lives uk live different country kept touch electro...\n",
      "                                                                                                          ...                                                                                                   \n",
      "27972    posting everyday people stop caring  religion matter private thing allowed share it force others also people treated diferently religions belief pearson stopped seeks harm humans care others relig...\n",
      "27973    okay definetly need hear guys opinion ive pretty much love one best friends now im m shes f met lot summer pretty much always asked wanted meet always wanted never asked me also slow responds mess...\n",
      "27974              cant get dog think ill kill myselfthe last thing im holding for yup first two applications didnt work already received many one looking for sent third one different place dont hopes high up\n",
      "27975    whats point princess bridei really think like wesley said pb life pain ampxb life sucks hurts live get better joy temporary think people happy successful fulfilled lives thats cards me wish dead e...\n",
      "27976    got nudes person might might know snapchat do ok chick dont know added snap sent something opened nudes dont even know person thought might know school couldnt find yearbook im sure wrong person a...\n",
      "Name: text, Length: 27972, dtype: object\n"
     ]
    }
   ],
   "source": [
    "def remove_urls(text):\n",
    "    return re.sub(r'(?i)\\b(?:http[s]?|ftp|www)\\S+|(?<=\\w)(https?://|www\\.)\\S+', '', str(text))\n",
    "data['text'] = data['text'].apply(remove_urls)\n",
    "print(data['text']) "
   ]
  },
  {
   "cell_type": "code",
   "execution_count": 21,
   "id": "9ea8e672-ba6c-4537-b411-e8d2ef1b80c8",
   "metadata": {},
   "outputs": [
    {
     "name": "stdout",
     "output_type": "stream",
     "text": [
      "Empty DataFrame\n",
      "Columns: [text, label]\n",
      "Index: []\n",
      "Number of rows contains URLs: 0\n"
     ]
    }
   ],
   "source": [
    "def contains_url(text):\n",
    "    URL_pattern = r'(?i)\\b(?:http[s]?|ftp|www)\\S+|(?<=\\w)(https?://|www\\.)\\S+'\n",
    "    return bool(re.search(URL_pattern, str(text)))\n",
    "    \n",
    "rows_with_URL = data[data['text'].apply(contains_url)]\n",
    "print(rows_with_URL)\n",
    "\n",
    "count_URL = rows_with_URL.shape[0]\n",
    "print(f\"Number of rows contains URLs: {count_URL}\")"
   ]
  },
  {
   "cell_type": "code",
   "execution_count": 22,
   "id": "736bfbbc-8fa5-4c01-bf7a-62cb4fc11134",
   "metadata": {},
   "outputs": [
    {
     "name": "stdout",
     "output_type": "stream",
     "text": [
      "Displaying cleaned text for row 59:\n",
      "hello anyone feeling suicidal hear people lying truth  feel suicidal go\n"
     ]
    }
   ],
   "source": [
    "specific_row = 59 \n",
    "print(f\"Displaying cleaned text for row {specific_row}:\")\n",
    "print(data['text'].iloc[specific_row])"
   ]
  },
  {
   "cell_type": "markdown",
   "id": "d62155b0-a34d-426f-8600-25eec79a29c5",
   "metadata": {},
   "source": [
    "Check special characters"
   ]
  },
  {
   "cell_type": "code",
   "execution_count": 23,
   "id": "cc7b38e6-225e-41e8-9f16-1fc1e4f7aea0",
   "metadata": {},
   "outputs": [
    {
     "name": "stdout",
     "output_type": "stream",
     "text": [
      "                                                                                                                                                                                                          text  \\\n",
      "110                           take story  snapchat posted happy birthday_name person_ didnt look story didnt click it didnt say thank didnt look message anything why take story cause embarrassing avoided it   \n",
      "124                                                                                                                    help think started war cult full apple enthusiast anyways join kingdom rbanana_kingdom_   \n",
      "221    dbz fans annoying hell can beat goku one cares ill watching anime maybe looking anime tik toks talking cool powerful one faves are one fuckers come start ranting cant beat goku realise absolutely ...   \n",
      "224    partner may end life tonight goes goi made post earlierhttpwwwredditcomrdepressioncommentsxzei_nearly_destroyed_a_year_relationship_i_feel cheated partner  years several times alright last night w...   \n",
      "275                                                                                                                                                    wish chose criminology subject soooo interesting   _      \n",
      "...                                                                                                                                                                                                        ...   \n",
      "27407  worried ill go full columbine misguided attempt helpi made thishttpswwwredditcomrdepressioncommentsrqoa_rantish_thing_i_need_to_get_some_stuff_out_but post rdepression might help explain stuff wan...   \n",
      "27562  cool no why oh understandable pancakeshttpsyoutubeykgqxk_vau watch cringe compilation  playing minecraft  fortnite  cosplayinghttpsyoutubeegcyymdone overall nerd  talking chemistry physics  number...   \n",
      "27756  feeling pretty good right now stark contrast usual sending positive vibes possibly can broke free anxiety bit today ive riding high ive made friends past  months theyre truly wonderful people im b...   \n",
      "27759  movie corner stranger things test the stranger things quiz best way fans test knowledge series stranger things test also excellent online contest know much series playing quiz give overview story ...   \n",
      "27800                                                                                                                                                                         wanna know whos cool ethan_keith   \n",
      "\n",
      "       label  \n",
      "110        0  \n",
      "124        0  \n",
      "221        0  \n",
      "224        1  \n",
      "275        0  \n",
      "...      ...  \n",
      "27407      1  \n",
      "27562      0  \n",
      "27756      0  \n",
      "27759      0  \n",
      "27800      0  \n",
      "\n",
      "[245 rows x 2 columns]\n",
      "Number of rows with special characters: 245\n"
     ]
    }
   ],
   "source": [
    "def has_special_characters(text):\n",
    "    special_char_pattern = r'[^A-Za-z0-9\\s]' \n",
    "    return bool(re.search(special_char_pattern, str(text)))  \n",
    "\n",
    "rows_with_special_chars = data[data['text'].apply(has_special_characters)]\n",
    "print(rows_with_special_chars)\n",
    "\n",
    "count_special_chars = rows_with_special_chars.shape[0]\n",
    "print(f\"Number of rows with special characters: {count_special_chars}\")"
   ]
  },
  {
   "cell_type": "markdown",
   "id": "c3513ab9-fa77-4dea-9b7f-c6d0688fbdb4",
   "metadata": {},
   "source": [
    "Remove special characters"
   ]
  },
  {
   "cell_type": "code",
   "execution_count": 24,
   "id": "d1825452-ca3d-4874-8869-19f8e83ffccd",
   "metadata": {},
   "outputs": [
    {
     "name": "stdout",
     "output_type": "stream",
     "text": [
      "0                                                                        dear american teens question dutch person heard guys get way easier things learn age us sooooo thth graders like  right guys learn math\n",
      "1                                                                                          nothing look forward lifei dont many reasons keep going feel like nothing keeps going next day makes want hang myself\n",
      "2        music recommendations im looking expand playlist usual genres alt pop minnesota hip hop steampunk various indie genres artists people like cavetown aliceband bug hunter penelope scott various rhym...\n",
      "3        im done trying feel betterthe reason im still alive know mum devastated ever killed myself ever passes im still state im going hesitate ending life shortly after im almost  take meds go therapy no...\n",
      "4        worried  year old girl subject domestic physicalmental housewithout going lot know girl know girl etc let give brief background known girl  years lives uk live different country kept touch electro...\n",
      "                                                                                                          ...                                                                                                   \n",
      "27972    posting everyday people stop caring  religion matter private thing allowed share it force others also people treated diferently religions belief pearson stopped seeks harm humans care others relig...\n",
      "27973    okay definetly need hear guys opinion ive pretty much love one best friends now im m shes f met lot summer pretty much always asked wanted meet always wanted never asked me also slow responds mess...\n",
      "27974              cant get dog think ill kill myselfthe last thing im holding for yup first two applications didnt work already received many one looking for sent third one different place dont hopes high up\n",
      "27975    whats point princess bridei really think like wesley said pb life pain ampxb life sucks hurts live get better joy temporary think people happy successful fulfilled lives thats cards me wish dead e...\n",
      "27976    got nudes person might might know snapchat do ok chick dont know added snap sent something opened nudes dont even know person thought might know school couldnt find yearbook im sure wrong person a...\n",
      "Name: text, Length: 27972, dtype: object\n"
     ]
    }
   ],
   "source": [
    "def remove_special_characters(text):\n",
    "    return re.sub(r'[^A-Za-z0-9\\s]', '', str(text))\n",
    "data['text'] = data['text'].apply(remove_special_characters)\n",
    "print(data['text'])  "
   ]
  },
  {
   "cell_type": "code",
   "execution_count": 25,
   "id": "6502ab46-fc80-47aa-a799-f7c22f40a4e4",
   "metadata": {},
   "outputs": [
    {
     "name": "stdout",
     "output_type": "stream",
     "text": [
      "Empty DataFrame\n",
      "Columns: [text, label]\n",
      "Index: []\n",
      "Number of rows with special characters: 0\n"
     ]
    }
   ],
   "source": [
    "def has_special_characters(text):\n",
    "    special_char_pattern = r'[^A-Za-z0-9\\s]' \n",
    "    return bool(re.search(special_char_pattern, str(text)))  \n",
    "\n",
    "rows_with_special_chars = data[data['text'].apply(has_special_characters)]\n",
    "print(rows_with_special_chars)\n",
    "\n",
    "count_special_chars = rows_with_special_chars.shape[0]\n",
    "print(f\"Number of rows with special characters: {count_special_chars}\")"
   ]
  },
  {
   "cell_type": "code",
   "execution_count": 26,
   "id": "e51a1734-cae5-47f7-a410-b578072437ee",
   "metadata": {},
   "outputs": [
    {
     "name": "stdout",
     "output_type": "stream",
     "text": [
      "Displaying cleaned text for row 275:\n",
      "wish chose criminology subject soooo interesting      \n"
     ]
    }
   ],
   "source": [
    "specific_row = 275\n",
    "print(f\"Displaying cleaned text for row {specific_row}:\")\n",
    "print(data['text'].iloc[specific_row])"
   ]
  },
  {
   "cell_type": "markdown",
   "id": "2a624c7f-ad98-49c2-8cc2-2be7404fa643",
   "metadata": {},
   "source": [
    "Check numbers"
   ]
  },
  {
   "cell_type": "code",
   "execution_count": 27,
   "id": "e1b2d1c2-f529-4838-ad86-fd2d2ef7868c",
   "metadata": {},
   "outputs": [
    {
     "name": "stdout",
     "output_type": "stream",
     "text": [
      "Empty DataFrame\n",
      "Columns: [text, label]\n",
      "Index: []\n",
      "Number of rows with numbers: 0\n"
     ]
    }
   ],
   "source": [
    "def has_numbers(text):\n",
    "    return bool(re.search(r'\\d', str(text)))  \n",
    "\n",
    "rows_with_numbers = data[data['text'].apply(has_numbers)]\n",
    "print(rows_with_numbers)\n",
    "\n",
    "count_numbers = rows_with_numbers.shape[0]\n",
    "print(f\"Number of rows with numbers: {count_numbers}\")"
   ]
  },
  {
   "cell_type": "markdown",
   "id": "e1e21d09-415e-4966-a368-4742172b5fb0",
   "metadata": {},
   "source": [
    "Check upper_case"
   ]
  },
  {
   "cell_type": "code",
   "execution_count": 28,
   "id": "dd9d68d9-2640-4f49-9e59-eb1372750636",
   "metadata": {},
   "outputs": [
    {
     "name": "stdout",
     "output_type": "stream",
     "text": [
      "Empty DataFrame\n",
      "Columns: [text, label]\n",
      "Index: []\n",
      "Number of rows with uppercase letters: 0\n"
     ]
    }
   ],
   "source": [
    "def has_uppercase(text):\n",
    "    return bool(re.search(r'[A-Z]', str(text)))  \n",
    "\n",
    "rows_with_uppercase = data[data['text'].apply(has_uppercase)]\n",
    "print(rows_with_uppercase)\n",
    "\n",
    "count_uppercase = rows_with_uppercase.shape[0]\n",
    "print(f\"Number of rows with uppercase letters: {count_uppercase}\")"
   ]
  },
  {
   "cell_type": "markdown",
   "id": "5d09d604-88d2-46a8-bd3d-d55715b750dd",
   "metadata": {},
   "source": [
    "Check if it starts with @ ou #"
   ]
  },
  {
   "cell_type": "code",
   "execution_count": 29,
   "id": "d85da80a-01a1-473f-a5f6-fd3524b6f405",
   "metadata": {},
   "outputs": [
    {
     "name": "stdout",
     "output_type": "stream",
     "text": [
      "Empty DataFrame\n",
      "Columns: [text, label]\n",
      "Index: []\n",
      "Number of rows with words starting with @ or #: 0\n"
     ]
    }
   ],
   "source": [
    "def start_with(text):\n",
    "    return bool(re.search(r'[@#]\\w+', str(text)))\n",
    "\n",
    "rows_start_with = data[data['text'].apply(start_with)]\n",
    "print(rows_start_with)\n",
    "\n",
    "count_start_with = rows_start_with.shape[0]\n",
    "print(f\"Number of rows with words starting with @ or #: {count_start_with}\")"
   ]
  },
  {
   "cell_type": "markdown",
   "id": "9cdde344-6c2f-4896-9659-5c696f9ba130",
   "metadata": {},
   "source": [
    "Check punctuations"
   ]
  },
  {
   "cell_type": "code",
   "execution_count": 30,
   "id": "0d5cb3ab-8c98-43c9-aa16-f1acad344241",
   "metadata": {},
   "outputs": [
    {
     "name": "stdout",
     "output_type": "stream",
     "text": [
      "Empty DataFrame\n",
      "Columns: [text, label]\n",
      "Index: []\n",
      "Number of rows with punctuations: 0\n"
     ]
    }
   ],
   "source": [
    "def punctuation(text):\n",
    "    return bool(re.search(r'[^\\w\\s]',str(text)))\n",
    "\n",
    "rows_with_puntuations = data[data['text'].apply(punctuation)]\n",
    "print(rows_with_puntuations)\n",
    "\n",
    "count_punctuation = rows_with_puntuations.shape[0]\n",
    "print(f\"Number of rows with punctuations: {count_punctuation}\")"
   ]
  },
  {
   "cell_type": "markdown",
   "id": "47e9a5f9-548e-4114-b27c-67d0e4f17d41",
   "metadata": {},
   "source": [
    "Tokenization"
   ]
  },
  {
   "cell_type": "code",
   "execution_count": 31,
   "id": "c57e134c-6c1e-4ad4-abe4-ef471ae7d99c",
   "metadata": {},
   "outputs": [
    {
     "name": "stdout",
     "output_type": "stream",
     "text": [
      "Original: dear american teens question dutch person heard guys get way easier things learn age us sooooo thth graders like  right guys learn math\n",
      "Tokenized: ['dear', 'american', 'teens', 'question', 'dutch', 'person', 'heard', 'guys', 'get', 'way', 'easier', 'things', 'learn', 'age', 'us', 'sooooo', 'thth', 'graders', 'like', 'right', 'guys', 'learn', 'math']\n",
      "\n",
      "Original: nothing look forward lifei dont many reasons keep going feel like nothing keeps going next day makes want hang myself\n",
      "Tokenized: ['nothing', 'look', 'forward', 'lifei', 'dont', 'many', 'reasons', 'keep', 'going', 'feel', 'like', 'nothing', 'keeps', 'going', 'next', 'day', 'makes', 'want', 'hang', 'myself']\n",
      "\n",
      "Original: music recommendations im looking expand playlist usual genres alt pop minnesota hip hop steampunk various indie genres artists people like cavetown aliceband bug hunter penelope scott various rhymesayers willing explore new genresartists such anything generic rap the type exclusively sex drugs cool rapper is rap types pretty good pop popular couple years ago dunno technical genre name anyways anyone got music recommendations favorite artistssongs\n",
      "Tokenized: ['music', 'recommendations', 'im', 'looking', 'expand', 'playlist', 'usual', 'genres', 'alt', 'pop', 'minnesota', 'hip', 'hop', 'steampunk', 'various', 'indie', 'genres', 'artists', 'people', 'like', 'cavetown', 'aliceband', 'bug', 'hunter', 'penelope', 'scott', 'various', 'rhymesayers', 'willing', 'explore', 'new', 'genresartists', 'such', 'anything', 'generic', 'rap', 'the', 'type', 'exclusively', 'sex', 'drugs', 'cool', 'rapper', 'is', 'rap', 'types', 'pretty', 'good', 'pop', 'popular', 'couple', 'years', 'ago', 'dunno', 'technical', 'genre', 'name', 'anyways', 'anyone', 'got', 'music', 'recommendations', 'favorite', 'artistssongs']\n",
      "\n",
      "Original: im done trying feel betterthe reason im still alive know mum devastated ever killed myself ever passes im still state im going hesitate ending life shortly after im almost  take meds go therapy nothing seems help enough dont want around anymore hate feeling like this wouldnt wish upon enemy brain feels like constantly like static tv wont shut overthinking do think im running options dont see living past  got accepted health science degree dont even know wanna try know im smart mental illness holds back think cant anything im good enough need fucking help dont know anymore ive run options\n",
      "Tokenized: ['im', 'done', 'trying', 'feel', 'betterthe', 'reason', 'im', 'still', 'alive', 'know', 'mum', 'devastated', 'ever', 'killed', 'myself', 'ever', 'passes', 'im', 'still', 'state', 'im', 'going', 'hesitate', 'ending', 'life', 'shortly', 'after', 'im', 'almost', 'take', 'meds', 'go', 'therapy', 'nothing', 'seems', 'help', 'enough', 'dont', 'want', 'around', 'anymore', 'hate', 'feeling', 'like', 'this', 'wouldnt', 'wish', 'upon', 'enemy', 'brain', 'feels', 'like', 'constantly', 'like', 'static', 'tv', 'wont', 'shut', 'overthinking', 'do', 'think', 'im', 'running', 'options', 'dont', 'see', 'living', 'past', 'got', 'accepted', 'health', 'science', 'degree', 'dont', 'even', 'know', 'wan', 'na', 'try', 'know', 'im', 'smart', 'mental', 'illness', 'holds', 'back', 'think', 'cant', 'anything', 'im', 'good', 'enough', 'need', 'fucking', 'help', 'dont', 'know', 'anymore', 'ive', 'run', 'options']\n",
      "\n",
      "Original: worried  year old girl subject domestic physicalmental housewithout going lot know girl know girl etc let give brief background known girl  years lives uk live different country kept touch electronic means first girl schizophrenic host illnesses too dad severe anger issues abuses physically mentally makes serve food wash dishes clean house shouts beats petty things like spilling water picking toys floor threatened knife beats plates glasses punches head last time got beat around month ago one siblings gets beat up tried tell mother beating showed bruises too mother refuses believe even laughed off probably fear confronting him husband yells wife too family treat well either sister mean tell father put trouble family tends isolate her even remember birthday all family cold her often tend alienate since act normal girl often feels suicidal due this inflicted selfharm cut wrist starves believes way family accept her make worse two incidents life must tell about raped walking back home night initially tell parents sometime later police reports filed rape suffered false pregnancy girl symptoms disorder like lactating breasts happened early  depressed incident summer  approximately family sent couple family friends wellknown treatments advertised herbal therapy accupuncture etc however happened next terrible left alone husband wife went somewhere else guy tortured her instance made sit container filled water upto neck closed lid imagine kind stress panic would cause schizophrenic patient miscellaneous details gt gets visit psychiatrist school able hide problems psychiatrist noted girl able put front really well gt five psychiatrists past gt enjoys drawingpainting learning new languages writing poems gt depressed tends victimized mentality blames problems want report abuse due trouble family face tells stopped cutting lately problem refuses tell anyone abuse even tries defend father saying fault help her although seem extremely suicidal concern physically mental abuse girl subject everyday healthy environment anyone grow in really wish rescued clutches belligerent controlling father dysfunctional family\n",
      "Tokenized: ['worried', 'year', 'old', 'girl', 'subject', 'domestic', 'physicalmental', 'housewithout', 'going', 'lot', 'know', 'girl', 'know', 'girl', 'etc', 'let', 'give', 'brief', 'background', 'known', 'girl', 'years', 'lives', 'uk', 'live', 'different', 'country', 'kept', 'touch', 'electronic', 'means', 'first', 'girl', 'schizophrenic', 'host', 'illnesses', 'too', 'dad', 'severe', 'anger', 'issues', 'abuses', 'physically', 'mentally', 'makes', 'serve', 'food', 'wash', 'dishes', 'clean', 'house', 'shouts', 'beats', 'petty', 'things', 'like', 'spilling', 'water', 'picking', 'toys', 'floor', 'threatened', 'knife', 'beats', 'plates', 'glasses', 'punches', 'head', 'last', 'time', 'got', 'beat', 'around', 'month', 'ago', 'one', 'siblings', 'gets', 'beat', 'up', 'tried', 'tell', 'mother', 'beating', 'showed', 'bruises', 'too', 'mother', 'refuses', 'believe', 'even', 'laughed', 'off', 'probably', 'fear', 'confronting', 'him', 'husband', 'yells', 'wife', 'too', 'family', 'treat', 'well', 'either', 'sister', 'mean', 'tell', 'father', 'put', 'trouble', 'family', 'tends', 'isolate', 'her', 'even', 'remember', 'birthday', 'all', 'family', 'cold', 'her', 'often', 'tend', 'alienate', 'since', 'act', 'normal', 'girl', 'often', 'feels', 'suicidal', 'due', 'this', 'inflicted', 'selfharm', 'cut', 'wrist', 'starves', 'believes', 'way', 'family', 'accept', 'her', 'make', 'worse', 'two', 'incidents', 'life', 'must', 'tell', 'about', 'raped', 'walking', 'back', 'home', 'night', 'initially', 'tell', 'parents', 'sometime', 'later', 'police', 'reports', 'filed', 'rape', 'suffered', 'false', 'pregnancy', 'girl', 'symptoms', 'disorder', 'like', 'lactating', 'breasts', 'happened', 'early', 'depressed', 'incident', 'summer', 'approximately', 'family', 'sent', 'couple', 'family', 'friends', 'wellknown', 'treatments', 'advertised', 'herbal', 'therapy', 'accupuncture', 'etc', 'however', 'happened', 'next', 'terrible', 'left', 'alone', 'husband', 'wife', 'went', 'somewhere', 'else', 'guy', 'tortured', 'her', 'instance', 'made', 'sit', 'container', 'filled', 'water', 'upto', 'neck', 'closed', 'lid', 'imagine', 'kind', 'stress', 'panic', 'would', 'cause', 'schizophrenic', 'patient', 'miscellaneous', 'details', 'gt', 'gets', 'visit', 'psychiatrist', 'school', 'able', 'hide', 'problems', 'psychiatrist', 'noted', 'girl', 'able', 'put', 'front', 'really', 'well', 'gt', 'five', 'psychiatrists', 'past', 'gt', 'enjoys', 'drawingpainting', 'learning', 'new', 'languages', 'writing', 'poems', 'gt', 'depressed', 'tends', 'victimized', 'mentality', 'blames', 'problems', 'want', 'report', 'abuse', 'due', 'trouble', 'family', 'face', 'tells', 'stopped', 'cutting', 'lately', 'problem', 'refuses', 'tell', 'anyone', 'abuse', 'even', 'tries', 'defend', 'father', 'saying', 'fault', 'help', 'her', 'although', 'seem', 'extremely', 'suicidal', 'concern', 'physically', 'mental', 'abuse', 'girl', 'subject', 'everyday', 'healthy', 'environment', 'anyone', 'grow', 'in', 'really', 'wish', 'rescued', 'clutches', 'belligerent', 'controlling', 'father', 'dysfunctional', 'family']\n",
      "\n"
     ]
    }
   ],
   "source": [
    "def tokenize_text(text):\n",
    "    text = str(text)\n",
    "    tokens = word_tokenize(text)\n",
    "    return tokens\n",
    "\n",
    "tokenized_texts = data['text'].apply(tokenize_text)\n",
    "\n",
    "for original, tokenized in zip(data['text'].head(), tokenized_texts.head()):\n",
    "    print(f\"Original: {original}\\nTokenized: {tokenized}\\n\")"
   ]
  },
  {
   "cell_type": "code",
   "execution_count": 32,
   "id": "a796db56-22a4-4f59-afa8-0a3b60daad6e",
   "metadata": {},
   "outputs": [
    {
     "data": {
      "text/html": [
       "<div>\n",
       "<style scoped>\n",
       "    .dataframe tbody tr th:only-of-type {\n",
       "        vertical-align: middle;\n",
       "    }\n",
       "\n",
       "    .dataframe tbody tr th {\n",
       "        vertical-align: top;\n",
       "    }\n",
       "\n",
       "    .dataframe thead th {\n",
       "        text-align: right;\n",
       "    }\n",
       "</style>\n",
       "<table border=\"1\" class=\"dataframe\">\n",
       "  <thead>\n",
       "    <tr style=\"text-align: right;\">\n",
       "      <th></th>\n",
       "      <th>text</th>\n",
       "      <th>label</th>\n",
       "    </tr>\n",
       "  </thead>\n",
       "  <tbody>\n",
       "    <tr>\n",
       "      <th>0</th>\n",
       "      <td>dear american teens question dutch person heard guys get way easier things learn age us sooooo thth graders like  right guys learn math</td>\n",
       "      <td>0</td>\n",
       "    </tr>\n",
       "    <tr>\n",
       "      <th>1</th>\n",
       "      <td>nothing look forward lifei dont many reasons keep going feel like nothing keeps going next day makes want hang myself</td>\n",
       "      <td>1</td>\n",
       "    </tr>\n",
       "    <tr>\n",
       "      <th>2</th>\n",
       "      <td>music recommendations im looking expand playlist usual genres alt pop minnesota hip hop steampunk various indie genres artists people like cavetown aliceband bug hunter penelope scott various rhym...</td>\n",
       "      <td>0</td>\n",
       "    </tr>\n",
       "    <tr>\n",
       "      <th>3</th>\n",
       "      <td>im done trying feel betterthe reason im still alive know mum devastated ever killed myself ever passes im still state im going hesitate ending life shortly after im almost  take meds go therapy no...</td>\n",
       "      <td>1</td>\n",
       "    </tr>\n",
       "    <tr>\n",
       "      <th>4</th>\n",
       "      <td>worried  year old girl subject domestic physicalmental housewithout going lot know girl know girl etc let give brief background known girl  years lives uk live different country kept touch electro...</td>\n",
       "      <td>1</td>\n",
       "    </tr>\n",
       "    <tr>\n",
       "      <th>...</th>\n",
       "      <td>...</td>\n",
       "      <td>...</td>\n",
       "    </tr>\n",
       "    <tr>\n",
       "      <th>27972</th>\n",
       "      <td>posting everyday people stop caring  religion matter private thing allowed share it force others also people treated diferently religions belief pearson stopped seeks harm humans care others relig...</td>\n",
       "      <td>0</td>\n",
       "    </tr>\n",
       "    <tr>\n",
       "      <th>27973</th>\n",
       "      <td>okay definetly need hear guys opinion ive pretty much love one best friends now im m shes f met lot summer pretty much always asked wanted meet always wanted never asked me also slow responds mess...</td>\n",
       "      <td>0</td>\n",
       "    </tr>\n",
       "    <tr>\n",
       "      <th>27974</th>\n",
       "      <td>cant get dog think ill kill myselfthe last thing im holding for yup first two applications didnt work already received many one looking for sent third one different place dont hopes high up</td>\n",
       "      <td>1</td>\n",
       "    </tr>\n",
       "    <tr>\n",
       "      <th>27975</th>\n",
       "      <td>whats point princess bridei really think like wesley said pb life pain ampxb life sucks hurts live get better joy temporary think people happy successful fulfilled lives thats cards me wish dead e...</td>\n",
       "      <td>1</td>\n",
       "    </tr>\n",
       "    <tr>\n",
       "      <th>27976</th>\n",
       "      <td>got nudes person might might know snapchat do ok chick dont know added snap sent something opened nudes dont even know person thought might know school couldnt find yearbook im sure wrong person a...</td>\n",
       "      <td>0</td>\n",
       "    </tr>\n",
       "  </tbody>\n",
       "</table>\n",
       "<p>27972 rows × 2 columns</p>\n",
       "</div>"
      ],
      "text/plain": [
       "                                                                                                                                                                                                          text  \\\n",
       "0                                                                      dear american teens question dutch person heard guys get way easier things learn age us sooooo thth graders like  right guys learn math   \n",
       "1                                                                                        nothing look forward lifei dont many reasons keep going feel like nothing keeps going next day makes want hang myself   \n",
       "2      music recommendations im looking expand playlist usual genres alt pop minnesota hip hop steampunk various indie genres artists people like cavetown aliceband bug hunter penelope scott various rhym...   \n",
       "3      im done trying feel betterthe reason im still alive know mum devastated ever killed myself ever passes im still state im going hesitate ending life shortly after im almost  take meds go therapy no...   \n",
       "4      worried  year old girl subject domestic physicalmental housewithout going lot know girl know girl etc let give brief background known girl  years lives uk live different country kept touch electro...   \n",
       "...                                                                                                                                                                                                        ...   \n",
       "27972  posting everyday people stop caring  religion matter private thing allowed share it force others also people treated diferently religions belief pearson stopped seeks harm humans care others relig...   \n",
       "27973  okay definetly need hear guys opinion ive pretty much love one best friends now im m shes f met lot summer pretty much always asked wanted meet always wanted never asked me also slow responds mess...   \n",
       "27974            cant get dog think ill kill myselfthe last thing im holding for yup first two applications didnt work already received many one looking for sent third one different place dont hopes high up   \n",
       "27975  whats point princess bridei really think like wesley said pb life pain ampxb life sucks hurts live get better joy temporary think people happy successful fulfilled lives thats cards me wish dead e...   \n",
       "27976  got nudes person might might know snapchat do ok chick dont know added snap sent something opened nudes dont even know person thought might know school couldnt find yearbook im sure wrong person a...   \n",
       "\n",
       "       label  \n",
       "0          0  \n",
       "1          1  \n",
       "2          0  \n",
       "3          1  \n",
       "4          1  \n",
       "...      ...  \n",
       "27972      0  \n",
       "27973      0  \n",
       "27974      1  \n",
       "27975      1  \n",
       "27976      0  \n",
       "\n",
       "[27972 rows x 2 columns]"
      ]
     },
     "execution_count": 32,
     "metadata": {},
     "output_type": "execute_result"
    }
   ],
   "source": [
    "data"
   ]
  },
  {
   "cell_type": "markdown",
   "id": "c598e4c5-f590-493a-a017-072c82c09d2a",
   "metadata": {},
   "source": [
    "Check stopwords"
   ]
  },
  {
   "cell_type": "code",
   "execution_count": 33,
   "id": "c14c17ad-0a83-4bf1-bc64-4f433e16fc52",
   "metadata": {},
   "outputs": [
    {
     "name": "stdout",
     "output_type": "stream",
     "text": [
      "                                                                                                                                                                                                          text  \\\n",
      "1                                                                                        nothing look forward lifei dont many reasons keep going feel like nothing keeps going next day makes want hang myself   \n",
      "2      music recommendations im looking expand playlist usual genres alt pop minnesota hip hop steampunk various indie genres artists people like cavetown aliceband bug hunter penelope scott various rhym...   \n",
      "3      im done trying feel betterthe reason im still alive know mum devastated ever killed myself ever passes im still state im going hesitate ending life shortly after im almost  take meds go therapy no...   \n",
      "4      worried  year old girl subject domestic physicalmental housewithout going lot know girl know girl etc let give brief background known girl  years lives uk live different country kept touch electro...   \n",
      "5      hey rredflag sure right place post this goes  im currently student intern sandia national labs working survey help improve marketing outreach efforts many schools recruit around country were looki...   \n",
      "...                                                                                                                                                                                                        ...   \n",
      "27972  posting everyday people stop caring  religion matter private thing allowed share it force others also people treated diferently religions belief pearson stopped seeks harm humans care others relig...   \n",
      "27973  okay definetly need hear guys opinion ive pretty much love one best friends now im m shes f met lot summer pretty much always asked wanted meet always wanted never asked me also slow responds mess...   \n",
      "27974            cant get dog think ill kill myselfthe last thing im holding for yup first two applications didnt work already received many one looking for sent third one different place dont hopes high up   \n",
      "27975  whats point princess bridei really think like wesley said pb life pain ampxb life sucks hurts live get better joy temporary think people happy successful fulfilled lives thats cards me wish dead e...   \n",
      "27976  got nudes person might might know snapchat do ok chick dont know added snap sent something opened nudes dont even know person thought might know school couldnt find yearbook im sure wrong person a...   \n",
      "\n",
      "       label  \n",
      "1          1  \n",
      "2          0  \n",
      "3          1  \n",
      "4          1  \n",
      "5          1  \n",
      "...      ...  \n",
      "27972      0  \n",
      "27973      0  \n",
      "27974      1  \n",
      "27975      1  \n",
      "27976      0  \n",
      "\n",
      "[19031 rows x 2 columns]\n",
      "Number of rows with stopwords: 19031\n"
     ]
    }
   ],
   "source": [
    "def contains_stopwords(text):\n",
    "    stop_words = set(stopwords.words('english'))\n",
    "    text_tokens = text.split()\n",
    "    return any(word.lower() in stop_words for word in text_tokens)\n",
    "\n",
    "rows_with_stopwords = data[data['text'].apply(contains_stopwords)]\n",
    "print(rows_with_stopwords)\n",
    "\n",
    "count_stopwords = rows_with_stopwords.shape[0]\n",
    "print(f\"Number of rows with stopwords: {count_stopwords}\")"
   ]
  },
  {
   "cell_type": "markdown",
   "id": "261825f2-13f8-405d-968d-6395dd9cfb89",
   "metadata": {},
   "source": [
    "Remove stopwords"
   ]
  },
  {
   "cell_type": "code",
   "execution_count": 34,
   "id": "1f59d2ae-e7e5-4585-ac1d-226312c9d5c5",
   "metadata": {},
   "outputs": [
    {
     "name": "stdout",
     "output_type": "stream",
     "text": [
      "0                                                                         dear american teens question dutch person heard guys get way easier things learn age us sooooo thth graders like right guys learn math\n",
      "1                                                                                                 nothing look forward lifei dont many reasons keep going feel like nothing keeps going next day makes want hang\n",
      "2        music recommendations im looking expand playlist usual genres alt pop minnesota hip hop steampunk various indie genres artists people like cavetown aliceband bug hunter penelope scott various rhym...\n",
      "3        im done trying feel betterthe reason im still alive know mum devastated ever killed ever passes im still state im going hesitate ending life shortly im almost take meds go therapy nothing seems he...\n",
      "4        worried year old girl subject domestic physicalmental housewithout going lot know girl know girl etc let give brief background known girl years lives uk live different country kept touch electroni...\n",
      "                                                                                                          ...                                                                                                   \n",
      "27972       posting everyday people stop caring religion matter private thing allowed share force others also people treated diferently religions belief pearson stopped seeks harm humans care others religions\n",
      "27973    okay definetly need hear guys opinion ive pretty much love one best friends im shes f met lot summer pretty much always asked wanted meet always wanted never asked also slow responds messages shes...\n",
      "27974                         cant get dog think ill kill myselfthe last thing im holding yup first two applications didnt work already received many one looking sent third one different place dont hopes high\n",
      "27975    whats point princess bridei really think like wesley said pb life pain ampxb life sucks hurts live get better joy temporary think people happy successful fulfilled lives thats cards wish dead ever...\n",
      "27976    got nudes person might might know snapchat ok chick dont know added snap sent something opened nudes dont even know person thought might know school couldnt find yearbook im sure wrong person actu...\n",
      "Name: text, Length: 27972, dtype: object\n"
     ]
    }
   ],
   "source": [
    "stop_words = set(stopwords.words('english'))\n",
    "def remove_stopwords(text):\n",
    "    tokens = word_tokenize(str(text))  \n",
    "    filtered_tokens = [word for word in tokens if word.lower() not in stop_words]\n",
    "    return ' '.join(filtered_tokens)\n",
    "\n",
    "data['text'] = data['text'].apply(remove_stopwords)\n",
    "\n",
    "print(data['text'])"
   ]
  },
  {
   "cell_type": "code",
   "execution_count": 35,
   "id": "bb72ff1b-4c52-4d44-beaf-dfb85af4bb74",
   "metadata": {},
   "outputs": [
    {
     "name": "stdout",
     "output_type": "stream",
     "text": [
      "Number of rows with stopwords: 0\n"
     ]
    }
   ],
   "source": [
    "def contains_stopwords(text):\n",
    "    stop_words = set(stopwords.words('english'))\n",
    "    text_tokens = text.split()\n",
    "    return any(word.lower() in stop_words for word in text_tokens)\n",
    "\n",
    "rows_with_stopwords = data[data['text'].apply(contains_stopwords)]\n",
    "\n",
    "count_stopwords = rows_with_stopwords.shape[0]\n",
    "print(f\"Number of rows with stopwords: {count_stopwords}\")"
   ]
  },
  {
   "cell_type": "markdown",
   "id": "c1fafc6b-79b8-4268-a6e6-2e3ff8b35ace",
   "metadata": {},
   "source": [
    "Stemming"
   ]
  },
  {
   "cell_type": "code",
   "execution_count": 36,
   "id": "e0d5dc12-dbf7-40b5-8435-635ca9ec5e5b",
   "metadata": {},
   "outputs": [
    {
     "name": "stdout",
     "output_type": "stream",
     "text": [
      "                                                                                                                                                                                                          text  \\\n",
      "0                                                                       dear american teens question dutch person heard guys get way easier things learn age us sooooo thth graders like right guys learn math   \n",
      "1                                                                                               nothing look forward lifei dont many reasons keep going feel like nothing keeps going next day makes want hang   \n",
      "2      music recommendations im looking expand playlist usual genres alt pop minnesota hip hop steampunk various indie genres artists people like cavetown aliceband bug hunter penelope scott various rhym...   \n",
      "3      im done trying feel betterthe reason im still alive know mum devastated ever killed ever passes im still state im going hesitate ending life shortly im almost take meds go therapy nothing seems he...   \n",
      "4      worried year old girl subject domestic physicalmental housewithout going lot know girl know girl etc let give brief background known girl years lives uk live different country kept touch electroni...   \n",
      "...                                                                                                                                                                                                        ...   \n",
      "27972     posting everyday people stop caring religion matter private thing allowed share force others also people treated diferently religions belief pearson stopped seeks harm humans care others religions   \n",
      "27973  okay definetly need hear guys opinion ive pretty much love one best friends im shes f met lot summer pretty much always asked wanted meet always wanted never asked also slow responds messages shes...   \n",
      "27974                       cant get dog think ill kill myselfthe last thing im holding yup first two applications didnt work already received many one looking sent third one different place dont hopes high   \n",
      "27975  whats point princess bridei really think like wesley said pb life pain ampxb life sucks hurts live get better joy temporary think people happy successful fulfilled lives thats cards wish dead ever...   \n",
      "27976  got nudes person might might know snapchat ok chick dont know added snap sent something opened nudes dont even know person thought might know school couldnt find yearbook im sure wrong person actu...   \n",
      "\n",
      "       label  \n",
      "0          0  \n",
      "1          1  \n",
      "2          0  \n",
      "3          1  \n",
      "4          1  \n",
      "...      ...  \n",
      "27972      0  \n",
      "27973      0  \n",
      "27974      1  \n",
      "27975      1  \n",
      "27976      0  \n",
      "\n",
      "[27515 rows x 2 columns]\n",
      "Number of rows with stemmed words: 27515\n"
     ]
    }
   ],
   "source": [
    "stemmer = PorterStemmer()\n",
    "\n",
    "def contains_stemmed_words(text):\n",
    "    tokens = word_tokenize(str(text))  \n",
    "    return any(stemmer.stem(word) != word for word in tokens)\n",
    "\n",
    "rows_with_stemmed_words = data[data['text'].apply(contains_stemmed_words)]\n",
    "print(rows_with_stemmed_words)\n",
    "\n",
    "count_stemmed_words = rows_with_stemmed_words.shape[0]\n",
    "print(f\"Number of rows with stemmed words: {count_stemmed_words}\")"
   ]
  },
  {
   "cell_type": "code",
   "execution_count": 37,
   "id": "0dfb910f-bd89-4bc1-b9a9-d577e48968f9",
   "metadata": {},
   "outputs": [
    {
     "name": "stdout",
     "output_type": "stream",
     "text": [
      "0                                                                              dear american teen question dutch person heard guy get way easier thing learn age us sooooo thth grader like right guy learn math\n",
      "1                                                                                                                noth look forward lifei dont mani reason keep go feel like noth keep go next day make want hang\n",
      "2        music recommend im look expand playlist usual genr alt pop minnesota hip hop steampunk variou indi genr artist peopl like cavetown aliceband bug hunter penelop scott variou rhymesay will explor ne...\n",
      "3        im done tri feel betterth reason im still aliv know mum devast ever kill ever pass im still state im go hesit end life shortli im almost take med go therapi noth seem help enough dont want around ...\n",
      "4        worri year old girl subject domest physicalment housewithout go lot know girl know girl etc let give brief background known girl year live uk live differ countri kept touch electron mean first gir...\n",
      "                                                                                                          ...                                                                                                   \n",
      "27972                                  post everyday peopl stop care religion matter privat thing allow share forc other also peopl treat difer religion belief pearson stop seek harm human care other religion\n",
      "27973    okay definetli need hear guy opinion ive pretti much love one best friend im she f met lot summer pretti much alway ask want meet alway want never ask also slow respond messag she slow repli other...\n",
      "27974                                            cant get dog think ill kill myselfth last thing im hold yup first two applic didnt work alreadi receiv mani one look sent third one differ place dont hope high\n",
      "27975    what point princess bridei realli think like wesley said pb life pain ampxb life suck hurt live get better joy temporari think peopl happi success fulfil live that card wish dead everi day keep wi...\n",
      "27976    got nude person might might know snapchat ok chick dont know ad snap sent someth open nude dont even know person thought might know school couldnt find yearbook im sure wrong person actual know cu...\n",
      "Name: text, Length: 27972, dtype: object\n"
     ]
    }
   ],
   "source": [
    "stemmer=PorterStemmer()\n",
    "def apply_stemming(text):\n",
    "    tokens = word_tokenize(str(text))  \n",
    "    stemmed_tokens = [stemmer.stem(word) for word in tokens]  \n",
    "    return ' '.join(stemmed_tokens)  \n",
    "\n",
    "data['text'] = data['text'].apply(apply_stemming)\n",
    "print(data['text'])"
   ]
  },
  {
   "cell_type": "code",
   "execution_count": 38,
   "id": "500c4767-1bd5-4718-949c-da4e270f7f6a",
   "metadata": {},
   "outputs": [
    {
     "name": "stdout",
     "output_type": "stream",
     "text": [
      "                                                                                                                                                                                                          text  \\\n",
      "2      music recommend im look expand playlist usual genr alt pop minnesota hip hop steampunk variou indi genr artist peopl like cavetown aliceband bug hunter penelop scott variou rhymesay will explor ne...   \n",
      "3      im done tri feel betterth reason im still aliv know mum devast ever kill ever pass im still state im go hesit end life shortli im almost take med go therapi noth seem help enough dont want around ...   \n",
      "4      worri year old girl subject domest physicalment housewithout go lot know girl know girl etc let give brief background known girl year live uk live differ countri kept touch electron mean first gir...   \n",
      "6      feel like someon need hear tonight feel right think cant anyth peopl keep pute listen life everyon els live someon tell unabl someth work get done say wrong someon say youl never make work hard ma...   \n",
      "7      deserv liveif die right noon would carei real friendsi alway start convers get dri respons feel comfort around femal emot abus mom put left usi never find love keep get remind everyday failur disa...   \n",
      "...                                                                                                                                                                                                        ...   \n",
      "27964                                                                          wan na sleep aint got social warmth kind affect make fall asleep instead keep brows reddit cuz fill dopamin even im extrem tire   \n",
      "27965                                                                             happen mix ammoniaalcohol bleachi dont feel like anyth live anymor ive abus alien frown upon sexual harass quickli would die   \n",
      "27966  whole homo sapien social creatur thing mess upupfront apolog wall text multitud reason shouldnt think famili frustrat care overal sister alway look love death like line work overal includ cowork i...   \n",
      "27970  back school guess ive coop goat farm quad today last day next week march break back actual school back schoolwork back sit class pray nobodi look back uniform back get bu everi morn back heart rac...   \n",
      "27973  okay definetli need hear guy opinion ive pretti much love one best friend im she f met lot summer pretti much alway ask want meet alway want never ask also slow respond messag she slow repli other...   \n",
      "\n",
      "       label  \n",
      "2          0  \n",
      "3          1  \n",
      "4          1  \n",
      "6          0  \n",
      "7          1  \n",
      "...      ...  \n",
      "27964      0  \n",
      "27965      1  \n",
      "27966      1  \n",
      "27970      0  \n",
      "27973      0  \n",
      "\n",
      "[14307 rows x 2 columns]\n",
      "Number of rows with stemmed words: 14307\n"
     ]
    }
   ],
   "source": [
    "stemmer = PorterStemmer()\n",
    "\n",
    "def contains_stemmed_words(text):\n",
    "    tokens = word_tokenize(str(text))  \n",
    "    return any(stemmer.stem(word) != word for word in tokens)\n",
    "\n",
    "rows_with_stemmed_words = data[data['text'].apply(contains_stemmed_words)]\n",
    "print(rows_with_stemmed_words)\n",
    "\n",
    "count_stemmed_words = rows_with_stemmed_words.shape[0]\n",
    "print(f\"Number of rows with stemmed words: {count_stemmed_words}\")"
   ]
  },
  {
   "cell_type": "markdown",
   "id": "20a44289-c0e4-45fd-b8a6-146e2b904679",
   "metadata": {},
   "source": [
    "Lemmatization"
   ]
  },
  {
   "cell_type": "code",
   "execution_count": 39,
   "id": "710b2c3d-beb6-4f6c-9354-8ddb4395115d",
   "metadata": {},
   "outputs": [
    {
     "name": "stdout",
     "output_type": "stream",
     "text": [
      "                                                                                                                                                                                                          text  \\\n",
      "0                                                                            dear american teen question dutch person heard guy get way easier thing learn age us sooooo thth grader like right guy learn math   \n",
      "3      im done tri feel betterth reason im still aliv know mum devast ever kill ever pass im still state im go hesit end life shortli im almost take med go therapi noth seem help enough dont want around ...   \n",
      "4      worri year old girl subject domest physicalment housewithout go lot know girl know girl etc let give brief background known girl year live uk live differ countri kept touch electron mean first gir...   \n",
      "5      hey rredflag sure right place post goe im current student intern sandia nation lab work survey help improv market outreach effort mani school recruit around countri look current undergradgrad stem...   \n",
      "6      feel like someon need hear tonight feel right think cant anyth peopl keep pute listen life everyon els live someon tell unabl someth work get done say wrong someon say youl never make work hard ma...   \n",
      "...                                                                                                                                                                                                        ...   \n",
      "27962  great exampl good dumb movi high art mean script anywher close woodi allen mel brook killer tomato seri four movi cartoon seri basic goodnatur romp gleefulli trampl kind territori zucker rule swit...   \n",
      "27964                                                                          wan na sleep aint got social warmth kind affect make fall asleep instead keep brows reddit cuz fill dopamin even im extrem tire   \n",
      "27967                                                                                                                                    forget color among us hat one im cyan wear leaf hat backup color lime   \n",
      "27968  wan na dieim shitti feel shitti time constantli make peopl feel shitti somehow cant fix fuck mental take take take never give back im imposs yet peopl still put fuck time one unselfish thing make ...   \n",
      "27973  okay definetli need hear guy opinion ive pretti much love one best friend im she f met lot summer pretti much alway ask want meet alway want never ask also slow respond messag she slow repli other...   \n",
      "\n",
      "       label  \n",
      "0          0  \n",
      "3          1  \n",
      "4          1  \n",
      "5          1  \n",
      "6          0  \n",
      "...      ...  \n",
      "27962      0  \n",
      "27964      0  \n",
      "27967      0  \n",
      "27968      1  \n",
      "27973      0  \n",
      "\n",
      "[8667 rows x 2 columns]\n",
      "Number of rows with stemmed words: 8667\n"
     ]
    }
   ],
   "source": [
    "lemmatizer = WordNetLemmatizer()\n",
    "\n",
    "def contains_lemmatization(text):\n",
    "    tokens = word_tokenize(str(text))  \n",
    "    return any(lemmatizer.lemmatize(word) != word for word in tokens)\n",
    "\n",
    "rows_with_lemmatization = data[data['text'].apply(contains_lemmatization)]\n",
    "print(rows_with_lemmatization)\n",
    "\n",
    "count_lemmatization = rows_with_lemmatization.shape[0]\n",
    "print(f\"Number of rows with stemmed words: {count_lemmatization}\")"
   ]
  },
  {
   "cell_type": "code",
   "execution_count": 40,
   "id": "70081966-da7b-429e-be01-43640befaf9e",
   "metadata": {},
   "outputs": [
    {
     "name": "stdout",
     "output_type": "stream",
     "text": [
      "0                                                                               dear american teen question dutch person heard guy get way easier thing learn age u sooooo thth grader like right guy learn math\n",
      "1                                                                                                                noth look forward lifei dont mani reason keep go feel like noth keep go next day make want hang\n",
      "2        music recommend im look expand playlist usual genr alt pop minnesota hip hop steampunk variou indi genr artist peopl like cavetown aliceband bug hunter penelop scott variou rhymesay will explor ne...\n",
      "3        im done tri feel betterth reason im still aliv know mum devast ever kill ever pas im still state im go hesit end life shortli im almost take med go therapi noth seem help enough dont want around a...\n",
      "4        worri year old girl subject domest physicalment housewithout go lot know girl know girl etc let give brief background known girl year live uk live differ countri kept touch electron mean first gir...\n",
      "                                                                                                          ...                                                                                                   \n",
      "27972                                  post everyday peopl stop care religion matter privat thing allow share forc other also peopl treat difer religion belief pearson stop seek harm human care other religion\n",
      "27973    okay definetli need hear guy opinion ive pretti much love one best friend im she f met lot summer pretti much alway ask want meet alway want never ask also slow respond messag she slow repli other...\n",
      "27974                                            cant get dog think ill kill myselfth last thing im hold yup first two applic didnt work alreadi receiv mani one look sent third one differ place dont hope high\n",
      "27975    what point princess bridei realli think like wesley said pb life pain ampxb life suck hurt live get better joy temporari think peopl happi success fulfil live that card wish dead everi day keep wi...\n",
      "27976    got nude person might might know snapchat ok chick dont know ad snap sent someth open nude dont even know person thought might know school couldnt find yearbook im sure wrong person actual know cu...\n",
      "Name: text, Length: 27972, dtype: object\n"
     ]
    }
   ],
   "source": [
    "lemmatizer = WordNetLemmatizer()\n",
    "\n",
    "def apply_lemmatization(text):\n",
    "    tokens = word_tokenize(str(text))  # Tokenize the text\n",
    "    lemmatized_tokens = [lemmatizer.lemmatize(word) for word in tokens]  # Apply lemmatization\n",
    "    return ' '.join(lemmatized_tokens)  # Rejoin tokens into a string\n",
    "\n",
    "data['text'] = data['text'].apply(apply_lemmatization)\n",
    "\n",
    "print(data['text'])"
   ]
  },
  {
   "cell_type": "code",
   "execution_count": 41,
   "id": "dd82fad9-a2bc-4a9a-93eb-f881329af46e",
   "metadata": {},
   "outputs": [
    {
     "name": "stdout",
     "output_type": "stream",
     "text": [
      "                                                                                                                                                                                                          text  \\\n",
      "3      im done tri feel betterth reason im still aliv know mum devast ever kill ever pas im still state im go hesit end life shortli im almost take med go therapi noth seem help enough dont want around a...   \n",
      "5      hey rredflag sure right place post goe im current student intern sandia nation lab work survey help improv market outreach effort mani school recruit around countri look current undergradgrad stem...   \n",
      "45     start feel like endiv marri year give take last wife affair guy tri leav move keep come back guilt decid go back lost job day thanksgiv lucki enough land two interview get offer day thanksgiv leas...   \n",
      "53     fail colleg know long post yo repeat exam im sure fail second time im sure get colleg major friend gt peopl left citi countri parent live km away anyon give good reason end friend left im tire tim...   \n",
      "62     reason suck gener cold unfeel person know definit come dick robot somethin friend rare ever show emot say talk shit must major trust issu someth cuz even tell best friend feel howev time definit d...   \n",
      "...                                                                                                                                                                                                        ...   \n",
      "27881  took lot whatev arm reach definit whole new bottl mg strength ibuprofen along bottl tylenol unsur much lot benadryl oxycodon good news found pas bed hour later last heard sound normal taken hospit...   \n",
      "27906  run optionsmi life gener go downhil past year start pas uncl felt quit close suffer panic attack depress kept calm outsid peopl assum ok around end may learn girlfriend almost two year cheat anoth...   \n",
      "27917  ive wast hour life noth today school receiv grade mine pretti good mediocr fail one angri teacher given wors grade deserv hate mean hour genuin spent studi put effort noth afternoon noth weekend l...   \n",
      "27962  great exampl good dumb movi high art mean script anywher close woodi allen mel brook killer tomato seri four movi cartoon seri basic goodnatur romp gleefulli trampl kind territori zucker rule swit...   \n",
      "27968  wan na dieim shitti feel shitti time constantli make peopl feel shitti somehow cant fix fuck mental take take take never give back im imposs yet peopl still put fuck time one unselfish thing make ...   \n",
      "\n",
      "       label  \n",
      "3          1  \n",
      "5          1  \n",
      "45         1  \n",
      "53         1  \n",
      "62         0  \n",
      "...      ...  \n",
      "27881      1  \n",
      "27906      1  \n",
      "27917      0  \n",
      "27962      0  \n",
      "27968      1  \n",
      "\n",
      "[1437 rows x 2 columns]\n",
      "Number of rows with stemmed words: 1437\n"
     ]
    }
   ],
   "source": [
    "lemmatizer = WordNetLemmatizer()\n",
    "\n",
    "def contains_lemmatization(text):\n",
    "    tokens = word_tokenize(str(text))  \n",
    "    return any(lemmatizer.lemmatize(word) != word for word in tokens)\n",
    "\n",
    "rows_with_lemmatization = data[data['text'].apply(contains_lemmatization)]\n",
    "print(rows_with_lemmatization)\n",
    "\n",
    "count_lemmatization = rows_with_lemmatization.shape[0]\n",
    "print(f\"Number of rows with stemmed words: {count_lemmatization}\")"
   ]
  },
  {
   "cell_type": "markdown",
   "id": "8727fe08-8235-46f1-9f5a-bfdac55380c7",
   "metadata": {},
   "source": [
    "Word frequency"
   ]
  },
  {
   "cell_type": "code",
   "execution_count": 42,
   "id": "15394744-f98b-45e1-92d7-9d404c9b1ba2",
   "metadata": {},
   "outputs": [
    {
     "name": "stdout",
     "output_type": "stream",
     "text": [
      "Text: dear american teen question dutch person heard guy get way easier thing learn age u sooooo thth grader like right guy learn math\n",
      "Word Frequencies: Counter({'guy': 2, 'learn': 2, 'dear': 1, 'american': 1, 'teen': 1, 'question': 1, 'dutch': 1, 'person': 1, 'heard': 1, 'get': 1, 'way': 1, 'easier': 1, 'thing': 1, 'age': 1, 'u': 1, 'sooooo': 1, 'thth': 1, 'grader': 1, 'like': 1, 'right': 1, 'math': 1})\n",
      "--------------------------------------------------\n",
      "Text: noth look forward lifei dont mani reason keep go feel like noth keep go next day make want hang\n",
      "Word Frequencies: Counter({'noth': 2, 'keep': 2, 'go': 2, 'look': 1, 'forward': 1, 'lifei': 1, 'dont': 1, 'mani': 1, 'reason': 1, 'feel': 1, 'like': 1, 'next': 1, 'day': 1, 'make': 1, 'want': 1, 'hang': 1})\n",
      "--------------------------------------------------\n",
      "Text: music recommend im look expand playlist usual genr alt pop minnesota hip hop steampunk variou indi genr artist peopl like cavetown aliceband bug hunter penelop scott variou rhymesay will explor new genresartist anyth gener rap type exclus sex drug cool rapper rap type pretti good pop popular coupl year ago dunno technic genr name anyway anyon got music recommend favorit artistssong\n",
      "Word Frequencies: Counter({'genr': 3, 'music': 2, 'recommend': 2, 'pop': 2, 'variou': 2, 'rap': 2, 'type': 2, 'im': 1, 'look': 1, 'expand': 1, 'playlist': 1, 'usual': 1, 'alt': 1, 'minnesota': 1, 'hip': 1, 'hop': 1, 'steampunk': 1, 'indi': 1, 'artist': 1, 'peopl': 1, 'like': 1, 'cavetown': 1, 'aliceband': 1, 'bug': 1, 'hunter': 1, 'penelop': 1, 'scott': 1, 'rhymesay': 1, 'will': 1, 'explor': 1, 'new': 1, 'genresartist': 1, 'anyth': 1, 'gener': 1, 'exclus': 1, 'sex': 1, 'drug': 1, 'cool': 1, 'rapper': 1, 'pretti': 1, 'good': 1, 'popular': 1, 'coupl': 1, 'year': 1, 'ago': 1, 'dunno': 1, 'technic': 1, 'name': 1, 'anyway': 1, 'anyon': 1, 'got': 1, 'favorit': 1, 'artistssong': 1})\n",
      "--------------------------------------------------\n",
      "Text: im done tri feel betterth reason im still aliv know mum devast ever kill ever pas im still state im go hesit end life shortli im almost take med go therapi noth seem help enough dont want around anymor hate feel like wouldnt wish upon enemi brain feel like constantli like static tv wont shut overthink think im run option dont see live past got accept health scienc degre dont even know wan na tri know im smart mental ill hold back think cant anyth im good enough need fuck help dont know anymor ive run option\n",
      "Word Frequencies: Counter({'im': 8, 'know': 4, 'dont': 4, 'feel': 3, 'like': 3, 'tri': 2, 'still': 2, 'ever': 2, 'go': 2, 'help': 2, 'enough': 2, 'anymor': 2, 'think': 2, 'run': 2, 'option': 2, 'done': 1, 'betterth': 1, 'reason': 1, 'aliv': 1, 'mum': 1, 'devast': 1, 'kill': 1, 'pas': 1, 'state': 1, 'hesit': 1, 'end': 1, 'life': 1, 'shortli': 1, 'almost': 1, 'take': 1, 'med': 1, 'therapi': 1, 'noth': 1, 'seem': 1, 'want': 1, 'around': 1, 'hate': 1, 'wouldnt': 1, 'wish': 1, 'upon': 1, 'enemi': 1, 'brain': 1, 'constantli': 1, 'static': 1, 'tv': 1, 'wont': 1, 'shut': 1, 'overthink': 1, 'see': 1, 'live': 1, 'past': 1, 'got': 1, 'accept': 1, 'health': 1, 'scienc': 1, 'degre': 1, 'even': 1, 'wan': 1, 'na': 1, 'smart': 1, 'mental': 1, 'ill': 1, 'hold': 1, 'back': 1, 'cant': 1, 'anyth': 1, 'good': 1, 'need': 1, 'fuck': 1, 'ive': 1})\n",
      "--------------------------------------------------\n",
      "Text: worri year old girl subject domest physicalment housewithout go lot know girl know girl etc let give brief background known girl year live uk live differ countri kept touch electron mean first girl schizophren host ill dad sever anger issu abus physic mental make serv food wash dish clean hous shout beat petti thing like spill water pick toy floor threaten knife beat plate glass punch head last time got beat around month ago one sibl get beat tri tell mother beat show bruis mother refus believ even laugh probabl fear confront husband yell wife famili treat well either sister mean tell father put troubl famili tend isol even rememb birthday famili cold often tend alien sinc act normal girl often feel suicid due inflict selfharm cut wrist starv believ way famili accept make wors two incid life must tell rape walk back home night initi tell parent sometim later polic report file rape suffer fals pregnanc girl symptom disord like lactat breast happen earli depress incid summer approxim famili sent coupl famili friend wellknown treatment advertis herbal therapi accupunctur etc howev happen next terribl left alon husband wife went somewher el guy tortur instanc made sit contain fill water upto neck close lid imagin kind stress panic would caus schizophren patient miscellan detail gt get visit psychiatrist school abl hide problem psychiatrist note girl abl put front realli well gt five psychiatrist past gt enjoy drawingpaint learn new languag write poem gt depress tend victim mental blame problem want report abus due troubl famili face tell stop cut late problem refus tell anyon abus even tri defend father say fault help although seem extrem suicid concern physic mental abus girl subject everyday healthi environ anyon grow realli wish rescu clutch belliger control father dysfunct famili\n",
      "Word Frequencies: Counter({'girl': 9, 'famili': 8, 'tell': 6, 'beat': 5, 'abus': 4, 'gt': 4, 'mental': 3, 'even': 3, 'father': 3, 'tend': 3, 'psychiatrist': 3, 'problem': 3, 'year': 2, 'subject': 2, 'know': 2, 'etc': 2, 'live': 2, 'mean': 2, 'schizophren': 2, 'physic': 2, 'make': 2, 'like': 2, 'water': 2, 'get': 2, 'tri': 2, 'mother': 2, 'refus': 2, 'believ': 2, 'husband': 2, 'wife': 2, 'well': 2, 'put': 2, 'troubl': 2, 'often': 2, 'suicid': 2, 'due': 2, 'cut': 2, 'incid': 2, 'rape': 2, 'report': 2, 'happen': 2, 'depress': 2, 'abl': 2, 'realli': 2, 'anyon': 2, 'worri': 1, 'old': 1, 'domest': 1, 'physicalment': 1, 'housewithout': 1, 'go': 1, 'lot': 1, 'let': 1, 'give': 1, 'brief': 1, 'background': 1, 'known': 1, 'uk': 1, 'differ': 1, 'countri': 1, 'kept': 1, 'touch': 1, 'electron': 1, 'first': 1, 'host': 1, 'ill': 1, 'dad': 1, 'sever': 1, 'anger': 1, 'issu': 1, 'serv': 1, 'food': 1, 'wash': 1, 'dish': 1, 'clean': 1, 'hous': 1, 'shout': 1, 'petti': 1, 'thing': 1, 'spill': 1, 'pick': 1, 'toy': 1, 'floor': 1, 'threaten': 1, 'knife': 1, 'plate': 1, 'glass': 1, 'punch': 1, 'head': 1, 'last': 1, 'time': 1, 'got': 1, 'around': 1, 'month': 1, 'ago': 1, 'one': 1, 'sibl': 1, 'show': 1, 'bruis': 1, 'laugh': 1, 'probabl': 1, 'fear': 1, 'confront': 1, 'yell': 1, 'treat': 1, 'either': 1, 'sister': 1, 'isol': 1, 'rememb': 1, 'birthday': 1, 'cold': 1, 'alien': 1, 'sinc': 1, 'act': 1, 'normal': 1, 'feel': 1, 'inflict': 1, 'selfharm': 1, 'wrist': 1, 'starv': 1, 'way': 1, 'accept': 1, 'wors': 1, 'two': 1, 'life': 1, 'must': 1, 'walk': 1, 'back': 1, 'home': 1, 'night': 1, 'initi': 1, 'parent': 1, 'sometim': 1, 'later': 1, 'polic': 1, 'file': 1, 'suffer': 1, 'fals': 1, 'pregnanc': 1, 'symptom': 1, 'disord': 1, 'lactat': 1, 'breast': 1, 'earli': 1, 'summer': 1, 'approxim': 1, 'sent': 1, 'coupl': 1, 'friend': 1, 'wellknown': 1, 'treatment': 1, 'advertis': 1, 'herbal': 1, 'therapi': 1, 'accupunctur': 1, 'howev': 1, 'next': 1, 'terribl': 1, 'left': 1, 'alon': 1, 'went': 1, 'somewher': 1, 'el': 1, 'guy': 1, 'tortur': 1, 'instanc': 1, 'made': 1, 'sit': 1, 'contain': 1, 'fill': 1, 'upto': 1, 'neck': 1, 'close': 1, 'lid': 1, 'imagin': 1, 'kind': 1, 'stress': 1, 'panic': 1, 'would': 1, 'caus': 1, 'patient': 1, 'miscellan': 1, 'detail': 1, 'visit': 1, 'school': 1, 'hide': 1, 'note': 1, 'front': 1, 'five': 1, 'past': 1, 'enjoy': 1, 'drawingpaint': 1, 'learn': 1, 'new': 1, 'languag': 1, 'write': 1, 'poem': 1, 'victim': 1, 'blame': 1, 'want': 1, 'face': 1, 'stop': 1, 'late': 1, 'defend': 1, 'say': 1, 'fault': 1, 'help': 1, 'although': 1, 'seem': 1, 'extrem': 1, 'concern': 1, 'everyday': 1, 'healthi': 1, 'environ': 1, 'grow': 1, 'wish': 1, 'rescu': 1, 'clutch': 1, 'belliger': 1, 'control': 1, 'dysfunct': 1})\n",
      "--------------------------------------------------\n"
     ]
    }
   ],
   "source": [
    "def get_word_frequencies(text):\n",
    "    tokens = word_tokenize(text)\n",
    "    word_freq = Counter(tokens)\n",
    "    return word_freq\n",
    "\n",
    "for text in data['text'].head():\n",
    "    word_freq = get_word_frequencies(text)\n",
    "    print(f\"Text: {text}\")\n",
    "    print(\"Word Frequencies:\", word_freq)\n",
    "    print(\"-\" * 50)\n",
    "    "
   ]
  },
  {
   "cell_type": "code",
   "execution_count": 43,
   "id": "8827c725-6603-4c29-a4cc-ee503fd37247",
   "metadata": {},
   "outputs": [
    {
     "data": {
      "text/html": [
       "<div>\n",
       "<style scoped>\n",
       "    .dataframe tbody tr th:only-of-type {\n",
       "        vertical-align: middle;\n",
       "    }\n",
       "\n",
       "    .dataframe tbody tr th {\n",
       "        vertical-align: top;\n",
       "    }\n",
       "\n",
       "    .dataframe thead th {\n",
       "        text-align: right;\n",
       "    }\n",
       "</style>\n",
       "<table border=\"1\" class=\"dataframe\">\n",
       "  <thead>\n",
       "    <tr style=\"text-align: right;\">\n",
       "      <th></th>\n",
       "      <th>text</th>\n",
       "      <th>label</th>\n",
       "    </tr>\n",
       "  </thead>\n",
       "  <tbody>\n",
       "    <tr>\n",
       "      <th>0</th>\n",
       "      <td>dear american teen question dutch person heard guy get way easier thing learn age u sooooo thth grader like right guy learn math</td>\n",
       "      <td>0</td>\n",
       "    </tr>\n",
       "    <tr>\n",
       "      <th>1</th>\n",
       "      <td>noth look forward lifei dont mani reason keep go feel like noth keep go next day make want hang</td>\n",
       "      <td>1</td>\n",
       "    </tr>\n",
       "    <tr>\n",
       "      <th>2</th>\n",
       "      <td>music recommend im look expand playlist usual genr alt pop minnesota hip hop steampunk variou indi genr artist peopl like cavetown aliceband bug hunter penelop scott variou rhymesay will explor ne...</td>\n",
       "      <td>0</td>\n",
       "    </tr>\n",
       "    <tr>\n",
       "      <th>3</th>\n",
       "      <td>im done tri feel betterth reason im still aliv know mum devast ever kill ever pas im still state im go hesit end life shortli im almost take med go therapi noth seem help enough dont want around a...</td>\n",
       "      <td>1</td>\n",
       "    </tr>\n",
       "    <tr>\n",
       "      <th>4</th>\n",
       "      <td>worri year old girl subject domest physicalment housewithout go lot know girl know girl etc let give brief background known girl year live uk live differ countri kept touch electron mean first gir...</td>\n",
       "      <td>1</td>\n",
       "    </tr>\n",
       "    <tr>\n",
       "      <th>...</th>\n",
       "      <td>...</td>\n",
       "      <td>...</td>\n",
       "    </tr>\n",
       "    <tr>\n",
       "      <th>27972</th>\n",
       "      <td>post everyday peopl stop care religion matter privat thing allow share forc other also peopl treat difer religion belief pearson stop seek harm human care other religion</td>\n",
       "      <td>0</td>\n",
       "    </tr>\n",
       "    <tr>\n",
       "      <th>27973</th>\n",
       "      <td>okay definetli need hear guy opinion ive pretti much love one best friend im she f met lot summer pretti much alway ask want meet alway want never ask also slow respond messag she slow repli other...</td>\n",
       "      <td>0</td>\n",
       "    </tr>\n",
       "    <tr>\n",
       "      <th>27974</th>\n",
       "      <td>cant get dog think ill kill myselfth last thing im hold yup first two applic didnt work alreadi receiv mani one look sent third one differ place dont hope high</td>\n",
       "      <td>1</td>\n",
       "    </tr>\n",
       "    <tr>\n",
       "      <th>27975</th>\n",
       "      <td>what point princess bridei realli think like wesley said pb life pain ampxb life suck hurt live get better joy temporari think peopl happi success fulfil live that card wish dead everi day keep wi...</td>\n",
       "      <td>1</td>\n",
       "    </tr>\n",
       "    <tr>\n",
       "      <th>27976</th>\n",
       "      <td>got nude person might might know snapchat ok chick dont know ad snap sent someth open nude dont even know person thought might know school couldnt find yearbook im sure wrong person actual know cu...</td>\n",
       "      <td>0</td>\n",
       "    </tr>\n",
       "  </tbody>\n",
       "</table>\n",
       "<p>27972 rows × 2 columns</p>\n",
       "</div>"
      ],
      "text/plain": [
       "                                                                                                                                                                                                          text  \\\n",
       "0                                                                             dear american teen question dutch person heard guy get way easier thing learn age u sooooo thth grader like right guy learn math   \n",
       "1                                                                                                              noth look forward lifei dont mani reason keep go feel like noth keep go next day make want hang   \n",
       "2      music recommend im look expand playlist usual genr alt pop minnesota hip hop steampunk variou indi genr artist peopl like cavetown aliceband bug hunter penelop scott variou rhymesay will explor ne...   \n",
       "3      im done tri feel betterth reason im still aliv know mum devast ever kill ever pas im still state im go hesit end life shortli im almost take med go therapi noth seem help enough dont want around a...   \n",
       "4      worri year old girl subject domest physicalment housewithout go lot know girl know girl etc let give brief background known girl year live uk live differ countri kept touch electron mean first gir...   \n",
       "...                                                                                                                                                                                                        ...   \n",
       "27972                                post everyday peopl stop care religion matter privat thing allow share forc other also peopl treat difer religion belief pearson stop seek harm human care other religion   \n",
       "27973  okay definetli need hear guy opinion ive pretti much love one best friend im she f met lot summer pretti much alway ask want meet alway want never ask also slow respond messag she slow repli other...   \n",
       "27974                                          cant get dog think ill kill myselfth last thing im hold yup first two applic didnt work alreadi receiv mani one look sent third one differ place dont hope high   \n",
       "27975  what point princess bridei realli think like wesley said pb life pain ampxb life suck hurt live get better joy temporari think peopl happi success fulfil live that card wish dead everi day keep wi...   \n",
       "27976  got nude person might might know snapchat ok chick dont know ad snap sent someth open nude dont even know person thought might know school couldnt find yearbook im sure wrong person actual know cu...   \n",
       "\n",
       "       label  \n",
       "0          0  \n",
       "1          1  \n",
       "2          0  \n",
       "3          1  \n",
       "4          1  \n",
       "...      ...  \n",
       "27972      0  \n",
       "27973      0  \n",
       "27974      1  \n",
       "27975      1  \n",
       "27976      0  \n",
       "\n",
       "[27972 rows x 2 columns]"
      ]
     },
     "execution_count": 43,
     "metadata": {},
     "output_type": "execute_result"
    }
   ],
   "source": [
    "data"
   ]
  },
  {
   "cell_type": "markdown",
   "id": "5d145aa9-e960-478b-9536-89569b63b14e",
   "metadata": {},
   "source": [
    "Saving the data"
   ]
  },
  {
   "cell_type": "code",
   "execution_count": 44,
   "id": "15d56440-5827-480d-8f4f-7b60ac42b4ef",
   "metadata": {},
   "outputs": [],
   "source": [
    "data.to_csv('mental_health_After.csv', index=False)"
   ]
  },
  {
   "cell_type": "code",
   "execution_count": 45,
   "id": "4be4079c",
   "metadata": {},
   "outputs": [
    {
     "data": {
      "text/plain": [
       "label\n",
       "0    14134\n",
       "1    13838\n",
       "Name: count, dtype: int64"
      ]
     },
     "execution_count": 45,
     "metadata": {},
     "output_type": "execute_result"
    }
   ],
   "source": [
    "data.label.value_counts()"
   ]
  },
  {
   "cell_type": "code",
   "execution_count": 46,
   "id": "667138f2",
   "metadata": {},
   "outputs": [],
   "source": [
    "X = data['text'].to_numpy()\n",
    "y = data['label'].to_numpy()"
   ]
  },
  {
   "cell_type": "markdown",
   "id": "6c502d9a",
   "metadata": {},
   "source": [
    "### Split data into train test "
   ]
  },
  {
   "cell_type": "code",
   "execution_count": 47,
   "id": "cbfa0b74",
   "metadata": {},
   "outputs": [],
   "source": [
    "import numpy as np\n",
    "import matplotlib.pyplot as plt\n",
    "import seaborn as sns\n",
    "import string\n",
    "from sklearn.model_selection import train_test_split\n",
    "from sklearn import metrics\n",
    "import tensorflow as tf\n",
    "from tensorflow import keras\n",
    "from tensorflow.keras.preprocessing import sequence\n",
    "from tensorflow.keras.layers import Dense,Embedding\n",
    "from tensorflow.keras.layers import LSTM\n",
    "from tensorflow.keras.preprocessing.text import Tokenizer\n",
    "from tensorflow.keras.preprocessing.sequence import pad_sequences\n",
    "from tensorflow.keras import Sequential"
   ]
  },
  {
   "cell_type": "code",
   "execution_count": 48,
   "id": "43116f74",
   "metadata": {},
   "outputs": [],
   "source": [
    "X_train,X_test,y_train,y_test=train_test_split(X,y, test_size=0.2, stratify=y, random_state=42)"
   ]
  },
  {
   "cell_type": "code",
   "execution_count": 49,
   "id": "86d691d1",
   "metadata": {},
   "outputs": [
    {
     "data": {
      "text/plain": [
       "((22377,), (5595,), (22377,), (5595,))"
      ]
     },
     "execution_count": 49,
     "metadata": {},
     "output_type": "execute_result"
    }
   ],
   "source": [
    "X_train.shape,X_test.shape, y_train.shape, y_test.shape"
   ]
  },
  {
   "cell_type": "code",
   "execution_count": 50,
   "id": "b74316dd",
   "metadata": {},
   "outputs": [
    {
     "data": {
      "text/plain": [
       "(22377, 5595, 22377, 5595)"
      ]
     },
     "execution_count": 50,
     "metadata": {},
     "output_type": "execute_result"
    }
   ],
   "source": [
    "len(X_train), len(X_test), len(y_train), len(y_test)\n"
   ]
  },
  {
   "cell_type": "markdown",
   "id": "38dda40e",
   "metadata": {},
   "source": [
    "##### Text Vectorization \n",
    "To convert text data into numbers"
   ]
  },
  {
   "cell_type": "code",
   "execution_count": 51,
   "id": "ed8e2483",
   "metadata": {},
   "outputs": [],
   "source": [
    "from tensorflow.keras import layers\n",
    "from tensorflow.keras.layers import TextVectorization"
   ]
  },
  {
   "cell_type": "code",
   "execution_count": 52,
   "id": "0f173036",
   "metadata": {},
   "outputs": [],
   "source": [
    "# determines the maximum number of unique tokens \n",
    "maxVocab=None\n",
    "# splitting each text to words and measuring the length of the resulting list\n",
    "text_lengths = [len(text.split()) for text in X_train]\n",
    "\n",
    "percentile_95 = np.percentile(text_lengths, 95)\n",
    "maxLength=int(percentile_95)\n",
    "\n",
    "# Text Vectorization\n",
    "text_vectorizer = TextVectorization(\n",
    "    max_tokens=maxVocab,  \n",
    "    output_mode=\"int\",\n",
    "    output_sequence_length=maxLength\n",
    ")"
   ]
  },
  {
   "cell_type": "code",
   "execution_count": 53,
   "id": "1dc32380",
   "metadata": {},
   "outputs": [],
   "source": [
    "# Fit the text vectorizer to the training text\n",
    "text_vectorizer.adapt(X_train)"
   ]
  },
  {
   "cell_type": "code",
   "execution_count": 57,
   "id": "f3f46867",
   "metadata": {},
   "outputs": [
    {
     "name": "stdout",
     "output_type": "stream",
     "text": [
      "Number of words in vocab: 47031\n",
      "Top 5 most common words: ['', '[UNK]', 'im', 'like', 'want']\n"
     ]
    }
   ],
   "source": [
    "words_in_vocab = text_vectorizer.get_vocabulary()\n",
    "top_5_words = words_in_vocab[:5] # most common tokens \n",
    "max_vocab_length = len(words_in_vocab)\n",
    "print(f\"Number of words in vocab: {len(words_in_vocab)}\")\n",
    "print(f\"Top 5 most common words: {top_5_words}\")"
   ]
  },
  {
   "cell_type": "markdown",
   "id": "a64c41c8",
   "metadata": {},
   "source": [
    "<h1>GRU Model</h1>"
   ]
  },
  {
   "cell_type": "code",
   "execution_count": 67,
   "id": "647f08ee",
   "metadata": {},
   "outputs": [],
   "source": [
    "# The Model initialization \n",
    "# controlling random number generation in TensorFlow\n",
    "tf.random.set_seed(42)\n",
    "model_GRU_embedding = layers.Embedding(input_dim=max_vocab_length,         # Vocabulary size\n",
    "                                        output_dim=128,                    # Dimension of the dense embedding vectors\n",
    "                                        embeddings_initializer=\"uniform\",  # Initializes the embedding matrix\n",
    "                                        input_length=maxLength,           # Maximum sequence length for the input text\n",
    "                                        name=\"embedding_GRU\")\n",
    "\n",
    "inputs = layers.Input(shape=(1,), dtype=\"string\")\n",
    "# Text Vectorizer as a function that tokenizes and converts input text into numerical form\n",
    "x = text_vectorizer(inputs)\n",
    "# The embedding layer converts these tokens into dense ( a value with a meaning not just number) vector representations\n",
    "x = model_GRU_embedding(x)\n",
    "# GRU First Layer\n",
    "x = layers.GRU(64, return_sequences=True)(x)\n",
    "# GRU Second Layer\n",
    "x = layers.GRU(64)(x)\n",
    "# Optional Dense Layers\n",
    "x = layers.Dense(64, activation=\"relu\")(x) \n",
    "outputs = layers.Dense(1, activation=\"sigmoid\")(x)\n",
    "# Combines the layers into a complete Keras Model\n",
    "model_GRU_try = tf.keras.Model(inputs, outputs, name=\"model_GRU\")\n",
    "\n"
   ]
  },
  {
   "cell_type": "code",
   "execution_count": 68,
   "id": "450c6e68",
   "metadata": {},
   "outputs": [],
   "source": [
    "# Compile GRU model\n",
    "model_GRU_try.compile(loss=\"binary_crossentropy\",\n",
    "                optimizer=tf.keras.optimizers.Adam(),\n",
    "                metrics=[\"accuracy\"])"
   ]
  },
  {
   "cell_type": "code",
   "execution_count": 70,
   "id": "3348d316",
   "metadata": {},
   "outputs": [
    {
     "name": "stdout",
     "output_type": "stream",
     "text": [
      "Epoch 1/3\n",
      "\u001b[1m700/700\u001b[0m \u001b[32m━━━━━━━━━━━━━━━━━━━━\u001b[0m\u001b[37m\u001b[0m \u001b[1m70s\u001b[0m 96ms/step - accuracy: 0.5247 - loss: 0.6859 - val_accuracy: 0.5500 - val_loss: 0.6152\n",
      "Epoch 2/3\n",
      "\u001b[1m700/700\u001b[0m \u001b[32m━━━━━━━━━━━━━━━━━━━━\u001b[0m\u001b[37m\u001b[0m \u001b[1m68s\u001b[0m 97ms/step - accuracy: 0.8682 - loss: 0.3438 - val_accuracy: 0.9239 - val_loss: 0.2076\n",
      "Epoch 3/3\n",
      "\u001b[1m700/700\u001b[0m \u001b[32m━━━━━━━━━━━━━━━━━━━━\u001b[0m\u001b[37m\u001b[0m \u001b[1m68s\u001b[0m 97ms/step - accuracy: 0.9517 - loss: 0.1432 - val_accuracy: 0.9235 - val_loss: 0.2200\n"
     ]
    }
   ],
   "source": [
    "# Fit model\n",
    "model_GRU_history = model_GRU_try.fit(X_train, y_train,\n",
    "                                epochs=3,\n",
    "                                validation_data=(X_test, y_test))"
   ]
  },
  {
   "cell_type": "code",
   "execution_count": 72,
   "id": "7e933454",
   "metadata": {},
   "outputs": [
    {
     "name": "stdout",
     "output_type": "stream",
     "text": [
      "\u001b[1m175/175\u001b[0m \u001b[32m━━━━━━━━━━━━━━━━━━━━\u001b[0m\u001b[37m\u001b[0m \u001b[1m4s\u001b[0m 20ms/step\n"
     ]
    }
   ],
   "source": [
    "# Make predictions using the trained model\n",
    "preds = model_GRU_try.predict(X_test)\n",
    "\n",
    "# Convert true labels to a list\n",
    "y_true = y_test.tolist()  # Assuming y_test is a TensorFlow tensor or NumPy array\n",
    "\n",
    "# Prepare predictions\n",
    "y_probs = preds.squeeze()  # Remove singleton dimensions if needed\n",
    "y_preds = tf.round(y_probs).numpy().tolist()"
   ]
  },
  {
   "cell_type": "code",
   "execution_count": 73,
   "id": "35885b74",
   "metadata": {},
   "outputs": [
    {
     "data": {
      "text/plain": [
       "array([[2604,  223],\n",
       "       [ 205, 2563]], dtype=int64)"
      ]
     },
     "execution_count": 73,
     "metadata": {},
     "output_type": "execute_result"
    }
   ],
   "source": [
    "from sklearn.metrics import confusion_matrix\n",
    "confusion_matrix(\n",
    "    y_true=y_true,\n",
    "    y_pred=y_preds)"
   ]
  },
  {
   "cell_type": "code",
   "execution_count": 75,
   "id": "8cff5afe",
   "metadata": {},
   "outputs": [
    {
     "data": {
      "image/png": "[encoded data removed]",
      "text/plain": [
       "<Figure size 800x600 with 2 Axes>"
      ]
     },
     "metadata": {},
     "output_type": "display_data"
    }
   ],
   "source": [
    "cm = confusion_matrix(y_true, y_preds)\n",
    "\n",
    "# Step 2: Plot the confusion matrix as a heatmap\n",
    "plt.figure(figsize=(8, 6))\n",
    "sns.heatmap(cm, annot=True, fmt='d', cmap='Blues', xticklabels=[\"0\", \"1\"], yticklabels=[\"0\", \"1\"])\n",
    "plt.xlabel('Predicted Labels')\n",
    "plt.ylabel('True Labels')\n",
    "plt.title('Confusion Matrix')\n",
    "plt.show()"
   ]
  },
  {
   "cell_type": "code",
   "execution_count": 76,
   "id": "37ab1c04",
   "metadata": {},
   "outputs": [
    {
     "name": "stdout",
     "output_type": "stream",
     "text": [
      "Classification Report:\n",
      "\n",
      "              precision    recall  f1-score   support\n",
      "\n",
      "     Class 0       0.93      0.92      0.92      2827\n",
      "     Class 1       0.92      0.93      0.92      2768\n",
      "\n",
      "    accuracy                           0.92      5595\n",
      "   macro avg       0.92      0.92      0.92      5595\n",
      "weighted avg       0.92      0.92      0.92      5595\n",
      "\n"
     ]
    }
   ],
   "source": [
    "from sklearn.metrics import classification_report, confusion_matrix\n",
    "cm = confusion_matrix(y_true, y_preds)\n",
    "report = classification_report(y_true, y_preds, target_names=[\"Class 0\", \"Class 1\"])  # Replace with your class names\n",
    "print(\"Classification Report:\\n\")\n",
    "print(report)"
   ]
  },
  {
   "cell_type": "code",
   "execution_count": 77,
   "id": "9c78d069",
   "metadata": {},
   "outputs": [],
   "source": [
    "import numpy as np\n",
    "\n",
    "def random_predictions_gru(model, X_test, y_test, num_samples=5, class_names=None):\n",
    "    # Select random samples\n",
    "    random_indices = np.random.choice(len(X_test), size=num_samples, replace=False)\n",
    "    random_X_samples =X_test[random_indices]\n",
    "    random_y_samples = y_test[random_indices]\n",
    "\n",
    "    # Get predictions\n",
    "    y_pred_probs = model.predict(random_X_samples)\n",
    "    y_pred = np.argmax(y_pred_probs, axis=1)\n",
    "\n",
    "    # Print results\n",
    "    for i in range(num_samples):\n",
    "        true_label = np.argmax(random_y_samples[i]) if class_names is not None else random_y_samples[i]\n",
    "        predicted_label = y_pred[i]\n",
    "        \n",
    "        # Use class names if available\n",
    "        true_label_name = class_names[true_label] if class_names else true_label\n",
    "        predicted_label_name = class_names[predicted_label] if class_names else predicted_label\n",
    "\n",
    "        print(f\"\\nSample {i + 1}:\")\n",
    "        print(f\"Text: {random_X_samples[i]}\")\n",
    "        print(f\"True: {true_label_name} | Predicted: {predicted_label_name}\")\n"
   ]
  },
  {
   "cell_type": "code",
   "execution_count": 78,
   "id": "f6fc8a70",
   "metadata": {},
   "outputs": [
    {
     "name": "stdout",
     "output_type": "stream",
     "text": [
      "\u001b[1m1/1\u001b[0m \u001b[32m━━━━━━━━━━━━━━━━━━━━\u001b[0m\u001b[37m\u001b[0m \u001b[1m0s\u001b[0m 44ms/step\n",
      "\n",
      "Sample 1:\n",
      "Text: sicknot sick shit go life ive make physic sick past day im suppos class right cant bring leav hous want want today day ive sit actuelli entir weekend contempl im aliv fuck lone soulmat girlfriend that main issu suffer everi singl day best friend even text anymor god know know fact theyr replac though best femal friend let call sue friend past year best friend replac peopl think sick shit secretli someth there famili know bad life im embarrass show know mood crap time im sure clue cant bring tell year fuck situat guy undoubtedli soulmat depress cant that key point plea call fuck stupid depress naiv immatur year old beg famili shit ever togeth tell theyd hate alreadi im pretti sure realli dislik know he done emot know still aliv need know someth what point aliv constantli alon need emot stabil\n",
      "True: Non-mental-health | Predicted: Non-mental-health\n",
      "\n",
      "Sample 2:\n",
      "Text: suicidali need help life spiral control\n",
      "True: Non-mental-health | Predicted: Non-mental-health\n",
      "\n",
      "Sample 3:\n",
      "Text: think crush replica might think wan na point fact similar think much common nope crush exact height interest decent sport reddit game anim one despis tik tok watch highschool dxd actual watch plot random jojo pose public class wan na speak front class coincid dont know\n",
      "True: Non-mental-health | Predicted: Non-mental-health\n",
      "\n",
      "Sample 4:\n",
      "Text: dad sat phone laptop fuck sat pound lookin as broke laptop crack phone screen aaaaaaaaaaaaaaaaaaaaaaaaaa\n",
      "True: Non-mental-health | Predicted: Non-mental-health\n",
      "\n",
      "Sample 5:\n",
      "Text: canti depress basic whole life bulli help one bit daughter who month old love death world im still deal post partum depress recent quit job trust anyon watch fianc honestli know anymor noth help also anxieti that add bonu fianc get mad feel like fault honestli feel like grow apart feel like want anymor anyon talk tell fianc get upset cant feel like im good anymor look daughter eye cri cant leav cant stay im stuck im scare even commit redflag honestli want live im realli depress\n",
      "True: Non-mental-health | Predicted: Non-mental-health\n",
      "\n",
      "Sample 6:\n",
      "Text: anyon el find peopl age cute cute romant way cute\n",
      "True: Non-mental-health | Predicted: Non-mental-health\n",
      "\n",
      "Sample 7:\n",
      "Text: sever redflag ocd today let get best look phone huge breach trust hate hate hate mind lot think would better kill self make emot problem baggag peopl problem edg right wonder even benefit exist caus fianc much emot diredflag relaps opiat think ill ever abl forgiv he clean go month\n",
      "True: Non-mental-health | Predicted: Non-mental-health\n",
      "\n",
      "Sample 8:\n",
      "Text: stop pretend helpfulno insep went throat went got cose h h e w well ever knew wouldnt done knew knew fault de n n day class went morn cattl drover wontt go see today donmt thinj abl finish homework wont come like wont come like that keep get troubl fail tri lose give bet friend tire keep give im tire tri make harder one help gone whole life mental health system fail everi chanc got mother told lie everyon thought lie well dead child hand mom bet wont think lie noth help one want im pain head hurt emot hurt feel hurt feel pain translat pain dont know dont mean mental pain hurt differ hurt physic bet friend tire keep give thing alway happen talk feel bad profession wont help suppos dont tell friend much detail tell im sad im depress want die feel like burden never good enough hold reach everyon say get turn fall crack one want believ seriou urgent situat peopl get help cant believ one person cant hope colleg faculti push point get fire find dead ignor said temper tantrum cant stop scream everyon gave everyon given evid expect chang\n",
      "True: Non-mental-health | Predicted: Non-mental-health\n",
      "\n",
      "Sample 9:\n",
      "Text: go studi would like peopl say work physic rest life life probabl wors death believ life death fact go hell restrain life earth hell painless way kill buy poison sometim death best happen u\n",
      "True: Non-mental-health | Predicted: Non-mental-health\n",
      "\n",
      "Sample 10:\n",
      "Text: talk le hate bore talk regret everyth feel like share ask mani question talk peopl complic hate\n",
      "True: Non-mental-health | Predicted: Non-mental-health\n",
      "\n",
      "Sample 11:\n",
      "Text: alot redflag peopl expect work morn even car workshop colleagu mean still learn one friend hang bigger group hate reason hang pull make fun friend want interfer stole dad booz got drunk cri bed realli want kill plea help fuck tire\n",
      "True: Non-mental-health | Predicted: Non-mental-health\n",
      "\n",
      "Sample 12:\n",
      "Text: look ugli suck everyth alway fuck everyth talent sing danc draw etc keep get yell annoy voic hell friend nobodi love singl like go die alon still redeem qualiti\n",
      "True: Non-mental-health | Predicted: Non-mental-health\n",
      "\n",
      "Sample 13:\n",
      "Text: tri hang wood todaytook hour find good tree low branch got cut hand tri climb got hard cabl fasten noos easi enough drop basic tipto tri suffoc got realli angri climb highest could jump noos around neck sort work hung like idiot coupl minut sort fell asleep woke foot touch ground went home take shit yay failur\n",
      "True: Non-mental-health | Predicted: Non-mental-health\n",
      "\n",
      "Sample 14:\n",
      "Text: hit follow nobodi follow want number stay sinc nice number\n",
      "True: Non-mental-health | Predicted: Non-mental-health\n",
      "\n",
      "Sample 15:\n",
      "Text: daili thought redflageveryday redflag seem like best option end pain year therapi help understand hurt resolv pain im year old job pay well year almost one month sober suffer ptsd adhd depress disord behavior addict constantli need approv other order maintain self esteem battl intern fit rage trigger mistak made work fabric memori neglect spite mother distant older brother meaning friendship life ive never meaning relationship woman almost everi sexual encount rare onestand usual paid escort habit expens sexual outlet mainli masturb porn suffer erectil dysfunct physic natur assum year chronic masturb damag way man age live id soon end life recent major surgeri surgeon wrote prescript hydrocodonetylenol pain killer muscl relax bare use hydrocodon tablet dozen muscl relax daili thought take think would let sleep wake\n",
      "True: Non-mental-health | Predicted: Non-mental-health\n",
      "\n",
      "Sample 16:\n",
      "Text: im gon na end myselfi share bit stori might bit long skip end want explain born franc villag countrysid mom dad big si littl bro live pretti normal friend rel happi famili littl shit time alway get hurt stupid shit think mayb parent thought autist someth alway kinda special bit emot mayb let carri th birthday move place job issu issu make friend im bit weird that okay time goe pretti much peac hous bit unhealthi alway get sick father built new hous move new hous pretti clean cool parent divorc alway rememb moment two sibl mom dad yell stand cri well someth special lot coupl get divorc consid special case occurr destroy think root mental state today like thought mayb bit emot mom took u move anoth villag see dad everi two week told u dad one want divorc multipl time talk dad anoth school someth differ hard keep class hard time make friend im talk le le peopl noth special part except two thing bit lone disgust scutigera live hous creep hate thing final turn time middl school collg franc time make friend good im even lone im start get bulli pretti clich right im weird kid talk much mani friend kid nobodi want team sport alway get trashtalk use found pornmag ground time furiou stroke great time im highschool time yayyy shit bulli cool im move dad appart much closer mom hous big si move im im get degre baccalaur im start electr technician format im work gendarmeri french countrysid polic forc reservist get bit money holiday im still technician format realli anyth big void want opinion shit go pretti quickli point turn mother cheat father father knew led divorc mother brainwash sibl year father knew know truth big si lil bro believ big si confront father yell yell lot big si pack belong leav appart never heard ever dad say big si rape grandpa mother side littl fuck go lil bro attend school anymor he still mother hostil relat father father go confront lil bro mother smell danger im go mother hous lil bro pull knife threaten father say thing like fault shitti life thing like leav place im never go anymor hello depress old friend im tire shit im get im get ground armi forc month format nice month format sport coach break finger year rehabilit im fire armi go back father appart work pretti far anoth appart im alon year total solitud start take opiat medecin fun im bit alcohol sever depress suicid thought everyday courag take action end rehabilit fuck final fuck ground forc im go air forc im go avion mechan job pretti cool bunch im fun format easier ground forc that good covidchan incom month total isol day worsen dark thought wan na get wan na see anybodi wan na eat still got ta strong father sad end confin go back base wan na want end get month holiday week base hell go back appart im tire give shit anymor ampxb ampxb next sentenc end im im tire realli tire im alon want meet peopl anymor even father still make friend never grirlfriend still virgin state mental nothing feel anyth anymor even anger bit money im distribut bit random peopl without notic aka mailbox found random place far away peopl countrysid im pack lot alcool gasolin go place im gon na drink till cant even think anyth im gon na set car fire that want finish let burn want disappear ampxb realli badli written sorri like said could go end im still sure take action august that sure ampxb thank read\n",
      "True: Non-mental-health | Predicted: Non-mental-health\n",
      "\n",
      "Sample 17:\n",
      "Text: pickup line valentin tomorrow hey girl four macromolecul build block life carbohydr lipid protein nucleic acid ampxb co cant live without\n",
      "True: Non-mental-health | Predicted: Non-mental-health\n",
      "\n",
      "Sample 18:\n",
      "Text: anyon el feel sad feel sad noth pandem anyth el im stuck continu loop dont know dont know want dont anyon hang im confus help\n",
      "True: Non-mental-health | Predicted: Non-mental-health\n",
      "\n",
      "Sample 19:\n",
      "Text: hello hii what day fun\n",
      "True: Non-mental-health | Predicted: Non-mental-health\n",
      "\n",
      "Sample 20:\n",
      "Text: wierd stori found look copypasta garden gnome noggin clontith walk around street suddenli alleyway find among u seck anim girl gnome ask wat amung u among u among u respond say seck wit anim girl ok said gnome anim girl cum ok im cum wait said gnome seem someon watch seck besid point gnome ahh that kinda su said among u drip tip final impostor reveal himslef jerma su ye respond evel jerma su oh said anim girl cum everi millisecond he gon na kill u said amung u creamp anim girl pussi everyth seem end suddenli hero emerg dark recit banish word said hero pepe frog pepe recit word su jerma melt cum here pic extrem gori moment su jerma dead among u continu cum insid anim girl mouth pussi anu pepe mighti hero went help peopl gnome noggin clontith walk home feel safe hope like op stori epic\n",
      "True: Non-mental-health | Predicted: Non-mental-health\n"
     ]
    }
   ],
   "source": [
    "data = {\n",
    "    'Label': [\"Non-mental-health\", \"Mental-health\"],\n",
    "    'Label Encoded': [0,1]\n",
    "}\n",
    "data=pd.DataFrame(data)\n",
    "class_names=data.Label.to_list()\n",
    "random_predictions_gru(\n",
    "                        model_GRU_try,\n",
    "                        X_test,\n",
    "                        y_test,\n",
    "                        num_samples=20,\n",
    "                        class_names=class_names)"
   ]
  }
 ],
 "metadata": {
  "kernelspec": {
   "display_name": "Python 3",
   "language": "python",
   "name": "python3"
  },
  "language_info": {
   "codemirror_mode": {
    "name": "ipython",
    "version": 3
   },
   "file_extension": ".py",
   "mimetype": "text/x-python",
   "name": "python",
   "nbconvert_exporter": "python",
   "pygments_lexer": "ipython3",
   "version": "3.12.2"
  }
 },
 "nbformat": 4,
 "nbformat_minor": 5
}
