{
  "cells": [
    {
      "cell_type": "code",
      "execution_count": 8,
      "id": "cbb0948e-fe35-4945-965d-b63d09f76ffd",
      "metadata": {
        "id": "cbb0948e-fe35-4945-965d-b63d09f76ffd"
      },
      "outputs": [],
      "source": [
        "import warnings\n",
        "warnings.filterwarnings('ignore')"
      ]
    },
    {
      "cell_type": "markdown",
      "id": "57facc8e-5bac-4290-a49b-acd91d469642",
      "metadata": {
        "id": "57facc8e-5bac-4290-a49b-acd91d469642"
      },
      "source": [
        "Importing libraires"
      ]
    },
    {
      "cell_type": "code",
      "execution_count": 86,
      "id": "9eb26a75-9d46-4065-99d5-3cbcae63ef3c",
      "metadata": {
        "id": "9eb26a75-9d46-4065-99d5-3cbcae63ef3c"
      },
      "outputs": [],
      "source": [
        "import pandas as pd\n",
        "import re\n",
        "import nltk\n",
        "from nltk.tokenize import word_tokenize\n",
        "from nltk.corpus import stopwords\n",
        "from nltk.stem.porter import PorterStemmer\n",
        "from nltk.stem import WordNetLemmatizer\n",
        "from collections import Counter\n",
        "from nltk.util import ngrams\n",
        "import numpy as np\n",
        "import matplotlib.pyplot as plt\n",
        "import seaborn as sns\n",
        "import string\n",
        "from sklearn.model_selection import train_test_split\n",
        "from sklearn import metrics\n",
        "import tensorflow as tf\n",
        "from tensorflow import keras\n",
        "from tensorflow.keras.preprocessing import sequence\n",
        "from tensorflow.keras.layers import Dense,Embedding\n",
        "from tensorflow.keras.layers import LSTM\n",
        "from tensorflow.keras.preprocessing.text import Tokenizer\n",
        "from tensorflow.keras.preprocessing.sequence import pad_sequences\n",
        "from tensorflow.keras import Sequential\n",
        "classification_report_dict={}"
      ]
    },
    {
      "cell_type": "markdown",
      "id": "86fce1d9-df5c-485a-9d9e-f922c48ac141",
      "metadata": {
        "id": "86fce1d9-df5c-485a-9d9e-f922c48ac141"
      },
      "source": [
        "Download packages"
      ]
    },
    {
      "cell_type": "code",
      "execution_count": 10,
      "id": "eecc8d1e-a4ff-4b88-9b73-1819930f801b",
      "metadata": {
        "colab": {
          "base_uri": "https://localhost:8080/"
        },
        "id": "eecc8d1e-a4ff-4b88-9b73-1819930f801b",
        "outputId": "92e0c8fa-2367-41ee-a672-290aaa9051a5"
      },
      "outputs": [
        {
          "name": "stderr",
          "output_type": "stream",
          "text": [
            "[nltk_data] Downloading package punkt to\n",
            "[nltk_data]     C:\\Users\\KING\\AppData\\Roaming\\nltk_data...\n",
            "[nltk_data]   Package punkt is already up-to-date!\n"
          ]
        },
        {
          "data": {
            "text/plain": [
              "True"
            ]
          },
          "execution_count": 10,
          "metadata": {},
          "output_type": "execute_result"
        }
      ],
      "source": [
        "nltk.download('punkt')"
      ]
    },
    {
      "cell_type": "code",
      "execution_count": 11,
      "id": "4c6c5740-cbae-414b-893a-a27bf7b77d24",
      "metadata": {
        "colab": {
          "base_uri": "https://localhost:8080/"
        },
        "id": "4c6c5740-cbae-414b-893a-a27bf7b77d24",
        "outputId": "c82b3c92-cd6f-4ed5-8082-fc8b73dfa27c"
      },
      "outputs": [
        {
          "name": "stderr",
          "output_type": "stream",
          "text": [
            "[nltk_data] Downloading package stopwords to\n",
            "[nltk_data]     C:\\Users\\KING\\AppData\\Roaming\\nltk_data...\n",
            "[nltk_data]   Package stopwords is already up-to-date!\n"
          ]
        },
        {
          "data": {
            "text/plain": [
              "True"
            ]
          },
          "execution_count": 11,
          "metadata": {},
          "output_type": "execute_result"
        }
      ],
      "source": [
        "nltk.download('stopwords')"
      ]
    },
    {
      "cell_type": "code",
      "execution_count": 12,
      "id": "8ea57333-1226-41fc-93a9-6b7c090ff679",
      "metadata": {
        "colab": {
          "base_uri": "https://localhost:8080/"
        },
        "id": "8ea57333-1226-41fc-93a9-6b7c090ff679",
        "outputId": "ce302c5e-721e-42c9-de6c-b5eca86532aa"
      },
      "outputs": [
        {
          "name": "stderr",
          "output_type": "stream",
          "text": [
            "[nltk_data] Downloading package wordnet to\n",
            "[nltk_data]     C:\\Users\\KING\\AppData\\Roaming\\nltk_data...\n",
            "[nltk_data]   Package wordnet is already up-to-date!\n"
          ]
        },
        {
          "data": {
            "text/plain": [
              "True"
            ]
          },
          "execution_count": 12,
          "metadata": {},
          "output_type": "execute_result"
        }
      ],
      "source": [
        "nltk.download('wordnet')"
      ]
    },
    {
      "cell_type": "markdown",
      "id": "69b4faa7-8957-40dd-9129-3870c4a31e59",
      "metadata": {
        "id": "69b4faa7-8957-40dd-9129-3870c4a31e59"
      },
      "source": [
        "Import data"
      ]
    },
    {
      "cell_type": "code",
      "execution_count": 13,
      "id": "2117d276-c0d3-4871-95c0-dac45842e4c5",
      "metadata": {
        "colab": {
          "base_uri": "https://localhost:8080/",
          "height": 423
        },
        "id": "2117d276-c0d3-4871-95c0-dac45842e4c5",
        "outputId": "4f9c35a0-0cad-4463-c04f-fe2cd1729530"
      },
      "outputs": [
        {
          "data": {
            "text/html": [
              "<div>\n",
              "<style scoped>\n",
              "    .dataframe tbody tr th:only-of-type {\n",
              "        vertical-align: middle;\n",
              "    }\n",
              "\n",
              "    .dataframe tbody tr th {\n",
              "        vertical-align: top;\n",
              "    }\n",
              "\n",
              "    .dataframe thead th {\n",
              "        text-align: right;\n",
              "    }\n",
              "</style>\n",
              "<table border=\"1\" class=\"dataframe\">\n",
              "  <thead>\n",
              "    <tr style=\"text-align: right;\">\n",
              "      <th></th>\n",
              "      <th>text</th>\n",
              "      <th>label</th>\n",
              "    </tr>\n",
              "  </thead>\n",
              "  <tbody>\n",
              "    <tr>\n",
              "      <th>0</th>\n",
              "      <td>dear american teens question dutch person hear...</td>\n",
              "      <td>0</td>\n",
              "    </tr>\n",
              "    <tr>\n",
              "      <th>1</th>\n",
              "      <td>nothing look forward lifei dont many reasons k...</td>\n",
              "      <td>1</td>\n",
              "    </tr>\n",
              "    <tr>\n",
              "      <th>2</th>\n",
              "      <td>music recommendations im looking expand playli...</td>\n",
              "      <td>0</td>\n",
              "    </tr>\n",
              "    <tr>\n",
              "      <th>3</th>\n",
              "      <td>im done trying feel betterthe reason im still ...</td>\n",
              "      <td>1</td>\n",
              "    </tr>\n",
              "    <tr>\n",
              "      <th>4</th>\n",
              "      <td>worried  year old girl subject domestic physic...</td>\n",
              "      <td>1</td>\n",
              "    </tr>\n",
              "    <tr>\n",
              "      <th>...</th>\n",
              "      <td>...</td>\n",
              "      <td>...</td>\n",
              "    </tr>\n",
              "    <tr>\n",
              "      <th>27972</th>\n",
              "      <td>posting everyday people stop caring  religion ...</td>\n",
              "      <td>0</td>\n",
              "    </tr>\n",
              "    <tr>\n",
              "      <th>27973</th>\n",
              "      <td>okay definetly need hear guys opinion ive pret...</td>\n",
              "      <td>0</td>\n",
              "    </tr>\n",
              "    <tr>\n",
              "      <th>27974</th>\n",
              "      <td>cant get dog think ill kill myselfthe last thi...</td>\n",
              "      <td>1</td>\n",
              "    </tr>\n",
              "    <tr>\n",
              "      <th>27975</th>\n",
              "      <td>whats point princess bridei really think like ...</td>\n",
              "      <td>1</td>\n",
              "    </tr>\n",
              "    <tr>\n",
              "      <th>27976</th>\n",
              "      <td>got nudes person might might know snapchat do ...</td>\n",
              "      <td>0</td>\n",
              "    </tr>\n",
              "  </tbody>\n",
              "</table>\n",
              "<p>27977 rows × 2 columns</p>\n",
              "</div>"
            ],
            "text/plain": [
              "                                                    text  label\n",
              "0      dear american teens question dutch person hear...      0\n",
              "1      nothing look forward lifei dont many reasons k...      1\n",
              "2      music recommendations im looking expand playli...      0\n",
              "3      im done trying feel betterthe reason im still ...      1\n",
              "4      worried  year old girl subject domestic physic...      1\n",
              "...                                                  ...    ...\n",
              "27972  posting everyday people stop caring  religion ...      0\n",
              "27973  okay definetly need hear guys opinion ive pret...      0\n",
              "27974  cant get dog think ill kill myselfthe last thi...      1\n",
              "27975  whats point princess bridei really think like ...      1\n",
              "27976  got nudes person might might know snapchat do ...      0\n",
              "\n",
              "[27977 rows x 2 columns]"
            ]
          },
          "execution_count": 13,
          "metadata": {},
          "output_type": "execute_result"
        }
      ],
      "source": [
        "data=pd.read_csv(r'D:\\python\\toolsProject\\mental_health.csv\\mental_health.csv')\n",
        "data"
      ]
    },
    {
      "cell_type": "markdown",
      "id": "4482b473-c0ff-40c5-b786-520b30a1ddf2",
      "metadata": {
        "id": "4482b473-c0ff-40c5-b786-520b30a1ddf2"
      },
      "source": [
        "Get informations about the data"
      ]
    },
    {
      "cell_type": "code",
      "execution_count": 14,
      "id": "00c4f507-b232-445a-9fa2-954b80990416",
      "metadata": {
        "colab": {
          "base_uri": "https://localhost:8080/"
        },
        "id": "00c4f507-b232-445a-9fa2-954b80990416",
        "outputId": "6126c241-443b-4b23-da28-b38d8734b8bd"
      },
      "outputs": [
        {
          "name": "stdout",
          "output_type": "stream",
          "text": [
            "<class 'pandas.core.frame.DataFrame'>\n",
            "RangeIndex: 27977 entries, 0 to 27976\n",
            "Data columns (total 2 columns):\n",
            " #   Column  Non-Null Count  Dtype \n",
            "---  ------  --------------  ----- \n",
            " 0   text    27977 non-null  object\n",
            " 1   label   27977 non-null  int64 \n",
            "dtypes: int64(1), object(1)\n",
            "memory usage: 437.3+ KB\n"
          ]
        }
      ],
      "source": [
        "data.info()"
      ]
    },
    {
      "cell_type": "markdown",
      "id": "ceb55fb2-41b3-4364-b320-31fa7ca757ff",
      "metadata": {
        "id": "ceb55fb2-41b3-4364-b320-31fa7ca757ff"
      },
      "source": [
        "Display firat 5 rows"
      ]
    },
    {
      "cell_type": "code",
      "execution_count": 15,
      "id": "4b8603b6-4186-48e0-b28d-38bb6f0f445b",
      "metadata": {
        "colab": {
          "base_uri": "https://localhost:8080/",
          "height": 206
        },
        "id": "4b8603b6-4186-48e0-b28d-38bb6f0f445b",
        "outputId": "3824acab-6780-4970-d471-2959e970f1a7"
      },
      "outputs": [
        {
          "data": {
            "text/html": [
              "<div>\n",
              "<style scoped>\n",
              "    .dataframe tbody tr th:only-of-type {\n",
              "        vertical-align: middle;\n",
              "    }\n",
              "\n",
              "    .dataframe tbody tr th {\n",
              "        vertical-align: top;\n",
              "    }\n",
              "\n",
              "    .dataframe thead th {\n",
              "        text-align: right;\n",
              "    }\n",
              "</style>\n",
              "<table border=\"1\" class=\"dataframe\">\n",
              "  <thead>\n",
              "    <tr style=\"text-align: right;\">\n",
              "      <th></th>\n",
              "      <th>text</th>\n",
              "      <th>label</th>\n",
              "    </tr>\n",
              "  </thead>\n",
              "  <tbody>\n",
              "    <tr>\n",
              "      <th>0</th>\n",
              "      <td>dear american teens question dutch person hear...</td>\n",
              "      <td>0</td>\n",
              "    </tr>\n",
              "    <tr>\n",
              "      <th>1</th>\n",
              "      <td>nothing look forward lifei dont many reasons k...</td>\n",
              "      <td>1</td>\n",
              "    </tr>\n",
              "    <tr>\n",
              "      <th>2</th>\n",
              "      <td>music recommendations im looking expand playli...</td>\n",
              "      <td>0</td>\n",
              "    </tr>\n",
              "    <tr>\n",
              "      <th>3</th>\n",
              "      <td>im done trying feel betterthe reason im still ...</td>\n",
              "      <td>1</td>\n",
              "    </tr>\n",
              "    <tr>\n",
              "      <th>4</th>\n",
              "      <td>worried  year old girl subject domestic physic...</td>\n",
              "      <td>1</td>\n",
              "    </tr>\n",
              "  </tbody>\n",
              "</table>\n",
              "</div>"
            ],
            "text/plain": [
              "                                                text  label\n",
              "0  dear american teens question dutch person hear...      0\n",
              "1  nothing look forward lifei dont many reasons k...      1\n",
              "2  music recommendations im looking expand playli...      0\n",
              "3  im done trying feel betterthe reason im still ...      1\n",
              "4  worried  year old girl subject domestic physic...      1"
            ]
          },
          "execution_count": 15,
          "metadata": {},
          "output_type": "execute_result"
        }
      ],
      "source": [
        "data.head()"
      ]
    },
    {
      "cell_type": "markdown",
      "id": "8a7ff760-dbc9-4bbf-a7e8-2e27cc94471b",
      "metadata": {
        "id": "8a7ff760-dbc9-4bbf-a7e8-2e27cc94471b"
      },
      "source": [
        "Display last 5 rows"
      ]
    },
    {
      "cell_type": "code",
      "execution_count": 16,
      "id": "223f533a-83b8-49fd-99af-5d65dd42a352",
      "metadata": {
        "colab": {
          "base_uri": "https://localhost:8080/",
          "height": 206
        },
        "id": "223f533a-83b8-49fd-99af-5d65dd42a352",
        "outputId": "ca5a0435-e244-41ce-df95-91fb2527fc37"
      },
      "outputs": [
        {
          "data": {
            "text/html": [
              "<div>\n",
              "<style scoped>\n",
              "    .dataframe tbody tr th:only-of-type {\n",
              "        vertical-align: middle;\n",
              "    }\n",
              "\n",
              "    .dataframe tbody tr th {\n",
              "        vertical-align: top;\n",
              "    }\n",
              "\n",
              "    .dataframe thead th {\n",
              "        text-align: right;\n",
              "    }\n",
              "</style>\n",
              "<table border=\"1\" class=\"dataframe\">\n",
              "  <thead>\n",
              "    <tr style=\"text-align: right;\">\n",
              "      <th></th>\n",
              "      <th>text</th>\n",
              "      <th>label</th>\n",
              "    </tr>\n",
              "  </thead>\n",
              "  <tbody>\n",
              "    <tr>\n",
              "      <th>27972</th>\n",
              "      <td>posting everyday people stop caring  religion ...</td>\n",
              "      <td>0</td>\n",
              "    </tr>\n",
              "    <tr>\n",
              "      <th>27973</th>\n",
              "      <td>okay definetly need hear guys opinion ive pret...</td>\n",
              "      <td>0</td>\n",
              "    </tr>\n",
              "    <tr>\n",
              "      <th>27974</th>\n",
              "      <td>cant get dog think ill kill myselfthe last thi...</td>\n",
              "      <td>1</td>\n",
              "    </tr>\n",
              "    <tr>\n",
              "      <th>27975</th>\n",
              "      <td>whats point princess bridei really think like ...</td>\n",
              "      <td>1</td>\n",
              "    </tr>\n",
              "    <tr>\n",
              "      <th>27976</th>\n",
              "      <td>got nudes person might might know snapchat do ...</td>\n",
              "      <td>0</td>\n",
              "    </tr>\n",
              "  </tbody>\n",
              "</table>\n",
              "</div>"
            ],
            "text/plain": [
              "                                                    text  label\n",
              "27972  posting everyday people stop caring  religion ...      0\n",
              "27973  okay definetly need hear guys opinion ive pret...      0\n",
              "27974  cant get dog think ill kill myselfthe last thi...      1\n",
              "27975  whats point princess bridei really think like ...      1\n",
              "27976  got nudes person might might know snapchat do ...      0"
            ]
          },
          "execution_count": 16,
          "metadata": {},
          "output_type": "execute_result"
        }
      ],
      "source": [
        "data.tail()"
      ]
    },
    {
      "cell_type": "markdown",
      "id": "b42b7e89-a1fa-4fc3-83a4-07e8565a05ba",
      "metadata": {
        "id": "b42b7e89-a1fa-4fc3-83a4-07e8565a05ba"
      },
      "source": [
        "Check null values"
      ]
    },
    {
      "cell_type": "code",
      "execution_count": 17,
      "id": "ac9aae4b-6c05-4cd7-b98d-03b43672f305",
      "metadata": {
        "colab": {
          "base_uri": "https://localhost:8080/",
          "height": 423
        },
        "id": "ac9aae4b-6c05-4cd7-b98d-03b43672f305",
        "outputId": "f9f7e026-451f-45aa-d012-026a1c01c5af"
      },
      "outputs": [
        {
          "data": {
            "text/html": [
              "<div>\n",
              "<style scoped>\n",
              "    .dataframe tbody tr th:only-of-type {\n",
              "        vertical-align: middle;\n",
              "    }\n",
              "\n",
              "    .dataframe tbody tr th {\n",
              "        vertical-align: top;\n",
              "    }\n",
              "\n",
              "    .dataframe thead th {\n",
              "        text-align: right;\n",
              "    }\n",
              "</style>\n",
              "<table border=\"1\" class=\"dataframe\">\n",
              "  <thead>\n",
              "    <tr style=\"text-align: right;\">\n",
              "      <th></th>\n",
              "      <th>text</th>\n",
              "      <th>label</th>\n",
              "    </tr>\n",
              "  </thead>\n",
              "  <tbody>\n",
              "    <tr>\n",
              "      <th>0</th>\n",
              "      <td>False</td>\n",
              "      <td>False</td>\n",
              "    </tr>\n",
              "    <tr>\n",
              "      <th>1</th>\n",
              "      <td>False</td>\n",
              "      <td>False</td>\n",
              "    </tr>\n",
              "    <tr>\n",
              "      <th>2</th>\n",
              "      <td>False</td>\n",
              "      <td>False</td>\n",
              "    </tr>\n",
              "    <tr>\n",
              "      <th>3</th>\n",
              "      <td>False</td>\n",
              "      <td>False</td>\n",
              "    </tr>\n",
              "    <tr>\n",
              "      <th>4</th>\n",
              "      <td>False</td>\n",
              "      <td>False</td>\n",
              "    </tr>\n",
              "    <tr>\n",
              "      <th>...</th>\n",
              "      <td>...</td>\n",
              "      <td>...</td>\n",
              "    </tr>\n",
              "    <tr>\n",
              "      <th>27972</th>\n",
              "      <td>False</td>\n",
              "      <td>False</td>\n",
              "    </tr>\n",
              "    <tr>\n",
              "      <th>27973</th>\n",
              "      <td>False</td>\n",
              "      <td>False</td>\n",
              "    </tr>\n",
              "    <tr>\n",
              "      <th>27974</th>\n",
              "      <td>False</td>\n",
              "      <td>False</td>\n",
              "    </tr>\n",
              "    <tr>\n",
              "      <th>27975</th>\n",
              "      <td>False</td>\n",
              "      <td>False</td>\n",
              "    </tr>\n",
              "    <tr>\n",
              "      <th>27976</th>\n",
              "      <td>False</td>\n",
              "      <td>False</td>\n",
              "    </tr>\n",
              "  </tbody>\n",
              "</table>\n",
              "<p>27977 rows × 2 columns</p>\n",
              "</div>"
            ],
            "text/plain": [
              "        text  label\n",
              "0      False  False\n",
              "1      False  False\n",
              "2      False  False\n",
              "3      False  False\n",
              "4      False  False\n",
              "...      ...    ...\n",
              "27972  False  False\n",
              "27973  False  False\n",
              "27974  False  False\n",
              "27975  False  False\n",
              "27976  False  False\n",
              "\n",
              "[27977 rows x 2 columns]"
            ]
          },
          "execution_count": 17,
          "metadata": {},
          "output_type": "execute_result"
        }
      ],
      "source": [
        "data.isnull()"
      ]
    },
    {
      "cell_type": "code",
      "execution_count": 18,
      "id": "9ef62ed9-194c-4243-ac31-cee485b3379e",
      "metadata": {
        "colab": {
          "base_uri": "https://localhost:8080/",
          "height": 147
        },
        "id": "9ef62ed9-194c-4243-ac31-cee485b3379e",
        "outputId": "3bf4f862-c5e1-468b-a954-d0f850eb3c85"
      },
      "outputs": [
        {
          "data": {
            "text/plain": [
              "text     0\n",
              "label    0\n",
              "dtype: int64"
            ]
          },
          "execution_count": 18,
          "metadata": {},
          "output_type": "execute_result"
        }
      ],
      "source": [
        "data.isnull().sum()"
      ]
    },
    {
      "cell_type": "markdown",
      "id": "6b31c749-50f5-4503-956a-48286858b34c",
      "metadata": {
        "id": "6b31c749-50f5-4503-956a-48286858b34c"
      },
      "source": [
        "Check duplicates"
      ]
    },
    {
      "cell_type": "code",
      "execution_count": 19,
      "id": "9d2428df-8ad4-40ab-a0c1-81335b3e8f14",
      "metadata": {
        "colab": {
          "base_uri": "https://localhost:8080/",
          "height": 458
        },
        "id": "9d2428df-8ad4-40ab-a0c1-81335b3e8f14",
        "outputId": "df5a342b-cdb8-4337-cafb-a3eae244501c"
      },
      "outputs": [
        {
          "data": {
            "text/plain": [
              "0        False\n",
              "1        False\n",
              "2        False\n",
              "3        False\n",
              "4        False\n",
              "         ...  \n",
              "27972    False\n",
              "27973    False\n",
              "27974    False\n",
              "27975    False\n",
              "27976    False\n",
              "Length: 27977, dtype: bool"
            ]
          },
          "execution_count": 19,
          "metadata": {},
          "output_type": "execute_result"
        }
      ],
      "source": [
        "data.duplicated()"
      ]
    },
    {
      "cell_type": "code",
      "execution_count": 20,
      "id": "61a85081-46bf-410d-91ee-2707e3482f94",
      "metadata": {
        "colab": {
          "base_uri": "https://localhost:8080/"
        },
        "id": "61a85081-46bf-410d-91ee-2707e3482f94",
        "outputId": "edde6f0b-f2e6-49e2-90c0-8e15d16f4308"
      },
      "outputs": [
        {
          "data": {
            "text/plain": [
              "5"
            ]
          },
          "execution_count": 20,
          "metadata": {},
          "output_type": "execute_result"
        }
      ],
      "source": [
        "data.duplicated().sum()"
      ]
    },
    {
      "cell_type": "markdown",
      "id": "989a6073-9058-47f0-aaec-379a25518575",
      "metadata": {
        "id": "989a6073-9058-47f0-aaec-379a25518575"
      },
      "source": [
        "Drop duplicates"
      ]
    },
    {
      "cell_type": "code",
      "execution_count": 21,
      "id": "3922f79b-7f43-4568-8625-c144ddd145fc",
      "metadata": {
        "id": "3922f79b-7f43-4568-8625-c144ddd145fc"
      },
      "outputs": [],
      "source": [
        "data = data.drop_duplicates()"
      ]
    },
    {
      "cell_type": "code",
      "execution_count": 22,
      "id": "f85e6359-1e5f-4266-85c8-c2cf2fa2df3f",
      "metadata": {
        "colab": {
          "base_uri": "https://localhost:8080/",
          "height": 423
        },
        "id": "f85e6359-1e5f-4266-85c8-c2cf2fa2df3f",
        "outputId": "a7263571-094c-48d5-8df8-14ef6462cbe0"
      },
      "outputs": [
        {
          "data": {
            "text/html": [
              "<div>\n",
              "<style scoped>\n",
              "    .dataframe tbody tr th:only-of-type {\n",
              "        vertical-align: middle;\n",
              "    }\n",
              "\n",
              "    .dataframe tbody tr th {\n",
              "        vertical-align: top;\n",
              "    }\n",
              "\n",
              "    .dataframe thead th {\n",
              "        text-align: right;\n",
              "    }\n",
              "</style>\n",
              "<table border=\"1\" class=\"dataframe\">\n",
              "  <thead>\n",
              "    <tr style=\"text-align: right;\">\n",
              "      <th></th>\n",
              "      <th>text</th>\n",
              "      <th>label</th>\n",
              "    </tr>\n",
              "  </thead>\n",
              "  <tbody>\n",
              "    <tr>\n",
              "      <th>0</th>\n",
              "      <td>dear american teens question dutch person hear...</td>\n",
              "      <td>0</td>\n",
              "    </tr>\n",
              "    <tr>\n",
              "      <th>1</th>\n",
              "      <td>nothing look forward lifei dont many reasons k...</td>\n",
              "      <td>1</td>\n",
              "    </tr>\n",
              "    <tr>\n",
              "      <th>2</th>\n",
              "      <td>music recommendations im looking expand playli...</td>\n",
              "      <td>0</td>\n",
              "    </tr>\n",
              "    <tr>\n",
              "      <th>3</th>\n",
              "      <td>im done trying feel betterthe reason im still ...</td>\n",
              "      <td>1</td>\n",
              "    </tr>\n",
              "    <tr>\n",
              "      <th>4</th>\n",
              "      <td>worried  year old girl subject domestic physic...</td>\n",
              "      <td>1</td>\n",
              "    </tr>\n",
              "    <tr>\n",
              "      <th>...</th>\n",
              "      <td>...</td>\n",
              "      <td>...</td>\n",
              "    </tr>\n",
              "    <tr>\n",
              "      <th>27972</th>\n",
              "      <td>posting everyday people stop caring  religion ...</td>\n",
              "      <td>0</td>\n",
              "    </tr>\n",
              "    <tr>\n",
              "      <th>27973</th>\n",
              "      <td>okay definetly need hear guys opinion ive pret...</td>\n",
              "      <td>0</td>\n",
              "    </tr>\n",
              "    <tr>\n",
              "      <th>27974</th>\n",
              "      <td>cant get dog think ill kill myselfthe last thi...</td>\n",
              "      <td>1</td>\n",
              "    </tr>\n",
              "    <tr>\n",
              "      <th>27975</th>\n",
              "      <td>whats point princess bridei really think like ...</td>\n",
              "      <td>1</td>\n",
              "    </tr>\n",
              "    <tr>\n",
              "      <th>27976</th>\n",
              "      <td>got nudes person might might know snapchat do ...</td>\n",
              "      <td>0</td>\n",
              "    </tr>\n",
              "  </tbody>\n",
              "</table>\n",
              "<p>27972 rows × 2 columns</p>\n",
              "</div>"
            ],
            "text/plain": [
              "                                                    text  label\n",
              "0      dear american teens question dutch person hear...      0\n",
              "1      nothing look forward lifei dont many reasons k...      1\n",
              "2      music recommendations im looking expand playli...      0\n",
              "3      im done trying feel betterthe reason im still ...      1\n",
              "4      worried  year old girl subject domestic physic...      1\n",
              "...                                                  ...    ...\n",
              "27972  posting everyday people stop caring  religion ...      0\n",
              "27973  okay definetly need hear guys opinion ive pret...      0\n",
              "27974  cant get dog think ill kill myselfthe last thi...      1\n",
              "27975  whats point princess bridei really think like ...      1\n",
              "27976  got nudes person might might know snapchat do ...      0\n",
              "\n",
              "[27972 rows x 2 columns]"
            ]
          },
          "execution_count": 22,
          "metadata": {},
          "output_type": "execute_result"
        }
      ],
      "source": [
        "data"
      ]
    },
    {
      "cell_type": "markdown",
      "id": "09b88b33-0e29-4cb5-867b-6cba50c35c2b",
      "metadata": {
        "id": "09b88b33-0e29-4cb5-867b-6cba50c35c2b"
      },
      "source": [
        "Describe the data"
      ]
    },
    {
      "cell_type": "code",
      "execution_count": 23,
      "id": "9889b181-ac13-406a-8d84-c3dae5306f0a",
      "metadata": {
        "colab": {
          "base_uri": "https://localhost:8080/",
          "height": 300
        },
        "id": "9889b181-ac13-406a-8d84-c3dae5306f0a",
        "outputId": "b268cd2e-db14-46ff-e25b-c35c0e7c2f1c"
      },
      "outputs": [
        {
          "data": {
            "text/html": [
              "<div>\n",
              "<style scoped>\n",
              "    .dataframe tbody tr th:only-of-type {\n",
              "        vertical-align: middle;\n",
              "    }\n",
              "\n",
              "    .dataframe tbody tr th {\n",
              "        vertical-align: top;\n",
              "    }\n",
              "\n",
              "    .dataframe thead th {\n",
              "        text-align: right;\n",
              "    }\n",
              "</style>\n",
              "<table border=\"1\" class=\"dataframe\">\n",
              "  <thead>\n",
              "    <tr style=\"text-align: right;\">\n",
              "      <th></th>\n",
              "      <th>label</th>\n",
              "    </tr>\n",
              "  </thead>\n",
              "  <tbody>\n",
              "    <tr>\n",
              "      <th>count</th>\n",
              "      <td>27972.000000</td>\n",
              "    </tr>\n",
              "    <tr>\n",
              "      <th>mean</th>\n",
              "      <td>0.494709</td>\n",
              "    </tr>\n",
              "    <tr>\n",
              "      <th>std</th>\n",
              "      <td>0.499981</td>\n",
              "    </tr>\n",
              "    <tr>\n",
              "      <th>min</th>\n",
              "      <td>0.000000</td>\n",
              "    </tr>\n",
              "    <tr>\n",
              "      <th>25%</th>\n",
              "      <td>0.000000</td>\n",
              "    </tr>\n",
              "    <tr>\n",
              "      <th>50%</th>\n",
              "      <td>0.000000</td>\n",
              "    </tr>\n",
              "    <tr>\n",
              "      <th>75%</th>\n",
              "      <td>1.000000</td>\n",
              "    </tr>\n",
              "    <tr>\n",
              "      <th>max</th>\n",
              "      <td>1.000000</td>\n",
              "    </tr>\n",
              "  </tbody>\n",
              "</table>\n",
              "</div>"
            ],
            "text/plain": [
              "              label\n",
              "count  27972.000000\n",
              "mean       0.494709\n",
              "std        0.499981\n",
              "min        0.000000\n",
              "25%        0.000000\n",
              "50%        0.000000\n",
              "75%        1.000000\n",
              "max        1.000000"
            ]
          },
          "execution_count": 23,
          "metadata": {},
          "output_type": "execute_result"
        }
      ],
      "source": [
        "data.describe()"
      ]
    },
    {
      "cell_type": "markdown",
      "id": "8f192d7a-6e18-4499-a9c9-7b7e5b5664b8",
      "metadata": {
        "id": "8f192d7a-6e18-4499-a9c9-7b7e5b5664b8"
      },
      "source": [
        "Display random samples"
      ]
    },
    {
      "cell_type": "code",
      "execution_count": 24,
      "id": "0cc5a32c-565a-475d-aa79-0d84a71167d3",
      "metadata": {
        "colab": {
          "base_uri": "https://localhost:8080/",
          "height": 428
        },
        "id": "0cc5a32c-565a-475d-aa79-0d84a71167d3",
        "outputId": "a455a991-d18e-4dac-8356-8ab0ec921d34"
      },
      "outputs": [
        {
          "data": {
            "text/html": [
              "<div>\n",
              "<style scoped>\n",
              "    .dataframe tbody tr th:only-of-type {\n",
              "        vertical-align: middle;\n",
              "    }\n",
              "\n",
              "    .dataframe tbody tr th {\n",
              "        vertical-align: top;\n",
              "    }\n",
              "\n",
              "    .dataframe thead th {\n",
              "        text-align: right;\n",
              "    }\n",
              "</style>\n",
              "<table border=\"1\" class=\"dataframe\">\n",
              "  <thead>\n",
              "    <tr style=\"text-align: right;\">\n",
              "      <th></th>\n",
              "      <th>label</th>\n",
              "      <th>text</th>\n",
              "    </tr>\n",
              "  </thead>\n",
              "  <tbody>\n",
              "    <tr>\n",
              "      <th>0</th>\n",
              "      <td>0</td>\n",
              "      <td>film expected little from watched pass quiet hour  hour turned be roll excellent nonetooserious little story countryboylostinthebigcitymakesgood funny throughout characters endearing pace rightbr ...</td>\n",
              "    </tr>\n",
              "    <tr>\n",
              "      <th>1</th>\n",
              "      <td>0</td>\n",
              "      <td>fuck all hope everyone sub dies painful death fucking suck deserve death ill see hell</td>\n",
              "    </tr>\n",
              "    <tr>\n",
              "      <th>2</th>\n",
              "      <td>0</td>\n",
              "      <td>sothis happenedidk respond though cuz boyfriend friendzone someone ampxb httpspreviewredditmajvktfujpgwidthampformatpjpgampautowebpampsffaedacfcbebe</td>\n",
              "    </tr>\n",
              "    <tr>\n",
              "      <th>3</th>\n",
              "      <td>1</td>\n",
              "      <td>ive come far im sure want go furtherive struggling depression  years maybe longer hard childhood rough young adulthood past decade completed college found supportive loving partner started making ...</td>\n",
              "    </tr>\n",
              "    <tr>\n",
              "      <th>4</th>\n",
              "      <td>1</td>\n",
              "      <td>casual last messageeverythings fake pain life worth rain death choice decided make end voice hope same hope still flame good bye</td>\n",
              "    </tr>\n",
              "    <tr>\n",
              "      <th>5</th>\n",
              "      <td>1</td>\n",
              "      <td>im actually annoyed parents caring much metheyre literally thing thats keeping killing myself them hope one day everything gonna better literally nothing worth living right now nothing think ill m...</td>\n",
              "    </tr>\n",
              "  </tbody>\n",
              "</table>\n",
              "</div>"
            ],
            "text/plain": [
              "   label  \\\n",
              "0      0   \n",
              "1      0   \n",
              "2      0   \n",
              "3      1   \n",
              "4      1   \n",
              "5      1   \n",
              "\n",
              "                                                                                                                                                                                                      text  \n",
              "0  film expected little from watched pass quiet hour  hour turned be roll excellent nonetooserious little story countryboylostinthebigcitymakesgood funny throughout characters endearing pace rightbr ...  \n",
              "1                                                                                                                    fuck all hope everyone sub dies painful death fucking suck deserve death ill see hell  \n",
              "2                                                     sothis happenedidk respond though cuz boyfriend friendzone someone ampxb httpspreviewredditmajvktfujpgwidthampformatpjpgampautowebpampsffaedacfcbebe  \n",
              "3  ive come far im sure want go furtherive struggling depression  years maybe longer hard childhood rough young adulthood past decade completed college found supportive loving partner started making ...  \n",
              "4                                                                         casual last messageeverythings fake pain life worth rain death choice decided make end voice hope same hope still flame good bye  \n",
              "5  im actually annoyed parents caring much metheyre literally thing thats keeping killing myself them hope one day everything gonna better literally nothing worth living right now nothing think ill m...  "
            ]
          },
          "execution_count": 24,
          "metadata": {},
          "output_type": "execute_result"
        }
      ],
      "source": [
        "def random_sample_reviews(data, num_samples):\n",
        "    samples = data.groupby('label')['text'].apply(lambda x: x.sample(num_samples))\n",
        "    samples_data = samples.reset_index().drop(columns='level_1')\n",
        "    return samples_data\n",
        "pd.set_option('display.max_colwidth', 200)\n",
        "samples = random_sample_reviews(data, num_samples=3)\n",
        "samples.head(6)"
      ]
    },
    {
      "cell_type": "markdown",
      "id": "634ea1e7-e4ac-42a5-8ce0-178e6700a324",
      "metadata": {
        "id": "634ea1e7-e4ac-42a5-8ce0-178e6700a324"
      },
      "source": [
        "Check URLs"
      ]
    },
    {
      "cell_type": "code",
      "execution_count": 25,
      "id": "033438c9-cbd2-40a7-a83b-e23de205f14a",
      "metadata": {
        "colab": {
          "base_uri": "https://localhost:8080/"
        },
        "id": "033438c9-cbd2-40a7-a83b-e23de205f14a",
        "outputId": "32263fe0-cef6-41b5-fd5c-26d9a0f05cb1"
      },
      "outputs": [
        {
          "name": "stdout",
          "output_type": "stream",
          "text": [
            "                                                                                                                                                                                                          text  \\\n",
            "59                                                                   hello anyone feeling suicidal hear people lying truth httpswwwyoutubecomwatchvjkcjcbtqehttpswwwyoutubecomwatchvjkcjcbtqe feel suicidal go   \n",
            "115    help needed save man assuming posts case young boy still trending social media extremists trying get young man lynched vocal opinion hashtag trending twitter accuses blasphemy extremists spamming ...   \n",
            "150    answer question previous reviewer asked name us official mentioned lumumba name character mr carlucci frank carlucci reported time second secretary us embassy congo subsequently among assignments ...   \n",
            "215                                                            cool bug facts classmate owns clothing line idea lol proof heres link intrested which im sure dont httpswslaunchcartstorehttpswslaunchcartstore   \n",
            "338                                                                                         hey im bored alone stream playing gta v talk chat please  httpswwwtwitchtvkyobi_gaminghttpswwwtwitchtvkyobi_gaming   \n",
            "...                                                                                                                                                                                                        ...   \n",
            "27675                  telling jokes corona gone day  theres joke today im sorry come back tomorrow edit ok ill tell joke httpswwwredditcomrteenagerscommentslsxetelling_jokes_until_corona_gone_day__theres_a   \n",
            "27746                                                                                                                       another album like httpsopenspotifycomalbumcgwclwskgxkzgyattafdsilzrpdvqtsadchehew   \n",
            "27753  come think part  today christmas eve eve eve eve eve eve eve eve eve eve eve eve eve eve eve eve eve eve eve eve eve eve eve eve eve eve eve eve eve eve eve eve eve eve eve eve eve eve eve eve eve...   \n",
            "27813  survey school project hi could take survey views gender equality would super awesome results totally anonymous school project httpsdocsgooglecomformsdefaipqlsfunqhmduxezaaxvxafgfyaunbpzkeydihitdja...   \n",
            "27882                                             bands lastest song indie kinda prog influenced httpsyoutubeborszg spotify also httpsopenspotifycomtracknlonolzfasrgnxtnsiwfllbcqfukpzuza  listening feedback   \n",
            "\n",
            "       label  \n",
            "59         0  \n",
            "115        0  \n",
            "150        0  \n",
            "215        0  \n",
            "338        0  \n",
            "...      ...  \n",
            "27675      0  \n",
            "27746      0  \n",
            "27753      0  \n",
            "27813      0  \n",
            "27882      0  \n",
            "\n",
            "[494 rows x 2 columns]\n",
            "Number of rows contains URLs: 494\n"
          ]
        }
      ],
      "source": [
        "def contains_url(text):\n",
        "    URL_pattern = r'(?i)\\b(?:http[s]?|ftp|www)\\S+|(?<=\\w)(https?://|www\\.)\\S+'\n",
        "    return bool(re.search(URL_pattern, str(text)))\n",
        "\n",
        "rows_with_URL = data[data['text'].apply(contains_url)]\n",
        "print(rows_with_URL)\n",
        "\n",
        "count_URL = rows_with_URL.shape[0]\n",
        "print(f\"Number of rows contains URLs: {count_URL}\")"
      ]
    },
    {
      "cell_type": "markdown",
      "id": "ef618350-633a-41ef-aeb5-dc571aab05b5",
      "metadata": {
        "id": "ef618350-633a-41ef-aeb5-dc571aab05b5"
      },
      "source": [
        "Remove URLs"
      ]
    },
    {
      "cell_type": "code",
      "execution_count": 26,
      "id": "908595a6-e5d1-4312-ac7e-db089b55676d",
      "metadata": {
        "colab": {
          "base_uri": "https://localhost:8080/"
        },
        "id": "908595a6-e5d1-4312-ac7e-db089b55676d",
        "outputId": "19d8f969-1055-40e6-ee70-4bc1bdcf86f4"
      },
      "outputs": [
        {
          "name": "stdout",
          "output_type": "stream",
          "text": [
            "0                                                                        dear american teens question dutch person heard guys get way easier things learn age us sooooo thth graders like  right guys learn math\n",
            "1                                                                                          nothing look forward lifei dont many reasons keep going feel like nothing keeps going next day makes want hang myself\n",
            "2        music recommendations im looking expand playlist usual genres alt pop minnesota hip hop steampunk various indie genres artists people like cavetown aliceband bug hunter penelope scott various rhym...\n",
            "3        im done trying feel betterthe reason im still alive know mum devastated ever killed myself ever passes im still state im going hesitate ending life shortly after im almost  take meds go therapy no...\n",
            "4        worried  year old girl subject domestic physicalmental housewithout going lot know girl know girl etc let give brief background known girl  years lives uk live different country kept touch electro...\n",
            "                                                                                                          ...                                                                                                   \n",
            "27972    posting everyday people stop caring  religion matter private thing allowed share it force others also people treated diferently religions belief pearson stopped seeks harm humans care others relig...\n",
            "27973    okay definetly need hear guys opinion ive pretty much love one best friends now im m shes f met lot summer pretty much always asked wanted meet always wanted never asked me also slow responds mess...\n",
            "27974              cant get dog think ill kill myselfthe last thing im holding for yup first two applications didnt work already received many one looking for sent third one different place dont hopes high up\n",
            "27975    whats point princess bridei really think like wesley said pb life pain ampxb life sucks hurts live get better joy temporary think people happy successful fulfilled lives thats cards me wish dead e...\n",
            "27976    got nudes person might might know snapchat do ok chick dont know added snap sent something opened nudes dont even know person thought might know school couldnt find yearbook im sure wrong person a...\n",
            "Name: text, Length: 27972, dtype: object\n"
          ]
        }
      ],
      "source": [
        "def remove_urls(text):\n",
        "    return re.sub(r'(?i)\\b(?:http[s]?|ftp|www)\\S+|(?<=\\w)(https?://|www\\.)\\S+', '', str(text))\n",
        "data['text'] = data['text'].apply(remove_urls)\n",
        "print(data['text'])"
      ]
    },
    {
      "cell_type": "code",
      "execution_count": 27,
      "id": "9ea8e672-ba6c-4537-b411-e8d2ef1b80c8",
      "metadata": {
        "colab": {
          "base_uri": "https://localhost:8080/"
        },
        "id": "9ea8e672-ba6c-4537-b411-e8d2ef1b80c8",
        "outputId": "56b89379-72e7-459d-c3fd-e24390b55acc"
      },
      "outputs": [
        {
          "name": "stdout",
          "output_type": "stream",
          "text": [
            "Empty DataFrame\n",
            "Columns: [text, label]\n",
            "Index: []\n",
            "Number of rows contains URLs: 0\n"
          ]
        }
      ],
      "source": [
        "def contains_url(text):\n",
        "    URL_pattern = r'(?i)\\b(?:http[s]?|ftp|www)\\S+|(?<=\\w)(https?://|www\\.)\\S+'\n",
        "    return bool(re.search(URL_pattern, str(text)))\n",
        "\n",
        "rows_with_URL = data[data['text'].apply(contains_url)]\n",
        "print(rows_with_URL)\n",
        "\n",
        "count_URL = rows_with_URL.shape[0]\n",
        "print(f\"Number of rows contains URLs: {count_URL}\")"
      ]
    },
    {
      "cell_type": "code",
      "execution_count": 28,
      "id": "736bfbbc-8fa5-4c01-bf7a-62cb4fc11134",
      "metadata": {
        "colab": {
          "base_uri": "https://localhost:8080/"
        },
        "id": "736bfbbc-8fa5-4c01-bf7a-62cb4fc11134",
        "outputId": "218765a6-998a-4069-aac2-8c07c732d962"
      },
      "outputs": [
        {
          "name": "stdout",
          "output_type": "stream",
          "text": [
            "Displaying cleaned text for row 59:\n",
            "hello anyone feeling suicidal hear people lying truth  feel suicidal go\n"
          ]
        }
      ],
      "source": [
        "specific_row = 59\n",
        "print(f\"Displaying cleaned text for row {specific_row}:\")\n",
        "print(data['text'].iloc[specific_row])"
      ]
    },
    {
      "cell_type": "markdown",
      "id": "d62155b0-a34d-426f-8600-25eec79a29c5",
      "metadata": {
        "id": "d62155b0-a34d-426f-8600-25eec79a29c5"
      },
      "source": [
        "Check special characters"
      ]
    },
    {
      "cell_type": "code",
      "execution_count": 29,
      "id": "cc7b38e6-225e-41e8-9f16-1fc1e4f7aea0",
      "metadata": {
        "colab": {
          "base_uri": "https://localhost:8080/"
        },
        "id": "cc7b38e6-225e-41e8-9f16-1fc1e4f7aea0",
        "outputId": "4b343434-5343-429b-a72a-8beb52d5d371"
      },
      "outputs": [
        {
          "name": "stdout",
          "output_type": "stream",
          "text": [
            "                                                                                                                                                                                                          text  \\\n",
            "110                           take story  snapchat posted happy birthday_name person_ didnt look story didnt click it didnt say thank didnt look message anything why take story cause embarrassing avoided it   \n",
            "124                                                                                                                    help think started war cult full apple enthusiast anyways join kingdom rbanana_kingdom_   \n",
            "221    dbz fans annoying hell can beat goku one cares ill watching anime maybe looking anime tik toks talking cool powerful one faves are one fuckers come start ranting cant beat goku realise absolutely ...   \n",
            "224    partner may end life tonight goes goi made post earlierhttpwwwredditcomrdepressioncommentsxzei_nearly_destroyed_a_year_relationship_i_feel cheated partner  years several times alright last night w...   \n",
            "275                                                                                                                                                    wish chose criminology subject soooo interesting   _      \n",
            "...                                                                                                                                                                                                        ...   \n",
            "27407  worried ill go full columbine misguided attempt helpi made thishttpswwwredditcomrdepressioncommentsrqoa_rantish_thing_i_need_to_get_some_stuff_out_but post rdepression might help explain stuff wan...   \n",
            "27562  cool no why oh understandable pancakeshttpsyoutubeykgqxk_vau watch cringe compilation  playing minecraft  fortnite  cosplayinghttpsyoutubeegcyymdone overall nerd  talking chemistry physics  number...   \n",
            "27756  feeling pretty good right now stark contrast usual sending positive vibes possibly can broke free anxiety bit today ive riding high ive made friends past  months theyre truly wonderful people im b...   \n",
            "27759  movie corner stranger things test the stranger things quiz best way fans test knowledge series stranger things test also excellent online contest know much series playing quiz give overview story ...   \n",
            "27800                                                                                                                                                                         wanna know whos cool ethan_keith   \n",
            "\n",
            "       label  \n",
            "110        0  \n",
            "124        0  \n",
            "221        0  \n",
            "224        1  \n",
            "275        0  \n",
            "...      ...  \n",
            "27407      1  \n",
            "27562      0  \n",
            "27756      0  \n",
            "27759      0  \n",
            "27800      0  \n",
            "\n",
            "[245 rows x 2 columns]\n",
            "Number of rows with special characters: 245\n"
          ]
        }
      ],
      "source": [
        "def has_special_characters(text):\n",
        "    special_char_pattern = r'[^A-Za-z0-9\\s]'\n",
        "    return bool(re.search(special_char_pattern, str(text)))\n",
        "\n",
        "rows_with_special_chars = data[data['text'].apply(has_special_characters)]\n",
        "print(rows_with_special_chars)\n",
        "\n",
        "count_special_chars = rows_with_special_chars.shape[0]\n",
        "print(f\"Number of rows with special characters: {count_special_chars}\")"
      ]
    },
    {
      "cell_type": "markdown",
      "id": "c3513ab9-fa77-4dea-9b7f-c6d0688fbdb4",
      "metadata": {
        "id": "c3513ab9-fa77-4dea-9b7f-c6d0688fbdb4"
      },
      "source": [
        "Remove special characters"
      ]
    },
    {
      "cell_type": "code",
      "execution_count": 30,
      "id": "d1825452-ca3d-4874-8869-19f8e83ffccd",
      "metadata": {
        "colab": {
          "base_uri": "https://localhost:8080/"
        },
        "id": "d1825452-ca3d-4874-8869-19f8e83ffccd",
        "outputId": "c7f0ad4c-ba52-4026-f89d-5fd2107bc19e"
      },
      "outputs": [
        {
          "name": "stdout",
          "output_type": "stream",
          "text": [
            "0                                                                        dear american teens question dutch person heard guys get way easier things learn age us sooooo thth graders like  right guys learn math\n",
            "1                                                                                          nothing look forward lifei dont many reasons keep going feel like nothing keeps going next day makes want hang myself\n",
            "2        music recommendations im looking expand playlist usual genres alt pop minnesota hip hop steampunk various indie genres artists people like cavetown aliceband bug hunter penelope scott various rhym...\n",
            "3        im done trying feel betterthe reason im still alive know mum devastated ever killed myself ever passes im still state im going hesitate ending life shortly after im almost  take meds go therapy no...\n",
            "4        worried  year old girl subject domestic physicalmental housewithout going lot know girl know girl etc let give brief background known girl  years lives uk live different country kept touch electro...\n",
            "                                                                                                          ...                                                                                                   \n",
            "27972    posting everyday people stop caring  religion matter private thing allowed share it force others also people treated diferently religions belief pearson stopped seeks harm humans care others relig...\n",
            "27973    okay definetly need hear guys opinion ive pretty much love one best friends now im m shes f met lot summer pretty much always asked wanted meet always wanted never asked me also slow responds mess...\n",
            "27974              cant get dog think ill kill myselfthe last thing im holding for yup first two applications didnt work already received many one looking for sent third one different place dont hopes high up\n",
            "27975    whats point princess bridei really think like wesley said pb life pain ampxb life sucks hurts live get better joy temporary think people happy successful fulfilled lives thats cards me wish dead e...\n",
            "27976    got nudes person might might know snapchat do ok chick dont know added snap sent something opened nudes dont even know person thought might know school couldnt find yearbook im sure wrong person a...\n",
            "Name: text, Length: 27972, dtype: object\n"
          ]
        }
      ],
      "source": [
        "def remove_special_characters(text):\n",
        "    return re.sub(r'[^A-Za-z0-9\\s]', '', str(text))\n",
        "data['text'] = data['text'].apply(remove_special_characters)\n",
        "print(data['text'])"
      ]
    },
    {
      "cell_type": "code",
      "execution_count": 31,
      "id": "6502ab46-fc80-47aa-a799-f7c22f40a4e4",
      "metadata": {
        "colab": {
          "base_uri": "https://localhost:8080/"
        },
        "id": "6502ab46-fc80-47aa-a799-f7c22f40a4e4",
        "outputId": "b277bf50-0cf3-418b-e47e-1135ddd38218"
      },
      "outputs": [
        {
          "name": "stdout",
          "output_type": "stream",
          "text": [
            "Empty DataFrame\n",
            "Columns: [text, label]\n",
            "Index: []\n",
            "Number of rows with special characters: 0\n"
          ]
        }
      ],
      "source": [
        "def has_special_characters(text):\n",
        "    special_char_pattern = r'[^A-Za-z0-9\\s]'\n",
        "    return bool(re.search(special_char_pattern, str(text)))\n",
        "\n",
        "rows_with_special_chars = data[data['text'].apply(has_special_characters)]\n",
        "print(rows_with_special_chars)\n",
        "\n",
        "count_special_chars = rows_with_special_chars.shape[0]\n",
        "print(f\"Number of rows with special characters: {count_special_chars}\")"
      ]
    },
    {
      "cell_type": "code",
      "execution_count": 32,
      "id": "e51a1734-cae5-47f7-a410-b578072437ee",
      "metadata": {
        "colab": {
          "base_uri": "https://localhost:8080/"
        },
        "id": "e51a1734-cae5-47f7-a410-b578072437ee",
        "outputId": "7b11beb6-686a-470e-8c41-07bfed3436c6"
      },
      "outputs": [
        {
          "name": "stdout",
          "output_type": "stream",
          "text": [
            "Displaying cleaned text for row 275:\n",
            "wish chose criminology subject soooo interesting      \n"
          ]
        }
      ],
      "source": [
        "specific_row = 275\n",
        "print(f\"Displaying cleaned text for row {specific_row}:\")\n",
        "print(data['text'].iloc[specific_row])"
      ]
    },
    {
      "cell_type": "markdown",
      "id": "2a624c7f-ad98-49c2-8cc2-2be7404fa643",
      "metadata": {
        "id": "2a624c7f-ad98-49c2-8cc2-2be7404fa643"
      },
      "source": [
        "Check numbers"
      ]
    },
    {
      "cell_type": "code",
      "execution_count": 33,
      "id": "e1b2d1c2-f529-4838-ad86-fd2d2ef7868c",
      "metadata": {
        "colab": {
          "base_uri": "https://localhost:8080/"
        },
        "id": "e1b2d1c2-f529-4838-ad86-fd2d2ef7868c",
        "outputId": "6849f015-18f5-4c85-d07c-c9a47f89e5fa"
      },
      "outputs": [
        {
          "name": "stdout",
          "output_type": "stream",
          "text": [
            "Empty DataFrame\n",
            "Columns: [text, label]\n",
            "Index: []\n",
            "Number of rows with numbers: 0\n"
          ]
        }
      ],
      "source": [
        "def has_numbers(text):\n",
        "    return bool(re.search(r'\\d', str(text)))\n",
        "\n",
        "rows_with_numbers = data[data['text'].apply(has_numbers)]\n",
        "print(rows_with_numbers)\n",
        "\n",
        "count_numbers = rows_with_numbers.shape[0]\n",
        "print(f\"Number of rows with numbers: {count_numbers}\")"
      ]
    },
    {
      "cell_type": "markdown",
      "id": "e1e21d09-415e-4966-a368-4742172b5fb0",
      "metadata": {
        "id": "e1e21d09-415e-4966-a368-4742172b5fb0"
      },
      "source": [
        "Check upper_case"
      ]
    },
    {
      "cell_type": "code",
      "execution_count": 34,
      "id": "dd9d68d9-2640-4f49-9e59-eb1372750636",
      "metadata": {
        "colab": {
          "base_uri": "https://localhost:8080/"
        },
        "id": "dd9d68d9-2640-4f49-9e59-eb1372750636",
        "outputId": "42d4e846-76ea-4a86-ecf6-7dc88d4a3a4e"
      },
      "outputs": [
        {
          "name": "stdout",
          "output_type": "stream",
          "text": [
            "Empty DataFrame\n",
            "Columns: [text, label]\n",
            "Index: []\n",
            "Number of rows with uppercase letters: 0\n"
          ]
        }
      ],
      "source": [
        "def has_uppercase(text):\n",
        "    return bool(re.search(r'[A-Z]', str(text)))\n",
        "\n",
        "rows_with_uppercase = data[data['text'].apply(has_uppercase)]\n",
        "print(rows_with_uppercase)\n",
        "\n",
        "count_uppercase = rows_with_uppercase.shape[0]\n",
        "print(f\"Number of rows with uppercase letters: {count_uppercase}\")"
      ]
    },
    {
      "cell_type": "markdown",
      "id": "5d09d604-88d2-46a8-bd3d-d55715b750dd",
      "metadata": {
        "id": "5d09d604-88d2-46a8-bd3d-d55715b750dd"
      },
      "source": [
        "Check if it starts with @ ou #"
      ]
    },
    {
      "cell_type": "code",
      "execution_count": 35,
      "id": "d85da80a-01a1-473f-a5f6-fd3524b6f405",
      "metadata": {
        "colab": {
          "base_uri": "https://localhost:8080/"
        },
        "id": "d85da80a-01a1-473f-a5f6-fd3524b6f405",
        "outputId": "a312acb9-6c38-4499-ba87-0ddf2f4faed3"
      },
      "outputs": [
        {
          "name": "stdout",
          "output_type": "stream",
          "text": [
            "Empty DataFrame\n",
            "Columns: [text, label]\n",
            "Index: []\n",
            "Number of rows with words starting with @ or #: 0\n"
          ]
        }
      ],
      "source": [
        "def start_with(text):\n",
        "    return bool(re.search(r'[@#]\\w+', str(text)))\n",
        "\n",
        "rows_start_with = data[data['text'].apply(start_with)]\n",
        "print(rows_start_with)\n",
        "\n",
        "count_start_with = rows_start_with.shape[0]\n",
        "print(f\"Number of rows with words starting with @ or #: {count_start_with}\")"
      ]
    },
    {
      "cell_type": "markdown",
      "id": "9cdde344-6c2f-4896-9659-5c696f9ba130",
      "metadata": {
        "id": "9cdde344-6c2f-4896-9659-5c696f9ba130"
      },
      "source": [
        "Check punctuations"
      ]
    },
    {
      "cell_type": "code",
      "execution_count": 36,
      "id": "0d5cb3ab-8c98-43c9-aa16-f1acad344241",
      "metadata": {
        "colab": {
          "base_uri": "https://localhost:8080/"
        },
        "id": "0d5cb3ab-8c98-43c9-aa16-f1acad344241",
        "outputId": "cf34649f-a957-48e5-bfce-98d2cc64d8f6"
      },
      "outputs": [
        {
          "name": "stdout",
          "output_type": "stream",
          "text": [
            "Empty DataFrame\n",
            "Columns: [text, label]\n",
            "Index: []\n",
            "Number of rows with punctuations: 0\n"
          ]
        }
      ],
      "source": [
        "def punctuation(text):\n",
        "    return bool(re.search(r'[^\\w\\s]',str(text)))\n",
        "\n",
        "rows_with_puntuations = data[data['text'].apply(punctuation)]\n",
        "print(rows_with_puntuations)\n",
        "\n",
        "count_punctuation = rows_with_puntuations.shape[0]\n",
        "print(f\"Number of rows with punctuations: {count_punctuation}\")"
      ]
    },
    {
      "cell_type": "markdown",
      "id": "47e9a5f9-548e-4114-b27c-67d0e4f17d41",
      "metadata": {
        "id": "47e9a5f9-548e-4114-b27c-67d0e4f17d41"
      },
      "source": [
        "Tokenization"
      ]
    },
    {
      "cell_type": "code",
      "execution_count": 37,
      "id": "c57e134c-6c1e-4ad4-abe4-ef471ae7d99c",
      "metadata": {
        "colab": {
          "base_uri": "https://localhost:8080/"
        },
        "id": "c57e134c-6c1e-4ad4-abe4-ef471ae7d99c",
        "outputId": "d9352e1a-ae2a-4229-ee8e-5fe950512c2d"
      },
      "outputs": [
        {
          "name": "stderr",
          "output_type": "stream",
          "text": [
            "[nltk_data] Downloading package punkt_tab to\n",
            "[nltk_data]     C:\\Users\\KING\\AppData\\Roaming\\nltk_data...\n",
            "[nltk_data]   Unzipping tokenizers\\punkt_tab.zip.\n"
          ]
        },
        {
          "name": "stdout",
          "output_type": "stream",
          "text": [
            "Original: dear american teens question dutch person heard guys get way easier things learn age us sooooo thth graders like  right guys learn math\n",
            "Tokenized: ['dear', 'american', 'teens', 'question', 'dutch', 'person', 'heard', 'guys', 'get', 'way', 'easier', 'things', 'learn', 'age', 'us', 'sooooo', 'thth', 'graders', 'like', 'right', 'guys', 'learn', 'math']\n",
            "\n",
            "Original: nothing look forward lifei dont many reasons keep going feel like nothing keeps going next day makes want hang myself\n",
            "Tokenized: ['nothing', 'look', 'forward', 'lifei', 'dont', 'many', 'reasons', 'keep', 'going', 'feel', 'like', 'nothing', 'keeps', 'going', 'next', 'day', 'makes', 'want', 'hang', 'myself']\n",
            "\n",
            "Original: music recommendations im looking expand playlist usual genres alt pop minnesota hip hop steampunk various indie genres artists people like cavetown aliceband bug hunter penelope scott various rhymesayers willing explore new genresartists such anything generic rap the type exclusively sex drugs cool rapper is rap types pretty good pop popular couple years ago dunno technical genre name anyways anyone got music recommendations favorite artistssongs\n",
            "Tokenized: ['music', 'recommendations', 'im', 'looking', 'expand', 'playlist', 'usual', 'genres', 'alt', 'pop', 'minnesota', 'hip', 'hop', 'steampunk', 'various', 'indie', 'genres', 'artists', 'people', 'like', 'cavetown', 'aliceband', 'bug', 'hunter', 'penelope', 'scott', 'various', 'rhymesayers', 'willing', 'explore', 'new', 'genresartists', 'such', 'anything', 'generic', 'rap', 'the', 'type', 'exclusively', 'sex', 'drugs', 'cool', 'rapper', 'is', 'rap', 'types', 'pretty', 'good', 'pop', 'popular', 'couple', 'years', 'ago', 'dunno', 'technical', 'genre', 'name', 'anyways', 'anyone', 'got', 'music', 'recommendations', 'favorite', 'artistssongs']\n",
            "\n",
            "Original: im done trying feel betterthe reason im still alive know mum devastated ever killed myself ever passes im still state im going hesitate ending life shortly after im almost  take meds go therapy nothing seems help enough dont want around anymore hate feeling like this wouldnt wish upon enemy brain feels like constantly like static tv wont shut overthinking do think im running options dont see living past  got accepted health science degree dont even know wanna try know im smart mental illness holds back think cant anything im good enough need fucking help dont know anymore ive run options\n",
            "Tokenized: ['im', 'done', 'trying', 'feel', 'betterthe', 'reason', 'im', 'still', 'alive', 'know', 'mum', 'devastated', 'ever', 'killed', 'myself', 'ever', 'passes', 'im', 'still', 'state', 'im', 'going', 'hesitate', 'ending', 'life', 'shortly', 'after', 'im', 'almost', 'take', 'meds', 'go', 'therapy', 'nothing', 'seems', 'help', 'enough', 'dont', 'want', 'around', 'anymore', 'hate', 'feeling', 'like', 'this', 'wouldnt', 'wish', 'upon', 'enemy', 'brain', 'feels', 'like', 'constantly', 'like', 'static', 'tv', 'wont', 'shut', 'overthinking', 'do', 'think', 'im', 'running', 'options', 'dont', 'see', 'living', 'past', 'got', 'accepted', 'health', 'science', 'degree', 'dont', 'even', 'know', 'wan', 'na', 'try', 'know', 'im', 'smart', 'mental', 'illness', 'holds', 'back', 'think', 'cant', 'anything', 'im', 'good', 'enough', 'need', 'fucking', 'help', 'dont', 'know', 'anymore', 'ive', 'run', 'options']\n",
            "\n",
            "Original: worried  year old girl subject domestic physicalmental housewithout going lot know girl know girl etc let give brief background known girl  years lives uk live different country kept touch electronic means first girl schizophrenic host illnesses too dad severe anger issues abuses physically mentally makes serve food wash dishes clean house shouts beats petty things like spilling water picking toys floor threatened knife beats plates glasses punches head last time got beat around month ago one siblings gets beat up tried tell mother beating showed bruises too mother refuses believe even laughed off probably fear confronting him husband yells wife too family treat well either sister mean tell father put trouble family tends isolate her even remember birthday all family cold her often tend alienate since act normal girl often feels suicidal due this inflicted selfharm cut wrist starves believes way family accept her make worse two incidents life must tell about raped walking back home night initially tell parents sometime later police reports filed rape suffered false pregnancy girl symptoms disorder like lactating breasts happened early  depressed incident summer  approximately family sent couple family friends wellknown treatments advertised herbal therapy accupuncture etc however happened next terrible left alone husband wife went somewhere else guy tortured her instance made sit container filled water upto neck closed lid imagine kind stress panic would cause schizophrenic patient miscellaneous details gt gets visit psychiatrist school able hide problems psychiatrist noted girl able put front really well gt five psychiatrists past gt enjoys drawingpainting learning new languages writing poems gt depressed tends victimized mentality blames problems want report abuse due trouble family face tells stopped cutting lately problem refuses tell anyone abuse even tries defend father saying fault help her although seem extremely suicidal concern physically mental abuse girl subject everyday healthy environment anyone grow in really wish rescued clutches belligerent controlling father dysfunctional family\n",
            "Tokenized: ['worried', 'year', 'old', 'girl', 'subject', 'domestic', 'physicalmental', 'housewithout', 'going', 'lot', 'know', 'girl', 'know', 'girl', 'etc', 'let', 'give', 'brief', 'background', 'known', 'girl', 'years', 'lives', 'uk', 'live', 'different', 'country', 'kept', 'touch', 'electronic', 'means', 'first', 'girl', 'schizophrenic', 'host', 'illnesses', 'too', 'dad', 'severe', 'anger', 'issues', 'abuses', 'physically', 'mentally', 'makes', 'serve', 'food', 'wash', 'dishes', 'clean', 'house', 'shouts', 'beats', 'petty', 'things', 'like', 'spilling', 'water', 'picking', 'toys', 'floor', 'threatened', 'knife', 'beats', 'plates', 'glasses', 'punches', 'head', 'last', 'time', 'got', 'beat', 'around', 'month', 'ago', 'one', 'siblings', 'gets', 'beat', 'up', 'tried', 'tell', 'mother', 'beating', 'showed', 'bruises', 'too', 'mother', 'refuses', 'believe', 'even', 'laughed', 'off', 'probably', 'fear', 'confronting', 'him', 'husband', 'yells', 'wife', 'too', 'family', 'treat', 'well', 'either', 'sister', 'mean', 'tell', 'father', 'put', 'trouble', 'family', 'tends', 'isolate', 'her', 'even', 'remember', 'birthday', 'all', 'family', 'cold', 'her', 'often', 'tend', 'alienate', 'since', 'act', 'normal', 'girl', 'often', 'feels', 'suicidal', 'due', 'this', 'inflicted', 'selfharm', 'cut', 'wrist', 'starves', 'believes', 'way', 'family', 'accept', 'her', 'make', 'worse', 'two', 'incidents', 'life', 'must', 'tell', 'about', 'raped', 'walking', 'back', 'home', 'night', 'initially', 'tell', 'parents', 'sometime', 'later', 'police', 'reports', 'filed', 'rape', 'suffered', 'false', 'pregnancy', 'girl', 'symptoms', 'disorder', 'like', 'lactating', 'breasts', 'happened', 'early', 'depressed', 'incident', 'summer', 'approximately', 'family', 'sent', 'couple', 'family', 'friends', 'wellknown', 'treatments', 'advertised', 'herbal', 'therapy', 'accupuncture', 'etc', 'however', 'happened', 'next', 'terrible', 'left', 'alone', 'husband', 'wife', 'went', 'somewhere', 'else', 'guy', 'tortured', 'her', 'instance', 'made', 'sit', 'container', 'filled', 'water', 'upto', 'neck', 'closed', 'lid', 'imagine', 'kind', 'stress', 'panic', 'would', 'cause', 'schizophrenic', 'patient', 'miscellaneous', 'details', 'gt', 'gets', 'visit', 'psychiatrist', 'school', 'able', 'hide', 'problems', 'psychiatrist', 'noted', 'girl', 'able', 'put', 'front', 'really', 'well', 'gt', 'five', 'psychiatrists', 'past', 'gt', 'enjoys', 'drawingpainting', 'learning', 'new', 'languages', 'writing', 'poems', 'gt', 'depressed', 'tends', 'victimized', 'mentality', 'blames', 'problems', 'want', 'report', 'abuse', 'due', 'trouble', 'family', 'face', 'tells', 'stopped', 'cutting', 'lately', 'problem', 'refuses', 'tell', 'anyone', 'abuse', 'even', 'tries', 'defend', 'father', 'saying', 'fault', 'help', 'her', 'although', 'seem', 'extremely', 'suicidal', 'concern', 'physically', 'mental', 'abuse', 'girl', 'subject', 'everyday', 'healthy', 'environment', 'anyone', 'grow', 'in', 'really', 'wish', 'rescued', 'clutches', 'belligerent', 'controlling', 'father', 'dysfunctional', 'family']\n",
            "\n"
          ]
        }
      ],
      "source": [
        "nltk.download('punkt_tab')\n",
        "def tokenize_text(text):\n",
        "    text = str(text)\n",
        "    tokens = word_tokenize(text)\n",
        "    return tokens\n",
        "\n",
        "tokenized_texts = data['text'].apply(tokenize_text)\n",
        "\n",
        "for original, tokenized in zip(data['text'].head(), tokenized_texts.head()):\n",
        "    print(f\"Original: {original}\\nTokenized: {tokenized}\\n\")"
      ]
    },
    {
      "cell_type": "code",
      "execution_count": 38,
      "id": "a796db56-22a4-4f59-afa8-0a3b60daad6e",
      "metadata": {
        "colab": {
          "base_uri": "https://localhost:8080/",
          "height": 701
        },
        "id": "a796db56-22a4-4f59-afa8-0a3b60daad6e",
        "outputId": "317eb32a-7c59-45ee-b0e1-295329ed7ac1"
      },
      "outputs": [
        {
          "data": {
            "text/html": [
              "<div>\n",
              "<style scoped>\n",
              "    .dataframe tbody tr th:only-of-type {\n",
              "        vertical-align: middle;\n",
              "    }\n",
              "\n",
              "    .dataframe tbody tr th {\n",
              "        vertical-align: top;\n",
              "    }\n",
              "\n",
              "    .dataframe thead th {\n",
              "        text-align: right;\n",
              "    }\n",
              "</style>\n",
              "<table border=\"1\" class=\"dataframe\">\n",
              "  <thead>\n",
              "    <tr style=\"text-align: right;\">\n",
              "      <th></th>\n",
              "      <th>text</th>\n",
              "      <th>label</th>\n",
              "    </tr>\n",
              "  </thead>\n",
              "  <tbody>\n",
              "    <tr>\n",
              "      <th>0</th>\n",
              "      <td>dear american teens question dutch person heard guys get way easier things learn age us sooooo thth graders like  right guys learn math</td>\n",
              "      <td>0</td>\n",
              "    </tr>\n",
              "    <tr>\n",
              "      <th>1</th>\n",
              "      <td>nothing look forward lifei dont many reasons keep going feel like nothing keeps going next day makes want hang myself</td>\n",
              "      <td>1</td>\n",
              "    </tr>\n",
              "    <tr>\n",
              "      <th>2</th>\n",
              "      <td>music recommendations im looking expand playlist usual genres alt pop minnesota hip hop steampunk various indie genres artists people like cavetown aliceband bug hunter penelope scott various rhym...</td>\n",
              "      <td>0</td>\n",
              "    </tr>\n",
              "    <tr>\n",
              "      <th>3</th>\n",
              "      <td>im done trying feel betterthe reason im still alive know mum devastated ever killed myself ever passes im still state im going hesitate ending life shortly after im almost  take meds go therapy no...</td>\n",
              "      <td>1</td>\n",
              "    </tr>\n",
              "    <tr>\n",
              "      <th>4</th>\n",
              "      <td>worried  year old girl subject domestic physicalmental housewithout going lot know girl know girl etc let give brief background known girl  years lives uk live different country kept touch electro...</td>\n",
              "      <td>1</td>\n",
              "    </tr>\n",
              "    <tr>\n",
              "      <th>...</th>\n",
              "      <td>...</td>\n",
              "      <td>...</td>\n",
              "    </tr>\n",
              "    <tr>\n",
              "      <th>27972</th>\n",
              "      <td>posting everyday people stop caring  religion matter private thing allowed share it force others also people treated diferently religions belief pearson stopped seeks harm humans care others relig...</td>\n",
              "      <td>0</td>\n",
              "    </tr>\n",
              "    <tr>\n",
              "      <th>27973</th>\n",
              "      <td>okay definetly need hear guys opinion ive pretty much love one best friends now im m shes f met lot summer pretty much always asked wanted meet always wanted never asked me also slow responds mess...</td>\n",
              "      <td>0</td>\n",
              "    </tr>\n",
              "    <tr>\n",
              "      <th>27974</th>\n",
              "      <td>cant get dog think ill kill myselfthe last thing im holding for yup first two applications didnt work already received many one looking for sent third one different place dont hopes high up</td>\n",
              "      <td>1</td>\n",
              "    </tr>\n",
              "    <tr>\n",
              "      <th>27975</th>\n",
              "      <td>whats point princess bridei really think like wesley said pb life pain ampxb life sucks hurts live get better joy temporary think people happy successful fulfilled lives thats cards me wish dead e...</td>\n",
              "      <td>1</td>\n",
              "    </tr>\n",
              "    <tr>\n",
              "      <th>27976</th>\n",
              "      <td>got nudes person might might know snapchat do ok chick dont know added snap sent something opened nudes dont even know person thought might know school couldnt find yearbook im sure wrong person a...</td>\n",
              "      <td>0</td>\n",
              "    </tr>\n",
              "  </tbody>\n",
              "</table>\n",
              "<p>27972 rows × 2 columns</p>\n",
              "</div>"
            ],
            "text/plain": [
              "                                                                                                                                                                                                          text  \\\n",
              "0                                                                      dear american teens question dutch person heard guys get way easier things learn age us sooooo thth graders like  right guys learn math   \n",
              "1                                                                                        nothing look forward lifei dont many reasons keep going feel like nothing keeps going next day makes want hang myself   \n",
              "2      music recommendations im looking expand playlist usual genres alt pop minnesota hip hop steampunk various indie genres artists people like cavetown aliceband bug hunter penelope scott various rhym...   \n",
              "3      im done trying feel betterthe reason im still alive know mum devastated ever killed myself ever passes im still state im going hesitate ending life shortly after im almost  take meds go therapy no...   \n",
              "4      worried  year old girl subject domestic physicalmental housewithout going lot know girl know girl etc let give brief background known girl  years lives uk live different country kept touch electro...   \n",
              "...                                                                                                                                                                                                        ...   \n",
              "27972  posting everyday people stop caring  religion matter private thing allowed share it force others also people treated diferently religions belief pearson stopped seeks harm humans care others relig...   \n",
              "27973  okay definetly need hear guys opinion ive pretty much love one best friends now im m shes f met lot summer pretty much always asked wanted meet always wanted never asked me also slow responds mess...   \n",
              "27974            cant get dog think ill kill myselfthe last thing im holding for yup first two applications didnt work already received many one looking for sent third one different place dont hopes high up   \n",
              "27975  whats point princess bridei really think like wesley said pb life pain ampxb life sucks hurts live get better joy temporary think people happy successful fulfilled lives thats cards me wish dead e...   \n",
              "27976  got nudes person might might know snapchat do ok chick dont know added snap sent something opened nudes dont even know person thought might know school couldnt find yearbook im sure wrong person a...   \n",
              "\n",
              "       label  \n",
              "0          0  \n",
              "1          1  \n",
              "2          0  \n",
              "3          1  \n",
              "4          1  \n",
              "...      ...  \n",
              "27972      0  \n",
              "27973      0  \n",
              "27974      1  \n",
              "27975      1  \n",
              "27976      0  \n",
              "\n",
              "[27972 rows x 2 columns]"
            ]
          },
          "execution_count": 38,
          "metadata": {},
          "output_type": "execute_result"
        }
      ],
      "source": [
        "data"
      ]
    },
    {
      "cell_type": "markdown",
      "id": "c598e4c5-f590-493a-a017-072c82c09d2a",
      "metadata": {
        "id": "c598e4c5-f590-493a-a017-072c82c09d2a"
      },
      "source": [
        "Check stopwords"
      ]
    },
    {
      "cell_type": "code",
      "execution_count": 39,
      "id": "c14c17ad-0a83-4bf1-bc64-4f433e16fc52",
      "metadata": {
        "colab": {
          "base_uri": "https://localhost:8080/"
        },
        "id": "c14c17ad-0a83-4bf1-bc64-4f433e16fc52",
        "outputId": "b761a001-67b7-4d36-b6ec-26e5f7240ebe"
      },
      "outputs": [
        {
          "name": "stdout",
          "output_type": "stream",
          "text": [
            "                                                                                                                                                                                                          text  \\\n",
            "1                                                                                        nothing look forward lifei dont many reasons keep going feel like nothing keeps going next day makes want hang myself   \n",
            "2      music recommendations im looking expand playlist usual genres alt pop minnesota hip hop steampunk various indie genres artists people like cavetown aliceband bug hunter penelope scott various rhym...   \n",
            "3      im done trying feel betterthe reason im still alive know mum devastated ever killed myself ever passes im still state im going hesitate ending life shortly after im almost  take meds go therapy no...   \n",
            "4      worried  year old girl subject domestic physicalmental housewithout going lot know girl know girl etc let give brief background known girl  years lives uk live different country kept touch electro...   \n",
            "5      hey rredflag sure right place post this goes  im currently student intern sandia national labs working survey help improve marketing outreach efforts many schools recruit around country were looki...   \n",
            "...                                                                                                                                                                                                        ...   \n",
            "27972  posting everyday people stop caring  religion matter private thing allowed share it force others also people treated diferently religions belief pearson stopped seeks harm humans care others relig...   \n",
            "27973  okay definetly need hear guys opinion ive pretty much love one best friends now im m shes f met lot summer pretty much always asked wanted meet always wanted never asked me also slow responds mess...   \n",
            "27974            cant get dog think ill kill myselfthe last thing im holding for yup first two applications didnt work already received many one looking for sent third one different place dont hopes high up   \n",
            "27975  whats point princess bridei really think like wesley said pb life pain ampxb life sucks hurts live get better joy temporary think people happy successful fulfilled lives thats cards me wish dead e...   \n",
            "27976  got nudes person might might know snapchat do ok chick dont know added snap sent something opened nudes dont even know person thought might know school couldnt find yearbook im sure wrong person a...   \n",
            "\n",
            "       label  \n",
            "1          1  \n",
            "2          0  \n",
            "3          1  \n",
            "4          1  \n",
            "5          1  \n",
            "...      ...  \n",
            "27972      0  \n",
            "27973      0  \n",
            "27974      1  \n",
            "27975      1  \n",
            "27976      0  \n",
            "\n",
            "[19031 rows x 2 columns]\n",
            "Number of rows with stopwords: 19031\n"
          ]
        }
      ],
      "source": [
        "def contains_stopwords(text):\n",
        "    stop_words = set(stopwords.words('english'))\n",
        "    text_tokens = text.split()\n",
        "    return any(word.lower() in stop_words for word in text_tokens)\n",
        "\n",
        "rows_with_stopwords = data[data['text'].apply(contains_stopwords)]\n",
        "print(rows_with_stopwords)\n",
        "\n",
        "count_stopwords = rows_with_stopwords.shape[0]\n",
        "print(f\"Number of rows with stopwords: {count_stopwords}\")"
      ]
    },
    {
      "cell_type": "markdown",
      "id": "261825f2-13f8-405d-968d-6395dd9cfb89",
      "metadata": {
        "id": "261825f2-13f8-405d-968d-6395dd9cfb89"
      },
      "source": [
        "Remove stopwords"
      ]
    },
    {
      "cell_type": "code",
      "execution_count": 40,
      "id": "1f59d2ae-e7e5-4585-ac1d-226312c9d5c5",
      "metadata": {
        "colab": {
          "base_uri": "https://localhost:8080/"
        },
        "id": "1f59d2ae-e7e5-4585-ac1d-226312c9d5c5",
        "outputId": "718e723e-8982-44fa-db65-e6d4c4ebcad0"
      },
      "outputs": [
        {
          "name": "stdout",
          "output_type": "stream",
          "text": [
            "0                                                                         dear american teens question dutch person heard guys get way easier things learn age us sooooo thth graders like right guys learn math\n",
            "1                                                                                                 nothing look forward lifei dont many reasons keep going feel like nothing keeps going next day makes want hang\n",
            "2        music recommendations im looking expand playlist usual genres alt pop minnesota hip hop steampunk various indie genres artists people like cavetown aliceband bug hunter penelope scott various rhym...\n",
            "3        im done trying feel betterthe reason im still alive know mum devastated ever killed ever passes im still state im going hesitate ending life shortly im almost take meds go therapy nothing seems he...\n",
            "4        worried year old girl subject domestic physicalmental housewithout going lot know girl know girl etc let give brief background known girl years lives uk live different country kept touch electroni...\n",
            "                                                                                                          ...                                                                                                   \n",
            "27972       posting everyday people stop caring religion matter private thing allowed share force others also people treated diferently religions belief pearson stopped seeks harm humans care others religions\n",
            "27973    okay definetly need hear guys opinion ive pretty much love one best friends im shes f met lot summer pretty much always asked wanted meet always wanted never asked also slow responds messages shes...\n",
            "27974                         cant get dog think ill kill myselfthe last thing im holding yup first two applications didnt work already received many one looking sent third one different place dont hopes high\n",
            "27975    whats point princess bridei really think like wesley said pb life pain ampxb life sucks hurts live get better joy temporary think people happy successful fulfilled lives thats cards wish dead ever...\n",
            "27976    got nudes person might might know snapchat ok chick dont know added snap sent something opened nudes dont even know person thought might know school couldnt find yearbook im sure wrong person actu...\n",
            "Name: text, Length: 27972, dtype: object\n"
          ]
        }
      ],
      "source": [
        "stop_words = set(stopwords.words('english'))\n",
        "def remove_stopwords(text):\n",
        "    tokens = word_tokenize(str(text))\n",
        "    filtered_tokens = [word for word in tokens if word.lower() not in stop_words]\n",
        "    return ' '.join(filtered_tokens)\n",
        "\n",
        "data['text'] = data['text'].apply(remove_stopwords)\n",
        "\n",
        "print(data['text'])"
      ]
    },
    {
      "cell_type": "code",
      "execution_count": 41,
      "id": "bb72ff1b-4c52-4d44-beaf-dfb85af4bb74",
      "metadata": {
        "colab": {
          "base_uri": "https://localhost:8080/"
        },
        "id": "bb72ff1b-4c52-4d44-beaf-dfb85af4bb74",
        "outputId": "ab2b1e91-8cf8-4b10-a216-13e2459816d8"
      },
      "outputs": [
        {
          "name": "stdout",
          "output_type": "stream",
          "text": [
            "Number of rows with stopwords: 0\n"
          ]
        }
      ],
      "source": [
        "def contains_stopwords(text):\n",
        "    stop_words = set(stopwords.words('english'))\n",
        "    text_tokens = text.split()\n",
        "    return any(word.lower() in stop_words for word in text_tokens)\n",
        "\n",
        "rows_with_stopwords = data[data['text'].apply(contains_stopwords)]\n",
        "\n",
        "count_stopwords = rows_with_stopwords.shape[0]\n",
        "print(f\"Number of rows with stopwords: {count_stopwords}\")"
      ]
    },
    {
      "cell_type": "markdown",
      "id": "c1fafc6b-79b8-4268-a6e6-2e3ff8b35ace",
      "metadata": {
        "id": "c1fafc6b-79b8-4268-a6e6-2e3ff8b35ace"
      },
      "source": [
        "Stemming"
      ]
    },
    {
      "cell_type": "code",
      "execution_count": 42,
      "id": "e0d5dc12-dbf7-40b5-8435-635ca9ec5e5b",
      "metadata": {
        "colab": {
          "base_uri": "https://localhost:8080/"
        },
        "id": "e0d5dc12-dbf7-40b5-8435-635ca9ec5e5b",
        "outputId": "cbce51da-155f-483a-90ca-a64f85874b6e"
      },
      "outputs": [
        {
          "name": "stdout",
          "output_type": "stream",
          "text": [
            "                                                                                                                                                                                                          text  \\\n",
            "0                                                                       dear american teens question dutch person heard guys get way easier things learn age us sooooo thth graders like right guys learn math   \n",
            "1                                                                                               nothing look forward lifei dont many reasons keep going feel like nothing keeps going next day makes want hang   \n",
            "2      music recommendations im looking expand playlist usual genres alt pop minnesota hip hop steampunk various indie genres artists people like cavetown aliceband bug hunter penelope scott various rhym...   \n",
            "3      im done trying feel betterthe reason im still alive know mum devastated ever killed ever passes im still state im going hesitate ending life shortly im almost take meds go therapy nothing seems he...   \n",
            "4      worried year old girl subject domestic physicalmental housewithout going lot know girl know girl etc let give brief background known girl years lives uk live different country kept touch electroni...   \n",
            "...                                                                                                                                                                                                        ...   \n",
            "27972     posting everyday people stop caring religion matter private thing allowed share force others also people treated diferently religions belief pearson stopped seeks harm humans care others religions   \n",
            "27973  okay definetly need hear guys opinion ive pretty much love one best friends im shes f met lot summer pretty much always asked wanted meet always wanted never asked also slow responds messages shes...   \n",
            "27974                       cant get dog think ill kill myselfthe last thing im holding yup first two applications didnt work already received many one looking sent third one different place dont hopes high   \n",
            "27975  whats point princess bridei really think like wesley said pb life pain ampxb life sucks hurts live get better joy temporary think people happy successful fulfilled lives thats cards wish dead ever...   \n",
            "27976  got nudes person might might know snapchat ok chick dont know added snap sent something opened nudes dont even know person thought might know school couldnt find yearbook im sure wrong person actu...   \n",
            "\n",
            "       label  \n",
            "0          0  \n",
            "1          1  \n",
            "2          0  \n",
            "3          1  \n",
            "4          1  \n",
            "...      ...  \n",
            "27972      0  \n",
            "27973      0  \n",
            "27974      1  \n",
            "27975      1  \n",
            "27976      0  \n",
            "\n",
            "[27515 rows x 2 columns]\n",
            "Number of rows with stemmed words: 27515\n"
          ]
        }
      ],
      "source": [
        "stemmer = PorterStemmer()\n",
        "\n",
        "def contains_stemmed_words(text):\n",
        "    tokens = word_tokenize(str(text))\n",
        "    return any(stemmer.stem(word) != word for word in tokens)\n",
        "\n",
        "rows_with_stemmed_words = data[data['text'].apply(contains_stemmed_words)]\n",
        "print(rows_with_stemmed_words)\n",
        "\n",
        "count_stemmed_words = rows_with_stemmed_words.shape[0]\n",
        "print(f\"Number of rows with stemmed words: {count_stemmed_words}\")"
      ]
    },
    {
      "cell_type": "code",
      "execution_count": 43,
      "id": "0dfb910f-bd89-4bc1-b9a9-d577e48968f9",
      "metadata": {
        "colab": {
          "base_uri": "https://localhost:8080/"
        },
        "id": "0dfb910f-bd89-4bc1-b9a9-d577e48968f9",
        "outputId": "9198518b-0fe3-42bc-c910-478159b6045a"
      },
      "outputs": [
        {
          "name": "stdout",
          "output_type": "stream",
          "text": [
            "0                                                                              dear american teen question dutch person heard guy get way easier thing learn age us sooooo thth grader like right guy learn math\n",
            "1                                                                                                                noth look forward lifei dont mani reason keep go feel like noth keep go next day make want hang\n",
            "2        music recommend im look expand playlist usual genr alt pop minnesota hip hop steampunk variou indi genr artist peopl like cavetown aliceband bug hunter penelop scott variou rhymesay will explor ne...\n",
            "3        im done tri feel betterth reason im still aliv know mum devast ever kill ever pass im still state im go hesit end life shortli im almost take med go therapi noth seem help enough dont want around ...\n",
            "4        worri year old girl subject domest physicalment housewithout go lot know girl know girl etc let give brief background known girl year live uk live differ countri kept touch electron mean first gir...\n",
            "                                                                                                          ...                                                                                                   \n",
            "27972                                  post everyday peopl stop care religion matter privat thing allow share forc other also peopl treat difer religion belief pearson stop seek harm human care other religion\n",
            "27973    okay definetli need hear guy opinion ive pretti much love one best friend im she f met lot summer pretti much alway ask want meet alway want never ask also slow respond messag she slow repli other...\n",
            "27974                                            cant get dog think ill kill myselfth last thing im hold yup first two applic didnt work alreadi receiv mani one look sent third one differ place dont hope high\n",
            "27975    what point princess bridei realli think like wesley said pb life pain ampxb life suck hurt live get better joy temporari think peopl happi success fulfil live that card wish dead everi day keep wi...\n",
            "27976    got nude person might might know snapchat ok chick dont know ad snap sent someth open nude dont even know person thought might know school couldnt find yearbook im sure wrong person actual know cu...\n",
            "Name: text, Length: 27972, dtype: object\n"
          ]
        }
      ],
      "source": [
        "stemmer=PorterStemmer()\n",
        "def apply_stemming(text):\n",
        "    tokens = word_tokenize(str(text))\n",
        "    stemmed_tokens = [stemmer.stem(word) for word in tokens]\n",
        "    return ' '.join(stemmed_tokens)\n",
        "\n",
        "data['text'] = data['text'].apply(apply_stemming)\n",
        "print(data['text'])"
      ]
    },
    {
      "cell_type": "code",
      "execution_count": 44,
      "id": "500c4767-1bd5-4718-949c-da4e270f7f6a",
      "metadata": {
        "colab": {
          "base_uri": "https://localhost:8080/"
        },
        "id": "500c4767-1bd5-4718-949c-da4e270f7f6a",
        "outputId": "9d0fda0f-954e-4b70-bf60-27b22da0f572"
      },
      "outputs": [
        {
          "name": "stdout",
          "output_type": "stream",
          "text": [
            "                                                                                                                                                                                                          text  \\\n",
            "2      music recommend im look expand playlist usual genr alt pop minnesota hip hop steampunk variou indi genr artist peopl like cavetown aliceband bug hunter penelop scott variou rhymesay will explor ne...   \n",
            "3      im done tri feel betterth reason im still aliv know mum devast ever kill ever pass im still state im go hesit end life shortli im almost take med go therapi noth seem help enough dont want around ...   \n",
            "4      worri year old girl subject domest physicalment housewithout go lot know girl know girl etc let give brief background known girl year live uk live differ countri kept touch electron mean first gir...   \n",
            "6      feel like someon need hear tonight feel right think cant anyth peopl keep pute listen life everyon els live someon tell unabl someth work get done say wrong someon say youl never make work hard ma...   \n",
            "7      deserv liveif die right noon would carei real friendsi alway start convers get dri respons feel comfort around femal emot abus mom put left usi never find love keep get remind everyday failur disa...   \n",
            "...                                                                                                                                                                                                        ...   \n",
            "27964                                                                          wan na sleep aint got social warmth kind affect make fall asleep instead keep brows reddit cuz fill dopamin even im extrem tire   \n",
            "27965                                                                             happen mix ammoniaalcohol bleachi dont feel like anyth live anymor ive abus alien frown upon sexual harass quickli would die   \n",
            "27966  whole homo sapien social creatur thing mess upupfront apolog wall text multitud reason shouldnt think famili frustrat care overal sister alway look love death like line work overal includ cowork i...   \n",
            "27970  back school guess ive coop goat farm quad today last day next week march break back actual school back schoolwork back sit class pray nobodi look back uniform back get bu everi morn back heart rac...   \n",
            "27973  okay definetli need hear guy opinion ive pretti much love one best friend im she f met lot summer pretti much alway ask want meet alway want never ask also slow respond messag she slow repli other...   \n",
            "\n",
            "       label  \n",
            "2          0  \n",
            "3          1  \n",
            "4          1  \n",
            "6          0  \n",
            "7          1  \n",
            "...      ...  \n",
            "27964      0  \n",
            "27965      1  \n",
            "27966      1  \n",
            "27970      0  \n",
            "27973      0  \n",
            "\n",
            "[14307 rows x 2 columns]\n",
            "Number of rows with stemmed words: 14307\n"
          ]
        }
      ],
      "source": [
        "stemmer = PorterStemmer()\n",
        "\n",
        "def contains_stemmed_words(text):\n",
        "    tokens = word_tokenize(str(text))\n",
        "    return any(stemmer.stem(word) != word for word in tokens)\n",
        "\n",
        "rows_with_stemmed_words = data[data['text'].apply(contains_stemmed_words)]\n",
        "print(rows_with_stemmed_words)\n",
        "\n",
        "count_stemmed_words = rows_with_stemmed_words.shape[0]\n",
        "print(f\"Number of rows with stemmed words: {count_stemmed_words}\")"
      ]
    },
    {
      "cell_type": "markdown",
      "id": "20a44289-c0e4-45fd-b8a6-146e2b904679",
      "metadata": {
        "id": "20a44289-c0e4-45fd-b8a6-146e2b904679"
      },
      "source": [
        "Lemmatization"
      ]
    },
    {
      "cell_type": "code",
      "execution_count": 45,
      "id": "710b2c3d-beb6-4f6c-9354-8ddb4395115d",
      "metadata": {
        "colab": {
          "base_uri": "https://localhost:8080/"
        },
        "id": "710b2c3d-beb6-4f6c-9354-8ddb4395115d",
        "outputId": "fc64d37f-ec5b-45ba-eaeb-b74d452b9d56"
      },
      "outputs": [
        {
          "name": "stdout",
          "output_type": "stream",
          "text": [
            "                                                                                                                                                                                                          text  \\\n",
            "0                                                                            dear american teen question dutch person heard guy get way easier thing learn age us sooooo thth grader like right guy learn math   \n",
            "3      im done tri feel betterth reason im still aliv know mum devast ever kill ever pass im still state im go hesit end life shortli im almost take med go therapi noth seem help enough dont want around ...   \n",
            "4      worri year old girl subject domest physicalment housewithout go lot know girl know girl etc let give brief background known girl year live uk live differ countri kept touch electron mean first gir...   \n",
            "5      hey rredflag sure right place post goe im current student intern sandia nation lab work survey help improv market outreach effort mani school recruit around countri look current undergradgrad stem...   \n",
            "6      feel like someon need hear tonight feel right think cant anyth peopl keep pute listen life everyon els live someon tell unabl someth work get done say wrong someon say youl never make work hard ma...   \n",
            "...                                                                                                                                                                                                        ...   \n",
            "27962  great exampl good dumb movi high art mean script anywher close woodi allen mel brook killer tomato seri four movi cartoon seri basic goodnatur romp gleefulli trampl kind territori zucker rule swit...   \n",
            "27964                                                                          wan na sleep aint got social warmth kind affect make fall asleep instead keep brows reddit cuz fill dopamin even im extrem tire   \n",
            "27967                                                                                                                                    forget color among us hat one im cyan wear leaf hat backup color lime   \n",
            "27968  wan na dieim shitti feel shitti time constantli make peopl feel shitti somehow cant fix fuck mental take take take never give back im imposs yet peopl still put fuck time one unselfish thing make ...   \n",
            "27973  okay definetli need hear guy opinion ive pretti much love one best friend im she f met lot summer pretti much alway ask want meet alway want never ask also slow respond messag she slow repli other...   \n",
            "\n",
            "       label  \n",
            "0          0  \n",
            "3          1  \n",
            "4          1  \n",
            "5          1  \n",
            "6          0  \n",
            "...      ...  \n",
            "27962      0  \n",
            "27964      0  \n",
            "27967      0  \n",
            "27968      1  \n",
            "27973      0  \n",
            "\n",
            "[8667 rows x 2 columns]\n",
            "Number of rows with stemmed words: 8667\n"
          ]
        }
      ],
      "source": [
        "lemmatizer = WordNetLemmatizer()\n",
        "\n",
        "def contains_lemmatization(text):\n",
        "    tokens = word_tokenize(str(text))\n",
        "    return any(lemmatizer.lemmatize(word) != word for word in tokens)\n",
        "\n",
        "rows_with_lemmatization = data[data['text'].apply(contains_lemmatization)]\n",
        "print(rows_with_lemmatization)\n",
        "\n",
        "count_lemmatization = rows_with_lemmatization.shape[0]\n",
        "print(f\"Number of rows with stemmed words: {count_lemmatization}\")"
      ]
    },
    {
      "cell_type": "code",
      "execution_count": 46,
      "id": "70081966-da7b-429e-be01-43640befaf9e",
      "metadata": {
        "colab": {
          "base_uri": "https://localhost:8080/"
        },
        "id": "70081966-da7b-429e-be01-43640befaf9e",
        "outputId": "95e2ac11-b8d7-45f2-ef68-1a950a644363"
      },
      "outputs": [
        {
          "name": "stdout",
          "output_type": "stream",
          "text": [
            "0                                                                               dear american teen question dutch person heard guy get way easier thing learn age u sooooo thth grader like right guy learn math\n",
            "1                                                                                                                noth look forward lifei dont mani reason keep go feel like noth keep go next day make want hang\n",
            "2        music recommend im look expand playlist usual genr alt pop minnesota hip hop steampunk variou indi genr artist peopl like cavetown aliceband bug hunter penelop scott variou rhymesay will explor ne...\n",
            "3        im done tri feel betterth reason im still aliv know mum devast ever kill ever pas im still state im go hesit end life shortli im almost take med go therapi noth seem help enough dont want around a...\n",
            "4        worri year old girl subject domest physicalment housewithout go lot know girl know girl etc let give brief background known girl year live uk live differ countri kept touch electron mean first gir...\n",
            "                                                                                                          ...                                                                                                   \n",
            "27972                                  post everyday peopl stop care religion matter privat thing allow share forc other also peopl treat difer religion belief pearson stop seek harm human care other religion\n",
            "27973    okay definetli need hear guy opinion ive pretti much love one best friend im she f met lot summer pretti much alway ask want meet alway want never ask also slow respond messag she slow repli other...\n",
            "27974                                            cant get dog think ill kill myselfth last thing im hold yup first two applic didnt work alreadi receiv mani one look sent third one differ place dont hope high\n",
            "27975    what point princess bridei realli think like wesley said pb life pain ampxb life suck hurt live get better joy temporari think peopl happi success fulfil live that card wish dead everi day keep wi...\n",
            "27976    got nude person might might know snapchat ok chick dont know ad snap sent someth open nude dont even know person thought might know school couldnt find yearbook im sure wrong person actual know cu...\n",
            "Name: text, Length: 27972, dtype: object\n"
          ]
        }
      ],
      "source": [
        "lemmatizer = WordNetLemmatizer()\n",
        "\n",
        "def apply_lemmatization(text):\n",
        "    tokens = word_tokenize(str(text))  # Tokenize the text\n",
        "    lemmatized_tokens = [lemmatizer.lemmatize(word) for word in tokens]  # Apply lemmatization\n",
        "    return ' '.join(lemmatized_tokens)  # Rejoin tokens into a string\n",
        "\n",
        "data['text'] = data['text'].apply(apply_lemmatization)\n",
        "\n",
        "print(data['text'])"
      ]
    },
    {
      "cell_type": "code",
      "execution_count": 47,
      "id": "dd82fad9-a2bc-4a9a-93eb-f881329af46e",
      "metadata": {
        "colab": {
          "base_uri": "https://localhost:8080/"
        },
        "id": "dd82fad9-a2bc-4a9a-93eb-f881329af46e",
        "outputId": "a9885be7-b0d1-4587-e54a-2df5febc7c56"
      },
      "outputs": [
        {
          "name": "stdout",
          "output_type": "stream",
          "text": [
            "                                                                                                                                                                                                          text  \\\n",
            "3      im done tri feel betterth reason im still aliv know mum devast ever kill ever pas im still state im go hesit end life shortli im almost take med go therapi noth seem help enough dont want around a...   \n",
            "5      hey rredflag sure right place post goe im current student intern sandia nation lab work survey help improv market outreach effort mani school recruit around countri look current undergradgrad stem...   \n",
            "45     start feel like endiv marri year give take last wife affair guy tri leav move keep come back guilt decid go back lost job day thanksgiv lucki enough land two interview get offer day thanksgiv leas...   \n",
            "53     fail colleg know long post yo repeat exam im sure fail second time im sure get colleg major friend gt peopl left citi countri parent live km away anyon give good reason end friend left im tire tim...   \n",
            "62     reason suck gener cold unfeel person know definit come dick robot somethin friend rare ever show emot say talk shit must major trust issu someth cuz even tell best friend feel howev time definit d...   \n",
            "...                                                                                                                                                                                                        ...   \n",
            "27881  took lot whatev arm reach definit whole new bottl mg strength ibuprofen along bottl tylenol unsur much lot benadryl oxycodon good news found pas bed hour later last heard sound normal taken hospit...   \n",
            "27906  run optionsmi life gener go downhil past year start pas uncl felt quit close suffer panic attack depress kept calm outsid peopl assum ok around end may learn girlfriend almost two year cheat anoth...   \n",
            "27917  ive wast hour life noth today school receiv grade mine pretti good mediocr fail one angri teacher given wors grade deserv hate mean hour genuin spent studi put effort noth afternoon noth weekend l...   \n",
            "27962  great exampl good dumb movi high art mean script anywher close woodi allen mel brook killer tomato seri four movi cartoon seri basic goodnatur romp gleefulli trampl kind territori zucker rule swit...   \n",
            "27968  wan na dieim shitti feel shitti time constantli make peopl feel shitti somehow cant fix fuck mental take take take never give back im imposs yet peopl still put fuck time one unselfish thing make ...   \n",
            "\n",
            "       label  \n",
            "3          1  \n",
            "5          1  \n",
            "45         1  \n",
            "53         1  \n",
            "62         0  \n",
            "...      ...  \n",
            "27881      1  \n",
            "27906      1  \n",
            "27917      0  \n",
            "27962      0  \n",
            "27968      1  \n",
            "\n",
            "[1437 rows x 2 columns]\n",
            "Number of rows with stemmed words: 1437\n"
          ]
        }
      ],
      "source": [
        "lemmatizer = WordNetLemmatizer()\n",
        "\n",
        "def contains_lemmatization(text):\n",
        "    tokens = word_tokenize(str(text))\n",
        "    return any(lemmatizer.lemmatize(word) != word for word in tokens)\n",
        "\n",
        "rows_with_lemmatization = data[data['text'].apply(contains_lemmatization)]\n",
        "print(rows_with_lemmatization)\n",
        "\n",
        "count_lemmatization = rows_with_lemmatization.shape[0]\n",
        "print(f\"Number of rows with stemmed words: {count_lemmatization}\")"
      ]
    },
    {
      "cell_type": "markdown",
      "id": "8727fe08-8235-46f1-9f5a-bfdac55380c7",
      "metadata": {
        "id": "8727fe08-8235-46f1-9f5a-bfdac55380c7"
      },
      "source": [
        "Word frequency"
      ]
    },
    {
      "cell_type": "code",
      "execution_count": 48,
      "id": "15394744-f98b-45e1-92d7-9d404c9b1ba2",
      "metadata": {
        "colab": {
          "base_uri": "https://localhost:8080/"
        },
        "id": "15394744-f98b-45e1-92d7-9d404c9b1ba2",
        "outputId": "9618134d-0621-4c54-c495-e577f2bc387e"
      },
      "outputs": [
        {
          "name": "stdout",
          "output_type": "stream",
          "text": [
            "Text: dear american teen question dutch person heard guy get way easier thing learn age u sooooo thth grader like right guy learn math\n",
            "Word Frequencies: Counter({'guy': 2, 'learn': 2, 'dear': 1, 'american': 1, 'teen': 1, 'question': 1, 'dutch': 1, 'person': 1, 'heard': 1, 'get': 1, 'way': 1, 'easier': 1, 'thing': 1, 'age': 1, 'u': 1, 'sooooo': 1, 'thth': 1, 'grader': 1, 'like': 1, 'right': 1, 'math': 1})\n",
            "--------------------------------------------------\n",
            "Text: noth look forward lifei dont mani reason keep go feel like noth keep go next day make want hang\n",
            "Word Frequencies: Counter({'noth': 2, 'keep': 2, 'go': 2, 'look': 1, 'forward': 1, 'lifei': 1, 'dont': 1, 'mani': 1, 'reason': 1, 'feel': 1, 'like': 1, 'next': 1, 'day': 1, 'make': 1, 'want': 1, 'hang': 1})\n",
            "--------------------------------------------------\n",
            "Text: music recommend im look expand playlist usual genr alt pop minnesota hip hop steampunk variou indi genr artist peopl like cavetown aliceband bug hunter penelop scott variou rhymesay will explor new genresartist anyth gener rap type exclus sex drug cool rapper rap type pretti good pop popular coupl year ago dunno technic genr name anyway anyon got music recommend favorit artistssong\n",
            "Word Frequencies: Counter({'genr': 3, 'music': 2, 'recommend': 2, 'pop': 2, 'variou': 2, 'rap': 2, 'type': 2, 'im': 1, 'look': 1, 'expand': 1, 'playlist': 1, 'usual': 1, 'alt': 1, 'minnesota': 1, 'hip': 1, 'hop': 1, 'steampunk': 1, 'indi': 1, 'artist': 1, 'peopl': 1, 'like': 1, 'cavetown': 1, 'aliceband': 1, 'bug': 1, 'hunter': 1, 'penelop': 1, 'scott': 1, 'rhymesay': 1, 'will': 1, 'explor': 1, 'new': 1, 'genresartist': 1, 'anyth': 1, 'gener': 1, 'exclus': 1, 'sex': 1, 'drug': 1, 'cool': 1, 'rapper': 1, 'pretti': 1, 'good': 1, 'popular': 1, 'coupl': 1, 'year': 1, 'ago': 1, 'dunno': 1, 'technic': 1, 'name': 1, 'anyway': 1, 'anyon': 1, 'got': 1, 'favorit': 1, 'artistssong': 1})\n",
            "--------------------------------------------------\n",
            "Text: im done tri feel betterth reason im still aliv know mum devast ever kill ever pas im still state im go hesit end life shortli im almost take med go therapi noth seem help enough dont want around anymor hate feel like wouldnt wish upon enemi brain feel like constantli like static tv wont shut overthink think im run option dont see live past got accept health scienc degre dont even know wan na tri know im smart mental ill hold back think cant anyth im good enough need fuck help dont know anymor ive run option\n",
            "Word Frequencies: Counter({'im': 8, 'know': 4, 'dont': 4, 'feel': 3, 'like': 3, 'tri': 2, 'still': 2, 'ever': 2, 'go': 2, 'help': 2, 'enough': 2, 'anymor': 2, 'think': 2, 'run': 2, 'option': 2, 'done': 1, 'betterth': 1, 'reason': 1, 'aliv': 1, 'mum': 1, 'devast': 1, 'kill': 1, 'pas': 1, 'state': 1, 'hesit': 1, 'end': 1, 'life': 1, 'shortli': 1, 'almost': 1, 'take': 1, 'med': 1, 'therapi': 1, 'noth': 1, 'seem': 1, 'want': 1, 'around': 1, 'hate': 1, 'wouldnt': 1, 'wish': 1, 'upon': 1, 'enemi': 1, 'brain': 1, 'constantli': 1, 'static': 1, 'tv': 1, 'wont': 1, 'shut': 1, 'overthink': 1, 'see': 1, 'live': 1, 'past': 1, 'got': 1, 'accept': 1, 'health': 1, 'scienc': 1, 'degre': 1, 'even': 1, 'wan': 1, 'na': 1, 'smart': 1, 'mental': 1, 'ill': 1, 'hold': 1, 'back': 1, 'cant': 1, 'anyth': 1, 'good': 1, 'need': 1, 'fuck': 1, 'ive': 1})\n",
            "--------------------------------------------------\n",
            "Text: worri year old girl subject domest physicalment housewithout go lot know girl know girl etc let give brief background known girl year live uk live differ countri kept touch electron mean first girl schizophren host ill dad sever anger issu abus physic mental make serv food wash dish clean hous shout beat petti thing like spill water pick toy floor threaten knife beat plate glass punch head last time got beat around month ago one sibl get beat tri tell mother beat show bruis mother refus believ even laugh probabl fear confront husband yell wife famili treat well either sister mean tell father put troubl famili tend isol even rememb birthday famili cold often tend alien sinc act normal girl often feel suicid due inflict selfharm cut wrist starv believ way famili accept make wors two incid life must tell rape walk back home night initi tell parent sometim later polic report file rape suffer fals pregnanc girl symptom disord like lactat breast happen earli depress incid summer approxim famili sent coupl famili friend wellknown treatment advertis herbal therapi accupunctur etc howev happen next terribl left alon husband wife went somewher el guy tortur instanc made sit contain fill water upto neck close lid imagin kind stress panic would caus schizophren patient miscellan detail gt get visit psychiatrist school abl hide problem psychiatrist note girl abl put front realli well gt five psychiatrist past gt enjoy drawingpaint learn new languag write poem gt depress tend victim mental blame problem want report abus due troubl famili face tell stop cut late problem refus tell anyon abus even tri defend father say fault help although seem extrem suicid concern physic mental abus girl subject everyday healthi environ anyon grow realli wish rescu clutch belliger control father dysfunct famili\n",
            "Word Frequencies: Counter({'girl': 9, 'famili': 8, 'tell': 6, 'beat': 5, 'abus': 4, 'gt': 4, 'mental': 3, 'even': 3, 'father': 3, 'tend': 3, 'psychiatrist': 3, 'problem': 3, 'year': 2, 'subject': 2, 'know': 2, 'etc': 2, 'live': 2, 'mean': 2, 'schizophren': 2, 'physic': 2, 'make': 2, 'like': 2, 'water': 2, 'get': 2, 'tri': 2, 'mother': 2, 'refus': 2, 'believ': 2, 'husband': 2, 'wife': 2, 'well': 2, 'put': 2, 'troubl': 2, 'often': 2, 'suicid': 2, 'due': 2, 'cut': 2, 'incid': 2, 'rape': 2, 'report': 2, 'happen': 2, 'depress': 2, 'abl': 2, 'realli': 2, 'anyon': 2, 'worri': 1, 'old': 1, 'domest': 1, 'physicalment': 1, 'housewithout': 1, 'go': 1, 'lot': 1, 'let': 1, 'give': 1, 'brief': 1, 'background': 1, 'known': 1, 'uk': 1, 'differ': 1, 'countri': 1, 'kept': 1, 'touch': 1, 'electron': 1, 'first': 1, 'host': 1, 'ill': 1, 'dad': 1, 'sever': 1, 'anger': 1, 'issu': 1, 'serv': 1, 'food': 1, 'wash': 1, 'dish': 1, 'clean': 1, 'hous': 1, 'shout': 1, 'petti': 1, 'thing': 1, 'spill': 1, 'pick': 1, 'toy': 1, 'floor': 1, 'threaten': 1, 'knife': 1, 'plate': 1, 'glass': 1, 'punch': 1, 'head': 1, 'last': 1, 'time': 1, 'got': 1, 'around': 1, 'month': 1, 'ago': 1, 'one': 1, 'sibl': 1, 'show': 1, 'bruis': 1, 'laugh': 1, 'probabl': 1, 'fear': 1, 'confront': 1, 'yell': 1, 'treat': 1, 'either': 1, 'sister': 1, 'isol': 1, 'rememb': 1, 'birthday': 1, 'cold': 1, 'alien': 1, 'sinc': 1, 'act': 1, 'normal': 1, 'feel': 1, 'inflict': 1, 'selfharm': 1, 'wrist': 1, 'starv': 1, 'way': 1, 'accept': 1, 'wors': 1, 'two': 1, 'life': 1, 'must': 1, 'walk': 1, 'back': 1, 'home': 1, 'night': 1, 'initi': 1, 'parent': 1, 'sometim': 1, 'later': 1, 'polic': 1, 'file': 1, 'suffer': 1, 'fals': 1, 'pregnanc': 1, 'symptom': 1, 'disord': 1, 'lactat': 1, 'breast': 1, 'earli': 1, 'summer': 1, 'approxim': 1, 'sent': 1, 'coupl': 1, 'friend': 1, 'wellknown': 1, 'treatment': 1, 'advertis': 1, 'herbal': 1, 'therapi': 1, 'accupunctur': 1, 'howev': 1, 'next': 1, 'terribl': 1, 'left': 1, 'alon': 1, 'went': 1, 'somewher': 1, 'el': 1, 'guy': 1, 'tortur': 1, 'instanc': 1, 'made': 1, 'sit': 1, 'contain': 1, 'fill': 1, 'upto': 1, 'neck': 1, 'close': 1, 'lid': 1, 'imagin': 1, 'kind': 1, 'stress': 1, 'panic': 1, 'would': 1, 'caus': 1, 'patient': 1, 'miscellan': 1, 'detail': 1, 'visit': 1, 'school': 1, 'hide': 1, 'note': 1, 'front': 1, 'five': 1, 'past': 1, 'enjoy': 1, 'drawingpaint': 1, 'learn': 1, 'new': 1, 'languag': 1, 'write': 1, 'poem': 1, 'victim': 1, 'blame': 1, 'want': 1, 'face': 1, 'stop': 1, 'late': 1, 'defend': 1, 'say': 1, 'fault': 1, 'help': 1, 'although': 1, 'seem': 1, 'extrem': 1, 'concern': 1, 'everyday': 1, 'healthi': 1, 'environ': 1, 'grow': 1, 'wish': 1, 'rescu': 1, 'clutch': 1, 'belliger': 1, 'control': 1, 'dysfunct': 1})\n",
            "--------------------------------------------------\n"
          ]
        }
      ],
      "source": [
        "def get_word_frequencies(text):\n",
        "    tokens = word_tokenize(text)\n",
        "    word_freq = Counter(tokens)\n",
        "    return word_freq\n",
        "\n",
        "for text in data['text'].head():\n",
        "    word_freq = get_word_frequencies(text)\n",
        "    print(f\"Text: {text}\")\n",
        "    print(\"Word Frequencies:\", word_freq)\n",
        "    print(\"-\" * 50)\n"
      ]
    },
    {
      "cell_type": "code",
      "execution_count": 49,
      "id": "8827c725-6603-4c29-a4cc-ee503fd37247",
      "metadata": {
        "colab": {
          "base_uri": "https://localhost:8080/",
          "height": 701
        },
        "id": "8827c725-6603-4c29-a4cc-ee503fd37247",
        "outputId": "a406b6ab-72c1-45ba-d3d0-5fb3e3e8500b"
      },
      "outputs": [
        {
          "data": {
            "text/html": [
              "<div>\n",
              "<style scoped>\n",
              "    .dataframe tbody tr th:only-of-type {\n",
              "        vertical-align: middle;\n",
              "    }\n",
              "\n",
              "    .dataframe tbody tr th {\n",
              "        vertical-align: top;\n",
              "    }\n",
              "\n",
              "    .dataframe thead th {\n",
              "        text-align: right;\n",
              "    }\n",
              "</style>\n",
              "<table border=\"1\" class=\"dataframe\">\n",
              "  <thead>\n",
              "    <tr style=\"text-align: right;\">\n",
              "      <th></th>\n",
              "      <th>text</th>\n",
              "      <th>label</th>\n",
              "    </tr>\n",
              "  </thead>\n",
              "  <tbody>\n",
              "    <tr>\n",
              "      <th>0</th>\n",
              "      <td>dear american teen question dutch person heard guy get way easier thing learn age u sooooo thth grader like right guy learn math</td>\n",
              "      <td>0</td>\n",
              "    </tr>\n",
              "    <tr>\n",
              "      <th>1</th>\n",
              "      <td>noth look forward lifei dont mani reason keep go feel like noth keep go next day make want hang</td>\n",
              "      <td>1</td>\n",
              "    </tr>\n",
              "    <tr>\n",
              "      <th>2</th>\n",
              "      <td>music recommend im look expand playlist usual genr alt pop minnesota hip hop steampunk variou indi genr artist peopl like cavetown aliceband bug hunter penelop scott variou rhymesay will explor ne...</td>\n",
              "      <td>0</td>\n",
              "    </tr>\n",
              "    <tr>\n",
              "      <th>3</th>\n",
              "      <td>im done tri feel betterth reason im still aliv know mum devast ever kill ever pas im still state im go hesit end life shortli im almost take med go therapi noth seem help enough dont want around a...</td>\n",
              "      <td>1</td>\n",
              "    </tr>\n",
              "    <tr>\n",
              "      <th>4</th>\n",
              "      <td>worri year old girl subject domest physicalment housewithout go lot know girl know girl etc let give brief background known girl year live uk live differ countri kept touch electron mean first gir...</td>\n",
              "      <td>1</td>\n",
              "    </tr>\n",
              "    <tr>\n",
              "      <th>...</th>\n",
              "      <td>...</td>\n",
              "      <td>...</td>\n",
              "    </tr>\n",
              "    <tr>\n",
              "      <th>27972</th>\n",
              "      <td>post everyday peopl stop care religion matter privat thing allow share forc other also peopl treat difer religion belief pearson stop seek harm human care other religion</td>\n",
              "      <td>0</td>\n",
              "    </tr>\n",
              "    <tr>\n",
              "      <th>27973</th>\n",
              "      <td>okay definetli need hear guy opinion ive pretti much love one best friend im she f met lot summer pretti much alway ask want meet alway want never ask also slow respond messag she slow repli other...</td>\n",
              "      <td>0</td>\n",
              "    </tr>\n",
              "    <tr>\n",
              "      <th>27974</th>\n",
              "      <td>cant get dog think ill kill myselfth last thing im hold yup first two applic didnt work alreadi receiv mani one look sent third one differ place dont hope high</td>\n",
              "      <td>1</td>\n",
              "    </tr>\n",
              "    <tr>\n",
              "      <th>27975</th>\n",
              "      <td>what point princess bridei realli think like wesley said pb life pain ampxb life suck hurt live get better joy temporari think peopl happi success fulfil live that card wish dead everi day keep wi...</td>\n",
              "      <td>1</td>\n",
              "    </tr>\n",
              "    <tr>\n",
              "      <th>27976</th>\n",
              "      <td>got nude person might might know snapchat ok chick dont know ad snap sent someth open nude dont even know person thought might know school couldnt find yearbook im sure wrong person actual know cu...</td>\n",
              "      <td>0</td>\n",
              "    </tr>\n",
              "  </tbody>\n",
              "</table>\n",
              "<p>27972 rows × 2 columns</p>\n",
              "</div>"
            ],
            "text/plain": [
              "                                                                                                                                                                                                          text  \\\n",
              "0                                                                             dear american teen question dutch person heard guy get way easier thing learn age u sooooo thth grader like right guy learn math   \n",
              "1                                                                                                              noth look forward lifei dont mani reason keep go feel like noth keep go next day make want hang   \n",
              "2      music recommend im look expand playlist usual genr alt pop minnesota hip hop steampunk variou indi genr artist peopl like cavetown aliceband bug hunter penelop scott variou rhymesay will explor ne...   \n",
              "3      im done tri feel betterth reason im still aliv know mum devast ever kill ever pas im still state im go hesit end life shortli im almost take med go therapi noth seem help enough dont want around a...   \n",
              "4      worri year old girl subject domest physicalment housewithout go lot know girl know girl etc let give brief background known girl year live uk live differ countri kept touch electron mean first gir...   \n",
              "...                                                                                                                                                                                                        ...   \n",
              "27972                                post everyday peopl stop care religion matter privat thing allow share forc other also peopl treat difer religion belief pearson stop seek harm human care other religion   \n",
              "27973  okay definetli need hear guy opinion ive pretti much love one best friend im she f met lot summer pretti much alway ask want meet alway want never ask also slow respond messag she slow repli other...   \n",
              "27974                                          cant get dog think ill kill myselfth last thing im hold yup first two applic didnt work alreadi receiv mani one look sent third one differ place dont hope high   \n",
              "27975  what point princess bridei realli think like wesley said pb life pain ampxb life suck hurt live get better joy temporari think peopl happi success fulfil live that card wish dead everi day keep wi...   \n",
              "27976  got nude person might might know snapchat ok chick dont know ad snap sent someth open nude dont even know person thought might know school couldnt find yearbook im sure wrong person actual know cu...   \n",
              "\n",
              "       label  \n",
              "0          0  \n",
              "1          1  \n",
              "2          0  \n",
              "3          1  \n",
              "4          1  \n",
              "...      ...  \n",
              "27972      0  \n",
              "27973      0  \n",
              "27974      1  \n",
              "27975      1  \n",
              "27976      0  \n",
              "\n",
              "[27972 rows x 2 columns]"
            ]
          },
          "execution_count": 49,
          "metadata": {},
          "output_type": "execute_result"
        }
      ],
      "source": [
        "data"
      ]
    },
    {
      "cell_type": "markdown",
      "id": "5d145aa9-e960-478b-9536-89569b63b14e",
      "metadata": {
        "id": "5d145aa9-e960-478b-9536-89569b63b14e"
      },
      "source": [
        "Saving the data"
      ]
    },
    {
      "cell_type": "code",
      "execution_count": 50,
      "id": "15d56440-5827-480d-8f4f-7b60ac42b4ef",
      "metadata": {
        "id": "15d56440-5827-480d-8f4f-7b60ac42b4ef"
      },
      "outputs": [],
      "source": [
        "data.to_csv('mental_health_After.csv', index=False)"
      ]
    },
    {
      "cell_type": "markdown",
      "id": "c2feca81",
      "metadata": {
        "id": "c2feca81"
      },
      "source": [
        "Modeling\n"
      ]
    },
    {
      "cell_type": "markdown",
      "id": "93e9a0e1",
      "metadata": {
        "id": "93e9a0e1"
      },
      "source": [
        "first of all I want to know the values of the labels (target) to see if the data is balanced or not"
      ]
    },
    {
      "cell_type": "code",
      "execution_count": 51,
      "id": "602cc1c9",
      "metadata": {
        "colab": {
          "base_uri": "https://localhost:8080/",
          "height": 178
        },
        "id": "602cc1c9",
        "outputId": "8e6a2f76-a6f4-4b79-deae-442e933ee566"
      },
      "outputs": [
        {
          "data": {
            "text/plain": [
              "label\n",
              "0    14134\n",
              "1    13838\n",
              "Name: count, dtype: int64"
            ]
          },
          "execution_count": 51,
          "metadata": {},
          "output_type": "execute_result"
        }
      ],
      "source": [
        "data.label.value_counts()"
      ]
    },
    {
      "cell_type": "code",
      "execution_count": 52,
      "id": "1e08ca59",
      "metadata": {
        "id": "1e08ca59"
      },
      "outputs": [],
      "source": [
        "X = data['text']\n",
        "y = data['label']"
      ]
    },
    {
      "cell_type": "markdown",
      "id": "1e7f620a",
      "metadata": {
        "id": "1e7f620a"
      },
      "source": [
        "Splitting the data into train and test with ratio 80:20"
      ]
    },
    {
      "cell_type": "code",
      "execution_count": 53,
      "id": "f0b0eb28",
      "metadata": {
        "id": "f0b0eb28"
      },
      "outputs": [],
      "source": [
        "X_train,X_test,y_train,y_test=train_test_split(X,y, test_size=0.2, stratify=y, random_state=42)"
      ]
    },
    {
      "cell_type": "markdown",
      "id": "ef785ed0",
      "metadata": {
        "id": "ef785ed0"
      },
      "source": [
        "The next preprocessing ensures that all text samples are converted into uniform, numeric sequences suitable for input into a neural network."
      ]
    },
    {
      "cell_type": "code",
      "execution_count": 54,
      "id": "63a98cef",
      "metadata": {
        "id": "63a98cef"
      },
      "outputs": [],
      "source": [
        "from tensorflow.keras import layers\n",
        "from tensorflow.keras.layers import TextVectorization\n",
        "\n",
        "maxVocab=None\n",
        "text_lengths = [len(text.split()) for text in X_train]\n",
        "\n",
        "percentile_95 = np.percentile(text_lengths, 95)\n",
        "maxLength=int(percentile_95)\n",
        "\n",
        "# TextVectorization\n",
        "text_vectorizer = TextVectorization(\n",
        "    max_tokens=maxVocab,\n",
        "    output_mode=\"int\",\n",
        "    output_sequence_length=maxLength\n",
        ")"
      ]
    },
    {
      "cell_type": "code",
      "execution_count": 55,
      "id": "342fac08",
      "metadata": {
        "id": "342fac08"
      },
      "outputs": [],
      "source": [
        "# Adapt the text vectorizer\n",
        "text_vectorizer.adapt(X_train)"
      ]
    },
    {
      "cell_type": "code",
      "execution_count": 56,
      "id": "49d504c4",
      "metadata": {
        "id": "49d504c4"
      },
      "outputs": [
        {
          "name": "stdout",
          "output_type": "stream",
          "text": [
            "Number of words in vocab: 47031\n",
            "Top 5 most common words: ['', '[UNK]', 'im', 'like', 'want']\n"
          ]
        }
      ],
      "source": [
        "words_in_vocab = text_vectorizer.get_vocabulary()\n",
        "top_5_words = words_in_vocab[:5] # most common tokens \n",
        "max_vocab_length = len(words_in_vocab)\n",
        "print(f\"Number of words in vocab: {len(words_in_vocab)}\")\n",
        "print(f\"Top 5 most common words: {top_5_words}\")"
      ]
    },
    {
      "cell_type": "markdown",
      "id": "-MM1S3X6nlpt",
      "metadata": {
        "id": "-MM1S3X6nlpt"
      },
      "source": [
        "# **LSTM**"
      ]
    },
    {
      "cell_type": "code",
      "execution_count": 57,
      "id": "166723c3",
      "metadata": {
        "id": "166723c3"
      },
      "outputs": [],
      "source": [
        "# Define the model\n",
        "inputs = layers.Input(shape=(1,), dtype=\"string\", name=\"text_input\")\n",
        "x = text_vectorizer(inputs)\n",
        "x = layers.Embedding(\n",
        "    input_dim=max_vocab_length,  # Embedding layer vocabulary size\n",
        "    output_dim=300,  # Embedding dimensions\n",
        "    input_length=maxLength,  # Sequence length\n",
        "    name=\"embedding_layer\"\n",
        ")(x)\n",
        "x = layers.LSTM(64, return_sequences=True)(x)  # First LSTM layer\n",
        "x = layers.LSTM(64)(x)  # Second LSTM layer\n",
        "x = layers.Dense(64, activation=\"relu\")(x)  # Dense layer\n",
        "outputs = layers.Dense(1, activation=\"sigmoid\")(x)  # Output layer\n",
        "\n",
        "model_1LSTM = tf.keras.Model(inputs, outputs, name=\"text_classification_model\")\n"
      ]
    },
    {
      "cell_type": "code",
      "execution_count": 58,
      "id": "16d2798e",
      "metadata": {
        "colab": {
          "base_uri": "https://localhost:8080/"
        },
        "id": "16d2798e",
        "outputId": "8bef7d3f-7ec4-404f-f203-450d0cedcc6a"
      },
      "outputs": [
        {
          "name": "stdout",
          "output_type": "stream",
          "text": [
            "Epoch 1/4\n",
            "\u001b[1m700/700\u001b[0m \u001b[32m━━━━━━━━━━━━━━━━━━━━\u001b[0m\u001b[37m\u001b[0m \u001b[1m258s\u001b[0m 353ms/step - accuracy: 0.5484 - loss: 0.6685 - val_accuracy: 0.7955 - val_loss: 0.4580\n",
            "Epoch 2/4\n",
            "\u001b[1m700/700\u001b[0m \u001b[32m━━━━━━━━━━━━━━━━━━━━\u001b[0m\u001b[37m\u001b[0m \u001b[1m204s\u001b[0m 292ms/step - accuracy: 0.8290 - loss: 0.4234 - val_accuracy: 0.9035 - val_loss: 0.2784\n",
            "Epoch 3/4\n",
            "\u001b[1m700/700\u001b[0m \u001b[32m━━━━━━━━━━━━━━━━━━━━\u001b[0m\u001b[37m\u001b[0m \u001b[1m226s\u001b[0m 323ms/step - accuracy: 0.9240 - loss: 0.2232 - val_accuracy: 0.9092 - val_loss: 0.2317\n",
            "Epoch 4/4\n",
            "\u001b[1m700/700\u001b[0m \u001b[32m━━━━━━━━━━━━━━━━━━━━\u001b[0m\u001b[37m\u001b[0m \u001b[1m249s\u001b[0m 356ms/step - accuracy: 0.9536 - loss: 0.1398 - val_accuracy: 0.9197 - val_loss: 0.2353\n"
          ]
        }
      ],
      "source": [
        "# Compile the model\n",
        "model_1LSTM.compile(\n",
        "    loss=\"binary_crossentropy\",\n",
        "    optimizer=tf.keras.optimizers.Adam(),\n",
        "    metrics=[\"accuracy\"]\n",
        ")\n",
        "\n",
        "# Train the model\n",
        "history = model_1LSTM.fit(\n",
        "    X_train, y_train,\n",
        "    validation_data=(X_test, y_test),\n",
        "    epochs=3)"
      ]
    },
    {
      "cell_type": "markdown",
      "id": "045ce592",
      "metadata": {
        "id": "045ce592"
      },
      "source": [
        "we get that the accuracy of our model is 95%"
      ]
    },
    {
      "cell_type": "code",
      "execution_count": 59,
      "id": "6515e15b",
      "metadata": {
        "colab": {
          "base_uri": "https://localhost:8080/"
        },
        "id": "6515e15b",
        "outputId": "2203d625-5ef2-4d47-c693-43f8cf302363"
      },
      "outputs": [
        {
          "name": "stdout",
          "output_type": "stream",
          "text": [
            "\u001b[1m175/175\u001b[0m \u001b[32m━━━━━━━━━━━━━━━━━━━━\u001b[0m\u001b[37m\u001b[0m \u001b[1m14s\u001b[0m 77ms/step\n"
          ]
        }
      ],
      "source": [
        "y_pred = model_1LSTM.predict(X_test)"
      ]
    },
    {
      "cell_type": "code",
      "execution_count": 74,
      "id": "f05982df",
      "metadata": {},
      "outputs": [],
      "source": [
        "model_1LSTM.save('my_lstm_model.keras') "
      ]
    },
    {
      "cell_type": "markdown",
      "id": "2deac21e",
      "metadata": {
        "id": "2deac21e"
      },
      "source": [
        "some metrics to evaluate our model (Confusion matrix and classification report)"
      ]
    },
    {
      "cell_type": "code",
      "execution_count": 60,
      "id": "1cd16a32",
      "metadata": {
        "colab": {
          "base_uri": "https://localhost:8080/"
        },
        "id": "1cd16a32",
        "outputId": "4d33933b-909f-4d7c-84a9-b8b76ea8e57d"
      },
      "outputs": [
        {
          "data": {
            "text/plain": [
              "array([[2583,  244],\n",
              "       [ 205, 2563]], dtype=int64)"
            ]
          },
          "execution_count": 60,
          "metadata": {},
          "output_type": "execute_result"
        }
      ],
      "source": [
        "from sklearn.metrics import confusion_matrix, classification_report\n",
        "y_pred_binary = (y_pred > 0.5).astype(int).flatten()\n",
        "cm=confusion_matrix(y_test,y_pred_binary)\n",
        "cm"
      ]
    },
    {
      "cell_type": "code",
      "execution_count": 61,
      "id": "5b930edd",
      "metadata": {
        "colab": {
          "base_uri": "https://localhost:8080/",
          "height": 560
        },
        "id": "5b930edd",
        "outputId": "e3a7a9c4-7b0c-43f2-bcec-e5f692873887"
      },
      "outputs": [
        {
          "data": {
            "image/png": "[encoded data removed]",
            "text/plain": [
              "<Figure size 800x600 with 2 Axes>"
            ]
          },
          "metadata": {},
          "output_type": "display_data"
        }
      ],
      "source": [
        "plt.figure(figsize=(8, 6))\n",
        "sns.heatmap(cm, annot=True, fmt='d', cmap='Blues', xticklabels=[\"0\", \"1\"], yticklabels=[\"0\", \"1\"])\n",
        "plt.xlabel('Predicted')\n",
        "plt.ylabel('Actual')\n",
        "plt.title('Confusion Matrix')\n",
        "plt.show()"
      ]
    },
    {
      "cell_type": "code",
      "execution_count": 90,
      "id": "f04e3bac",
      "metadata": {
        "colab": {
          "base_uri": "https://localhost:8080/"
        },
        "id": "f04e3bac",
        "outputId": "0f910915-d350-4a9f-d66b-f545e4e1f1fe"
      },
      "outputs": [
        {
          "name": "stdout",
          "output_type": "stream",
          "text": [
            "{'0': {'precision': 0.9264705882352942, 'recall': 0.9136894234170498, 'f1-score': 0.9200356188780053, 'support': 2827.0}, '1': {'precision': 0.9130744567153545, 'recall': 0.9259393063583815, 'f1-score': 0.9194618834080718, 'support': 2768.0}, 'accuracy': 0.9197497765862377, 'macro avg': {'precision': 0.9197725224753244, 'recall': 0.9198143648877157, 'f1-score': 0.9197487511430386, 'support': 5595.0}, 'weighted avg': {'precision': 0.9198431544466984, 'recall': 0.9197497765862377, 'f1-score': 0.9197517762004761, 'support': 5595.0}}\n"
          ]
        }
      ],
      "source": [
        "report=classification_report(y_test,y_pred_binary, output_dict=True)\n",
        "print(report)\n",
        "classification_report_dict[\"lstm\"] = report\n"
      ]
    },
    {
      "cell_type": "markdown",
      "id": "6e65d82a",
      "metadata": {
        "id": "6e65d82a"
      },
      "source": [
        "Now I want to test our model"
      ]
    },
    {
      "cell_type": "code",
      "execution_count": 77,
      "id": "393b3916",
      "metadata": {
        "colab": {
          "base_uri": "https://localhost:8080/"
        },
        "id": "393b3916",
        "outputId": "29f895cf-96d1-4b38-da5b-5ea52dc0849f"
      },
      "outputs": [],
      "source": [
        "from colorama import Fore, Style\n",
        "\n",
        "def random_predictions(model_1LSTM, X_test, y_test, num_samples=5, class_names=None):\n",
        "    randomChoice = np.random.choice(np.arange(len(X_test)), size=num_samples, replace=False)\n",
        "\n",
        "    randomX = X_test.iloc[randomChoice].values \n",
        "    randomY = y_test.iloc[randomChoice].values\n",
        "\n",
        "    input_shape = model_1LSTM.input_shape\n",
        "    if len(input_shape) == 3:\n",
        "        timesteps = input_shape[1]\n",
        "        features = input_shape[2]\n",
        "        randomX = randomX.reshape(randomX.shape[0], timesteps, features)\n",
        "    elif len(input_shape) == 2:\n",
        "        features = input_shape[1]\n",
        "        randomX = randomX.reshape(randomX.shape[0], features)\n",
        "    else:\n",
        "        raise ValueError(f\"Unexpected input shape for the model: {input_shape}\")\n",
        "\n",
        "    y_predRandom = model_1LSTM.predict(randomX)\n",
        "    y_predRandomRes = np.squeeze(np.round(y_predRandom).astype(int))\n",
        "\n",
        "    for i in range(num_samples):\n",
        "        text = randomX[i]  \n",
        "        true = randomY[i]\n",
        "        predictedLabel = y_predRandomRes[i]\n",
        "\n",
        "        if class_names is not None:\n",
        "            true_label_name = class_names[true]\n",
        "            predicted_label_name = class_names[predictedLabel]\n",
        "        else:\n",
        "            true_label_name = true\n",
        "            predicted_label_name = predictedLabel\n",
        "\n",
        "        text_color = Fore.GREEN if true == predictedLabel else Fore.RED\n",
        "\n",
        "        print(f\"\\nSample {i + 1}:\")\n",
        "        print(f\"Text: {text}\")  \n",
        "        print(text_color + f\"True: {true_label_name} \\nPredicted: {predicted_label_name}\" + Style.RESET_ALL)\n"
      ]
    },
    {
      "cell_type": "markdown",
      "id": "324559e0",
      "metadata": {
        "id": "324559e0"
      },
      "source": [
        "Random sample is generated to test and see the output of our model compared to the actual one"
      ]
    },
    {
      "cell_type": "code",
      "execution_count": 78,
      "id": "604142a2",
      "metadata": {
        "colab": {
          "base_uri": "https://localhost:8080/",
          "height": 373
        },
        "id": "604142a2",
        "outputId": "17c09ae7-de2f-435f-c014-a8b55110653c"
      },
      "outputs": [
        {
          "name": "stdout",
          "output_type": "stream",
          "text": [
            "\u001b[1m1/1\u001b[0m \u001b[32m━━━━━━━━━━━━━━━━━━━━\u001b[0m\u001b[37m\u001b[0m \u001b[1m0s\u001b[0m 416ms/step\n",
            "\n",
            "Sample 1:\n",
            "Text: ['got k karma week much']\n",
            "\u001b[32mTrue: Non-mental-health \n",
            "Predicted: Non-mental-health\u001b[0m\n",
            "\n",
            "Sample 2:\n",
            "Text: ['ima honest realli want hugim hug famili shit like want feel someon hug theyr oblig famili iron joke friend man think prospect hug thing keep goin fuck want long hug someon ive built relationship']\n",
            "\u001b[31mTrue: Mental-health \n",
            "Predicted: Non-mental-health\u001b[0m\n",
            "\n",
            "Sample 3:\n",
            "Text: ['point lifelov money social statu job']\n",
            "\u001b[32mTrue: Mental-health \n",
            "Predicted: Mental-health\u001b[0m\n",
            "\n",
            "Sample 4:\n",
            "Text: ['major depress disord spiral control either one understandor know say stop tell peopl scare tire feel never end miseri scare agoni usual felt like past pas rather quickli first time ever resid go week anyway take care hope well tri stay strong sure much longer']\n",
            "\u001b[32mTrue: Mental-health \n",
            "Predicted: Mental-health\u001b[0m\n",
            "\n",
            "Sample 5:\n",
            "Text: ['peopl born gon na turn year wtf']\n",
            "\u001b[32mTrue: Non-mental-health \n",
            "Predicted: Non-mental-health\u001b[0m\n",
            "\n",
            "Sample 6:\n",
            "Text: ['want diei dont know el say sorri wast time want die']\n",
            "\u001b[32mTrue: Mental-health \n",
            "Predicted: Mental-health\u001b[0m\n",
            "\n",
            "Sample 7:\n",
            "Text: ['weird late act realli weird social situat especi school everi time talk someon comfort talk fumbl get breath easli talk happen talk teacher someon talk much simular thing happen stuff front peopl get call read someth get breath easli read get call mathphys problem board complet forget everyth everyth subject biggest problem know notic peopl realli obviou could kind problem']\n",
            "\u001b[32mTrue: Non-mental-health \n",
            "Predicted: Non-mental-health\u001b[0m\n",
            "\n",
            "Sample 8:\n",
            "Text: ['thing say today smu v tulan byu v houston astro v ray u great day']\n",
            "\u001b[32mTrue: Non-mental-health \n",
            "Predicted: Non-mental-health\u001b[0m\n",
            "\n",
            "Sample 9:\n",
            "Text: ['emptynev know time gon na id admit mental ward im']\n",
            "\u001b[32mTrue: Mental-health \n",
            "Predicted: Mental-health\u001b[0m\n",
            "\n",
            "Sample 10:\n",
            "Text: ['tell draw usual anim draw mostli anyth dont give like huge stuff']\n",
            "\u001b[32mTrue: Non-mental-health \n",
            "Predicted: Non-mental-health\u001b[0m\n",
            "\n",
            "Sample 11:\n",
            "Text: ['gun redflag questionif kill boyfriend gun would get troubl law im consid option want caus legal problem im gone']\n",
            "\u001b[32mTrue: Mental-health \n",
            "Predicted: Mental-health\u001b[0m\n",
            "\n",
            "Sample 12:\n",
            "Text: ['idk want kill self never open eye life purpos anymor depress want end life']\n",
            "\u001b[32mTrue: Mental-health \n",
            "Predicted: Mental-health\u001b[0m\n",
            "\n",
            "Sample 13:\n",
            "Text: ['hurrican say palm tree better hold nutsthi ordinari blowjob']\n",
            "\u001b[31mTrue: Non-mental-health \n",
            "Predicted: Mental-health\u001b[0m\n",
            "\n",
            "Sample 14:\n",
            "Text: ['time half drunk nightli rambl prepar free speech rant wonder class like tomorrow']\n",
            "\u001b[31mTrue: Non-mental-health \n",
            "Predicted: Mental-health\u001b[0m\n",
            "\n",
            "Sample 15:\n",
            "Text: ['decid watch recommend site would say worth effort howev take heed film go minut stay power get tape watch coupl nightsbr br film say contain spoiler mind goe br br alexandr promiscu bum woman gigolo live older woman call mari mari own retail shop provid alex alex spend day caf restaur stori reveal alex previous impregn gilbert use live gilbert dump le attract man love alex abus batter point alex will get job help rais child found gilbert abort plan marri someon el br br chanc alexandr meet nurs nymph call veronika strike relationship veronika fell love alex first time sordid sex men past mari veronika struggl alex affect mnage troi boot final end reveal veronika pregnant alex child alex ask marri assum aforesaid gilbert situat alexandr even get job provid new found love famili hope br br titl la maman et la putain deduc jean eustach relat franois lebrun charact veronika whore becam mother henc mother whore person anyway know french film mostli chatti aimlessli polit preach theatric insipid lament full quot lebrun laud play obdur charact well held film togeth part script becam littl lost disjoint br br bad effort']\n",
            "\u001b[32mTrue: Non-mental-health \n",
            "Predicted: Non-mental-health\u001b[0m\n",
            "\n",
            "Sample 16:\n",
            "Text: ['tiredeveryth life gone shit past year want end there way']\n",
            "\u001b[32mTrue: Mental-health \n",
            "Predicted: Mental-health\u001b[0m\n",
            "\n",
            "Sample 17:\n",
            "Text: ['im wit endi figur id come get everyth see pretti much nowher el turn moment everyth sort pile onto feel like worth continu life appeal right feel like older get wors get hand physic mental sexual abus childhoodadolesc cant get caus develop sever problem depress anxieti selfworth issu cant keep steadi relationship anyon im constantli question everi move last night boyfriend broke enough final told actual love im left wonder wrong make someon say care leav top issu everyon around school im finish sophomor year univers cant deal anymor abl keep grade keep get wors wors cant even sit class without leav frequent panic attack im physic pain percent time number thing wrong bodi medicin work anymor cant take pain anymor figur im go weak sick rest howev long itd easier end thing know anymor noth seem work make feel better im tire given know million peopl wors end seem like easi option right know redflag seem selfish cant help think']\n",
            "\u001b[32mTrue: Mental-health \n",
            "Predicted: Mental-health\u001b[0m\n",
            "\n",
            "Sample 18:\n",
            "Text: ['cant seem connect peoplei want badli desper realli whole life put flaw issu peopl tri kind empathet person bring around feel like someth broken everyon el see except shitti childhood gave lot charact flaw includ bodi dysmorphia social anxieti took year thought work rest life line thought readi date intimaci ive tri go bar tinder bumbl plentyoffish name match lot peopl social ineptitud eventu catch that ive suicid thought life especi younger use particular tree would think everi drive home work real big one curb never foot traffic long straightaway plenti time build speed anyway past year left feel lost alon ive ever afraid peopl like look like never imagin like want someon see valu know much offer world around cant seem convinc anyon last week especi hard tri trick taught stay happi help path heal first place seem work anymor cant stop think much want feel stop honestli even know im post need someth know feel like im constantli drown everyon around much fun life want bother bring alway thought tough person matter hard life kept hit would keep go smile honestli know much longer feel alon edit anyon could realli use someon talk littl that okay thank time edit plea anyon even listen problem guy girl mongoos care view everyon equal desper need someon talk']\n",
            "\u001b[32mTrue: Mental-health \n",
            "Predicted: Mental-health\u001b[0m\n",
            "\n",
            "Sample 19:\n",
            "Text: ['sex cool sike virgin superior stay pure boi']\n",
            "\u001b[32mTrue: Non-mental-health \n",
            "Predicted: Non-mental-health\u001b[0m\n",
            "\n",
            "Sample 20:\n",
            "Text: ['anyon el find difficult comprehend everyon el functionseveryon el goe life get go work go school hang friend meanwhil even simplest task seem insurmount right everyon peopl goal plan far futur hard comprehend right feel like im work surviv wake everi morn']\n",
            "\u001b[32mTrue: Mental-health \n",
            "Predicted: Mental-health\u001b[0m\n"
          ]
        }
      ],
      "source": [
        "data = {\n",
        "    'Label': [\"Non-mental-health\", \"Mental-health\"],\n",
        "    'Label Encoded': [0,1]\n",
        "}\n",
        "data=pd.DataFrame(data)\n",
        "class_names=data.Label.to_list()\n",
        "random_predictions(model_1LSTM,\n",
        "                   X_test,\n",
        "                   y_test,\n",
        "                   num_samples=20,\n",
        "                   class_names=class_names)"
      ]
    },
    {
      "cell_type": "markdown",
      "id": "510c0ef9",
      "metadata": {
        "id": "510c0ef9"
      },
      "source": [
        "we conclude that out of 20 sample 2 is wrong and this is good to prevent overfitting"
      ]
    },
    {
      "cell_type": "markdown",
      "id": "gpO1LjzoflDr",
      "metadata": {
        "id": "gpO1LjzoflDr"
      },
      "source": [
        "# **GRU**"
      ]
    },
    {
      "cell_type": "code",
      "execution_count": 65,
      "id": "6KHwTQwmgEid",
      "metadata": {
        "colab": {
          "base_uri": "https://localhost:8080/",
          "height": 263
        },
        "id": "6KHwTQwmgEid",
        "outputId": "5e09bfb3-eb9e-4070-e399-fa1878e403ef"
      },
      "outputs": [],
      "source": [
        "# The Model initialization\n",
        "# controlling random number generation in TensorFlow\n",
        "tf.random.set_seed(42)\n",
        "model_GRU_embedding = layers.Embedding(input_dim=max_vocab_length,         # Vocabulary size\n",
        "                                        output_dim=128,                    # Dimension of the dense embedding vectors\n",
        "                                        embeddings_initializer=\"uniform\",  # Initializes the embedding matrix\n",
        "                                        input_length=maxLength,           # Maximum sequence length for the input text\n",
        "                                        name=\"embedding_GRU\")\n",
        "\n",
        "inputs = layers.Input(shape=(1,), dtype=\"string\")\n",
        "# Text Vectorizer as a function that tokenizes and converts input text into numerical form\n",
        "x = text_vectorizer(inputs)\n",
        "# The embedding layer converts these tokens into dense ( a value with a meaning not just number) vector representations\n",
        "x = model_GRU_embedding(x)\n",
        "# GRU First Layer\n",
        "x = layers.GRU(64, return_sequences=True)(x)\n",
        "# GRU Second Layer\n",
        "x = layers.GRU(64)(x)\n",
        "# Optional Dense Layers\n",
        "x = layers.Dense(64, activation=\"relu\")(x)\n",
        "outputs = layers.Dense(1, activation=\"sigmoid\")(x)\n",
        "# Combines the layers into a complete Keras Model\n",
        "model_GRU_try = tf.keras.Model(inputs, outputs, name=\"model_GRU\")"
      ]
    },
    {
      "cell_type": "code",
      "execution_count": 66,
      "id": "g1TDqQ2dgNq7",
      "metadata": {
        "id": "g1TDqQ2dgNq7"
      },
      "outputs": [],
      "source": [
        "model_GRU_try.compile(loss=\"binary_crossentropy\",\n",
        "                optimizer=tf.keras.optimizers.Adam(),\n",
        "                metrics=[\"accuracy\"])"
      ]
    },
    {
      "cell_type": "code",
      "execution_count": 67,
      "id": "gNxX_wI6g-hw",
      "metadata": {
        "id": "gNxX_wI6g-hw"
      },
      "outputs": [
        {
          "name": "stdout",
          "output_type": "stream",
          "text": [
            "Epoch 1/3\n",
            "\u001b[1m700/700\u001b[0m \u001b[32m━━━━━━━━━━━━━━━━━━━━\u001b[0m\u001b[37m\u001b[0m \u001b[1m282s\u001b[0m 397ms/step - accuracy: 0.5175 - loss: 0.6887 - val_accuracy: 0.5258 - val_loss: 0.6916\n",
            "Epoch 2/3\n",
            "\u001b[1m700/700\u001b[0m \u001b[32m━━━━━━━━━━━━━━━━━━━━\u001b[0m\u001b[37m\u001b[0m \u001b[1m267s\u001b[0m 381ms/step - accuracy: 0.6055 - loss: 0.5962 - val_accuracy: 0.9203 - val_loss: 0.2139\n",
            "Epoch 3/3\n",
            "\u001b[1m700/700\u001b[0m \u001b[32m━━━━━━━━━━━━━━━━━━━━\u001b[0m\u001b[37m\u001b[0m \u001b[1m255s\u001b[0m 364ms/step - accuracy: 0.9295 - loss: 0.1893 - val_accuracy: 0.9255 - val_loss: 0.2117\n"
          ]
        }
      ],
      "source": [
        "# Fit model\n",
        "model_GRU_history = model_GRU_try.fit(X_train, y_train,\n",
        "                                epochs=3,\n",
        "                                validation_data=(X_test, y_test))"
      ]
    },
    {
      "cell_type": "code",
      "execution_count": 68,
      "id": "Obk28XashGmD",
      "metadata": {
        "id": "Obk28XashGmD"
      },
      "outputs": [
        {
          "name": "stdout",
          "output_type": "stream",
          "text": [
            "\u001b[1m175/175\u001b[0m \u001b[32m━━━━━━━━━━━━━━━━━━━━\u001b[0m\u001b[37m\u001b[0m \u001b[1m25s\u001b[0m 135ms/step\n"
          ]
        }
      ],
      "source": [
        "# Make predictions using the trained model\n",
        "preds = model_GRU_try.predict(X_test)\n",
        "\n",
        "# Convert true labels to a list\n",
        "y_true = y_test.tolist()  # Assuming y_test is a TensorFlow tensor or NumPy array\n",
        "\n",
        "# Prepare predictions\n",
        "y_probs = preds.squeeze()  # Remove singleton dimensions if needed\n",
        "y_preds = tf.round(y_probs).numpy().tolist()"
      ]
    },
    {
      "cell_type": "code",
      "execution_count": 79,
      "id": "b06397ec",
      "metadata": {},
      "outputs": [],
      "source": [
        "model_GRU_try.save('GRUModel.keras') "
      ]
    },
    {
      "cell_type": "code",
      "execution_count": 69,
      "id": "HIvPruy4hH2t",
      "metadata": {
        "id": "HIvPruy4hH2t"
      },
      "outputs": [
        {
          "data": {
            "text/plain": [
              "array([[2627,  200],\n",
              "       [ 217, 2551]], dtype=int64)"
            ]
          },
          "execution_count": 69,
          "metadata": {},
          "output_type": "execute_result"
        }
      ],
      "source": [
        "from sklearn.metrics import confusion_matrix\n",
        "confusion_matrix(\n",
        "    y_true=y_true,\n",
        "    y_pred=y_preds)"
      ]
    },
    {
      "cell_type": "code",
      "execution_count": 70,
      "id": "lu395sEehKqZ",
      "metadata": {
        "id": "lu395sEehKqZ"
      },
      "outputs": [
        {
          "data": {
            "image/png": "[encoded data removed]",
            "text/plain": [
              "<Figure size 800x600 with 2 Axes>"
            ]
          },
          "metadata": {},
          "output_type": "display_data"
        }
      ],
      "source": [
        "cm = confusion_matrix(y_true, y_preds)\n",
        "\n",
        "# Step 2: Plot the confusion matrix as a heatmap\n",
        "plt.figure(figsize=(8, 6))\n",
        "sns.heatmap(cm, annot=True, fmt='d', cmap='Blues', xticklabels=[\"0\", \"1\"], yticklabels=[\"0\", \"1\"])\n",
        "plt.xlabel('Predicted Labels')\n",
        "plt.ylabel('True Labels')\n",
        "plt.title('Confusion Matrix')\n",
        "plt.show()"
      ]
    },
    {
      "cell_type": "code",
      "execution_count": 91,
      "id": "Lms-XH3KhOu0",
      "metadata": {
        "id": "Lms-XH3KhOu0"
      },
      "outputs": [
        {
          "name": "stdout",
          "output_type": "stream",
          "text": [
            "Classification Report:\n",
            "\n",
            "{'Class 0': {'precision': 0.9236990154711674, 'recall': 0.9292536257516802, 'f1-score': 0.9264679950625991, 'support': 2827.0}, 'Class 1': {'precision': 0.9272991639403854, 'recall': 0.9216040462427746, 'f1-score': 0.9244428338467113, 'support': 2768.0}, 'accuracy': 0.9254691689008043, 'macro avg': {'precision': 0.9254990897057764, 'recall': 0.9254288359972274, 'f1-score': 0.9254554144546552, 'support': 5595.0}, 'weighted avg': {'precision': 0.9254801076897189, 'recall': 0.9254691689008043, 'f1-score': 0.9254660922483763, 'support': 5595.0}}\n"
          ]
        }
      ],
      "source": [
        "from sklearn.metrics import classification_report, confusion_matrix\n",
        "cm = confusion_matrix(y_true, y_preds)\n",
        "report = classification_report(y_true, y_preds, target_names=[\"Class 0\", \"Class 1\"], output_dict=True)  # Replace with your class names\n",
        "print(\"Classification Report:\\n\")\n",
        "print(report)\n",
        "classification_report_dict[\"GRU\"] = report\n"
      ]
    },
    {
      "cell_type": "code",
      "execution_count": 84,
      "id": "GooYe9p9hRn7",
      "metadata": {
        "id": "GooYe9p9hRn7"
      },
      "outputs": [],
      "source": [
        "\n",
        "def random_predictions_gru(model, X_test, y_test, num_samples=5, class_names=None):\n",
        "    random_indices = np.random.choice(len(X_test), size=num_samples, replace=False)\n",
        "\n",
        "    if isinstance(X_test, (pd.DataFrame, pd.Series)):\n",
        "        random_X_samples = X_test.iloc[random_indices].values\n",
        "    else:\n",
        "        random_X_samples = X_test[random_indices]\n",
        "\n",
        "    if isinstance(y_test, (pd.DataFrame, pd.Series)):\n",
        "        random_y_samples = y_test.iloc[random_indices].values\n",
        "    else:\n",
        "        random_y_samples = y_test[random_indices]\n",
        "\n",
        "    # Adjust reshaping based on model input shape\n",
        "    input_shape = model.input_shape\n",
        "    timesteps = input_shape[1]\n",
        "\n",
        "    if len(input_shape) == 2:  \n",
        "        random_X_samples = random_X_samples.reshape(len(random_X_samples), timesteps)\n",
        "    elif len(input_shape) == 3: \n",
        "        features = input_shape[2]\n",
        "        random_X_samples = random_X_samples.reshape(len(random_X_samples), timesteps, features)\n",
        "    else:\n",
        "        raise ValueError(f\"Unexpected input shape: {input_shape}\")\n",
        "\n",
        "    y_pred_probs = model.predict(random_X_samples)\n",
        "    y_pred = np.argmax(y_pred_probs, axis=1)\n",
        "\n",
        "    for i in range(num_samples):\n",
        "        true_label = (\n",
        "            np.argmax(random_y_samples[i]) if class_names is not None else random_y_samples[i]\n",
        "        )\n",
        "        predicted_label = y_pred[i]\n",
        "\n",
        "        true_label_name = class_names[true_label] if class_names else true_label\n",
        "        predicted_label_name = class_names[predicted_label] if class_names else predicted_label\n",
        "\n",
        "        print(f\"\\nSample {i + 1}:\")\n",
        "        print(f\"Text: {random_X_samples[i]}\")  \n",
        "        print(f\"True: {true_label_name} | Predicted: {predicted_label_name}\")\n"
      ]
    },
    {
      "cell_type": "code",
      "execution_count": 85,
      "id": "7akQDsaXhYTj",
      "metadata": {
        "id": "7akQDsaXhYTj"
      },
      "outputs": [
        {
          "name": "stdout",
          "output_type": "stream",
          "text": [
            "\u001b[1m1/1\u001b[0m \u001b[32m━━━━━━━━━━━━━━━━━━━━\u001b[0m\u001b[37m\u001b[0m \u001b[1m0s\u001b[0m 120ms/step\n",
            "\n",
            "Sample 1:\n",
            "Text: ['bruhhour life gone ive spent hour solv sudoku daysand around hour watch youtub video solv sudokuy ask question someth idkim realli bore']\n",
            "True: Non-mental-health | Predicted: Non-mental-health\n",
            "\n",
            "Sample 2:\n",
            "Text: ['good reason livemi wife divorc never much live marriag toxic though scream match hurt word live noth realli im interest life im look forward anyth ive individu therapi year ive tri ton differ medic wife even coupl therapi therapist told u help u feel like belong anywher mayb now good time die']\n",
            "True: Non-mental-health | Predicted: Non-mental-health\n",
            "\n",
            "Sample 3:\n",
            "Text: ['ye tap danc horror thrillerwith shelley debbi goodi goodi dement campi fun part guignol cycl leak releas doubl featur burt reynold comedi fuzz mad scare bonker throughli entertain like mix day locust babi jane suggest prospect viewer take idea almost meant skewiff sit someon shriek elbow actual get drunk whilst watch iton cheap champagn mani film idea also delus struggl time better life get bitter twist emot mad fall murder one plain crazi also remind lot bloodi mama de niro winter shlock fest make film look notredflagli gloriou']\n",
            "True: Non-mental-health | Predicted: Non-mental-health\n",
            "\n",
            "Sample 4:\n",
            "Text: ['think redflag everi morn wake upanybodi el im sick life want live anymor despit fact everyth fine im go studi soon univers cant handl past happen mani thing cant year first thought redflag even tri kill self hang work fuck rope ruptur stupid rope anyway everi morn stand wish dead need worri guy probabl continu life famili friend otherwis would huge disast shame want express share feel hope someon understand']\n",
            "True: Non-mental-health | Predicted: Non-mental-health\n",
            "\n",
            "Sample 5:\n",
            "Text: ['contempl redflag daili basisi contempl redflag daili basi addict pot intoxic everyday lift wors wors cant find fuck real carear enjoy cat find job give kid opportun asshol abus father gave contempl redflag everyday regret fact lack ball']\n",
            "True: Non-mental-health | Predicted: Non-mental-health\n",
            "\n",
            "Sample 6:\n",
            "Text: ['age ruin mei complet unblossom im averag child becam stun yr thought everyon natur nice naiv realli feel loss ident anybodi knew tell shock badli look im typic hot girl that go grow ugli everyon look better im realli lost know live other opinion that ive unconsci idk noth el worth besid look gone overheard mum say older sister prettier age better im go kill ive talk school counsellor absolut refus go talk stranger problem everyon look eye stare blotchi acn cover skin peopl thought care use cant even trust famili im go kill probabl kitchen knife ive learnt sharpen found pul neck probabl arteri flow blood might stab backyard sound make le like heard ill exercis cold weather bit effect go bathroom want stench ive never felt form love never receiv truli famili treat like trophi feed look bad hate everyon much includ onlin long text messag idc met anyon real life id revolt']\n",
            "True: Non-mental-health | Predicted: Non-mental-health\n",
            "\n",
            "Sample 7:\n",
            "Text: ['hey got question im watch fundus stream right chat mod constantli say real chat stuff like real problem peopl im genuin curiou wan na sound like douch ask someon irl']\n",
            "True: Non-mental-health | Predicted: Non-mental-health\n",
            "\n",
            "Sample 8:\n",
            "Text: ['hey question year futur gay queer normal like pride parad stuff like go stop suppos celebr self accept legal right pride sexual right go time futur celebr gay go treat celebr straight there straight pride target oppress right futur would pride parad weird sinc would probabl accept futur im sorri make sen im tri write im think know put ot right way']\n",
            "True: Non-mental-health | Predicted: Non-mental-health\n",
            "\n",
            "Sample 9:\n",
            "Text: ['ive never famou entir life start repost chain dude feel like celebr']\n",
            "True: Non-mental-health | Predicted: Non-mental-health\n",
            "\n",
            "Sample 10:\n",
            "Text: ['bird chirp diei funni differ sentenc titl first sentenc post one indic bird chirp sign die impli bird somehow chirp help contribut die suffer would prefer diei suffer would prefer die bird chirp die']\n",
            "True: Non-mental-health | Predicted: Non-mental-health\n",
            "\n",
            "Sample 11:\n",
            "Text: ['question oldi im question year old peopl constantli expect suddenli act like your year old whenev someth isnt smartest parent say say your adult want never said im adult im therefor want also prefront cortex doesnt stop develop mid late scientif peopl still stupid feel like realli weird unrealist expect u older teen']\n",
            "True: Non-mental-health | Predicted: Non-mental-health\n",
            "\n",
            "Sample 12:\n",
            "Text: ['ok two follow last time rememb look bam peopl']\n",
            "True: Non-mental-health | Predicted: Non-mental-health\n",
            "\n",
            "Sample 13:\n",
            "Text: ['reddit friend stop use sub seem nice anyon want friend post safe place horni peopl use subreddit make real nice friend']\n",
            "True: Non-mental-health | Predicted: Non-mental-health\n",
            "\n",
            "Sample 14:\n",
            "Text: ['homeless houseless georg carlin state issu year never plan help street consid human everyth go school work vote matter peopl think homeless lost caus worri thing racism war iraq pressur kid succeed technolog elect inflat worri theyll next end streetsbr br given bet live street month without luxuri home entertain set bathroom pictur wall comput everyth treasur see like homeless goddard bolt lessonbr br mel brook direct star bolt play rich man everyth world decid make bet sissi rival jefferi tambor see live street thirti day without luxuri bolt succe want futur project make build bet bolt thrown street bracelet leg monitor everi move cant step sidewalk he given nicknam pepto vagrant written forehead bolt meet charact includ woman name molli lesley ann warren exdanc got divorc lose home pal sailor howard morri fume teddi wilson alreadi use street theyr survivor bolt isnt he use reach mutual agreement like rich fight flight kill killedbr br love connect molli bolt necessari plot found life stink one mel brook observ film prior comedi show tender side compar slapstick work blaze saddl young frankenstein spacebal matter show like someth valuabl lose next day hand make stupid bet like rich peopl know money mayb give homeless instead use like monopoli moneybr br mayb film inspir help other']\n",
            "True: Non-mental-health | Predicted: Non-mental-health\n",
            "\n",
            "Sample 15:\n",
            "Text: ['play danganronpa wonder anyon want talk play game go sound weird play first two game discus friend investig trial realli like made happi talk game like arent life anymor wonder anyon want chat similar fashion lot fun got game diminish still like want finish miss connect got spoiler plea talk though thank want talk first two game despair girl anim would fun reddit discord commun']\n",
            "True: Non-mental-health | Predicted: Non-mental-health\n",
            "\n",
            "Sample 16:\n",
            "Text: ['stand anymor day get closer closer edg say fuck jump term fuck life honestli ask brought care peopl around care bore tediou hate everi aspect life understand neurotyp pranc around like earth live amaz gift life hell want part']\n",
            "True: Non-mental-health | Predicted: Non-mental-health\n",
            "\n",
            "Sample 17:\n",
            "Text: ['anyon el miss black app icon know black live matter damn look good right gone']\n",
            "True: Non-mental-health | Predicted: Non-mental-health\n",
            "\n",
            "Sample 18:\n",
            "Text: ['im bore want ok stranger love know rule full commit im think get guy wan na tell im feel got ta make understand never gon na give never gon na let never gon na run around desert never gon na make cri never gon na say goodby never gon na tell lie hurt weve known long heart ach shi say insid know what go know game gon na play ask im feel tell blind see never gon na give never gon na let never gon na run around desert never gon na make cri never gon na say goodby never gon na tell lie hurt never gon na give never gon na let never gon na run around desert never gon na make cri never gon na say goodby never gon na tell lie hurt ooh give ooh give never gon na give never gon na give give never gon na give never gon na give give weve known long heart ach shi say insid know what go know game gon na play wan na tell im feel got ta make understand never gon na give never gon na let never gon na run around desert never gon na make cri never gon na say goodby never gon na tell lie hurt never gon na give never gon na let never gon na run around desert never gon na make cri never gon na say goodby never gon na tell lie hurt never gon na give never gon na let never gon na run around desert never gon na make cri never gon na say goodby never gon na tell lie hurt still want ok']\n",
            "True: Non-mental-health | Predicted: Non-mental-health\n",
            "\n",
            "Sample 19:\n",
            "Text: ['gender simpli vibe shit']\n",
            "True: Non-mental-health | Predicted: Non-mental-health\n",
            "\n",
            "Sample 20:\n",
            "Text: ['personalidentifi detail remov read sorri plea forgiv although know might take time pure decis fault anyon el anyth could done feel broken lost mayb final final find peac owe explan longer life goe wors get regard mani differ problem life hear get better get better particip life tediou drain unfulfil incred sad though probabl experienc bewilder anger grief done plea know want die almost everyon everyth life support want tri life attempt grow old world truli beauti place time especi true wonder famili remov friend particular remov name friend even though time live would see long sinc pas happiest ray pure sunshin otherwis bleak world extraordinari friend known along way thank serious lucki know thing feel emot unfit keep wade current life sad almost time anyth believ tri tri name sobrieti exercis mind medit selfhelp materi multipl medic multipl doctor multipl therapist even psychiatrist suicid insidi everpres mental intellectu emot spiritu cancer ever sinc first time heard childhood almost feel like inevit alway felt like outsid look life never particip observ thought suicid least per hour exclud sleep decad tri simpli hold year guess final straw broke camel back brief period thought might abl overcom feel abl potenti envis futur liber period alway due help peopl tri hard sourc light strength instead look other alway need help blunt never thought would make age remov age slightli older time pas rel stabil occasion optim past complet erod exist fulfil despair pain year year desper tri find mean motiv futur envis noth feel total lost combin increasingli crush burden aliv human leav one option quit feel like thing ever actual control stop struggl current life let overtak sound like appeal thing imagin sorri pas pain onto read stronger ever could take perpetu observ lone lone truli sorri moment someth would like share one know pain well felt fundament alon lone sinc start retain memori one thing alway realli want travel never got much farthest ever got locat remov futur ever particularli beauti place wondrou moment mayb think briefli lucki ill get right besid even luckier ill soon get surf wave spacetimei sorri love ye much fuck draft suicid note see relat hint']\n",
            "True: Non-mental-health | Predicted: Non-mental-health\n"
          ]
        }
      ],
      "source": [
        "data = {\n",
        "    'Label': [\"Non-mental-health\", \"Mental-health\"],\n",
        "    'Label Encoded': [0,1]\n",
        "}\n",
        "data=pd.DataFrame(data)\n",
        "class_names=data.Label.to_list()\n",
        "random_predictions_gru(\n",
        "                        model_GRU_try,\n",
        "                        X_test,\n",
        "                        y_test,\n",
        "                        num_samples=20,\n",
        "                        class_names=class_names)"
      ]
    },
    {
      "cell_type": "code",
      "execution_count": 95,
      "id": "60ac5fbe",
      "metadata": {},
      "outputs": [
        {
          "name": "stdout",
          "output_type": "stream",
          "text": [
            "Accuracy Table\n",
            "  Model  Accuracy (%)\n",
            "0  lstm          0.92\n",
            "1   GRU          0.93\n",
            "\n",
            "Macro Average Table\n",
            "  Model  Precision    Recall  F1-Score\n",
            "0  lstm   0.919773  0.919814  0.919749\n",
            "1   GRU   0.925499  0.925429  0.925455\n"
          ]
        },
        {
          "data": {
            "image/png": "[encoded data removed]",
            "text/plain": [
              "<Figure size 1000x600 with 1 Axes>"
            ]
          },
          "metadata": {},
          "output_type": "display_data"
        },
        {
          "data": {
            "image/png": "[encoded data removed]",
            "text/plain": [
              "<Figure size 1000x600 with 2 Axes>"
            ]
          },
          "metadata": {},
          "output_type": "display_data"
        }
      ],
      "source": [
        "import pandas as pd\n",
        "import matplotlib.pyplot as plt\n",
        "import seaborn as sns\n",
        "acc_dict={\n",
        "    'lstm':0.92,\n",
        "    'GRU':0.93\n",
        "}\n",
        "\n",
        "# Accuracy Table\n",
        "accuracy_df = pd.DataFrame(list(acc_dict.items()), columns=[\"Model\", \"Accuracy (%)\"])\n",
        "print(\"Accuracy Table\")\n",
        "print(accuracy_df)\n",
        "\n",
        "# Macro Average Metrics Table\n",
        "macro_avg_data = [\n",
        "    (model, metrics['macro avg']['precision'], metrics['macro avg']['recall'], metrics['macro avg']['f1-score'])\n",
        "    for model, metrics in classification_report_dict.items()\n",
        "]\n",
        "macro_avg_df = pd.DataFrame(macro_avg_data, columns=[\"Model\", \"Precision\", \"Recall\", \"F1-Score\"])\n",
        "print(\"\\nMacro Average Table\")\n",
        "print(macro_avg_df)\n",
        "\n",
        "# Plot Accuracy Bar Chart\n",
        "plt.figure(figsize=(10, 6))\n",
        "sns.barplot(data=accuracy_df, x=\"Model\", y=\"Accuracy (%)\", palette=\"Blues\")\n",
        "plt.title(\"Model Accuracy Comparison\")\n",
        "plt.ylabel(\"Accuracy (%)\")\n",
        "plt.xlabel(\"Model\")\n",
        "plt.tight_layout()\n",
        "plt.show()\n",
        "\n",
        "# Plot Macro Avg Metrics as Heatmap\n",
        "plt.figure(figsize=(10, 6))\n",
        "sns.heatmap(\n",
        "    macro_avg_df.set_index(\"Model\"),\n",
        "    annot=True, fmt=\".2f\", cmap=\"Blues\",\n",
        "    cbar_kws={'label': 'Metric Value'}\n",
        ")\n",
        "plt.title(\"Macro Average Metrics per Model\")\n",
        "plt.ylabel(\"Metric\")\n",
        "plt.tight_layout()\n",
        "plt.show()"
      ]
    },
    {
      "cell_type": "code",
      "execution_count": null,
      "id": "0757fd56",
      "metadata": {},
      "outputs": [],
      "source": []
    }
  ],
  "metadata": {
    "colab": {
      "provenance": []
    },
    "kernelspec": {
      "display_name": "base",
      "language": "python",
      "name": "python3"
    },
    "language_info": {
      "codemirror_mode": {
        "name": "ipython",
        "version": 3
      },
      "file_extension": ".py",
      "mimetype": "text/x-python",
      "name": "python",
      "nbconvert_exporter": "python",
      "pygments_lexer": "ipython3",
      "version": "3.11.7"
    }
  },
  "nbformat": 4,
  "nbformat_minor": 5
}
